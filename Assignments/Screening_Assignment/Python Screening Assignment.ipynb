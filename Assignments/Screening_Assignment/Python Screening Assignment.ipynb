{
 "cells": [
  {
   "cell_type": "markdown",
   "id": "aa639feb",
   "metadata": {},
   "source": [
    "# Python Screening Assignment"
   ]
  },
  {
   "cell_type": "markdown",
   "id": "356cc562",
   "metadata": {},
   "source": [
    "## 1. Create a function in python to read the text file and replace specific content of the file.\n",
    "\n",
    "| **File name** | **example.txt** |\n",
    "| :-|-: | \n",
    "| Origin file content  | This is a placement assignment |\n",
    "| :-|-: |\n",
    "| Replace string | Placement should be replaced by screening. |\n",
    "| :-|-: |\n",
    "| Replaced file content  | This is a screening assignment |\n"
   ]
  },
  {
   "cell_type": "markdown",
   "id": "af4a68ea",
   "metadata": {},
   "source": [
    "## Answer"
   ]
  },
  {
   "cell_type": "code",
   "execution_count": 1,
   "id": "57180b94",
   "metadata": {},
   "outputs": [],
   "source": [
    "def replace_text_in_file():\n",
    "    \n",
    "    \n",
    "    try:\n",
    "        \n",
    "        \n",
    "        File = input(\"Please enter the extra file-name to open : \") \n",
    "        ## asking the user to give the file name to open and read.\n",
    "        \n",
    "        Text_to_replaced = input(\"Enter text to replaced in the existing contents:\") \n",
    "        ## asking the user the text to be replaced in the existing contents\n",
    "         \n",
    "        Text_will_replace = input(\"Enter text that will replace:\")\n",
    "        ## asking the user to give the text that will replace the existing text\n",
    "        \n",
    "        file_name = File + \".txt\"\n",
    "        \n",
    "        f1 = open(file_name , \"r+\")\n",
    "        \n",
    "        \n",
    "        read_lines = f1.readlines() # each sentence becomes an element in the read_lines \n",
    "        \n",
    "        Count_var = 0 ## acts as a counter\n",
    "        \n",
    "        for ele in read_lines:\n",
    "            \n",
    "            if Text_to_replaced in ele :\n",
    "                \n",
    "                Replacement = ele.replace( Text_to_replaced , Text_will_replace )\n",
    "                # Replacement holds the value of the text to be replaced\n",
    "                \n",
    "                read_lines = Replacement ## changes are made\n",
    "                \n",
    "            Count_var += 1\n",
    "            \n",
    "        f1.truncate(0) ##  Pre existing text in the file is erased\n",
    "        \n",
    "        f1.writelines(read_lines) # the modified text is written and thereby replacing the old text.\n",
    "                \n",
    "        f1.close()\n",
    "        \n",
    "        print(\" Text successfully replaced  \")\n",
    "        \n",
    "    \n",
    "    except Exception as e:\n",
    "        \n",
    "        print(f\"There is an error {e}\")\n",
    "    \n",
    "                \n",
    "        \n",
    "        \n",
    "        "
   ]
  },
  {
   "cell_type": "code",
   "execution_count": 2,
   "id": "a3a94d1e",
   "metadata": {},
   "outputs": [
    {
     "name": "stdout",
     "output_type": "stream",
     "text": [
      "Please enter the extra file-name to open : example\n",
      "Enter text to replaced in the existing contents:placement\n",
      "Enter text that will replace:screening\n",
      " Text successfully replaced  \n"
     ]
    }
   ],
   "source": [
    "## Driver code \n",
    "\n",
    "replace_text_in_file()\n",
    "\n",
    "## yeah it works haaahaaaoooo..XD\n",
    "## Advice keep the example.txt in same destination as the ipynb file."
   ]
  },
  {
   "cell_type": "markdown",
   "id": "39f3a9eb",
   "metadata": {},
   "source": [
    "## 2. Demonstrate use of abstract class, multiple inheritance and decorator in python using examples"
   ]
  },
  {
   "cell_type": "markdown",
   "id": "e27206cd",
   "metadata": {},
   "source": [
    "## Answer"
   ]
  },
  {
   "cell_type": "markdown",
   "id": "906e3be2",
   "metadata": {},
   "source": [
    "### Abstract Class\n",
    "\n",
    "**An abstract class can be considered as a blueprint for other classes. It allows you to create a set of methods that must be created within any child classes built from the abstract class. A class which contains one or more abstract methods is called an abstract class.**"
   ]
  },
  {
   "cell_type": "code",
   "execution_count": null,
   "id": "7eb73c12",
   "metadata": {},
   "outputs": [],
   "source": [
    "### An Example \n",
    "\n",
    "from abc import ABC, abstractmethod\n",
    "\n",
    "\n",
    "class Polygon(ABC): # abstract class\n",
    "    @abstractmethod\n",
    "    def noofsides(self): # abstract method\n",
    "        pass\n",
    "\n",
    "class Triangle(Polygon):\n",
    "    def noofsides(self):  # overriding abstract method in the  child class Triangle\n",
    "        print(\"I have 3 sides\")\n",
    "\n",
    "        \n",
    "class Pentagon(Polygon):\n",
    "    def noofsides(self): # overriding abstract method in the child class Pentagon\n",
    "        print(\"I have 5 sides\")\n",
    "        \n",
    "        \n",
    "## The Driver code \n",
    "\n",
    "A = Triangle()\n",
    "A.noofsides()\n",
    "\n",
    "B = Pentagon()\n",
    "B.noofsides()"
   ]
  },
  {
   "cell_type": "markdown",
   "id": "bb3eec0c",
   "metadata": {},
   "source": [
    "### Multiple Inheritance \n",
    "\n",
    "**Inheritence is nothing but reusing the code of Parent class by the child class. Similary when a child class inherits its properties from multiple Parent classes this scenario is called Multiple Inheritence**"
   ]
  },
  {
   "cell_type": "code",
   "execution_count": null,
   "id": "c19c32b7",
   "metadata": {},
   "outputs": [],
   "source": [
    "### A simplpe example\n",
    "\n",
    "class Parent_one:\n",
    "    pass\n",
    "\n",
    "class Parent_two:\n",
    "    pass\n",
    "\n",
    "class child(Parent_one,Parent_two): # Inheriting the properties of both Parent_one and Parent_two\n",
    "    pass\n",
    "\n",
    "## Driver code\n",
    "Var = child()  ## object of the class child\n",
    "Var()"
   ]
  },
  {
   "cell_type": "code",
   "execution_count": null,
   "id": "c0fea3ea",
   "metadata": {},
   "outputs": [],
   "source": [
    "## Another Example \n",
    "\n",
    "class Class1:\n",
    "    def A(self):\n",
    "        print(\"In Class1\")\n",
    "\n",
    "class Class2(Class1):\n",
    "    def A(self):\n",
    "        print(\"In Class2\")\n",
    "        \n",
    "class Class3(Class1, Class2): ## Inheriting the properties of both Class1 and Class2\n",
    "    pass\n",
    "\n",
    "## Driver code\n",
    "Var = Class3()  ## object of thw class Class3\n",
    "Var.A()"
   ]
  },
  {
   "cell_type": "markdown",
   "id": "62e3f8a7",
   "metadata": {},
   "source": [
    "### Decorator \n",
    "\n",
    "**A decorator takes in a function, adds some functionality and returns it.Basically it allows programmers to modify the behaviour of a function or class. Decorators allow us to wrap another function in order to extend the behaviour of the wrapped function, without permanently modifying it.**"
   ]
  },
  {
   "cell_type": "code",
   "execution_count": null,
   "id": "3f5cc6bc",
   "metadata": {},
   "outputs": [],
   "source": [
    "## A Basic Example \n",
    "\n",
    "def F1(func):\n",
    "    \n",
    "    def A():\n",
    "        print(\"I got decorated\")\n",
    "        func()\n",
    "    return A\n",
    "\n",
    "\n",
    "def F2():\n",
    "    print(\"I am Normal\")\n",
    "    \n",
    "# Advice : Before understanding decorators it is better to understand the concepts of First Class Objects\n",
    "# In Python, functions are first class objects which means that functions in Python can be used or passed as arguments.\n",
    "# Properties of first class functions:\n",
    "# A function is an instance of the Object type.\n",
    "# You can store the function in a variable.\n",
    "# You can pass the function as a parameter to another function.\n",
    "# You can return the function from a function.\n",
    "# You can store them in data structures such as hash tables, lists,"
   ]
  },
  {
   "cell_type": "markdown",
   "id": "c2f9946d",
   "metadata": {},
   "source": [
    "# ----------------------------------------------------------------------------------------------------------------"
   ]
  }
 ],
 "metadata": {
  "kernelspec": {
   "display_name": "Python 3 (ipykernel)",
   "language": "python",
   "name": "python3"
  },
  "language_info": {
   "codemirror_mode": {
    "name": "ipython",
    "version": 3
   },
   "file_extension": ".py",
   "mimetype": "text/x-python",
   "name": "python",
   "nbconvert_exporter": "python",
   "pygments_lexer": "ipython3",
   "version": "3.9.7"
  }
 },
 "nbformat": 4,
 "nbformat_minor": 5
}
