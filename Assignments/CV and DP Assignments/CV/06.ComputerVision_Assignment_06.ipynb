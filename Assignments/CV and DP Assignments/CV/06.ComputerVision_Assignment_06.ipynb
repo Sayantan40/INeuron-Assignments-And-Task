{
 "cells": [
  {
   "cell_type": "markdown",
   "id": "99b071bc",
   "metadata": {},
   "source": [
    "# Assignment 06 Solutions"
   ]
  },
  {
   "cell_type": "markdown",
   "id": "faed445a",
   "metadata": {},
   "source": [
    "#### 1. What is the difference between TRAINABLE and NON-TRAINABLE PARAMETERS ?"
   ]
  },
  {
   "cell_type": "markdown",
   "id": "249e5baa",
   "metadata": {},
   "source": [
    "**Ans:** Trainable parameters are parameters that are manipulated by the learning algorithm during the training process, such as weights and biases in a neural network. Non-trainable parameters are parameters that remain fixed during the training process, such as the number of layers or the activation function in a neural network."
   ]
  },
  {
   "cell_type": "markdown",
   "id": "0804ecc1",
   "metadata": {},
   "source": [
    "#### 2. In the CNN architecture, where does the DROPOUT LAYER go ? "
   ]
  },
  {
   "cell_type": "markdown",
   "id": "a8080cfa",
   "metadata": {},
   "source": [
    "**Ans:** The dropout layer typically goes after the fully connected layers and before the output layer."
   ]
  },
  {
   "cell_type": "markdown",
   "id": "a300559d",
   "metadata": {},
   "source": [
    "#### 3. What is the optimal number of hidden layers to stack ?"
   ]
  },
  {
   "cell_type": "markdown",
   "id": "32c4ea45",
   "metadata": {},
   "source": [
    "**Ans:** The optimal number of hidden layers to stack depends on the complexity of the data and the type of neural network being used. Generally, more complex data requires more layers, whereas simpler data may require fewer layers. Generally, a range of 1 to 4 hidden layers is recommended, although in some cases more may be necessary."
   ]
  },
  {
   "cell_type": "markdown",
   "id": "4246d2fe",
   "metadata": {},
   "source": [
    "#### 4. In each layer, how many secret units or filters should there be ?"
   ]
  },
  {
   "cell_type": "markdown",
   "id": "9b02c9ab",
   "metadata": {},
   "source": [
    "**Ans:** The number of secret units or filters in each layer will depend on the specific problem that the neural network is trying to solve. Generally, the more complex the problem, the more units or filters in each layer."
   ]
  },
  {
   "cell_type": "markdown",
   "id": "76b8aa18",
   "metadata": {},
   "source": [
    "#### 5. What should your initial learning rate be ?"
   ]
  },
  {
   "cell_type": "markdown",
   "id": "3726f291",
   "metadata": {},
   "source": [
    "**Ans:** The initial learning rate should be determined based on the type of problem that is being solved and the type of model being used. A general rule of thumb is to start with a small learning rate (e.g. 0.001) and increase it gradually as the model learns more."
   ]
  },
  {
   "cell_type": "markdown",
   "id": "4bf4effd",
   "metadata": {},
   "source": [
    "#### 6. What do you do with the activation function ?"
   ]
  },
  {
   "cell_type": "markdown",
   "id": "6424547c",
   "metadata": {},
   "source": [
    "**Ans:** The activation function is used to introduce non-linearity into the neural network. It is used to determine the output of the neural network based on the input and the weights of the neurons. The activation function is usually applied after the weighted sum of the inputs is calculated to determine the output of a neuron."
   ]
  },
  {
   "cell_type": "markdown",
   "id": "2fac40b1",
   "metadata": {},
   "source": [
    "#### 7. What is NORMALIZATION OF DATA ?"
   ]
  },
  {
   "cell_type": "markdown",
   "id": "6f8418d3",
   "metadata": {},
   "source": [
    "**Ans:** Normalization of data is the process of organizing a database to reduce data redundancy and improve data integrity. It involves dividing a database into two or more tables and defining relationships between the tables. Normalization usually involves dividing a database table into smaller tables and defining relationships between them. The goal is to isolate data so that additions, deletions, and modifications of a field can be made in just one table and then propagated through the rest of the database using the defined relationships."
   ]
  },
  {
   "cell_type": "markdown",
   "id": "36e94190",
   "metadata": {},
   "source": [
    "#### 8. What is IMAGE AUGMENTATION and how does it work ?"
   ]
  },
  {
   "cell_type": "markdown",
   "id": "87cfc23c",
   "metadata": {},
   "source": [
    "**Ans:** Image augmentation is a technique used to increase the size and diversity of a dataset of images by applying various transformations to each image in the dataset. These transformations can include rotation, scaling, flips, noise, and a variety of other effects. By applying these transformations to each image, it results in a larger dataset of images with different characteristics, which can be used to improve the performance of machine learning models."
   ]
  },
  {
   "cell_type": "markdown",
   "id": "84baff66",
   "metadata": {},
   "source": [
    "#### 9. What is DECLINE IN LEARNING RATE ?"
   ]
  },
  {
   "cell_type": "markdown",
   "id": "b7291765",
   "metadata": {},
   "source": [
    "**Ans:** Decline in learning rate is a phenomenon in which a student's ability to learn, retain, and recall information decreases over time. It can be caused by a number of factors, including fatigue, lack of motivation, boredom, and poor teaching methods. It is important for educators to recognize the signs of a decline in learning rate and provide students with the necessary tools and resources to help them improve their learning."
   ]
  },
  {
   "cell_type": "markdown",
   "id": "dff43a28",
   "metadata": {},
   "source": [
    "#### 10. What does EARLY STOPPING CRITERIA mean ?"
   ]
  },
  {
   "cell_type": "markdown",
   "id": "343712e4",
   "metadata": {},
   "source": [
    "**Ans:** Early stopping criteria is a method used in machine learning to determine when to stop training a model. It monitors the performance of the model, such as accuracy and loss, and stops training when the performance has reached a certain threshold or plateau. This prevents the model from overfitting and ensures that the model is as accurate and efficient as possible."
   ]
  }
 ],
 "metadata": {
  "kernelspec": {
   "display_name": "Python 3 (ipykernel)",
   "language": "python",
   "name": "python3"
  },
  "language_info": {
   "codemirror_mode": {
    "name": "ipython",
    "version": 3
   },
   "file_extension": ".py",
   "mimetype": "text/x-python",
   "name": "python",
   "nbconvert_exporter": "python",
   "pygments_lexer": "ipython3",
   "version": "3.9.7"
  }
 },
 "nbformat": 4,
 "nbformat_minor": 5
}
