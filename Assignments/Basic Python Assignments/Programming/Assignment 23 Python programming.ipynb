{
 "cells": [
  {
   "cell_type": "markdown",
   "id": "16da4842",
   "metadata": {},
   "source": [
    "# Assignment 23 Python programming."
   ]
  },
  {
   "cell_type": "markdown",
   "id": "56623120",
   "metadata": {},
   "source": [
    "## Question 1\n",
    "\n",
    "### Create a function that takes a number as an argument and returns True or False depending on whether the number is symmetrical or not. A number is symmetrical when it is the same as its reverse.\n",
    "\n",
    "Examples\n",
    "\n",
    "is_symmetrical(7227) ➞ True\n",
    "\n",
    "is_symmetrical(12567) ➞ False\n",
    "\n",
    "is_symmetrical(44444444) ➞ True\n",
    "\n",
    "is_symmetrical(9939) ➞ False\n",
    "\n",
    "is_symmetrical(1112111) ➞ True\n"
   ]
  },
  {
   "cell_type": "markdown",
   "id": "6c7db206",
   "metadata": {},
   "source": [
    "# Answer "
   ]
  },
  {
   "cell_type": "code",
   "execution_count": 110,
   "id": "4466584c",
   "metadata": {},
   "outputs": [],
   "source": [
    "def is_symmetrical(int):\n",
    "    try:\n",
    "        a=str(int)\n",
    "        \n",
    "        b=str(int)[::-1]\n",
    "        \n",
    "        if a==b:\n",
    "            return True\n",
    "        \n",
    "        else :\n",
    "            return False\n",
    "        \n",
    "    except Exception as e:\n",
    "        \n",
    "        print('There is an error ')\n",
    "    "
   ]
  },
  {
   "cell_type": "code",
   "execution_count": 20,
   "id": "ae86f09a",
   "metadata": {},
   "outputs": [
    {
     "data": {
      "text/plain": [
       "True"
      ]
     },
     "execution_count": 20,
     "metadata": {},
     "output_type": "execute_result"
    }
   ],
   "source": [
    "is_symmetrical(7227) "
   ]
  },
  {
   "cell_type": "code",
   "execution_count": 21,
   "id": "50629355",
   "metadata": {},
   "outputs": [
    {
     "data": {
      "text/plain": [
       "False"
      ]
     },
     "execution_count": 21,
     "metadata": {},
     "output_type": "execute_result"
    }
   ],
   "source": [
    "is_symmetrical(12567)"
   ]
  },
  {
   "cell_type": "code",
   "execution_count": 22,
   "id": "2a9f6097",
   "metadata": {},
   "outputs": [
    {
     "data": {
      "text/plain": [
       "True"
      ]
     },
     "execution_count": 22,
     "metadata": {},
     "output_type": "execute_result"
    }
   ],
   "source": [
    "is_symmetrical(44444444)"
   ]
  },
  {
   "cell_type": "code",
   "execution_count": 23,
   "id": "03013f05",
   "metadata": {},
   "outputs": [
    {
     "data": {
      "text/plain": [
       "False"
      ]
     },
     "execution_count": 23,
     "metadata": {},
     "output_type": "execute_result"
    }
   ],
   "source": [
    "is_symmetrical(9939) "
   ]
  },
  {
   "cell_type": "code",
   "execution_count": 24,
   "id": "43097e4a",
   "metadata": {},
   "outputs": [
    {
     "data": {
      "text/plain": [
       "True"
      ]
     },
     "execution_count": 24,
     "metadata": {},
     "output_type": "execute_result"
    }
   ],
   "source": [
    "is_symmetrical(1112111) "
   ]
  },
  {
   "cell_type": "markdown",
   "id": "6b620c8e",
   "metadata": {},
   "source": [
    "## Question 2\n",
    "\n",
    "### Given a string of numbers separated by a comma and space, return the product of the numbers.\n",
    "\n",
    "Examples\n",
    "\n",
    "multiply_nums(\"2, 3\") ➞ 6\n",
    "\n",
    "multiply_nums(\"1, 2, 3, 4\") ➞ 24\n",
    "\n",
    "multiply_nums(\"54, 75, 453, 0\") ➞ 0\n",
    "\n",
    "multiply_nums(\"10, -2\") ➞ -20\n"
   ]
  },
  {
   "cell_type": "markdown",
   "id": "b0f4bdab",
   "metadata": {},
   "source": [
    "# Answer"
   ]
  },
  {
   "cell_type": "code",
   "execution_count": 108,
   "id": "213c6ee2",
   "metadata": {},
   "outputs": [],
   "source": [
    "def multiply_nums(str):\n",
    "    try:\n",
    "        import numpy as np\n",
    "        \n",
    "        lst=[]\n",
    "        \n",
    "        for i in str.split(sep=', '):\n",
    "            \n",
    "            lst.append(int(i))\n",
    "            \n",
    "        return np.prod(lst)\n",
    "    \n",
    "    except Exception as e:\n",
    "        print('There is an error ')\n",
    "    \n",
    " "
   ]
  },
  {
   "cell_type": "code",
   "execution_count": 109,
   "id": "e30e8562",
   "metadata": {},
   "outputs": [
    {
     "data": {
      "text/plain": [
       "6"
      ]
     },
     "execution_count": 109,
     "metadata": {},
     "output_type": "execute_result"
    }
   ],
   "source": [
    "multiply_nums(\"2, 3\")"
   ]
  },
  {
   "cell_type": "code",
   "execution_count": 48,
   "id": "cd14aa15",
   "metadata": {},
   "outputs": [
    {
     "data": {
      "text/plain": [
       "24"
      ]
     },
     "execution_count": 48,
     "metadata": {},
     "output_type": "execute_result"
    }
   ],
   "source": [
    "multiply_nums(\"1, 2, 3, 4\")"
   ]
  },
  {
   "cell_type": "code",
   "execution_count": 49,
   "id": "6eb9f232",
   "metadata": {},
   "outputs": [
    {
     "data": {
      "text/plain": [
       "0"
      ]
     },
     "execution_count": 49,
     "metadata": {},
     "output_type": "execute_result"
    }
   ],
   "source": [
    "multiply_nums(\"54, 75, 453, 0\")"
   ]
  },
  {
   "cell_type": "code",
   "execution_count": 50,
   "id": "4f78976f",
   "metadata": {},
   "outputs": [
    {
     "data": {
      "text/plain": [
       "-20"
      ]
     },
     "execution_count": 50,
     "metadata": {},
     "output_type": "execute_result"
    }
   ],
   "source": [
    "multiply_nums(\"10, -2\")"
   ]
  },
  {
   "cell_type": "markdown",
   "id": "17ef4ad9",
   "metadata": {},
   "source": [
    "## Question 3\n",
    "\n",
    "### Create a function that squares every digit of a number.\n",
    "\n",
    "Examples\n",
    "\n",
    "square_digits(9119) ➞ 811181\n",
    "\n",
    "square_digits(2483) ➞ 416649\n",
    "\n",
    "square_digits(3212) ➞ 9414\n",
    "\n",
    "Notes\n",
    "\n",
    "The function receives an integer and must return an integer.\n"
   ]
  },
  {
   "cell_type": "markdown",
   "id": "5d1e72a7",
   "metadata": {},
   "source": [
    "# Answer"
   ]
  },
  {
   "cell_type": "code",
   "execution_count": 74,
   "id": "61a3a94e",
   "metadata": {},
   "outputs": [],
   "source": [
    "def square_digits(int1):\n",
    "    try:\n",
    "        str1=str(int1) # type casting the int to str \n",
    "        list1=[]   # empty list later to append\n",
    "        \n",
    "        for i in str1:\n",
    "            num=int(i) # type casting each character from str to int\n",
    "            \n",
    "            list1.append(str(num**2)) # appending the str of the square value of each character to list1\n",
    "        \n",
    "        str2=''.join(list1) # joining the list\n",
    "        \n",
    "        return int(str2) # type casting the int to str\n",
    "    \n",
    "    except Exception as e:\n",
    "        print('There is an error ')\n",
    "    \n",
    "            \n",
    "            \n",
    "    "
   ]
  },
  {
   "cell_type": "code",
   "execution_count": 75,
   "id": "633e1c6a",
   "metadata": {},
   "outputs": [
    {
     "data": {
      "text/plain": [
       "811181"
      ]
     },
     "execution_count": 75,
     "metadata": {},
     "output_type": "execute_result"
    }
   ],
   "source": [
    "square_digits(9119) "
   ]
  },
  {
   "cell_type": "code",
   "execution_count": 76,
   "id": "ddc0430c",
   "metadata": {},
   "outputs": [
    {
     "data": {
      "text/plain": [
       "416649"
      ]
     },
     "execution_count": 76,
     "metadata": {},
     "output_type": "execute_result"
    }
   ],
   "source": [
    "square_digits(2483)"
   ]
  },
  {
   "cell_type": "code",
   "execution_count": 77,
   "id": "33fe38ca",
   "metadata": {},
   "outputs": [
    {
     "data": {
      "text/plain": [
       "9414"
      ]
     },
     "execution_count": 77,
     "metadata": {},
     "output_type": "execute_result"
    }
   ],
   "source": [
    "square_digits(3212)"
   ]
  },
  {
   "cell_type": "markdown",
   "id": "9368de6e",
   "metadata": {},
   "source": [
    "## Question 4\n",
    "\n",
    "### Create a function that sorts a list and removes all duplicate items from it.\n",
    "\n",
    "Examples\n",
    "\n",
    "setify([1, 3, 3, 5, 5]) ➞ [1, 3, 5]\n",
    "\n",
    "setify([4, 4, 4, 4]) ➞ [4]\n",
    "\n",
    "setify([5, 7, 8, 9, 10, 15]) ➞ [5, 7, 8, 9, 10, 15]\n",
    "\n",
    "setify([3, 3, 3, 2, 1]) ➞ [1, 2, 3]\n"
   ]
  },
  {
   "cell_type": "markdown",
   "id": "945e2bdf",
   "metadata": {},
   "source": [
    "# Answer"
   ]
  },
  {
   "cell_type": "code",
   "execution_count": 106,
   "id": "4b746af4",
   "metadata": {},
   "outputs": [],
   "source": [
    "def setify(list):\n",
    "    try:\n",
    "        res = []  # empty list later to append\n",
    "        \n",
    "        for i in list:\n",
    "            \n",
    "            if i not in res:\n",
    "                res.append(i)\n",
    "        \n",
    "        res.sort()  ## sorting the list after removing the duplicates\n",
    "        \n",
    "        return res\n",
    "    \n",
    "    except Exception as e:\n",
    "        print('There is an error ')\n",
    "        "
   ]
  },
  {
   "cell_type": "code",
   "execution_count": 107,
   "id": "c00d9b3e",
   "metadata": {},
   "outputs": [
    {
     "data": {
      "text/plain": [
       "[1, 3, 5]"
      ]
     },
     "execution_count": 107,
     "metadata": {},
     "output_type": "execute_result"
    }
   ],
   "source": [
    "setify([1, 3, 3, 5, 5])"
   ]
  },
  {
   "cell_type": "code",
   "execution_count": 92,
   "id": "a409169c",
   "metadata": {},
   "outputs": [
    {
     "data": {
      "text/plain": [
       "[4]"
      ]
     },
     "execution_count": 92,
     "metadata": {},
     "output_type": "execute_result"
    }
   ],
   "source": [
    "setify([4, 4, 4, 4])"
   ]
  },
  {
   "cell_type": "code",
   "execution_count": 93,
   "id": "d0683a65",
   "metadata": {},
   "outputs": [
    {
     "data": {
      "text/plain": [
       "[5, 7, 8, 9, 10, 15]"
      ]
     },
     "execution_count": 93,
     "metadata": {},
     "output_type": "execute_result"
    }
   ],
   "source": [
    "setify([5, 7, 8, 9, 10, 15])"
   ]
  },
  {
   "cell_type": "code",
   "execution_count": 94,
   "id": "2382fb83",
   "metadata": {},
   "outputs": [
    {
     "data": {
      "text/plain": [
       "[1, 2, 3]"
      ]
     },
     "execution_count": 94,
     "metadata": {},
     "output_type": "execute_result"
    }
   ],
   "source": [
    "setify([3, 3, 3, 2, 1])"
   ]
  },
  {
   "cell_type": "markdown",
   "id": "5328b526",
   "metadata": {},
   "source": [
    "## Question 5\n",
    "\n",
    "### Create a function that returns the mean of all digits.\n",
    "\n",
    "Examples\n",
    "\n",
    "mean(42) ➞ 3\n",
    "\n",
    "mean(12345) ➞ 3\n",
    "\n",
    "mean(666) ➞ 6\n",
    "\n",
    "Notes\n",
    "-\tThe mean of all digits is the sum of digits / how many digits there are (e.g. mean of digits in \n",
    "  512 is (5+1+2)/3(number of digits) = 8/3=2).\n",
    "\n",
    "-\tThe mean will always be an integer.\n"
   ]
  },
  {
   "cell_type": "markdown",
   "id": "b50d4d98",
   "metadata": {},
   "source": [
    "# Answer"
   ]
  },
  {
   "cell_type": "code",
   "execution_count": 104,
   "id": "6a54591c",
   "metadata": {},
   "outputs": [],
   "source": [
    "def mean(int1):\n",
    "    \n",
    "    try:\n",
    "        l=[]   # empty list later to append\n",
    "        \n",
    "        str1=str(int1) # type casting the int to str\n",
    "        \n",
    "        for i in str1:\n",
    "            num=int(i)  # type casting each character from str to int\n",
    "            l.append(num)\n",
    "        \n",
    "        return sum(l)//len(l) # returning the mean value\n",
    "    \n",
    "    \n",
    "    except Exception as e:\n",
    "        print('There is an error ')\n",
    "    \n",
    "            \n",
    "        "
   ]
  },
  {
   "cell_type": "code",
   "execution_count": 105,
   "id": "bfd2a52e",
   "metadata": {},
   "outputs": [
    {
     "data": {
      "text/plain": [
       "3"
      ]
     },
     "execution_count": 105,
     "metadata": {},
     "output_type": "execute_result"
    }
   ],
   "source": [
    "mean(42)"
   ]
  },
  {
   "cell_type": "code",
   "execution_count": 101,
   "id": "b29e3cf6",
   "metadata": {
    "scrolled": true
   },
   "outputs": [
    {
     "data": {
      "text/plain": [
       "3"
      ]
     },
     "execution_count": 101,
     "metadata": {},
     "output_type": "execute_result"
    }
   ],
   "source": [
    "mean(12345)"
   ]
  },
  {
   "cell_type": "code",
   "execution_count": 102,
   "id": "277288eb",
   "metadata": {},
   "outputs": [
    {
     "data": {
      "text/plain": [
       "6"
      ]
     },
     "execution_count": 102,
     "metadata": {},
     "output_type": "execute_result"
    }
   ],
   "source": [
    "mean(666)"
   ]
  }
 ],
 "metadata": {
  "kernelspec": {
   "display_name": "Python 3 (ipykernel)",
   "language": "python",
   "name": "python3"
  },
  "language_info": {
   "codemirror_mode": {
    "name": "ipython",
    "version": 3
   },
   "file_extension": ".py",
   "mimetype": "text/x-python",
   "name": "python",
   "nbconvert_exporter": "python",
   "pygments_lexer": "ipython3",
   "version": "3.9.7"
  }
 },
 "nbformat": 4,
 "nbformat_minor": 5
}
