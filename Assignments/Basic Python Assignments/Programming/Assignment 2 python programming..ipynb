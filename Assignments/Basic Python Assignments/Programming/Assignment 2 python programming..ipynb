{
 "cells": [
  {
   "cell_type": "markdown",
   "id": "97b607d0",
   "metadata": {},
   "source": [
    "# Assignment 2 python programming."
   ]
  },
  {
   "cell_type": "markdown",
   "id": "8fa2a52a",
   "metadata": {},
   "source": [
    "# 1.\tWrite a Python program to convert kilometers to miles?\n"
   ]
  },
  {
   "cell_type": "markdown",
   "id": "e6809624",
   "metadata": {},
   "source": [
    "# Answer"
   ]
  },
  {
   "cell_type": "code",
   "execution_count": 5,
   "id": "8b7a1d29",
   "metadata": {},
   "outputs": [
    {
     "name": "stdout",
     "output_type": "stream",
     "text": [
      "kilometer5\n",
      "miles = 3.1068499999999997\n"
     ]
    }
   ],
   "source": [
    "kilo=int(input(\"kilometer\"))\n",
    "miles=0.62137*kilo\n",
    "print(\"miles =\",miles)\n"
   ]
  },
  {
   "cell_type": "markdown",
   "id": "87628e8e",
   "metadata": {},
   "source": [
    "# 2.\tWrite a Python program to convert Celsius to Fahrenheit?"
   ]
  },
  {
   "cell_type": "markdown",
   "id": "d830c56b",
   "metadata": {},
   "source": [
    "#  Answer"
   ]
  },
  {
   "cell_type": "code",
   "execution_count": 8,
   "id": "38102061",
   "metadata": {},
   "outputs": [
    {
     "name": "stdout",
     "output_type": "stream",
     "text": [
      "Celsius =90\n",
      "Fahrenheit = 194.0\n"
     ]
    }
   ],
   "source": [
    "C=int(input(\"Celsius =\"))\n",
    "\n",
    "F= (C * (9/5)) + 32 \n",
    "\n",
    "print(\"Fahrenheit =\",F)\n",
    "\n",
    "\n"
   ]
  },
  {
   "cell_type": "markdown",
   "id": "55da7c09",
   "metadata": {},
   "source": [
    "# 3.\tWrite a Python program to display calendar?"
   ]
  },
  {
   "cell_type": "markdown",
   "id": "f6134113",
   "metadata": {},
   "source": [
    "#  Answer"
   ]
  },
  {
   "cell_type": "code",
   "execution_count": 11,
   "id": "93114bce",
   "metadata": {},
   "outputs": [
    {
     "name": "stdout",
     "output_type": "stream",
     "text": [
      "   February 2022\n",
      "Mo Tu We Th Fr Sa Su\n",
      "    1  2  3  4  5  6\n",
      " 7  8  9 10 11 12 13\n",
      "14 15 16 17 18 19 20\n",
      "21 22 23 24 25 26 27\n",
      "28\n",
      "\n"
     ]
    }
   ],
   "source": [
    "import calendar\n",
    "\n",
    "yy = 2022  \n",
    "mm = 2    \n",
    "\n",
    "print(calendar.month(yy,mm))"
   ]
  },
  {
   "cell_type": "markdown",
   "id": "658c0fcf",
   "metadata": {},
   "source": [
    "# 4.\tWrite a Python program to solve quadratic equation?"
   ]
  },
  {
   "cell_type": "markdown",
   "id": "980d47b3",
   "metadata": {},
   "source": [
    "#  Answer"
   ]
  },
  {
   "cell_type": "code",
   "execution_count": 13,
   "id": "5116d7a9",
   "metadata": {},
   "outputs": [
    {
     "name": "stdout",
     "output_type": "stream",
     "text": [
      "The solution are (-3+0j) and (-2+0j)\n"
     ]
    }
   ],
   "source": [
    "###  Taking the quadratic equation ax^2 + bx + c = 0\n",
    "import cmath\n",
    "\n",
    "a = 1\n",
    "b = 5\n",
    "c = 6\n",
    "\n",
    "### calculating the discriminant\n",
    "Var= (b**2) - (4*a*c)\n",
    "\n",
    "### find the two solutions\n",
    "sol1 = (-b-cmath.sqrt(Var))/(2*a)\n",
    "sol2 = (-b+cmath.sqrt(Var))/(2*a)\n",
    "\n",
    "print('The solution are {0} and {1}'.format(sol1,sol2))"
   ]
  },
  {
   "cell_type": "markdown",
   "id": "bc9cb377",
   "metadata": {},
   "source": [
    "#  5.\tWrite a Python program to swap two variables without temp variable?\n"
   ]
  },
  {
   "cell_type": "markdown",
   "id": "6f3aafdc",
   "metadata": {},
   "source": [
    "#  Answer"
   ]
  },
  {
   "cell_type": "code",
   "execution_count": null,
   "id": "9f6f2135",
   "metadata": {},
   "outputs": [],
   "source": [
    "a=2\n",
    "b=3\n",
    "a,b=b,a\n",
    "print(a,b)"
   ]
  }
 ],
 "metadata": {
  "kernelspec": {
   "display_name": "Python 3 (ipykernel)",
   "language": "python",
   "name": "python3"
  },
  "language_info": {
   "codemirror_mode": {
    "name": "ipython",
    "version": 3
   },
   "file_extension": ".py",
   "mimetype": "text/x-python",
   "name": "python",
   "nbconvert_exporter": "python",
   "pygments_lexer": "ipython3",
   "version": "3.9.7"
  }
 },
 "nbformat": 4,
 "nbformat_minor": 5
}
