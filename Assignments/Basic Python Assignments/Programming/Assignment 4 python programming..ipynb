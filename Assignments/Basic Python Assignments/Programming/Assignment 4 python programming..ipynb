{
 "cells": [
  {
   "cell_type": "markdown",
   "id": "068d61fb",
   "metadata": {},
   "source": [
    "# Assignment 4 python programming."
   ]
  },
  {
   "cell_type": "markdown",
   "id": "554dcba5",
   "metadata": {},
   "source": [
    "# 1.\tWrite a Python Program to Find the Factorial of a Number?\n"
   ]
  },
  {
   "cell_type": "markdown",
   "id": "5f4c8e14",
   "metadata": {},
   "source": [
    "## Answer"
   ]
  },
  {
   "cell_type": "code",
   "execution_count": 5,
   "id": "0e37888e",
   "metadata": {},
   "outputs": [
    {
     "name": "stdout",
     "output_type": "stream",
     "text": [
      "Enter a number: = 9\n",
      "The factorial of 9 is 362880\n"
     ]
    }
   ],
   "source": [
    "Num=int(input(\"Enter a number: = \"))\n",
    "\n",
    "factorial = 1\n",
    "\n",
    "\n",
    "if Num < 0:\n",
    "    print(\"Sorry, factorial does not exist for negative numbers\")\n",
    "elif Num == 0:\n",
    "    print(\"The factorial of 0 is 1\")\n",
    "else:\n",
    "    for i in range(1, Num + 1):\n",
    "        factorial = factorial*i\n",
    "    print(\"The factorial of\",Num,\"is\",factorial)"
   ]
  },
  {
   "cell_type": "markdown",
   "id": "4d7da5ea",
   "metadata": {},
   "source": [
    "# 2.Write a Python Program to Display the multiplication Table?"
   ]
  },
  {
   "cell_type": "markdown",
   "id": "0c4012f3",
   "metadata": {},
   "source": [
    "## Answer"
   ]
  },
  {
   "cell_type": "code",
   "execution_count": 7,
   "id": "75cf973d",
   "metadata": {},
   "outputs": [
    {
     "name": "stdout",
     "output_type": "stream",
     "text": [
      "Display multiplication table of? 25\n",
      "25 x 1 = 25\n",
      "25 x 2 = 50\n",
      "25 x 3 = 75\n",
      "25 x 4 = 100\n",
      "25 x 5 = 125\n",
      "25 x 6 = 150\n",
      "25 x 7 = 175\n",
      "25 x 8 = 200\n",
      "25 x 9 = 225\n",
      "25 x 10 = 250\n"
     ]
    }
   ],
   "source": [
    "Num =int(input(\"Display multiplication table of? \"))\n",
    "\n",
    "for i in range(1, 11):\n",
    "    print(Num, 'x', i, '=', Num*i)\n",
    "    "
   ]
  },
  {
   "cell_type": "markdown",
   "id": "5fec9a60",
   "metadata": {},
   "source": [
    "# 3.Write a Python Program to Print the Fibonacci sequence?"
   ]
  },
  {
   "cell_type": "markdown",
   "id": "384adc94",
   "metadata": {},
   "source": [
    "## Answer"
   ]
  },
  {
   "cell_type": "code",
   "execution_count": 19,
   "id": "fee63a4f",
   "metadata": {},
   "outputs": [
    {
     "name": "stdout",
     "output_type": "stream",
     "text": [
      "How many terms? 15\n",
      "Fibonacci sequence:\n",
      "0\n",
      "1\n",
      "1\n",
      "2\n",
      "3\n",
      "5\n",
      "8\n",
      "13\n",
      "21\n",
      "34\n",
      "55\n",
      "89\n",
      "144\n",
      "233\n",
      "377\n"
     ]
    }
   ],
   "source": [
    "\n",
    "n_terms = int(input(\"How many terms? \"))\n",
    "\n",
    "\n",
    "a, b = 0, 1\n",
    "count = 0\n",
    "\n",
    "\n",
    "if n_terms <= 0:\n",
    "    print(\"Please enter a positive integer\")\n",
    "    \n",
    "\n",
    "elif n_terms == 1:\n",
    "    \n",
    "    print(\"Fibonacci sequence upto\",n_terms,\":\")\n",
    "    print(a)\n",
    "\n",
    "else:\n",
    "    \n",
    "    print(\"Fibonacci sequence:\")\n",
    "    while count < n_terms:\n",
    "        print(a)\n",
    "        c =a+b\n",
    "        a = b\n",
    "        b = c\n",
    "        count += 1\n",
    "\n",
    "\n"
   ]
  },
  {
   "cell_type": "markdown",
   "id": "dfdbc729",
   "metadata": {},
   "source": [
    "# 4.Write a Python Program to Check Armstrong Number?"
   ]
  },
  {
   "cell_type": "markdown",
   "id": "d579b7d6",
   "metadata": {},
   "source": [
    "## Answer"
   ]
  },
  {
   "cell_type": "code",
   "execution_count": 23,
   "id": "4971cfff",
   "metadata": {},
   "outputs": [
    {
     "name": "stdout",
     "output_type": "stream",
     "text": [
      "Enter a number to check if the number is an Armstrong number or not: = 153\n",
      "153 is an Armstrong number\n"
     ]
    }
   ],
   "source": [
    "\n",
    "num = int(input(\"Enter a number to check if the number is an Armstrong number or not: = \"))\n",
    "\n",
    "sum = 0\n",
    "\n",
    "temp = num\n",
    "while temp > 0:\n",
    "    digit = temp % 10\n",
    "    sum += digit ** 3\n",
    "    temp //= 10\n",
    "\n",
    "if num == sum:\n",
    "    print(num,\"is an Armstrong number\")\n",
    "else:\n",
    "    print(num,\"is not an Armstrong number\")"
   ]
  },
  {
   "cell_type": "markdown",
   "id": "d14f6def",
   "metadata": {},
   "source": [
    "# 5.Write a Python Program to Find Armstrong Number in an Interval"
   ]
  },
  {
   "cell_type": "markdown",
   "id": "507ab348",
   "metadata": {},
   "source": [
    "## Answer"
   ]
  },
  {
   "cell_type": "code",
   "execution_count": 29,
   "id": "a023600f",
   "metadata": {
    "scrolled": true
   },
   "outputs": [
    {
     "name": "stdout",
     "output_type": "stream",
     "text": [
      "153\n",
      "370\n",
      "371\n",
      "407\n",
      "1634\n",
      "8208\n",
      "9474\n"
     ]
    }
   ],
   "source": [
    "\n",
    "lower_value = 100\n",
    "upper_value = 10000\n",
    "\n",
    "\n",
    "for num in range(lower_value, upper_value + 1):\n",
    "    order = len(str(num))\n",
    "    sum = 0\n",
    "    temp = num\n",
    "    while temp > 0:\n",
    "        digit = temp % 10\n",
    "        sum += digit ** order\n",
    "        temp //= 10\n",
    "\n",
    "    if num == sum:\n",
    "        print(num)"
   ]
  },
  {
   "cell_type": "markdown",
   "id": "e6fbb081",
   "metadata": {},
   "source": [
    "# 6.Write a Python Program to Find the Sum of Natural Numbers?"
   ]
  },
  {
   "cell_type": "markdown",
   "id": "01a5c19e",
   "metadata": {},
   "source": [
    "## Answer"
   ]
  },
  {
   "cell_type": "code",
   "execution_count": 32,
   "id": "75212877",
   "metadata": {},
   "outputs": [
    {
     "name": "stdout",
     "output_type": "stream",
     "text": [
      "Enter number to Find the Sum of Natural Number: =  20\n",
      "The sum is 210\n"
     ]
    }
   ],
   "source": [
    "\n",
    "\n",
    "num = int(input(\"Enter number to Find the Sum of Natural Number: =  \"))\n",
    "\n",
    "if num < 0:\n",
    "    print(\"Enter a positive number\")\n",
    "\n",
    "else:\n",
    "    sum = 0\n",
    "  \n",
    "    while(num > 0):\n",
    "        sum += num\n",
    "        num -= 1\n",
    "    print(\"The sum is\", sum)"
   ]
  }
 ],
 "metadata": {
  "kernelspec": {
   "display_name": "Python 3 (ipykernel)",
   "language": "python",
   "name": "python3"
  },
  "language_info": {
   "codemirror_mode": {
    "name": "ipython",
    "version": 3
   },
   "file_extension": ".py",
   "mimetype": "text/x-python",
   "name": "python",
   "nbconvert_exporter": "python",
   "pygments_lexer": "ipython3",
   "version": "3.9.7"
  }
 },
 "nbformat": 4,
 "nbformat_minor": 5
}
