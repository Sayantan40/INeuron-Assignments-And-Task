{
 "cells": [
  {
   "cell_type": "markdown",
   "id": "4151337d",
   "metadata": {},
   "source": [
    "# Assignment 8 python programming."
   ]
  },
  {
   "cell_type": "markdown",
   "id": "99e1ca2d",
   "metadata": {},
   "source": [
    "# 1.Write a Python Program to Add Two Matrices?\n"
   ]
  },
  {
   "cell_type": "markdown",
   "id": "5db8721c",
   "metadata": {},
   "source": [
    "## Answer"
   ]
  },
  {
   "cell_type": "code",
   "execution_count": 2,
   "id": "bbf429a8",
   "metadata": {},
   "outputs": [
    {
     "name": "stdout",
     "output_type": "stream",
     "text": [
      "[[10 10 10]\n",
      " [10 10 10]\n",
      " [10 10 10]]\n"
     ]
    }
   ],
   "source": [
    "import numpy as np\n",
    "\n",
    "X= [[1,2,3],\n",
    "    [4 ,5,6],\n",
    "    [7 ,8,9]]\n",
    " \n",
    "Y= [[9,8,7],\n",
    "    [6,5,4],\n",
    "    [3,2,1]]\n",
    "\n",
    "\n",
    "add=np.add(X,Y)\n",
    "\n",
    "print(add)"
   ]
  },
  {
   "cell_type": "markdown",
   "id": "6141239b",
   "metadata": {},
   "source": [
    "# 2.Write a Python Program to Multiply Two Matrices?"
   ]
  },
  {
   "cell_type": "markdown",
   "id": "98ef6978",
   "metadata": {},
   "source": [
    "## Answer"
   ]
  },
  {
   "cell_type": "code",
   "execution_count": 4,
   "id": "4ec8c4fa",
   "metadata": {},
   "outputs": [
    {
     "name": "stdout",
     "output_type": "stream",
     "text": [
      "[[ 9 16 21]\n",
      " [24 25 24]\n",
      " [21 16  9]]\n"
     ]
    }
   ],
   "source": [
    "import numpy as np\n",
    "\n",
    "X= [[1,2,3],\n",
    "    [4 ,5,6],\n",
    "    [7 ,8,9]]\n",
    " \n",
    "Y= [[9,8,7],\n",
    "    [6,5,4],\n",
    "    [3,2,1]]\n",
    "\n",
    "\n",
    "Multiply=np.multiply(X,Y)\n",
    "\n",
    "print(Multiply)"
   ]
  },
  {
   "cell_type": "markdown",
   "id": "5a0cf164",
   "metadata": {},
   "source": [
    "# 3.Write a Python Program to Transpose a Matrix?"
   ]
  },
  {
   "cell_type": "markdown",
   "id": "2afed7cb",
   "metadata": {},
   "source": [
    "## Answer"
   ]
  },
  {
   "cell_type": "code",
   "execution_count": 5,
   "id": "cb70f32b",
   "metadata": {},
   "outputs": [
    {
     "name": "stdout",
     "output_type": "stream",
     "text": [
      "[[1 4 7]\n",
      " [2 5 8]\n",
      " [3 6 9]]\n"
     ]
    }
   ],
   "source": [
    "import numpy as np\n",
    "\n",
    "X= [[1,2,3],\n",
    "    [4 ,5,6],\n",
    "    [7 ,8,9]]\n",
    " \n",
    "\n",
    "Tranpose=np.transpose(X)\n",
    "\n",
    "print(Tranpose)"
   ]
  },
  {
   "cell_type": "markdown",
   "id": "ad9a4c1e",
   "metadata": {},
   "source": [
    "# 4.Write a Python Program to Sort Words in Alphabetic Order?"
   ]
  },
  {
   "cell_type": "markdown",
   "id": "3b090238",
   "metadata": {},
   "source": [
    "## Answer"
   ]
  },
  {
   "cell_type": "code",
   "execution_count": 7,
   "id": "c8e6214a",
   "metadata": {},
   "outputs": [
    {
     "name": "stdout",
     "output_type": "stream",
     "text": [
      "Enter a sentance: I am the best data scientist in the world. \n",
      "The sorted words are:\n",
      "am\n",
      "best\n",
      "data\n",
      "i\n",
      "in\n",
      "scientist\n",
      "the\n",
      "the\n",
      "world.\n"
     ]
    }
   ],
   "source": [
    "\n",
    "my_str = input(\"Enter a sentance: \") ### Asking the user for sentence\n",
    "\n",
    "\n",
    "words = [word.lower() for word in my_str.split()] ### breaking the sentence into a list of words\n",
    "\n",
    "\n",
    "words.sort() ### Sorting the list\n",
    "\n",
    "\n",
    "\n",
    "print(\"The sorted words are:\")\n",
    "for word in words:\n",
    "    print(word)\n"
   ]
  },
  {
   "cell_type": "markdown",
   "id": "a11f3e73",
   "metadata": {},
   "source": [
    "#  5.Write a Python Program to Remove Punctuation From a String?"
   ]
  },
  {
   "cell_type": "markdown",
   "id": "35b2fefe",
   "metadata": {},
   "source": [
    "## Answer"
   ]
  },
  {
   "cell_type": "code",
   "execution_count": 10,
   "id": "b146a7d9",
   "metadata": {},
   "outputs": [
    {
     "name": "stdout",
     "output_type": "stream",
     "text": [
      "Enter a sentence with punctutions: Hello!!!, he said ---and went.\n",
      "Hello he said and went\n"
     ]
    }
   ],
   "source": [
    "\n",
    "punctuations = '''!()-[]{};:'\"\\,<>./?@#$%^&*_~''' ### All the punctuations\n",
    "\n",
    "### my_str = \"Hello!!!, he said ---and went.\"   made one if someon is being lazy ;-p\n",
    "\n",
    "\n",
    "my_str = input(\"Enter a sentence with punctutions: \") ### Asking the user\n",
    "\n",
    "# remove punctuation from the string\n",
    "without_punct = \"\"\n",
    "for char in my_str:\n",
    "    if char not in punctuations:\n",
    "        without_punct = without_punct + char\n",
    "\n",
    "\n",
    "print(without_punct)\n",
    "\n"
   ]
  }
 ],
 "metadata": {
  "kernelspec": {
   "display_name": "Python 3 (ipykernel)",
   "language": "python",
   "name": "python3"
  },
  "language_info": {
   "codemirror_mode": {
    "name": "ipython",
    "version": 3
   },
   "file_extension": ".py",
   "mimetype": "text/x-python",
   "name": "python",
   "nbconvert_exporter": "python",
   "pygments_lexer": "ipython3",
   "version": "3.9.7"
  }
 },
 "nbformat": 4,
 "nbformat_minor": 5
}
