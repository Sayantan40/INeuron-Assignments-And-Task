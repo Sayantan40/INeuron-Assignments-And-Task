{
 "cells": [
  {
   "cell_type": "markdown",
   "id": "0d5efeb0",
   "metadata": {},
   "source": [
    "# Assignment 14"
   ]
  },
  {
   "cell_type": "markdown",
   "id": "c311cf2f",
   "metadata": {},
   "source": [
    "# Question 1:\n",
    "\n",
    "Define a class with a generator which can iterate the numbers, which are divisible by 7, between a given range 0 and n.\n"
   ]
  },
  {
   "cell_type": "markdown",
   "id": "5de2da19",
   "metadata": {},
   "source": [
    "## Answer"
   ]
  },
  {
   "cell_type": "code",
   "execution_count": 10,
   "id": "9aef3a66",
   "metadata": {},
   "outputs": [
    {
     "name": "stdout",
     "output_type": "stream",
     "text": [
      "15\n",
      "[0, 7, 14]\n",
      "0 True\n",
      "1 False\n",
      "2 False\n",
      "3 False\n",
      "4 False\n",
      "5 False\n",
      "6 False\n",
      "7 True\n",
      "8 False\n",
      "9 False\n",
      "10 False\n",
      "11 False\n",
      "12 False\n",
      "13 False\n",
      "14 True\n"
     ]
    }
   ],
   "source": [
    "num = int(input())\n",
    "divBy7 = [i for i in range(0, num) if (i % 7 == 0)]\n",
    "print(divBy7)\n",
    "\n",
    "def divChecker(num):\n",
    "    for i in range(num):\n",
    "        if i % 7 == 0:\n",
    "            value = True\n",
    "        else:\n",
    "            value = False\n",
    "        print(i, value)\n",
    "\n",
    "divChecker(num)"
   ]
  },
  {
   "cell_type": "markdown",
   "id": "2e8c65f6",
   "metadata": {},
   "source": [
    "# Question 2:\n",
    "\n",
    "Write a program to compute the frequency of the words from the input. The output should output after sorting the key alphanumerically. \n",
    "\n",
    "Suppose the following input is supplied to the program:\n",
    "\n",
    "New to Python or choosing between Python 2 and Python 3? Read Python 2 or Python 3.\n",
    "\n",
    "Then, the output should be:\n",
    "\n",
    "2:2\n",
    "\n",
    "3.:1\n",
    "\n",
    "3?:1\n",
    "\n",
    "New:1\n",
    "\n",
    "Python:5\n",
    "\n",
    "Read:1\n",
    "\n",
    "and:1\n",
    "\n",
    "between:1\n",
    "\n",
    "choosing:1\n",
    "\n",
    "or:2\n",
    "\n",
    "to:1\n"
   ]
  },
  {
   "cell_type": "markdown",
   "id": "ce29460a",
   "metadata": {},
   "source": [
    "## Answer"
   ]
  },
  {
   "cell_type": "code",
   "execution_count": 18,
   "id": "827e2736",
   "metadata": {},
   "outputs": [
    {
     "name": "stdout",
     "output_type": "stream",
     "text": [
      "Enter Text:New to Python or choosing between Python 2 and Python 3? Read Python 2 or Python 3.\n",
      "Frequency chart\n",
      "2:2\n",
      "3.:1\n",
      "3?:1\n",
      "New:1\n",
      "Python:5\n",
      "Read:1\n",
      "and:1\n",
      "between:1\n",
      "choosing:1\n",
      "or:2\n",
      "to:1\n"
     ]
    }
   ],
   "source": [
    "freq = {}   # frequency of words in text taking it as an dictationary\n",
    "str1 = input(\"Enter Text:\")\n",
    "for i in str1.split():\n",
    "    freq[i] = freq.get(i,0)+1\n",
    "\n",
    "Var = list(freq.keys())\n",
    "Var.sort()\n",
    "\n",
    "print (\"Frequency chart\")\n",
    "for i in Var:\n",
    "    print (\"%s:%d\" % (i,freq[i]))"
   ]
  },
  {
   "cell_type": "markdown",
   "id": "2fd8e53a",
   "metadata": {},
   "source": [
    "#  Question 3:\n",
    "\n",
    "Define a class Person and its two child classes: Male and Female. All classes have a method \"getGender\" which can print \"Male\" for Male class and \"Female\" for Female class.\n"
   ]
  },
  {
   "cell_type": "markdown",
   "id": "559bccc4",
   "metadata": {},
   "source": [
    "## Answer"
   ]
  },
  {
   "cell_type": "code",
   "execution_count": 19,
   "id": "5bc647f8",
   "metadata": {},
   "outputs": [
    {
     "name": "stdout",
     "output_type": "stream",
     "text": [
      "Male\n",
      "Female\n"
     ]
    }
   ],
   "source": [
    "class  Person(object):\n",
    "    \n",
    "    def  getGender(  self  ):  \n",
    "        return  \"Unknown\"  \n",
    "\n",
    "class  Male(  Person  ):  \n",
    "    \n",
    "    def  getGender(  self  ):  \n",
    "        return  \"Male\"  \n",
    "\n",
    "class  Female(  Person  ):  \n",
    "    \n",
    "    def  getGender(  self  ):  \n",
    "        return  \"Female\"  \n",
    "\n",
    "aMale  =  Male()  \n",
    "aFemale=  Female()  \n",
    "print(aMale.getGender())  \n",
    "print  (aFemale.getGender())"
   ]
  }
 ],
 "metadata": {
  "kernelspec": {
   "display_name": "Python 3 (ipykernel)",
   "language": "python",
   "name": "python3"
  },
  "language_info": {
   "codemirror_mode": {
    "name": "ipython",
    "version": 3
   },
   "file_extension": ".py",
   "mimetype": "text/x-python",
   "name": "python",
   "nbconvert_exporter": "python",
   "pygments_lexer": "ipython3",
   "version": "3.9.7"
  }
 },
 "nbformat": 4,
 "nbformat_minor": 5
}
