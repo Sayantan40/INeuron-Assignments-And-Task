{
 "cells": [
  {
   "cell_type": "markdown",
   "id": "d63fe78c",
   "metadata": {},
   "source": [
    "# Assignment 7 python programming."
   ]
  },
  {
   "cell_type": "markdown",
   "id": "d660b9f3",
   "metadata": {},
   "source": [
    "# 1.Write a Python Program to find sum of array?\n"
   ]
  },
  {
   "cell_type": "markdown",
   "id": "9596bdba",
   "metadata": {},
   "source": [
    "## Answer"
   ]
  },
  {
   "cell_type": "code",
   "execution_count": 15,
   "id": "d48a31b4",
   "metadata": {},
   "outputs": [
    {
     "name": "stdout",
     "output_type": "stream",
     "text": [
      "Sum of array 34\n",
      "<class 'numpy.ndarray'>\n"
     ]
    }
   ],
   "source": [
    "import numpy as np\n",
    "\n",
    "a=np.array([12, 3, 4, 15])\n",
    "\n",
    "x=np.sum(a)\n",
    "\n",
    "print(\"Sum of array\",x)\n",
    "print(type(a))\n",
    "\n"
   ]
  },
  {
   "cell_type": "markdown",
   "id": "1de697b9",
   "metadata": {},
   "source": [
    "# 2.Write a Python Program to find largest element in an array?"
   ]
  },
  {
   "cell_type": "markdown",
   "id": "80cf145c",
   "metadata": {},
   "source": [
    "## Answer"
   ]
  },
  {
   "cell_type": "code",
   "execution_count": 16,
   "id": "5a923b9f",
   "metadata": {
    "scrolled": true
   },
   "outputs": [
    {
     "name": "stdout",
     "output_type": "stream",
     "text": [
      "largest element in array 15\n"
     ]
    }
   ],
   "source": [
    "import numpy as np\n",
    "\n",
    "a=np.array([12, 3, 4, 15])\n",
    "\n",
    "x=np.amax(a)\n",
    "\n",
    "print(\"largest element in array\",x)"
   ]
  },
  {
   "cell_type": "markdown",
   "id": "ee5bff2c",
   "metadata": {},
   "source": [
    "#  3.Write a Python Program for array rotation?"
   ]
  },
  {
   "cell_type": "code",
   "execution_count": 1,
   "id": "6e457ce3",
   "metadata": {},
   "outputs": [
    {
     "name": "stdout",
     "output_type": "stream",
     "text": [
      "Array after left rotation is: [3, 4, 5, 6, 7, 1, 2]\n"
     ]
    }
   ],
   "source": [
    "\n",
    "def rotateArray(arr, n, d):\n",
    "    temp = []\n",
    "    i = 0\n",
    "    while (i < d):\n",
    "        temp.append(arr[i])\n",
    "        i = i + 1\n",
    "    i = 0\n",
    "    while (d < n):\n",
    "        arr[i] = arr[d]\n",
    "        i = i + 1\n",
    "        d = d + 1\n",
    "    arr[:] = arr[: i] + temp\n",
    "    return arr\n",
    "\n",
    "\n",
    "\n",
    "arr = [1, 2, 3, 4, 5, 6, 7]\n",
    "print(\"Array after left rotation is: \", end=\"\")\n",
    "print(rotateArray(arr, len(arr), 2))\n",
    "\n"
   ]
  },
  {
   "cell_type": "markdown",
   "id": "b2ed7743",
   "metadata": {},
   "source": [
    "## Answer"
   ]
  },
  {
   "cell_type": "markdown",
   "id": "d4a3e8a0",
   "metadata": {},
   "source": [
    "#  4.Write a Python Program to Split the array and add the first part to the end?"
   ]
  },
  {
   "cell_type": "code",
   "execution_count": 2,
   "id": "d5617045",
   "metadata": {},
   "outputs": [
    {
     "name": "stdout",
     "output_type": "stream",
     "text": [
      "5 6 52 36 12 10 "
     ]
    }
   ],
   "source": [
    "### Defining a function slit_Arr\n",
    "def split_Arr(a, b, c):\n",
    "    d = a[:c]\n",
    "    return (a[c::]+d[::])\n",
    "\n",
    "arr = [12, 10, 5, 6, 52, 36]\n",
    "length = len(arr)\n",
    "pos = 2\n",
    "\n",
    "arr = split_Arr(arr, length ,pos)\n",
    "\n",
    "for i in range(0, length):\n",
    "    print(arr[i], end = ' ')\n"
   ]
  },
  {
   "cell_type": "markdown",
   "id": "d0b4d887",
   "metadata": {},
   "source": [
    "## Answer"
   ]
  },
  {
   "cell_type": "markdown",
   "id": "c08ca312",
   "metadata": {},
   "source": [
    "#  5.Write a Python Program to check if given array is Monotonic?"
   ]
  },
  {
   "cell_type": "markdown",
   "id": "5db5e6a0",
   "metadata": {},
   "source": [
    "## Answer"
   ]
  },
  {
   "cell_type": "code",
   "execution_count": 1,
   "id": "2dfc5040",
   "metadata": {},
   "outputs": [
    {
     "name": "stdout",
     "output_type": "stream",
     "text": [
      "True\n",
      "False\n",
      "True\n",
      "True\n"
     ]
    }
   ],
   "source": [
    "#check if monotone\n",
    "#function definition\n",
    "def ismonotone(a):\n",
    "    n=len(a) #size of array\n",
    "    if n==1:\n",
    "        return True\n",
    "    else:\n",
    "        #check for monotone behaviour\n",
    "        if all(a[i]>=a[i+1] for i in range(0,n-1) or a[i]<=a[i+1] for i in range(0,n-1)):\n",
    "            return True\n",
    "        else:\n",
    "            return False\n",
    "\n",
    "A = [6, 5, 4, 2]\n",
    "print(ismonotone(A))\n",
    "b = [6, 2, 4, 2]\n",
    "print(ismonotone(b))\n",
    "c=[4,3,2]\n",
    "print(ismonotone(c))\n",
    "d=[1]\n",
    "print(ismonotone(d))\n"
   ]
  }
 ],
 "metadata": {
  "kernelspec": {
   "display_name": "Python 3 (ipykernel)",
   "language": "python",
   "name": "python3"
  },
  "language_info": {
   "codemirror_mode": {
    "name": "ipython",
    "version": 3
   },
   "file_extension": ".py",
   "mimetype": "text/x-python",
   "name": "python",
   "nbconvert_exporter": "python",
   "pygments_lexer": "ipython3",
   "version": "3.9.7"
  }
 },
 "nbformat": 4,
 "nbformat_minor": 5
}
