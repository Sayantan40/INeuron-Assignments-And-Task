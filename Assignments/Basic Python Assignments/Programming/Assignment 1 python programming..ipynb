{
 "cells": [
  {
   "cell_type": "markdown",
   "id": "4a808724",
   "metadata": {},
   "source": [
    "# Assignment 1 python programming."
   ]
  },
  {
   "cell_type": "markdown",
   "id": "0f728560",
   "metadata": {},
   "source": [
    "# 1.\tWrite a Python program to print \"Hello Python\"?\n"
   ]
  },
  {
   "cell_type": "markdown",
   "id": "8db19d06",
   "metadata": {},
   "source": [
    "## Answer"
   ]
  },
  {
   "cell_type": "code",
   "execution_count": 30,
   "id": "01357dc1",
   "metadata": {},
   "outputs": [
    {
     "name": "stdout",
     "output_type": "stream",
     "text": [
      "Hello python\n"
     ]
    }
   ],
   "source": [
    "print(\"Hello python\")"
   ]
  },
  {
   "cell_type": "markdown",
   "id": "b5f5d0a6",
   "metadata": {},
   "source": [
    "# 2.\tWrite a Python program to do arithmetical operations addition and division.?"
   ]
  },
  {
   "cell_type": "markdown",
   "id": "89224c5a",
   "metadata": {},
   "source": [
    "## Answer"
   ]
  },
  {
   "cell_type": "code",
   "execution_count": 31,
   "id": "b29c8fcd",
   "metadata": {},
   "outputs": [
    {
     "name": "stdout",
     "output_type": "stream",
     "text": [
      "3 2\n"
     ]
    }
   ],
   "source": [
    "add=1+2\n",
    "divide=int(4/2)\n",
    "print(add,divide)"
   ]
  },
  {
   "cell_type": "markdown",
   "id": "a2e28873",
   "metadata": {},
   "source": [
    "# 3.\tWrite a Python program to find the area of a triangle?"
   ]
  },
  {
   "cell_type": "markdown",
   "id": "52ec6796",
   "metadata": {},
   "source": [
    "## Answer"
   ]
  },
  {
   "cell_type": "code",
   "execution_count": 32,
   "id": "8ce1dd18",
   "metadata": {},
   "outputs": [
    {
     "name": "stdout",
     "output_type": "stream",
     "text": [
      "4\n"
     ]
    }
   ],
   "source": [
    "### Base and perpendicular in 2cm & 4cm\n",
    "Perpendicular=4 \n",
    "Base=2\n",
    "Area=int((Perpendicular*Base)/2)\n",
    "print(Area)"
   ]
  },
  {
   "cell_type": "markdown",
   "id": "9785f215",
   "metadata": {},
   "source": [
    "# 4.\tWrite a Python program to swap two variables?"
   ]
  },
  {
   "cell_type": "markdown",
   "id": "275f5fe0",
   "metadata": {},
   "source": [
    "## Answer"
   ]
  },
  {
   "cell_type": "code",
   "execution_count": 33,
   "id": "ce6669c2",
   "metadata": {},
   "outputs": [
    {
     "name": "stdout",
     "output_type": "stream",
     "text": [
      "3 2\n"
     ]
    }
   ],
   "source": [
    "a=2\n",
    "b=3\n",
    "a,b=b,a\n",
    "print(a,b)"
   ]
  },
  {
   "cell_type": "markdown",
   "id": "a77e8499",
   "metadata": {},
   "source": [
    "# 5.\tWrite a Python program to generate a random number?"
   ]
  },
  {
   "cell_type": "markdown",
   "id": "d3a1561d",
   "metadata": {},
   "source": [
    "## Answer"
   ]
  },
  {
   "cell_type": "code",
   "execution_count": 34,
   "id": "21646ae2",
   "metadata": {},
   "outputs": [
    {
     "name": "stdout",
     "output_type": "stream",
     "text": [
      "581\n"
     ]
    }
   ],
   "source": [
    "import random\n",
    "a=random.randint(0,1000)\n",
    "print(a)"
   ]
  }
 ],
 "metadata": {
  "kernelspec": {
   "display_name": "Python 3 (ipykernel)",
   "language": "python",
   "name": "python3"
  },
  "language_info": {
   "codemirror_mode": {
    "name": "ipython",
    "version": 3
   },
   "file_extension": ".py",
   "mimetype": "text/x-python",
   "name": "python",
   "nbconvert_exporter": "python",
   "pygments_lexer": "ipython3",
   "version": "3.9.7"
  }
 },
 "nbformat": 4,
 "nbformat_minor": 5
}
