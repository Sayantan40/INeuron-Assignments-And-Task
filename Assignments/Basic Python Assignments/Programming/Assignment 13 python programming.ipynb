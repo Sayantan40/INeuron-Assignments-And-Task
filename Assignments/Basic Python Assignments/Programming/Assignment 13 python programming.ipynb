{
 "cells": [
  {
   "cell_type": "markdown",
   "id": "40c0d740",
   "metadata": {},
   "source": [
    "# Assignment 13"
   ]
  },
  {
   "cell_type": "markdown",
   "id": "c2c23ff6",
   "metadata": {},
   "source": [
    "# Question 1:\n",
    "\n",
    "Write a program that calculates and prints the value according to the given formula:\n",
    "\n",
    "Q = Square root of [(2 * C * D)/H]\n",
    "\n",
    "Following are the fixed values of C and H:\n",
    "\n",
    "C is 50. H is 30.\n",
    "\n",
    "D is the variable whose values should be input to your program in a comma-separated sequence.\n",
    "\n",
    "Example\n",
    "\n",
    "Let us assume the following comma separated input sequence is given to the program:\n",
    "\n",
    "100,150,180\n",
    "\n",
    "The output of the program should be:\n",
    "\n",
    "18,22,24\n",
    "\n"
   ]
  },
  {
   "cell_type": "code",
   "execution_count": 14,
   "id": "3c7d597c",
   "metadata": {},
   "outputs": [
    {
     "name": "stdout",
     "output_type": "stream",
     "text": [
      "Provide D: 100 , 150 , 180\n",
      "[18, 22, 24]\n"
     ]
    }
   ],
   "source": [
    "import math\n",
    "\n",
    "C=50\n",
    "H=30\n",
    "D=(input(\"Provide D: \"))\n",
    "D = D.split(',')\n",
    "\n",
    "output=[]\n",
    "\n",
    "for i in D:\n",
    "    D=int(i)\n",
    "    Q = (2 * C * D)/H\n",
    "    b=int(math.sqrt(Q))\n",
    "    output.append(b)\n",
    "\n",
    "print(output)\n"
   ]
  },
  {
   "cell_type": "markdown",
   "id": "29de0a53",
   "metadata": {},
   "source": [
    "## Answer"
   ]
  },
  {
   "cell_type": "markdown",
   "id": "90e1089f",
   "metadata": {},
   "source": [
    "# Question 2:\n",
    "\n",
    "Write a program which takes 2 digits, X,Y as input and generates a 2-dimensional array. The element value in the i-th row and j-th column of the array should be i*j.\n",
    "\n",
    "Note: i=0,1.., X-1; j=0,1,¡¬Y-1.\n",
    "\n",
    "Example\n",
    "\n",
    "Suppose the following inputs are given to the program:\n",
    "\n",
    "3,5\n",
    "\n",
    "Then, the output of the program should be:\n",
    "\n",
    "[[0, 0, 0, 0, 0], [0, 1, 2, 3, 4], [0, 2, 4, 6, 8]] \n",
    "\n",
    "\n"
   ]
  },
  {
   "cell_type": "markdown",
   "id": "9937c038",
   "metadata": {},
   "source": [
    "## Answer"
   ]
  },
  {
   "cell_type": "code",
   "execution_count": 19,
   "id": "3c6e4f85",
   "metadata": {},
   "outputs": [
    {
     "name": "stdout",
     "output_type": "stream",
     "text": [
      "Input number of rows: 3\n",
      "Input number of columns: 5\n",
      "[[0, 0, 0, 0, 0], [0, 1, 2, 3, 4], [0, 2, 4, 6, 8]]\n"
     ]
    }
   ],
   "source": [
    "row = int(input(\"Input number of rows: \"))\n",
    "col = int(input(\"Input number of columns: \"))\n",
    "l1 = [[0 for col in range(col)] for row in range(row)]\n",
    "\n",
    "for i in range(row):   ### i is denoted as row\n",
    "    for j in range(col): ### j is denoted as column\n",
    "        l1[i][j]= i*j\n",
    "\n",
    "print(l1)"
   ]
  },
  {
   "cell_type": "markdown",
   "id": "6ff1d00d",
   "metadata": {},
   "source": [
    "# Question 3:\n",
    "\n",
    "Write a program that accepts a comma separated sequence of words as input and prints the words in a comma-separated sequence after sorting them alphabetically.\n",
    "\n",
    "Suppose the following input is supplied to the program:\n",
    "\n",
    "without,hello,bag,world\n",
    "\n",
    "Then, the output should be:\n",
    "\n",
    "bag,hello,without,world\n",
    "\n",
    "\n",
    "\n"
   ]
  },
  {
   "cell_type": "markdown",
   "id": "84e42d1c",
   "metadata": {},
   "source": [
    "## Answer"
   ]
  },
  {
   "cell_type": "code",
   "execution_count": 11,
   "id": "3959a169",
   "metadata": {},
   "outputs": [
    {
     "name": "stdout",
     "output_type": "stream",
     "text": [
      "Input words: without, hello, bag, world\n",
      " bag,  hello,  world, without\n"
     ]
    }
   ],
   "source": [
    "str1 = input(\"Input words: \")\n",
    "\n",
    "str_list = str1.split(\",\")\n",
    "str_list.sort()\n",
    "\n",
    "print((', ').join(str_list))"
   ]
  }
 ],
 "metadata": {
  "kernelspec": {
   "display_name": "Python 3 (ipykernel)",
   "language": "python",
   "name": "python3"
  },
  "language_info": {
   "codemirror_mode": {
    "name": "ipython",
    "version": 3
   },
   "file_extension": ".py",
   "mimetype": "text/x-python",
   "name": "python",
   "nbconvert_exporter": "python",
   "pygments_lexer": "ipython3",
   "version": "3.9.7"
  }
 },
 "nbformat": 4,
 "nbformat_minor": 5
}
