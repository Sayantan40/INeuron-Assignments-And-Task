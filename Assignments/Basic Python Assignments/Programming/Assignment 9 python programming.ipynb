{
 "cells": [
  {
   "cell_type": "markdown",
   "id": "257f6d95",
   "metadata": {},
   "source": [
    "# Assignment 9 python programming"
   ]
  },
  {
   "cell_type": "markdown",
   "id": "335eafc9",
   "metadata": {},
   "source": [
    "# 1.Write a Python program to check if the given number is a Disarium Number?"
   ]
  },
  {
   "cell_type": "code",
   "execution_count": 8,
   "id": "9b0cdf08",
   "metadata": {},
   "outputs": [
    {
     "name": "stdout",
     "output_type": "stream",
     "text": [
      "175  is not a disarium number\n"
     ]
    }
   ],
   "source": [
    "### Definig a function \n",
    "\n",
    "def cal_Len(n):    \n",
    "    length = 0    \n",
    "    while n != 0:\n",
    "        length = length + 1    \n",
    "        n = n//10\n",
    "        return length\n",
    "     \n",
    "num = 175    \n",
    "rem = sum = 0    \n",
    "len = cal_Len(num)    \n",
    "     \n",
    "### Makeing a copy of the original number num    \n",
    "n = num;    \n",
    "     \n",
    "# Calculates the sum of digits powered with their respective position    \n",
    "while num > 0:    \n",
    "    rem = num%10    \n",
    "    sum = sum + int(rem**len)    \n",
    "    num = num//10    \n",
    "    len = len - 1    \n",
    "     \n",
    "#Checks whether the sum is equal to the number itself    \n",
    "\n",
    "if sum == n:    \n",
    "    print(n, \" is a disarium number\")    \n",
    "else:    \n",
    "    print(n, \" is not a disarium number\")    "
   ]
  },
  {
   "cell_type": "markdown",
   "id": "d4c2a45f",
   "metadata": {},
   "source": [
    "# Answer"
   ]
  },
  {
   "cell_type": "markdown",
   "id": "05a8532b",
   "metadata": {},
   "source": [
    "# 2.Write a Python program to print all disarium numbers between 1 to 100?"
   ]
  },
  {
   "cell_type": "markdown",
   "id": "2bf22ad7",
   "metadata": {},
   "source": [
    "# Answer"
   ]
  },
  {
   "cell_type": "code",
   "execution_count": 18,
   "id": "f203b296",
   "metadata": {},
   "outputs": [
    {
     "name": "stdout",
     "output_type": "stream",
     "text": [
      "Disarium numbers between 1 and 100 are\n",
      "1 2 3 4 5 6 7 8 9 "
     ]
    }
   ],
   "source": [
    "### Definig a function \n",
    "\n",
    "def cal_Len(n):    \n",
    "    length = 0    \n",
    "    while n != 0:\n",
    "        length = length + 1    \n",
    "        n = n//10\n",
    "        return length\n",
    "\n",
    "def sum_digit(num):\n",
    "    rem = sum = 0 \n",
    "    len = cal_Len(num)\n",
    "    \n",
    "    while num > 0:    \n",
    "        rem = num % 10    \n",
    "        sum = sum + int(rem**len)    \n",
    "        num = num//10    \n",
    "        len = len - 1\n",
    "    return sum\n",
    "     \n",
    "    \n",
    "     \n",
    "#Displays all disarium numbers between 1 and 100    \n",
    "\n",
    "print(\"Disarium numbers between 1 and 100 are\")    \n",
    "\n",
    "for i in range(1,101):    \n",
    "    result = sum_digit(i)    \n",
    "    if result == i:\n",
    "        print(i,'',end='')      \n",
    "   "
   ]
  },
  {
   "cell_type": "markdown",
   "id": "6d395741",
   "metadata": {},
   "source": [
    "# 3.Write a Python program to check if the given number is Happy Number?"
   ]
  },
  {
   "cell_type": "markdown",
   "id": "cee11114",
   "metadata": {},
   "source": [
    "# Answer"
   ]
  },
  {
   "cell_type": "code",
   "execution_count": 13,
   "id": "e9b05a17",
   "metadata": {},
   "outputs": [
    {
     "name": "stdout",
     "output_type": "stream",
     "text": [
      "82  is a happy number\n"
     ]
    }
   ],
   "source": [
    "   \n",
    "def isHappyNumber(num):    \n",
    "    rem = sum = 0    \n",
    "    while(num > 0):    \n",
    "        rem = num%10    \n",
    "        sum = sum + (rem*rem)    \n",
    "        num = num//10    \n",
    "    return sum;    \n",
    "        \n",
    "\n",
    "num = 82    \n",
    "result = num    \n",
    "     \n",
    "while result != 1 and result != 4:   \n",
    "         result = isHappyNumber(result)\n",
    "        \n",
    "if result == 1:                            ###Happy number always ends with 1    \n",
    "    print(num , \" is a happy number\")    \n",
    "\n",
    "elif result == 4:                         #Unhappy number ends in a cycle of repeating numbers which contain 4     \n",
    "    print(num , \" is not a happy number\")   "
   ]
  },
  {
   "cell_type": "markdown",
   "id": "85a05070",
   "metadata": {},
   "source": [
    "# 4.Write a Python program to print all happy numbers between 1 and 100?"
   ]
  },
  {
   "cell_type": "markdown",
   "id": "470eb771",
   "metadata": {},
   "source": [
    "# Answer"
   ]
  },
  {
   "cell_type": "code",
   "execution_count": 21,
   "id": "9c6ac866",
   "metadata": {},
   "outputs": [
    {
     "name": "stdout",
     "output_type": "stream",
     "text": [
      "List of happy numbers between 1 and 100: \n",
      "1 7 10 13 19 23 28 31 32 44 49 68 70 79 82 86 91 94 97 100 "
     ]
    }
   ],
   "source": [
    "  \n",
    "def isHappyNumber(num):    \n",
    "    rem = sum = 0    \n",
    "    while num > 0:    \n",
    "        rem = num%10    \n",
    "        sum = sum + (rem*rem)    \n",
    "        num = num//10    \n",
    "    return sum;    \n",
    "           \n",
    "    \n",
    "print(\"List of happy numbers between 1 and 100: \");    \n",
    "\n",
    "for i in range(1, 101):    \n",
    "    \n",
    "    result = i    \n",
    "    \n",
    "    while result != 1 and result != 4:    ###Happy number always ends with 1 and \n",
    "        result = isHappyNumber(result)    ###  Unhappy number ends in a cycle of repeating numbers which contain 4\n",
    "        \n",
    "    if result == 1:    \n",
    "        print(i,'',end='')    \n",
    "           \n"
   ]
  },
  {
   "cell_type": "markdown",
   "id": "bce06d72",
   "metadata": {},
   "source": [
    "# 5.Write a Python program to determine whether the given number is a Harshad Number?"
   ]
  },
  {
   "cell_type": "markdown",
   "id": "1de8fbb0",
   "metadata": {},
   "source": [
    "# Answer"
   ]
  },
  {
   "cell_type": "code",
   "execution_count": 22,
   "id": "b27210c4",
   "metadata": {},
   "outputs": [
    {
     "name": "stdout",
     "output_type": "stream",
     "text": [
      "156  is a harshad number\n"
     ]
    }
   ],
   "source": [
    "num = 156    \n",
    "rem = sum = 0    \n",
    "     \n",
    "### Make a copy of num and store it in variable n    \n",
    "n = num    \n",
    "     \n",
    "#Calculates sum of digits    \n",
    "\n",
    "while(num > 0):    \n",
    "    rem = num%10    \n",
    "    sum = sum + rem    \n",
    "    num = num//10    \n",
    "     \n",
    "### Checks whether the number is divisible by the sum of digits    \n",
    "\n",
    "if n%sum == 0:    \n",
    "    print(n, \" is a harshad number\")    \n",
    "else:    \n",
    "    print(n,  \" is not a harshad number\")"
   ]
  },
  {
   "cell_type": "markdown",
   "id": "10bd0901",
   "metadata": {},
   "source": [
    "# 6.Write a Python program to print all pronic numbers between 1 and 100?"
   ]
  },
  {
   "cell_type": "markdown",
   "id": "b2ab10c6",
   "metadata": {},
   "source": [
    "# Answer"
   ]
  },
  {
   "cell_type": "code",
   "execution_count": 25,
   "id": "b1ffc6d2",
   "metadata": {},
   "outputs": [
    {
     "name": "stdout",
     "output_type": "stream",
     "text": [
      "Pronic numbers between 1 and 100: \n",
      "2 6 12 20 30 42 56 72 90 "
     ]
    }
   ],
   "source": [
    "def isPronicNumber(num):    \n",
    "    flag = False;    \n",
    "    for j in range(1, num+1):\n",
    "        if (j*(j+1)) == num: ### Checks for pronic number by multiplying consecutive numbers   \n",
    "            flag = True    \n",
    "            break    \n",
    "    return flag     \n",
    "     \n",
    "### Displays pronic numbers between 1 and 100    \n",
    "\n",
    "print(\"Pronic numbers between 1 and 100: \");    \n",
    "for i in range(1, 101):    \n",
    "    if isPronicNumber(i):    \n",
    "        print(i,'',end='')    \n",
    "                \n",
    "           "
   ]
  }
 ],
 "metadata": {
  "kernelspec": {
   "display_name": "Python 3 (ipykernel)",
   "language": "python",
   "name": "python3"
  },
  "language_info": {
   "codemirror_mode": {
    "name": "ipython",
    "version": 3
   },
   "file_extension": ".py",
   "mimetype": "text/x-python",
   "name": "python",
   "nbconvert_exporter": "python",
   "pygments_lexer": "ipython3",
   "version": "3.9.7"
  }
 },
 "nbformat": 4,
 "nbformat_minor": 5
}
