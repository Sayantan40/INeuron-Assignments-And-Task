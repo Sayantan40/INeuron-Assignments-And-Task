{
 "cells": [
  {
   "cell_type": "markdown",
   "id": "3224570e",
   "metadata": {},
   "source": [
    "# Assignment 10 python programming"
   ]
  },
  {
   "cell_type": "markdown",
   "id": "6085c198",
   "metadata": {},
   "source": [
    "# 1.Write a Python program to find sum of elements in list?"
   ]
  },
  {
   "cell_type": "markdown",
   "id": "fa0a940b",
   "metadata": {},
   "source": [
    "# Answer"
   ]
  },
  {
   "cell_type": "code",
   "execution_count": 3,
   "id": "055a937a",
   "metadata": {
    "scrolled": true
   },
   "outputs": [
    {
     "name": "stdout",
     "output_type": "stream",
     "text": [
      "sum of elements in list 170\n"
     ]
    }
   ],
   "source": [
    "list1=[1,24,56,89]\n",
    "\n",
    "sum_list1=sum(list1)\n",
    "\n",
    "print(\"sum of elements in list\",sum_list1)"
   ]
  },
  {
   "cell_type": "markdown",
   "id": "c8c683ec",
   "metadata": {},
   "source": [
    "# 2.Write a Python program to  Multiply all numbers in the list?"
   ]
  },
  {
   "cell_type": "markdown",
   "id": "5a616b22",
   "metadata": {},
   "source": [
    "# Answer"
   ]
  },
  {
   "cell_type": "code",
   "execution_count": 7,
   "id": "e3f991b6",
   "metadata": {},
   "outputs": [
    {
     "name": "stdout",
     "output_type": "stream",
     "text": [
      "Multiply of elements in list = 119616\n"
     ]
    }
   ],
   "source": [
    "import numpy as np\n",
    "\n",
    "list1=[1,24,56,89]\n",
    "\n",
    "mul_list1=np.prod(list1)\n",
    "\n",
    "print(\"Multiply of elements in list =\",mul_list1)"
   ]
  },
  {
   "cell_type": "markdown",
   "id": "bb8e8f0a",
   "metadata": {},
   "source": [
    "# 3.Write a Python program to find smallest number in a list?"
   ]
  },
  {
   "cell_type": "markdown",
   "id": "117ed48b",
   "metadata": {},
   "source": [
    "# Answer"
   ]
  },
  {
   "cell_type": "code",
   "execution_count": 9,
   "id": "510a7993",
   "metadata": {
    "scrolled": true
   },
   "outputs": [
    {
     "name": "stdout",
     "output_type": "stream",
     "text": [
      "Smallest of elements in list = 12\n"
     ]
    }
   ],
   "source": [
    "list1=[24,12,56,89]\n",
    "\n",
    "small_list1=min(list1)\n",
    "\n",
    "print(\"Smallest of elements in list =\",small_list1)"
   ]
  },
  {
   "cell_type": "markdown",
   "id": "fca4255a",
   "metadata": {},
   "source": [
    "# 4.Write a Python program to find largest number in a list?"
   ]
  },
  {
   "cell_type": "markdown",
   "id": "d7b7be64",
   "metadata": {},
   "source": [
    "# Answer"
   ]
  },
  {
   "cell_type": "code",
   "execution_count": 10,
   "id": "75eb8546",
   "metadata": {},
   "outputs": [
    {
     "name": "stdout",
     "output_type": "stream",
     "text": [
      "Max of elements in list = 89\n"
     ]
    }
   ],
   "source": [
    "list1=[24,12,56,89]\n",
    "\n",
    "max_list1=max(list1)\n",
    "\n",
    "print(\"Max of elements in list =\",max_list1)"
   ]
  },
  {
   "cell_type": "markdown",
   "id": "4cdf485c",
   "metadata": {},
   "source": [
    "# 5.Write a Python program to find second largest number in a list?"
   ]
  },
  {
   "cell_type": "markdown",
   "id": "ee7d944a",
   "metadata": {},
   "source": [
    "# Answer"
   ]
  },
  {
   "cell_type": "code",
   "execution_count": 26,
   "id": "2a7ef4c7",
   "metadata": {},
   "outputs": [
    {
     "name": "stdout",
     "output_type": "stream",
     "text": [
      "the second largest value 56\n"
     ]
    }
   ],
   "source": [
    "list1=[24,12,56,89]\n",
    "\n",
    "list2 = set(list1)        # temp list \n",
    " \n",
    "list2.remove(max(list2))  # removing the max value from the temp list\n",
    "\n",
    "print(\"the second largest value\",max(list2))\n",
    "\n"
   ]
  },
  {
   "cell_type": "markdown",
   "id": "1c29c077",
   "metadata": {},
   "source": [
    "# 6.Write a Python program to find N largest elements from a list?"
   ]
  },
  {
   "cell_type": "markdown",
   "id": "51afaad3",
   "metadata": {},
   "source": [
    "# Answer"
   ]
  },
  {
   "cell_type": "code",
   "execution_count": 29,
   "id": "2dfa34b2",
   "metadata": {},
   "outputs": [
    {
     "name": "stdout",
     "output_type": "stream",
     "text": [
      "[89, 123, 786, 1000]\n"
     ]
    }
   ],
   "source": [
    "\n",
    "list1=[24,12,56,89,27,123,58,3,786,1000]\n",
    "\n",
    "n = 4\n",
    "\n",
    "list1.sort()\n",
    "print(list1[-n:])\n"
   ]
  },
  {
   "cell_type": "markdown",
   "id": "feb9b226",
   "metadata": {},
   "source": [
    "# 7.Write a Python program to print even numbers in a list?"
   ]
  },
  {
   "cell_type": "markdown",
   "id": "6d4ff9ab",
   "metadata": {},
   "source": [
    "# Answer"
   ]
  },
  {
   "cell_type": "code",
   "execution_count": 14,
   "id": "428b979d",
   "metadata": {},
   "outputs": [
    {
     "name": "stdout",
     "output_type": "stream",
     "text": [
      "the even numbers\n",
      "24 12 56 "
     ]
    }
   ],
   "source": [
    "list1=[24,12,56,89]\n",
    "print('the even numbers')\n",
    "for i in list1:\n",
    "    if i%2 == 0:\n",
    "        print(i,'',end='')"
   ]
  },
  {
   "cell_type": "markdown",
   "id": "d724dbdc",
   "metadata": {},
   "source": [
    "# 8.Write a Python program to print odd numbers in a List?"
   ]
  },
  {
   "cell_type": "markdown",
   "id": "05e9d5fc",
   "metadata": {},
   "source": [
    "# Answer"
   ]
  },
  {
   "cell_type": "code",
   "execution_count": 18,
   "id": "57130911",
   "metadata": {},
   "outputs": [
    {
     "name": "stdout",
     "output_type": "stream",
     "text": [
      "the odd numbers\n",
      "89 27 123 "
     ]
    }
   ],
   "source": [
    "list1=[24,12,56,89,27,123]\n",
    "print('the odd numbers')\n",
    "for i in list1:\n",
    "    if i%2 == 1:\n",
    "        print(i,'',end='')"
   ]
  },
  {
   "cell_type": "markdown",
   "id": "73ffa3c5",
   "metadata": {},
   "source": [
    "# 9.Write a Python program to Remove empty List from List?"
   ]
  },
  {
   "cell_type": "markdown",
   "id": "2c6e4a3c",
   "metadata": {},
   "source": [
    "# Answer"
   ]
  },
  {
   "cell_type": "code",
   "execution_count": 21,
   "id": "5ce48fcd",
   "metadata": {},
   "outputs": [
    {
     "name": "stdout",
     "output_type": "stream",
     "text": [
      "[24, 12, 56, 89, 27]\n"
     ]
    }
   ],
   "source": [
    "list1=[24,12,56,89,27,[]]\n",
    "\n",
    "remove=list1.remove([]) ## REmoving the empty list \n",
    "\n",
    "print(list1)"
   ]
  },
  {
   "cell_type": "markdown",
   "id": "7a50024f",
   "metadata": {},
   "source": [
    "# 10.Write a Python program to Cloning or Copying a list?"
   ]
  },
  {
   "cell_type": "markdown",
   "id": "75d16ffc",
   "metadata": {},
   "source": [
    "# Answer"
   ]
  },
  {
   "cell_type": "code",
   "execution_count": 37,
   "id": "a697bd52",
   "metadata": {
    "scrolled": true
   },
   "outputs": [
    {
     "name": "stdout",
     "output_type": "stream",
     "text": [
      "Orginal [24, 12, 56, 89, 27, 123]\n",
      "Clone [24, 12, 56, 89, 27, 123]\n"
     ]
    }
   ],
   "source": [
    "## Append() Method\n",
    "\n",
    "list1=[24,12,56,89,27,123]\n",
    "list2=[]\n",
    "\n",
    "for i in list1:\n",
    "    list2.append(i)\n",
    "    \n",
    "print('Orginal',list1)\n",
    "print(\"Clone\"  ,   list2)"
   ]
  },
  {
   "cell_type": "markdown",
   "id": "834d9b92",
   "metadata": {},
   "source": [
    "# 11.Write a Python program to Count occurrences of an element in a list?"
   ]
  },
  {
   "cell_type": "markdown",
   "id": "0487e1d6",
   "metadata": {},
   "source": [
    "# Answer"
   ]
  },
  {
   "cell_type": "code",
   "execution_count": 43,
   "id": "706c89b7",
   "metadata": {},
   "outputs": [
    {
     "name": "stdout",
     "output_type": "stream",
     "text": [
      "8 has occurred 5 times\n"
     ]
    }
   ],
   "source": [
    "### Defining functioning an element here 8 occurence in a list\n",
    "def countx(lst, x):\n",
    "    return lst.count(x)\n",
    "\n",
    "list1 = [8, 6, 8, 10, 8, 20, 10, 8, 8]\n",
    "x = 8\n",
    "print('{} has occurred {} times'.format(x, countx(list1, x)))\n",
    "\n"
   ]
  }
 ],
 "metadata": {
  "kernelspec": {
   "display_name": "Python 3 (ipykernel)",
   "language": "python",
   "name": "python3"
  },
  "language_info": {
   "codemirror_mode": {
    "name": "ipython",
    "version": 3
   },
   "file_extension": ".py",
   "mimetype": "text/x-python",
   "name": "python",
   "nbconvert_exporter": "python",
   "pygments_lexer": "ipython3",
   "version": "3.9.7"
  }
 },
 "nbformat": 4,
 "nbformat_minor": 5
}
