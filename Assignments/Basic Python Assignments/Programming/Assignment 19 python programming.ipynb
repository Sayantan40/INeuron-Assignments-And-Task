{
 "cells": [
  {
   "cell_type": "markdown",
   "id": "7bb8eb1e",
   "metadata": {},
   "source": [
    "# Assignment 19"
   ]
  },
  {
   "cell_type": "markdown",
   "id": "74968ffb",
   "metadata": {},
   "source": [
    "# Question1\n",
    "Create a function that takes a string and returns a string in which each character is repeated once.\n",
    "\n",
    "Examples\n",
    "\n",
    "double_char(\"String\") ➞ \"SSttrriinngg\"\n",
    "\n",
    "double_char(\"Hello World!\") ➞ \"HHeelllloo  WWoorrlldd!!\"\n",
    "\n",
    "double_char(\"1234!_ \") ➞ \"11223344!!__  \"\n",
    "\n"
   ]
  },
  {
   "cell_type": "markdown",
   "id": "f0b33866",
   "metadata": {},
   "source": [
    "### Answer"
   ]
  },
  {
   "cell_type": "code",
   "execution_count": 31,
   "id": "35bf25ce",
   "metadata": {},
   "outputs": [
    {
     "data": {
      "text/plain": [
       "'SSttrriinngg'"
      ]
     },
     "execution_count": 31,
     "metadata": {},
     "output_type": "execute_result"
    }
   ],
   "source": [
    "def double_char(str):\n",
    "    \n",
    "    return ''.join([i+i for i in str])\n",
    "\n",
    "double_char('String')"
   ]
  },
  {
   "cell_type": "code",
   "execution_count": 43,
   "id": "3785dc0b",
   "metadata": {},
   "outputs": [
    {
     "data": {
      "text/plain": [
       "'HHeelllloo  WWoorrlldd!!'"
      ]
     },
     "execution_count": 43,
     "metadata": {},
     "output_type": "execute_result"
    }
   ],
   "source": [
    "double_char(\"Hello World!\")"
   ]
  },
  {
   "cell_type": "code",
   "execution_count": 92,
   "id": "d5133eb1",
   "metadata": {},
   "outputs": [
    {
     "data": {
      "text/plain": [
       "'11223344!!__  '"
      ]
     },
     "execution_count": 92,
     "metadata": {},
     "output_type": "execute_result"
    }
   ],
   "source": [
    "double_char(\"1234!_ \") "
   ]
  },
  {
   "cell_type": "markdown",
   "id": "6a06ff5b",
   "metadata": {},
   "source": [
    "# Question2\n",
    "\n",
    "Create a function that reverses a boolean value and returns the string \"boolean expected\" if another variable type is given.\n",
    "\n",
    "Examples\n",
    "\n",
    "reverse(True) ➞ False\n",
    "\n",
    "reverse(False) ➞ True\n",
    "\n",
    "reverse(0) ➞ \"boolean expected\"\n",
    "\n",
    "reverse(None) ➞ \"boolean expected\"\n"
   ]
  },
  {
   "cell_type": "markdown",
   "id": "600dc88b",
   "metadata": {},
   "source": [
    "# Answer"
   ]
  },
  {
   "cell_type": "code",
   "execution_count": 75,
   "id": "f6950117",
   "metadata": {},
   "outputs": [],
   "source": [
    "def reverse_bool(value):\n",
    "    \n",
    "    if value==True and type(value)==bool :\n",
    "        \n",
    "        return False\n",
    "    \n",
    "    \n",
    "    elif value==False and type(value)==bool:\n",
    "        \n",
    "        return True\n",
    "\n",
    "    \n",
    "    else:\n",
    "        return 'boolean expected'\n",
    "    \n"
   ]
  },
  {
   "cell_type": "code",
   "execution_count": 78,
   "id": "0f0f9c36",
   "metadata": {},
   "outputs": [
    {
     "data": {
      "text/plain": [
       "False"
      ]
     },
     "execution_count": 78,
     "metadata": {},
     "output_type": "execute_result"
    }
   ],
   "source": [
    "reverse_bool(True)"
   ]
  },
  {
   "cell_type": "code",
   "execution_count": 79,
   "id": "ff596130",
   "metadata": {},
   "outputs": [
    {
     "data": {
      "text/plain": [
       "True"
      ]
     },
     "execution_count": 79,
     "metadata": {},
     "output_type": "execute_result"
    }
   ],
   "source": [
    "reverse_bool(False)"
   ]
  },
  {
   "cell_type": "code",
   "execution_count": 80,
   "id": "8c8addda",
   "metadata": {},
   "outputs": [
    {
     "data": {
      "text/plain": [
       "'boolean expected'"
      ]
     },
     "execution_count": 80,
     "metadata": {},
     "output_type": "execute_result"
    }
   ],
   "source": [
    "reverse_bool(1)"
   ]
  },
  {
   "cell_type": "code",
   "execution_count": 81,
   "id": "f7456bd3",
   "metadata": {},
   "outputs": [
    {
     "data": {
      "text/plain": [
       "True"
      ]
     },
     "execution_count": 81,
     "metadata": {},
     "output_type": "execute_result"
    }
   ],
   "source": [
    "reverse_bool(0)"
   ]
  },
  {
   "cell_type": "code",
   "execution_count": 82,
   "id": "12450ad2",
   "metadata": {},
   "outputs": [
    {
     "data": {
      "text/plain": [
       "'boolean expected'"
      ]
     },
     "execution_count": 82,
     "metadata": {},
     "output_type": "execute_result"
    }
   ],
   "source": [
    "reverse_bool('sZDsad')"
   ]
  },
  {
   "cell_type": "markdown",
   "id": "4de72cdf",
   "metadata": {},
   "source": [
    "### Answer"
   ]
  },
  {
   "cell_type": "markdown",
   "id": "e3b1ccfc",
   "metadata": {},
   "source": [
    "# Question3"
   ]
  },
  {
   "cell_type": "raw",
   "id": "a885e208",
   "metadata": {},
   "source": [
    "Create a function that returns the thickness (in meters) of a piece of paper after folding it n number of times. The paper starts off with a thickness of 0.5mm.\n",
    "\n",
    "Examples\n",
    "\n",
    "num_layers(1) ➞ \"0.001m\"\n",
    "# Paper folded once is 1mm (equal to 0.001m)\n",
    "\n",
    "num_layers(4) ➞ \"0.008m\"\n",
    "# Paper folded 4 times is 8mm (equal to 0.008m)\n",
    "\n",
    "num_layers(21) ➞ \"1048.576m\"\n",
    "# Paper folded 21 times is 1048576mm (equal to 1048.576m)\n"
   ]
  },
  {
   "cell_type": "markdown",
   "id": "7612afd5",
   "metadata": {},
   "source": [
    "# Answer"
   ]
  },
  {
   "cell_type": "code",
   "execution_count": 136,
   "id": "f037dfc0",
   "metadata": {},
   "outputs": [],
   "source": [
    "def num_layers(a):\n",
    "    \n",
    "    thickness = 0.5\n",
    "    \n",
    "    for i in range(a):\n",
    "        \n",
    "        thickness *= 2\n",
    "    \n",
    "    # return  the thickness for mm\n",
    "    \n",
    "    return str(thickness / 1000) +\"m\"      # for meters"
   ]
  },
  {
   "cell_type": "code",
   "execution_count": 138,
   "id": "5d8f1577",
   "metadata": {},
   "outputs": [
    {
     "data": {
      "text/plain": [
       "'0.001m'"
      ]
     },
     "execution_count": 138,
     "metadata": {},
     "output_type": "execute_result"
    }
   ],
   "source": [
    "num_layers(1)"
   ]
  },
  {
   "cell_type": "code",
   "execution_count": 137,
   "id": "ebd1a486",
   "metadata": {},
   "outputs": [
    {
     "data": {
      "text/plain": [
       "'0.008m'"
      ]
     },
     "execution_count": 137,
     "metadata": {},
     "output_type": "execute_result"
    }
   ],
   "source": [
    " num_layers(4)"
   ]
  },
  {
   "cell_type": "code",
   "execution_count": 139,
   "id": "9ab793d3",
   "metadata": {},
   "outputs": [
    {
     "data": {
      "text/plain": [
       "'1048.576m'"
      ]
     },
     "execution_count": 139,
     "metadata": {},
     "output_type": "execute_result"
    }
   ],
   "source": [
    "num_layers(21)"
   ]
  },
  {
   "cell_type": "markdown",
   "id": "ce8dcc36",
   "metadata": {},
   "source": [
    "# Question4\n",
    "Create a function that takes a single string as argument and returns an ordered list containing the indices of all capital letters in the string.\n",
    "\n",
    "Examples\n",
    "\n",
    "index_of_caps(\"eDaBiT\") ➞ [1, 3, 5]\n",
    "\n",
    "index_of_caps(\"eQuINoX\") ➞ [1, 3, 4, 6]\n",
    "\n",
    "index_of_caps(\"determine\") ➞ []\n",
    "\n",
    "index_of_caps(\"STRIKE\") ➞ [0, 1, 2, 3, 4, 5]\n",
    "\n",
    "index_of_caps(\"sUn\") ➞ [1]\n"
   ]
  },
  {
   "cell_type": "markdown",
   "id": "a59cb48c",
   "metadata": {},
   "source": [
    "### Answer"
   ]
  },
  {
   "cell_type": "code",
   "execution_count": 123,
   "id": "9943553b",
   "metadata": {},
   "outputs": [],
   "source": [
    "def index_of_caps(a):\n",
    "    \n",
    "    '''a= str element, to return the index of cap letters in the str in order list form'''\n",
    "    \n",
    "    b=[]\n",
    "    \n",
    "    for i in a:\n",
    "        \n",
    "        if i==i.upper():\n",
    "            \n",
    "            b.append(a.index(i))\n",
    "            \n",
    "            b.sort()\n",
    "            \n",
    "    return b\n",
    "    \n",
    "    "
   ]
  },
  {
   "cell_type": "code",
   "execution_count": 124,
   "id": "df853f2b",
   "metadata": {},
   "outputs": [
    {
     "data": {
      "text/plain": [
       "[1, 3, 5]"
      ]
     },
     "execution_count": 124,
     "metadata": {},
     "output_type": "execute_result"
    }
   ],
   "source": [
    "index_of_caps(\"eDaBiT\")"
   ]
  },
  {
   "cell_type": "code",
   "execution_count": 125,
   "id": "12b3d41c",
   "metadata": {},
   "outputs": [
    {
     "data": {
      "text/plain": [
       "[1, 3, 4, 6]"
      ]
     },
     "execution_count": 125,
     "metadata": {},
     "output_type": "execute_result"
    }
   ],
   "source": [
    "index_of_caps(\"eQuINoX\")"
   ]
  },
  {
   "cell_type": "code",
   "execution_count": 126,
   "id": "30f86001",
   "metadata": {},
   "outputs": [
    {
     "data": {
      "text/plain": [
       "[]"
      ]
     },
     "execution_count": 126,
     "metadata": {},
     "output_type": "execute_result"
    }
   ],
   "source": [
    "index_of_caps(\"determine\")"
   ]
  },
  {
   "cell_type": "code",
   "execution_count": 127,
   "id": "6e959e07",
   "metadata": {},
   "outputs": [
    {
     "data": {
      "text/plain": [
       "[0, 1, 2, 3, 4, 5]"
      ]
     },
     "execution_count": 127,
     "metadata": {},
     "output_type": "execute_result"
    }
   ],
   "source": [
    "index_of_caps(\"STRIKE\")"
   ]
  },
  {
   "cell_type": "code",
   "execution_count": 128,
   "id": "fdecda71",
   "metadata": {},
   "outputs": [
    {
     "data": {
      "text/plain": [
       "[1]"
      ]
     },
     "execution_count": 128,
     "metadata": {},
     "output_type": "execute_result"
    }
   ],
   "source": [
    "index_of_caps(\"sUn\") "
   ]
  },
  {
   "cell_type": "markdown",
   "id": "82969ded",
   "metadata": {},
   "source": [
    "# Question5\n",
    "Using list comprehensions, create a function that finds all even numbers from 1 to the given number.\n",
    "\n",
    "Examples\n",
    "\n",
    "find_even_nums(8) ➞ [2, 4, 6, 8]\n",
    "\n",
    "find_even_nums(4) ➞ [2, 4]\n",
    "\n",
    "find_even_nums(2) ➞ [2]\n",
    "\n"
   ]
  },
  {
   "cell_type": "markdown",
   "id": "999c41a7",
   "metadata": {},
   "source": [
    "### Answer"
   ]
  },
  {
   "cell_type": "code",
   "execution_count": 88,
   "id": "ad370ade",
   "metadata": {},
   "outputs": [],
   "source": [
    "def find_even_nums(n):\n",
    "    \n",
    "    '''n = int number, to find all evens in between 1-n numbers '''\n",
    "    \n",
    "    return [i  for i in range(1,n+1)  if i%2==0 ]\n"
   ]
  },
  {
   "cell_type": "code",
   "execution_count": 89,
   "id": "89b32174",
   "metadata": {},
   "outputs": [
    {
     "data": {
      "text/plain": [
       "[2, 4, 6, 8]"
      ]
     },
     "execution_count": 89,
     "metadata": {},
     "output_type": "execute_result"
    }
   ],
   "source": [
    "find_even_nums(8)"
   ]
  },
  {
   "cell_type": "code",
   "execution_count": 90,
   "id": "a21dc5dd",
   "metadata": {},
   "outputs": [
    {
     "data": {
      "text/plain": [
       "[2, 4]"
      ]
     },
     "execution_count": 90,
     "metadata": {},
     "output_type": "execute_result"
    }
   ],
   "source": [
    "find_even_nums(4) "
   ]
  },
  {
   "cell_type": "code",
   "execution_count": 91,
   "id": "a755945d",
   "metadata": {},
   "outputs": [
    {
     "data": {
      "text/plain": [
       "[2]"
      ]
     },
     "execution_count": 91,
     "metadata": {},
     "output_type": "execute_result"
    }
   ],
   "source": [
    "find_even_nums(2)"
   ]
  }
 ],
 "metadata": {
  "kernelspec": {
   "display_name": "Python 3 (ipykernel)",
   "language": "python",
   "name": "python3"
  },
  "language_info": {
   "codemirror_mode": {
    "name": "ipython",
    "version": 3
   },
   "file_extension": ".py",
   "mimetype": "text/x-python",
   "name": "python",
   "nbconvert_exporter": "python",
   "pygments_lexer": "ipython3",
   "version": "3.9.7"
  }
 },
 "nbformat": 4,
 "nbformat_minor": 5
}
