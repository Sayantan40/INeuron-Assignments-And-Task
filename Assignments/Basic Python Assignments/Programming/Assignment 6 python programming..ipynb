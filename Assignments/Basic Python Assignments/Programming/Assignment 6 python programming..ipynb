{
 "cells": [
  {
   "cell_type": "markdown",
   "id": "10c694cc",
   "metadata": {},
   "source": [
    "# Assignment 6 python programming."
   ]
  },
  {
   "cell_type": "markdown",
   "id": "2a4a30c2",
   "metadata": {},
   "source": [
    "# 1.Write a Python Program to Display Fibonacci Sequence Using Recursion?\n"
   ]
  },
  {
   "cell_type": "markdown",
   "id": "d69cbbe2",
   "metadata": {},
   "source": [
    "## Answer"
   ]
  },
  {
   "cell_type": "code",
   "execution_count": 4,
   "id": "85a61173",
   "metadata": {},
   "outputs": [
    {
     "name": "stdout",
     "output_type": "stream",
     "text": [
      "enter a number :10\n",
      "Fibonacci sequence:\n",
      "0\n",
      "1\n",
      "1\n",
      "2\n",
      "3\n",
      "5\n",
      "8\n",
      "13\n",
      "21\n",
      "34\n"
     ]
    }
   ],
   "source": [
    "### Using recursion method to print fibonacci sequence\n",
    "\n",
    "def fibo(arg):\n",
    "    if arg <= 1:\n",
    "        return arg\n",
    "    else:\n",
    "        return fibo(arg-1) + fibo(arg-2)\n",
    "\n",
    "n_terms = int(input(\"enter a number :\"))\n",
    "\n",
    "\n",
    "if n_terms <= 0:\n",
    "    print (\"Plese enter a positive integer\")\n",
    "else:\n",
    "    print( \"Fibonacci sequence:\")\n",
    "    for i in range(n_terms):\n",
    "        print(fibo(i))"
   ]
  },
  {
   "cell_type": "markdown",
   "id": "a8a364c8",
   "metadata": {},
   "source": [
    "# 2.Write a Python Program to Find Factorial of Number Using Recursion?"
   ]
  },
  {
   "cell_type": "markdown",
   "id": "5011124f",
   "metadata": {},
   "source": [
    "## Answer"
   ]
  },
  {
   "cell_type": "code",
   "execution_count": 5,
   "id": "b369fec3",
   "metadata": {},
   "outputs": [
    {
     "name": "stdout",
     "output_type": "stream",
     "text": [
      "Enter a number: 5\n",
      "The factorial of  5 is  120\n"
     ]
    }
   ],
   "source": [
    "def factorial(x):\n",
    "    if x == 1:\n",
    "        return 1\n",
    "    else:\n",
    "        return (x * factorial(x-1))\n",
    "\n",
    "\n",
    "\n",
    "num = int(input(\"Enter a number: \"))\n",
    "\n",
    "print(\"The factorial of \",num,\"is \",factorial(num))\n",
    "\n",
    "\n"
   ]
  },
  {
   "cell_type": "markdown",
   "id": "8e096aaf",
   "metadata": {},
   "source": [
    "#  3.Write a Python Program to calculate your Body Mass Index?"
   ]
  },
  {
   "cell_type": "markdown",
   "id": "e0b16d97",
   "metadata": {},
   "source": [
    "## Answer"
   ]
  },
  {
   "cell_type": "code",
   "execution_count": 16,
   "id": "96c3291c",
   "metadata": {},
   "outputs": [
    {
     "name": "stdout",
     "output_type": "stream",
     "text": [
      "Input your height in centimeters: 155\n",
      "Input your weight in Kilogram: 87\n",
      "Your body mass index is:  36 . You are obese.\n"
     ]
    }
   ],
   "source": [
    "height = float(input(\"Input your height in centimeters: \"))\n",
    "weight = float(input(\"Input your weight in Kilogram: \"))\n",
    "BMI= round(weight / (height/100)**2)\n",
    "\n",
    "def check_BMI(arg):\n",
    "    if BMI <= 18.4:\n",
    "        return \"You are underweight.\"\n",
    "    elif BMI <= 24.9:\n",
    "        return \"You are healthy.\"\n",
    "    elif BMI <= 29.9:\n",
    "        return \"You are over weight.\"\n",
    "    elif BMI <= 34.9:\n",
    "        return \"You are severely over weight.\"\n",
    "    elif BMI <= 39.9:\n",
    "        return \"You are obese.\"\n",
    "    else:\n",
    "        return \"You are severely obese.\"\n",
    "\n",
    "\n",
    "    \n",
    "        \n",
    "    \n",
    "print(\"Your body mass index is: \",BMI,\".\",check_BMI(BMI) )"
   ]
  },
  {
   "cell_type": "markdown",
   "id": "1794e64c",
   "metadata": {},
   "source": [
    "# 4.Write a Python Program to calculate the natural logarithm of any number?"
   ]
  },
  {
   "cell_type": "markdown",
   "id": "e4be8212",
   "metadata": {},
   "source": [
    "## Answer"
   ]
  },
  {
   "cell_type": "code",
   "execution_count": 23,
   "id": "37580524",
   "metadata": {},
   "outputs": [
    {
     "name": "stdout",
     "output_type": "stream",
     "text": [
      "math.log(34) :  3.5263605246161616\n",
      "math.log(67.72) :  4.2153815572649345\n"
     ]
    }
   ],
   "source": [
    "from math import *\n",
    "print (\"math.log(34) : \",log(34))\n",
    "print (\"math.log(67.72) : \",log(67.72))\n"
   ]
  },
  {
   "cell_type": "markdown",
   "id": "f1ff358c",
   "metadata": {},
   "source": [
    "#  5.Write a Python Program for cube sum of first n natural numbers?"
   ]
  },
  {
   "cell_type": "markdown",
   "id": "13611b50",
   "metadata": {},
   "source": [
    "## Answer"
   ]
  },
  {
   "cell_type": "code",
   "execution_count": 30,
   "id": "94b79f91",
   "metadata": {},
   "outputs": [
    {
     "name": "stdout",
     "output_type": "stream",
     "text": [
      "Enter number :9\n",
      "2025\n"
     ]
    }
   ],
   "source": [
    "n=int(input(\"Enter number :\"))\n",
    "\n",
    "def sum_Of_Series(arg):\n",
    "    x = (n * (n + 1) / 2)\n",
    "    return (int(x * x))\n",
    "\n",
    "\n",
    "a=sum_Of_Series(n)\n",
    "print(a)\n",
    "\n",
    "\n"
   ]
  }
 ],
 "metadata": {
  "kernelspec": {
   "display_name": "Python 3 (ipykernel)",
   "language": "python",
   "name": "python3"
  },
  "language_info": {
   "codemirror_mode": {
    "name": "ipython",
    "version": 3
   },
   "file_extension": ".py",
   "mimetype": "text/x-python",
   "name": "python",
   "nbconvert_exporter": "python",
   "pygments_lexer": "ipython3",
   "version": "3.9.7"
  }
 },
 "nbformat": 4,
 "nbformat_minor": 5
}
