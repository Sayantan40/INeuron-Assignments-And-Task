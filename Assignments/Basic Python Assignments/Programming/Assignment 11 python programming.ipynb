{
 "cells": [
  {
   "cell_type": "markdown",
   "id": "57582615",
   "metadata": {},
   "source": [
    "# Assignment 11 python programming"
   ]
  },
  {
   "cell_type": "markdown",
   "id": "f88ec92f",
   "metadata": {},
   "source": [
    "# 1.Write a Python program to find words which are greater than given length k?"
   ]
  },
  {
   "cell_type": "markdown",
   "id": "5d46bc65",
   "metadata": {},
   "source": [
    "# Answer"
   ]
  },
  {
   "cell_type": "code",
   "execution_count": 2,
   "id": "e2a877a1",
   "metadata": {},
   "outputs": [
    {
     "name": "stdout",
     "output_type": "stream",
     "text": [
      "Enter the string : python is a great programming language\n",
      "Enter k  (value for accepting string) : 6\n",
      "All words which are greater than given length  6 are  ['programming', 'language']\n"
     ]
    }
   ],
   "source": [
    "\n",
    "# Getting input from user \n",
    "my_Str =  input('Enter the string : ')\n",
    "k = int(input('Enter k  (value for accepting string) : '))\n",
    "larger_Strings = []\n",
    "\n",
    "# Finding the words with length greater than k\n",
    "words = my_Str.split(\" \")\n",
    "for i in words:\n",
    "    if len(i) > k:\n",
    "        larger_Strings.append(i)\n",
    "\n",
    "\n",
    "print(\"All words which are greater than given length \", k, \"are \", larger_Strings)\n"
   ]
  },
  {
   "cell_type": "markdown",
   "id": "0397d7e0",
   "metadata": {},
   "source": [
    "# 2.Write a Python program for removing i-th character from a string?"
   ]
  },
  {
   "cell_type": "markdown",
   "id": "fd517955",
   "metadata": {},
   "source": [
    "# Answer"
   ]
  },
  {
   "cell_type": "code",
   "execution_count": 6,
   "id": "94f6357b",
   "metadata": {},
   "outputs": [
    {
     "name": "stdout",
     "output_type": "stream",
     "text": [
      "Dragoballz\n"
     ]
    }
   ],
   "source": [
    "\n",
    "def remove(string, i):\n",
    "    for j in range(len(string)):\n",
    "        if j == i:\n",
    "            str1 = string.replace(string[i],'')\n",
    "    return str1\n",
    "\n",
    "\n",
    "string = \"Dragonballz\"  \n",
    "i = 5                   # Remove nth index element\n",
    "print(remove(string, i))\n"
   ]
  },
  {
   "cell_type": "markdown",
   "id": "c4f6da48",
   "metadata": {},
   "source": [
    "# 3.Write a Python program to split and join a string?"
   ]
  },
  {
   "cell_type": "markdown",
   "id": "924f97b5",
   "metadata": {},
   "source": [
    "# Answer"
   ]
  },
  {
   "cell_type": "code",
   "execution_count": 16,
   "id": "f93de14a",
   "metadata": {
    "scrolled": true
   },
   "outputs": [
    {
     "name": "stdout",
     "output_type": "stream",
     "text": [
      "['You', 'are', 'my', 'friend']\n",
      "You are my friend\n"
     ]
    }
   ],
   "source": [
    "\n",
    "def split_string(string):\n",
    "    \n",
    "    list_string = string.split(' ')  # Splitting the string based on space delimiter\n",
    "    return list_string\n",
    "\n",
    "def join_string(list_string):\n",
    "    tring = '-'.join(list_string) # Joining the string based on '-' delimiter\n",
    "    return string\n",
    "\n",
    "\n",
    "string = 'You are my friend'\n",
    "\n",
    "# Splitting a string\n",
    "\n",
    "list_string = split_string(string)\n",
    "print(list_string)\n",
    "\n",
    "# Join list of strings into one\n",
    "\n",
    "new_string = join_string(list_string)\n",
    "print(new_string)\n"
   ]
  },
  {
   "cell_type": "markdown",
   "id": "7b7e42c8",
   "metadata": {},
   "source": [
    "# 4.Write a Python to check if a given string is binary string or not?"
   ]
  },
  {
   "cell_type": "markdown",
   "id": "5d9e8dc2",
   "metadata": {},
   "source": [
    "# Answer"
   ]
  },
  {
   "cell_type": "code",
   "execution_count": 22,
   "id": "3a59dcd7",
   "metadata": {},
   "outputs": [
    {
     "name": "stdout",
     "output_type": "stream",
     "text": [
      "No\n",
      "Yes\n"
     ]
    }
   ],
   "source": [
    "\n",
    "def check(string) :\n",
    "    p = set(string)\n",
    "    s = {'0', '1'}\n",
    "    if s == p or p == {'0'} or p == {'1'}:\n",
    "        print(\"Yes\")\n",
    "    else :\n",
    "            print(\"No\")\n",
    "\n",
    "\n",
    "\n",
    "\n",
    "string = \"101010000111000\"\n",
    "a='jhgjhbjkhb'\n",
    "\n",
    "Var1=check(a)\n",
    "Var2=check(string)\n",
    "\n",
    "\n"
   ]
  },
  {
   "cell_type": "markdown",
   "id": "6eeb0796",
   "metadata": {},
   "source": [
    "# 5.Write a Python program to find uncommon words from two Strings?"
   ]
  },
  {
   "cell_type": "markdown",
   "id": "a47265bb",
   "metadata": {},
   "source": [
    "# Answer"
   ]
  },
  {
   "cell_type": "code",
   "execution_count": 3,
   "id": "68766f81",
   "metadata": {},
   "outputs": [
    {
     "name": "stdout",
     "output_type": "stream",
     "text": [
      "['is', 'a', 'great']\n"
     ]
    }
   ],
   "source": [
    "def uncommon(arg1,arg2):\n",
    "    un_comm = [i for i in \"\".join(arg2).split() if i not in \"\".join(arg1).split()]\n",
    "    return un_comm\n",
    "\n",
    "\n",
    "str2 = \"Python is a great programming language\"\n",
    "str1 = \"Python programming language\"\n",
    "print(uncommon(str1, str2))\n"
   ]
  },
  {
   "cell_type": "markdown",
   "id": "d2303356",
   "metadata": {},
   "source": [
    "# 6.Write a Python to find all duplicate characters in string?"
   ]
  },
  {
   "cell_type": "markdown",
   "id": "083be9cf",
   "metadata": {},
   "source": [
    "# Answer"
   ]
  },
  {
   "cell_type": "code",
   "execution_count": 6,
   "id": "172a172b",
   "metadata": {},
   "outputs": [
    {
     "name": "stdout",
     "output_type": "stream",
     "text": [
      "['a', 'd', 's', 'h']\n"
     ]
    }
   ],
   "source": [
    "\n",
    "string = \"agdaudshaiohsad\"\n",
    "\n",
    "duplicates = [] ### empty list\n",
    "\n",
    "for char in string:\n",
    "    \n",
    "    if string.count(char) > 1:\n",
    "        \n",
    "        if char not in duplicates:\n",
    "            \n",
    "            duplicates.append(char)\n",
    "\n",
    "print(duplicates)"
   ]
  },
  {
   "cell_type": "markdown",
   "id": "ab789626",
   "metadata": {},
   "source": [
    "# 7.Write a Python Program to check if a string contains any special character?"
   ]
  },
  {
   "cell_type": "markdown",
   "id": "2647b110",
   "metadata": {},
   "source": [
    "# Answer"
   ]
  },
  {
   "cell_type": "code",
   "execution_count": 7,
   "id": "4f3f8bce",
   "metadata": {},
   "outputs": [
    {
     "name": "stdout",
     "output_type": "stream",
     "text": [
      "The string is :\n",
      "PythonInterpreter\n",
      "String contains special characters.\n"
     ]
    }
   ],
   "source": [
    "import re\n",
    "\n",
    "def check_string(my_string):\n",
    "    \n",
    "    regex = re.compile('[@_!#$%^&*()<>?/\\|}{~:]')\n",
    "    \n",
    "    if(regex.search(my_string) == None):\n",
    "        print(\"String contains special characters.\")\n",
    "    \n",
    "    else:\n",
    "        print(\"String does not contain any special character.\")\n",
    "\n",
    "my_string = \"PythonInterpreter\"\n",
    "print(\"The string is :\")\n",
    "print(my_string)\n",
    "check_string(my_string)"
   ]
  }
 ],
 "metadata": {
  "kernelspec": {
   "display_name": "Python 3 (ipykernel)",
   "language": "python",
   "name": "python3"
  },
  "language_info": {
   "codemirror_mode": {
    "name": "ipython",
    "version": 3
   },
   "file_extension": ".py",
   "mimetype": "text/x-python",
   "name": "python",
   "nbconvert_exporter": "python",
   "pygments_lexer": "ipython3",
   "version": "3.9.7"
  }
 },
 "nbformat": 4,
 "nbformat_minor": 5
}
