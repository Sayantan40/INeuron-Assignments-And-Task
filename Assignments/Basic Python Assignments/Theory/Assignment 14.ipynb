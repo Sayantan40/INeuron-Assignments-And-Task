{
 "cells": [
  {
   "cell_type": "markdown",
   "id": "7d05d52b",
   "metadata": {},
   "source": [
    "# Assignment 14"
   ]
  },
  {
   "cell_type": "markdown",
   "id": "2837c5fe",
   "metadata": {},
   "source": [
    "# 1. What does RGBA stand for?\n",
    "\n",
    " "
   ]
  },
  {
   "cell_type": "markdown",
   "id": "cbe7691b",
   "metadata": {},
   "source": [
    "## Answer\n",
    "\n",
    "### RGBA stands for R-Red, G-Green, B-Blue and A-Alpha"
   ]
  },
  {
   "cell_type": "markdown",
   "id": "5e2b41d6",
   "metadata": {},
   "source": [
    "# 2. From the Pillow module, how do you get the RGBA value of any images?\n"
   ]
  },
  {
   "cell_type": "markdown",
   "id": "4f9a22af",
   "metadata": {},
   "source": [
    "## Answer\n"
   ]
  },
  {
   "cell_type": "code",
   "execution_count": null,
   "id": "f1062cd0",
   "metadata": {},
   "outputs": [],
   "source": [
    "img = Image.open('sample.jpg') # creating object of Image\n",
    "      \n",
    "img.getpixel((320,240))        ## this line we produce the rgba value in pixel of image on coordinates 320,240"
   ]
  },
  {
   "cell_type": "markdown",
   "id": "50394cc5",
   "metadata": {},
   "source": [
    "# 3. What is a box tuple, and how does it work?\n"
   ]
  },
  {
   "cell_type": "markdown",
   "id": "63ef5d97",
   "metadata": {},
   "source": [
    "## Answer\n",
    "\n",
    "\n",
    "### Many pillow's functions and methods take a box tuple argument.\n",
    "### Box tuple argument is a tuple of four integer coordinates that represent a rectangule region in an image.\n",
    "**Left - the x- coordinate of the leftmost edge of the box.**\n",
    "\n",
    "**Top - the y- coordinate of the top edge of the box.**\n",
    "\n",
    "**Right - the x- coordinate of one pixel to the right of the rightmost edge of the box.This integer must be greater than the left integer.**\n",
    "\n",
    "**Bottom - the y - coordinate of one pixel lower than the bottom edge of the box.This integer must be greater than the top integer.**"
   ]
  },
  {
   "cell_type": "markdown",
   "id": "18e8c1c4",
   "metadata": {},
   "source": [
    "# 4. Use your image and load in notebook then, How can you find out the width and height of an Image object?\n"
   ]
  },
  {
   "cell_type": "markdown",
   "id": "9d34cc0b",
   "metadata": {},
   "source": [
    "## Answer\n",
    "\n",
    "### The below code loads the image and prints height and width of the image:-"
   ]
  },
  {
   "cell_type": "code",
   "execution_count": null,
   "id": "8f8cc940",
   "metadata": {},
   "outputs": [],
   "source": [
    "img = Image.open('c:\\\\users\\\\aniyant\\\\downloads\\\\sunny.jpg')\n",
    "        img.show()\n",
    "        print('height : ',img.height) # this line prints height of image \n",
    "        print('widht : ',img.width)    # this line prints width of image"
   ]
  },
  {
   "cell_type": "markdown",
   "id": "2445f57d",
   "metadata": {},
   "source": [
    "# 5. What method would you call to get Image object for a 100×100 image, excluding the lower-left quarter of it?\n"
   ]
  },
  {
   "cell_type": "markdown",
   "id": "07b170cf",
   "metadata": {},
   "source": [
    "## Answer\n",
    "### The below  program will produce  :-"
   ]
  },
  {
   "cell_type": "code",
   "execution_count": null,
   "id": "d52e8348",
   "metadata": {},
   "outputs": [],
   "source": [
    "from PIL import Image\n",
    "import numpy as np\t\n",
    "\n",
    "##creating new image object \n",
    "img=Image.new('RGBA', (100, 100), 'purple')\n",
    "\n",
    "img = img.convert('RGB')    ###  converting it to rgb mode color mode\n",
    "\n",
    "### Extracting the image data and  creating an numpy array out of it\n",
    "\n",
    "img_arr = np.array(img)\n",
    "\n",
    "### setting the left lower part of image to black to exclude it\n",
    "img_arr[75 : 100, 0 : 25] = (0, 0, 0)\n",
    "\n",
    "###  Creating an image out of the previously modified array\n",
    "img = Image.fromarray(img_arr)\n",
    "\n",
    "img.show()\n"
   ]
  },
  {
   "cell_type": "markdown",
   "id": "21a59abd",
   "metadata": {},
   "source": [
    "# 6. After making changes to an Image object, how could you save it as an image file?\n"
   ]
  },
  {
   "cell_type": "markdown",
   "id": "3aaa9e24",
   "metadata": {},
   "source": [
    "## Answer\n",
    "\n",
    "###  we can save the Image object using save() method of Image object."
   ]
  },
  {
   "cell_type": "markdown",
   "id": "ed601edc",
   "metadata": {},
   "source": [
    "# 7. What module contains Pillow’s shape-drawing code?\n"
   ]
  },
  {
   "cell_type": "markdown",
   "id": "3ef93eed",
   "metadata": {},
   "source": [
    "## Answer\n",
    "\n",
    "### ImageDraw module contains the Pillow's shape-drawing methods."
   ]
  },
  {
   "cell_type": "markdown",
   "id": "9947a67b",
   "metadata": {},
   "source": [
    "# 8. Image objects do not have drawing methods. What kind of object does? How do you get this kind of object"
   ]
  },
  {
   "cell_type": "markdown",
   "id": "1b26dd88",
   "metadata": {},
   "source": [
    "## Answer\n",
    "\n",
    "## For this we use Pillow’s ImageDraw module .\n",
    "\n",
    "### First, we import Image and ImageDraw. Then we create a new image, in this case, a 200×200 white image, and store the Image object in im. We pass the Image object to the ImageDraw.Draw() function to receive an ImageDraw object. This object has several methods for drawing shapes and text onto an Image object. Store the ImageDraw object in a variable like draw so you can use it easily in the following example.\n",
    "\n",
    "### the above description is as per the code below:\n",
    "\n"
   ]
  },
  {
   "cell_type": "code",
   "execution_count": null,
   "id": "f212afde",
   "metadata": {},
   "outputs": [],
   "source": [
    "from PIL import Image, ImageDraw ## importing the necessary modules \n",
    "\n",
    "img = Image.new('RGBA', (200, 200), 'white')\n",
    "\n",
    "draw = ImageDraw.Draw(img)"
   ]
  }
 ],
 "metadata": {
  "kernelspec": {
   "display_name": "Python 3 (ipykernel)",
   "language": "python",
   "name": "python3"
  },
  "language_info": {
   "codemirror_mode": {
    "name": "ipython",
    "version": 3
   },
   "file_extension": ".py",
   "mimetype": "text/x-python",
   "name": "python",
   "nbconvert_exporter": "python",
   "pygments_lexer": "ipython3",
   "version": "3.9.7"
  }
 },
 "nbformat": 4,
 "nbformat_minor": 5
}
