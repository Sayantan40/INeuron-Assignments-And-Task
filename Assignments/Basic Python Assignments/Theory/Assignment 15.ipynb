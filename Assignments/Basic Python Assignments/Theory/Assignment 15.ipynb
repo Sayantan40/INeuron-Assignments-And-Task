{
 "cells": [
  {
   "cell_type": "markdown",
   "id": "3a63477d",
   "metadata": {},
   "source": [
    "# Assignment 15"
   ]
  },
  {
   "cell_type": "markdown",
   "id": "fc22ab14",
   "metadata": {},
   "source": [
    "# 1.How many seconds are in an hour? Use the interactive interpreter as a calculator and multiply the number of seconds in a minute (60) by the number of minutes in an hour (also 60).\n",
    "\n",
    "sol. 60 \n"
   ]
  },
  {
   "cell_type": "markdown",
   "id": "08e746d6",
   "metadata": {},
   "source": [
    "## Answer\n",
    "\n",
    "### number_of_seconds = 60\n",
    "### minutes_per_hour = 60\n",
    "### seconds_per_hour = number_of_seconds * minutes_per_hour\n",
    "### seconds_per_hour =3600"
   ]
  },
  {
   "cell_type": "code",
   "execution_count": 3,
   "id": "1ea31bfb",
   "metadata": {},
   "outputs": [
    {
     "data": {
      "text/plain": [
       "3600"
      ]
     },
     "execution_count": 3,
     "metadata": {},
     "output_type": "execute_result"
    }
   ],
   "source": [
    "### In code form\n",
    "number_of_seconds = 60\n",
    "minutes_per_hour = 60\n",
    "seconds_per_hour = number_of_seconds * minutes_per_hour\n",
    "seconds_per_hour"
   ]
  },
  {
   "cell_type": "markdown",
   "id": "e7ad09bc",
   "metadata": {},
   "source": [
    "# 2. Assign the result from the previous task (seconds in an hour) to a variable called seconds_per_hour.\n"
   ]
  },
  {
   "cell_type": "markdown",
   "id": "b95d520a",
   "metadata": {},
   "source": [
    "## Answer\n",
    "\n",
    "### seconds_per_hour=3600"
   ]
  },
  {
   "cell_type": "markdown",
   "id": "9b09695d",
   "metadata": {},
   "source": [
    "# 3. How many seconds do you think there are in a day? Make use of the variables seconds per hour and minutes per hour.\n"
   ]
  },
  {
   "cell_type": "markdown",
   "id": "0094e2d7",
   "metadata": {},
   "source": [
    "## Answer\n",
    "\n",
    "### seconds_per_hour*24"
   ]
  },
  {
   "cell_type": "markdown",
   "id": "e39c2ec0",
   "metadata": {},
   "source": [
    "# 4. Calculate seconds per day again, but this time save the result in a variable called seconds_per_day\n"
   ]
  },
  {
   "cell_type": "markdown",
   "id": "96bfaf88",
   "metadata": {},
   "source": [
    "## Answer\n",
    "\n",
    "### seconds_per_day=seconds_per_hour*24\n",
    "### seconds_per_day\n",
    "### 86400"
   ]
  },
  {
   "cell_type": "code",
   "execution_count": 4,
   "id": "6ce9417e",
   "metadata": {},
   "outputs": [
    {
     "data": {
      "text/plain": [
       "86400"
      ]
     },
     "execution_count": 4,
     "metadata": {},
     "output_type": "execute_result"
    }
   ],
   "source": [
    "### In code form\n",
    "seconds_per_day=seconds_per_hour*24\n",
    "seconds_per_day"
   ]
  },
  {
   "cell_type": "markdown",
   "id": "8d82858d",
   "metadata": {},
   "source": [
    "# 5. Divide seconds_per_day by seconds_per_hour. Use floating-point (/) division.\n"
   ]
  },
  {
   "cell_type": "markdown",
   "id": "c52a0398",
   "metadata": {},
   "source": [
    "## Answer\n",
    "\n",
    "### seconds_per_day/seconds_per_hour\n",
    "### 24.0"
   ]
  },
  {
   "cell_type": "code",
   "execution_count": 5,
   "id": "e09477ec",
   "metadata": {},
   "outputs": [
    {
     "data": {
      "text/plain": [
       "24.0"
      ]
     },
     "execution_count": 5,
     "metadata": {},
     "output_type": "execute_result"
    }
   ],
   "source": [
    "seconds_per_day/seconds_per_hour"
   ]
  },
  {
   "cell_type": "markdown",
   "id": "5fbd62ee",
   "metadata": {},
   "source": [
    "# 6. Divide seconds_per_day by seconds_per_hour, using integer (//) division. Did this number agree with the floating-point value from the previous question, aside from the final .0?\n"
   ]
  },
  {
   "cell_type": "markdown",
   "id": "9848c403",
   "metadata": {},
   "source": [
    "## Answer\n",
    "### seconds_per_day//seconds_per_hour\n",
    "### 24"
   ]
  },
  {
   "cell_type": "code",
   "execution_count": 6,
   "id": "4de68f13",
   "metadata": {},
   "outputs": [
    {
     "data": {
      "text/plain": [
       "24"
      ]
     },
     "execution_count": 6,
     "metadata": {},
     "output_type": "execute_result"
    }
   ],
   "source": [
    "seconds_per_day//seconds_per_hour"
   ]
  },
  {
   "cell_type": "markdown",
   "id": "bb7dcc41",
   "metadata": {},
   "source": [
    "# 7. Write a generator, genPrimes, that returns the sequence of prime numbers on successive calls to its next() method: 2, 3, 5, 7, 11, ...\n"
   ]
  },
  {
   "cell_type": "markdown",
   "id": "2e5ac84d",
   "metadata": {},
   "source": [
    "## Answer  \n",
    "### This code below creates a generator function."
   ]
  },
  {
   "cell_type": "code",
   "execution_count": 7,
   "id": "7a1e95a2",
   "metadata": {},
   "outputs": [
    {
     "data": {
      "text/plain": [
       "2"
      ]
     },
     "execution_count": 7,
     "metadata": {},
     "output_type": "execute_result"
    }
   ],
   "source": [
    "def genPrimes():\n",
    "    \n",
    "    primes = []   # primes generated so far\n",
    "    last_num = 1      # last number tried\n",
    "    \n",
    "    while True:\n",
    "        last_num += 1\n",
    "        \n",
    "        for i in primes:\n",
    "            if last_num % i == 0:\n",
    "                break\n",
    "        \n",
    "        else:\n",
    "            primes.append(last_num)\n",
    "            yield last_num\n",
    "\n",
    "            \n",
    "Var= genPrimes()\n",
    "next(Var)\n",
    "\n",
    "\n",
    "\n"
   ]
  },
  {
   "cell_type": "code",
   "execution_count": 11,
   "id": "0329c843",
   "metadata": {},
   "outputs": [
    {
     "data": {
      "text/plain": [
       "3"
      ]
     },
     "execution_count": 11,
     "metadata": {},
     "output_type": "execute_result"
    }
   ],
   "source": [
    "next(Var)"
   ]
  },
  {
   "cell_type": "code",
   "execution_count": 12,
   "id": "54638e67",
   "metadata": {},
   "outputs": [
    {
     "data": {
      "text/plain": [
       "5"
      ]
     },
     "execution_count": 12,
     "metadata": {},
     "output_type": "execute_result"
    }
   ],
   "source": [
    "next(Var)"
   ]
  },
  {
   "cell_type": "code",
   "execution_count": 13,
   "id": "aa26f1d1",
   "metadata": {},
   "outputs": [
    {
     "data": {
      "text/plain": [
       "7"
      ]
     },
     "execution_count": 13,
     "metadata": {},
     "output_type": "execute_result"
    }
   ],
   "source": [
    "next(Var)"
   ]
  }
 ],
 "metadata": {
  "kernelspec": {
   "display_name": "Python 3 (ipykernel)",
   "language": "python",
   "name": "python3"
  },
  "language_info": {
   "codemirror_mode": {
    "name": "ipython",
    "version": 3
   },
   "file_extension": ".py",
   "mimetype": "text/x-python",
   "name": "python",
   "nbconvert_exporter": "python",
   "pygments_lexer": "ipython3",
   "version": "3.9.7"
  }
 },
 "nbformat": 4,
 "nbformat_minor": 5
}
