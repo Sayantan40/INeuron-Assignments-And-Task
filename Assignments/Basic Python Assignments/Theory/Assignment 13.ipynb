{
 "cells": [
  {
   "cell_type": "markdown",
   "id": "2da88495",
   "metadata": {},
   "source": [
    "# Assignment 13"
   ]
  },
  {
   "cell_type": "markdown",
   "id": "ce49b77c",
   "metadata": {},
   "source": [
    "# 1. What advantages do Excel spreadsheets have over CSV spreadsheets?\n"
   ]
  },
  {
   "cell_type": "markdown",
   "id": "f7e98f4f",
   "metadata": {},
   "source": [
    "## Answer"
   ]
  },
  {
   "cell_type": "markdown",
   "id": "fc3855b0",
   "metadata": {},
   "source": [
    " **CSV format is a plain text format in which values are separated by commas (Comma Separated Values), while XLS file format is an Excel Sheets binary file format which holds information about all the worksheets in a file, including both content and formatting.**\n",
    " \n",
    "**Excel spreadsheets allows to add any features it will allow where CSV spreadsheets does not allow to manipulate.**"
   ]
  },
  {
   "cell_type": "markdown",
   "id": "ee6a92ab",
   "metadata": {},
   "source": [
    "# 2.What do you pass to csv.reader() and csv.writer() to create reader and writer objects?\n"
   ]
  },
  {
   "cell_type": "markdown",
   "id": "c3f32042",
   "metadata": {},
   "source": [
    "## Answer"
   ]
  },
  {
   "cell_type": "markdown",
   "id": "385c966a",
   "metadata": {},
   "source": [
    "### The csv.reader() is used to read the file, which returns an iterable reader object.\n",
    "### The csv.writer() function returns a writer object that converts the user's data into a delimited string. \n",
    "### In both case we need pass a open csv file but one in read mode other write mode."
   ]
  },
  {
   "cell_type": "code",
   "execution_count": null,
   "id": "549aa0d6",
   "metadata": {},
   "outputs": [],
   "source": [
    "import csv\n",
    "\n",
    "with open('people.csv', 'r') as file: # Here, we have opened the people.csv file in reading mode using:\n",
    "    reader = csv.reader(file)         # Then, the csv.reader() is used to read the file, which returns an iterable reader object.\n",
    "    for row in reader:                #The reader object is then iterated using a for loop to print the contents of each row.\n",
    "          print(row)    \n",
    "        "
   ]
  },
  {
   "cell_type": "code",
   "execution_count": null,
   "id": "1db18f10",
   "metadata": {},
   "outputs": [],
   "source": [
    "import csv\n",
    "\n",
    "with open('protagonist.csv', 'w', newline='') as file: # # Here, we have opened the protagonist.csv file in writing mode using in newline:\n",
    "    writer = csv.writer(file)\n",
    "    writer.writerow([\"SN\", \"Movie\", \"Protagonist\"]) # writerow() function to write into CSV files ."
   ]
  },
  {
   "cell_type": "markdown",
   "id": "58153bec",
   "metadata": {},
   "source": [
    "# 3. What modes do File objects for reader and writer objects need to be opened in?\n"
   ]
  },
  {
   "cell_type": "markdown",
   "id": "74e656da",
   "metadata": {},
   "source": [
    "## Answer"
   ]
  },
  {
   "cell_type": "markdown",
   "id": "f1248dd8",
   "metadata": {},
   "source": [
    "### Reading mode 'r' and writing mode 'w'\n",
    "\n",
    "with open('people.csv', 'r') as file: # we have opened the people.csv file in reading mode using:\n",
    "\n",
    "with open('protagonist.csv', 'w', newline='')  # Here, we have opened the protagonist.csv file in writing mode using in newline:\n"
   ]
  },
  {
   "cell_type": "markdown",
   "id": "c83848ee",
   "metadata": {},
   "source": [
    "# 4. What method takes a list argument and writes it to a CSV file?\n"
   ]
  },
  {
   "cell_type": "markdown",
   "id": "87c664e3",
   "metadata": {},
   "source": [
    "## Answer\n",
    "\n",
    "### csv.writer() method takes a list argument and writes it to a CSV file. \n",
    "### OR specifically  csv.writer().writerow() , csv.writer().writerows() ."
   ]
  },
  {
   "cell_type": "markdown",
   "id": "68d2c018",
   "metadata": {},
   "source": [
    "# 5. What do the keyword arguments delimiter and line terminator do?\n"
   ]
  },
  {
   "cell_type": "markdown",
   "id": "d5ff582e",
   "metadata": {},
   "source": [
    "## Answer\n",
    "\n",
    "### The delimiter is the character that appears between cells on a row. By default, the delimiter for a CSV file is a comma.The line terminator is the character that comes at the end of a row. By default, the line terminator is a newline. You can change characters to different values by using the delimiter and lineterminator keyword arguments with csv. writer() "
   ]
  },
  {
   "cell_type": "markdown",
   "id": "06a21821",
   "metadata": {},
   "source": [
    "# 6. What function takes a string of JSON data and returns a Python data structure?\n"
   ]
  },
  {
   "cell_type": "markdown",
   "id": "1f4e370d",
   "metadata": {},
   "source": [
    "## Answer\n",
    "\n",
    "### json.loads()  function takes a string of JSON data and returns a Python data structure."
   ]
  },
  {
   "cell_type": "markdown",
   "id": "466c3309",
   "metadata": {},
   "source": [
    "# 7. What function takes a Python data structure and returns a string of JSON data?\n"
   ]
  },
  {
   "cell_type": "markdown",
   "id": "77d89493",
   "metadata": {},
   "source": [
    "## Answer\n",
    "\n",
    "### json.dumps() method/function takes a Python data structure and returns a string of JSON data. "
   ]
  }
 ],
 "metadata": {
  "kernelspec": {
   "display_name": "Python 3 (ipykernel)",
   "language": "python",
   "name": "python3"
  },
  "language_info": {
   "codemirror_mode": {
    "name": "ipython",
    "version": 3
   },
   "file_extension": ".py",
   "mimetype": "text/x-python",
   "name": "python",
   "nbconvert_exporter": "python",
   "pygments_lexer": "ipython3",
   "version": "3.9.7"
  }
 },
 "nbformat": 4,
 "nbformat_minor": 5
}
