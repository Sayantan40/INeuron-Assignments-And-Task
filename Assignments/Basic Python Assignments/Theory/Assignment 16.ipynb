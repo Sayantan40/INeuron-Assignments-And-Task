{
 "cells": [
  {
   "cell_type": "markdown",
   "id": "94d44426",
   "metadata": {},
   "source": [
    "# Assignment 16"
   ]
  },
  {
   "cell_type": "markdown",
   "id": "5eddc5f4",
   "metadata": {},
   "source": [
    "# 1. Create a list called years_list, starting with the year of your birth, and each year thereafter until the year of your fifth birthday. For example, if you were born in 1980. the list would be years_list = [1980, 1981, 1982, 1983, 1984, 1985].\n"
   ]
  },
  {
   "cell_type": "markdown",
   "id": "7b522c4b",
   "metadata": {},
   "source": [
    "## Answer\n",
    "### year_list=[1996,1997,1998,1999,2000,2001]"
   ]
  },
  {
   "cell_type": "code",
   "execution_count": 1,
   "id": "5dd356df",
   "metadata": {},
   "outputs": [],
   "source": [
    "year_list=[1996,1997,1998,1999,2000,2001]"
   ]
  },
  {
   "cell_type": "markdown",
   "id": "bb4a7bfc",
   "metadata": {},
   "source": [
    "# 2. In which year in years_list was your third birthday? Remember, you were 0 years of age for your first year.\n"
   ]
  },
  {
   "cell_type": "markdown",
   "id": "80294638",
   "metadata": {},
   "source": [
    "## Answer\n",
    "### year_list[2]\n",
    "### 1998"
   ]
  },
  {
   "cell_type": "code",
   "execution_count": 2,
   "id": "b4769df9",
   "metadata": {},
   "outputs": [
    {
     "data": {
      "text/plain": [
       "1998"
      ]
     },
     "execution_count": 2,
     "metadata": {},
     "output_type": "execute_result"
    }
   ],
   "source": [
    "year_list[2]"
   ]
  },
  {
   "cell_type": "markdown",
   "id": "097f653e",
   "metadata": {},
   "source": [
    "# 3.In the years list, which year were you the oldest?\n"
   ]
  },
  {
   "cell_type": "markdown",
   "id": "ac8acbbe",
   "metadata": {},
   "source": [
    "## Answer\n",
    "### years_list[-1]\n",
    "### 2001"
   ]
  },
  {
   "cell_type": "code",
   "execution_count": 4,
   "id": "39e8e6f8",
   "metadata": {},
   "outputs": [
    {
     "data": {
      "text/plain": [
       "2001"
      ]
     },
     "execution_count": 4,
     "metadata": {},
     "output_type": "execute_result"
    }
   ],
   "source": [
    "year_list[-1]"
   ]
  },
  {
   "cell_type": "markdown",
   "id": "c638ae2a",
   "metadata": {},
   "source": [
    "# 4. Make a list called things with these three strings as elements: \"mozzarella\", \"cinderella\", \"salmonella\".\n"
   ]
  },
  {
   "cell_type": "markdown",
   "id": "60d2725e",
   "metadata": {},
   "source": [
    "## Answer\n",
    "###  things = ['mozzarella','cindrella','salmonella']"
   ]
  },
  {
   "cell_type": "code",
   "execution_count": 5,
   "id": "150fb8dc",
   "metadata": {},
   "outputs": [],
   "source": [
    " things = ['mozzarella','cindrella','salmonella']"
   ]
  },
  {
   "cell_type": "markdown",
   "id": "7168e062",
   "metadata": {},
   "source": [
    "# 5. Capitalize the element in things that refers to a person and then print the list. Did it change the element in the list?\n"
   ]
  },
  {
   "cell_type": "markdown",
   "id": "0a344dff",
   "metadata": {},
   "source": [
    "## Answer"
   ]
  },
  {
   "cell_type": "code",
   "execution_count": 11,
   "id": "fc9681b2",
   "metadata": {},
   "outputs": [
    {
     "name": "stdout",
     "output_type": "stream",
     "text": [
      "['Mozzarella', 'Cindrella', 'Salmonella']\n"
     ]
    }
   ],
   "source": [
    "things = ['mozzarella','cindrella','salmonella']\n",
    "things = [i.capitalize() for i in things]\n",
    "print(things)\n",
    "\n",
    "## Yes it did."
   ]
  },
  {
   "cell_type": "markdown",
   "id": "4dfdc096",
   "metadata": {},
   "source": [
    "# 6. Make a surprise list with the elements \"Groucho,\" \"Chico,\" and \"Harpo.\"\n"
   ]
  },
  {
   "cell_type": "markdown",
   "id": "eb12e7ba",
   "metadata": {},
   "source": [
    "## Answer\n",
    "\n",
    "### surprise = ['Groucho','Chico','Harpo']"
   ]
  },
  {
   "cell_type": "code",
   "execution_count": 14,
   "id": "17912455",
   "metadata": {},
   "outputs": [],
   "source": [
    "surprise = ['Groucho','Chico','Harpo']"
   ]
  },
  {
   "cell_type": "markdown",
   "id": "2acb91e8",
   "metadata": {},
   "source": [
    "# 7. Lowercase the last element of the surprise list, reverse it, and then capitalize it.\n"
   ]
  },
  {
   "cell_type": "markdown",
   "id": "97962de3",
   "metadata": {},
   "source": [
    "## Answer"
   ]
  },
  {
   "cell_type": "code",
   "execution_count": 32,
   "id": "92a0236c",
   "metadata": {},
   "outputs": [
    {
     "name": "stdout",
     "output_type": "stream",
     "text": [
      "['Groucho', 'Chico', 'Oprah']\n"
     ]
    }
   ],
   "source": [
    "Var1 = surprise[-1]           # last element\n",
    "Var2 = Var1.lower()           # lowering the last element\n",
    "Var3 = list(Var2)             # passing string to list\n",
    "Var3.reverse() \n",
    "Var4 = ''.join(Var3)          #after reversing converting to string\n",
    "Var5 = Var4.capitalize()      # capitalizing the element\n",
    "surprise[-1] = Var5           # saving the element into surprise last element place\n",
    "    \n",
    "print(surprise)               #this print the list"
   ]
  },
  {
   "cell_type": "markdown",
   "id": "914f6445",
   "metadata": {},
   "source": [
    "# 8. Make an English-to-French dictionary called e2f and print it. Here are your starter words: dog is chien, cat is chat, and walrus is morse.\n"
   ]
  },
  {
   "cell_type": "markdown",
   "id": "4a2ced6f",
   "metadata": {},
   "source": [
    "## Answer"
   ]
  },
  {
   "cell_type": "code",
   "execution_count": 37,
   "id": "57f43b11",
   "metadata": {},
   "outputs": [
    {
     "data": {
      "text/plain": [
       "{'dog': 'chien', 'cat': 'chat', 'walrus': 'morse'}"
      ]
     },
     "execution_count": 37,
     "metadata": {},
     "output_type": "execute_result"
    }
   ],
   "source": [
    "e2f = {\n",
    "        'dog' : 'chien',\n",
    "        'cat' : 'chat',\n",
    "        'walrus' :'morse'\n",
    "      }\n",
    "\n",
    "e2f"
   ]
  },
  {
   "cell_type": "markdown",
   "id": "14663428",
   "metadata": {},
   "source": [
    "# 9. Write the French word for walrus in your three-word dictionary e2f.\n"
   ]
  },
  {
   "cell_type": "markdown",
   "id": "a52be024",
   "metadata": {},
   "source": [
    "## Answer"
   ]
  },
  {
   "cell_type": "code",
   "execution_count": 43,
   "id": "9e96342e",
   "metadata": {},
   "outputs": [
    {
     "name": "stdout",
     "output_type": "stream",
     "text": [
      "walrus will fetch morse which is the french word\n"
     ]
    }
   ],
   "source": [
    "e2f['walrus']\n",
    "print('walrus will fetch '+ str(e2f['walrus'])+ ' which is the french word')"
   ]
  },
  {
   "cell_type": "markdown",
   "id": "e2f6c012",
   "metadata": {},
   "source": [
    "# 10. Make a French-to-English dictionary called f2e from e2f. Use the items method.\n"
   ]
  },
  {
   "cell_type": "markdown",
   "id": "d918d046",
   "metadata": {},
   "source": [
    "## Answer"
   ]
  },
  {
   "cell_type": "code",
   "execution_count": 41,
   "id": "0a661ca2",
   "metadata": {},
   "outputs": [
    {
     "name": "stdout",
     "output_type": "stream",
     "text": [
      "{'chien': 'dog', 'chat': 'cat', 'morse': 'walrus'}\n"
     ]
    }
   ],
   "source": [
    "f2e = {}                      ##  empty dict\n",
    "\n",
    "for key,value in e2f.items():  \n",
    "    f2e[value] = key          ### setting values\n",
    "\n",
    "print(f2e)                   ### printing new dict"
   ]
  },
  {
   "cell_type": "markdown",
   "id": "834bf0f1",
   "metadata": {},
   "source": [
    "# 11. Print the English version of the French word chien using f2e.\n"
   ]
  },
  {
   "cell_type": "markdown",
   "id": "9cccafe5",
   "metadata": {},
   "source": [
    "## Answer"
   ]
  },
  {
   "cell_type": "code",
   "execution_count": 42,
   "id": "00f4fb26",
   "metadata": {},
   "outputs": [
    {
     "name": "stdout",
     "output_type": "stream",
     "text": [
      "English version of the French word chien dog\n"
     ]
    }
   ],
   "source": [
    "print('English version of the French word chien ' + f2e['chien'])"
   ]
  },
  {
   "cell_type": "markdown",
   "id": "bf7dab42",
   "metadata": {},
   "source": [
    "# 12. Make and print a set of English words from the keys in e2f.\n"
   ]
  },
  {
   "cell_type": "markdown",
   "id": "f2ece7c2",
   "metadata": {},
   "source": [
    "## Answer"
   ]
  },
  {
   "cell_type": "code",
   "execution_count": 47,
   "id": "b687c7e0",
   "metadata": {},
   "outputs": [
    {
     "name": "stdout",
     "output_type": "stream",
     "text": [
      "{'dog', 'cat', 'walrus'}\n"
     ]
    }
   ],
   "source": [
    "var=[]\n",
    "\n",
    "for elements in e2f.keys():\n",
    "    var.append(elements)  ### appending to the empty list var\n",
    "    \n",
    "print(set(var))  ## type casting list 2 set.\n",
    "    \n",
    "          "
   ]
  },
  {
   "cell_type": "markdown",
   "id": "6102e007",
   "metadata": {},
   "source": [
    "# 13. Make a multilevel dictionary called life. Use these strings for the topmost keys: 'animals', 'plants', and 'other'. Make the 'animals' key refer to another dictionary with the keys 'cats', 'octopi', and 'emus'. Make the 'cats' key refer to a list of strings with the values 'Henri', 'Grumpy', and 'Lucy'. Make all the other keys refer to empty dictionaries.\n"
   ]
  },
  {
   "cell_type": "markdown",
   "id": "0d699605",
   "metadata": {},
   "source": [
    "## Answer"
   ]
  },
  {
   "cell_type": "code",
   "execution_count": 51,
   "id": "6c5d6ce7",
   "metadata": {},
   "outputs": [
    {
     "data": {
      "text/plain": [
       "{'animals': {'cats': ['Henri', 'Grumpy', 'Lucy'], 'octopi': {}, 'emus': {}},\n",
       " 'plants': {},\n",
       " 'other': {}}"
      ]
     },
     "execution_count": 51,
     "metadata": {},
     "output_type": "execute_result"
    }
   ],
   "source": [
    "life =  {\n",
    "    \n",
    "         'animals' :  {\n",
    "                         'cats' : ['Henri','Grumpy','Lucy'],\n",
    "                         'octopi':{},\n",
    "                         'emus': {}\n",
    "                      },\n",
    "    \n",
    "        'plants' :{},\n",
    "        'other' : {}\n",
    "\n",
    "        \n",
    "        }\n",
    "\n",
    "life"
   ]
  },
  {
   "cell_type": "markdown",
   "id": "dd34f930",
   "metadata": {},
   "source": [
    "# 14. Print the top-level keys of life.\n"
   ]
  },
  {
   "cell_type": "markdown",
   "id": "0d7b917a",
   "metadata": {},
   "source": [
    "## Answer\n",
    "\n",
    "### life.keys() will print top level keys"
   ]
  },
  {
   "cell_type": "code",
   "execution_count": 52,
   "id": "bc1a5b46",
   "metadata": {},
   "outputs": [
    {
     "data": {
      "text/plain": [
       "dict_keys(['animals', 'plants', 'other'])"
      ]
     },
     "execution_count": 52,
     "metadata": {},
     "output_type": "execute_result"
    }
   ],
   "source": [
    "life.keys()"
   ]
  },
  {
   "cell_type": "markdown",
   "id": "705024d9",
   "metadata": {},
   "source": [
    "# 15. Print the keys for life['animals'].\n"
   ]
  },
  {
   "cell_type": "markdown",
   "id": "862ddac7",
   "metadata": {},
   "source": [
    "## Answer"
   ]
  },
  {
   "cell_type": "code",
   "execution_count": 53,
   "id": "a8ed0afb",
   "metadata": {},
   "outputs": [
    {
     "data": {
      "text/plain": [
       "dict_keys(['cats', 'octopi', 'emus'])"
      ]
     },
     "execution_count": 53,
     "metadata": {},
     "output_type": "execute_result"
    }
   ],
   "source": [
    "life['animals'].keys()"
   ]
  },
  {
   "cell_type": "markdown",
   "id": "896c7ed2",
   "metadata": {},
   "source": [
    "# 16. Print the values for life['animals']['cats']\n"
   ]
  },
  {
   "cell_type": "markdown",
   "id": "e78f73c4",
   "metadata": {},
   "source": [
    "## Answer\n",
    "\n",
    "### life['animals']['cats'] will print the cats values."
   ]
  },
  {
   "cell_type": "code",
   "execution_count": 54,
   "id": "65fd01ad",
   "metadata": {},
   "outputs": [
    {
     "data": {
      "text/plain": [
       "['Henri', 'Grumpy', 'Lucy']"
      ]
     },
     "execution_count": 54,
     "metadata": {},
     "output_type": "execute_result"
    }
   ],
   "source": [
    "life['animals']['cats']"
   ]
  }
 ],
 "metadata": {
  "kernelspec": {
   "display_name": "Python 3 (ipykernel)",
   "language": "python",
   "name": "python3"
  },
  "language_info": {
   "codemirror_mode": {
    "name": "ipython",
    "version": 3
   },
   "file_extension": ".py",
   "mimetype": "text/x-python",
   "name": "python",
   "nbconvert_exporter": "python",
   "pygments_lexer": "ipython3",
   "version": "3.9.7"
  }
 },
 "nbformat": 4,
 "nbformat_minor": 5
}
