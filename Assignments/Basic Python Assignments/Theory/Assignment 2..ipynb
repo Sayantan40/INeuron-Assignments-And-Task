{
 "cells": [
  {
   "cell_type": "markdown",
   "id": "877b718b",
   "metadata": {},
   "source": [
    "# ASSIGNMENT 2."
   ]
  },
  {
   "cell_type": "markdown",
   "id": "a1d3ac44",
   "metadata": {},
   "source": [
    "# 1.What are the two values of the Boolean data type? How do you write them?"
   ]
  },
  {
   "cell_type": "markdown",
   "id": "c04958e3",
   "metadata": {},
   "source": [
    "## Answer\n",
    "\n",
    "The two possible values Boolean data type: True and False.\n",
    "Can write as (5 > 4) or (3 == 5),not (5 > 4) etc\n",
    "\n"
   ]
  },
  {
   "cell_type": "code",
   "execution_count": 22,
   "id": "dc3a20fc",
   "metadata": {},
   "outputs": [
    {
     "data": {
      "text/plain": [
       "False"
      ]
     },
     "execution_count": 22,
     "metadata": {},
     "output_type": "execute_result"
    }
   ],
   "source": [
    "not (5 > 4)"
   ]
  },
  {
   "cell_type": "code",
   "execution_count": 24,
   "id": "b76c8bb8",
   "metadata": {},
   "outputs": [
    {
     "data": {
      "text/plain": [
       "True"
      ]
     },
     "execution_count": 24,
     "metadata": {},
     "output_type": "execute_result"
    }
   ],
   "source": [
    " (5 > 4) or (3 == 5)"
   ]
  },
  {
   "cell_type": "markdown",
   "id": "a7195b2d",
   "metadata": {},
   "source": [
    "# 2. What are the three different types of Boolean operators?"
   ]
  },
  {
   "cell_type": "markdown",
   "id": "eebc4be0",
   "metadata": {},
   "source": [
    "## Answer\n",
    "\n",
    "The three basic boolean operators are: AND, OR, and NOT."
   ]
  },
  {
   "cell_type": "markdown",
   "id": "d4667103",
   "metadata": {},
   "source": [
    "# 3. Make a list of each Boolean operator's truth tables (i.e. every possible combination of Boolean values for the operator and what it evaluate )."
   ]
  },
  {
   "cell_type": "markdown",
   "id": "3d3cc605",
   "metadata": {},
   "source": [
    "## Answer"
   ]
  },
  {
   "cell_type": "markdown",
   "id": "a6d6afb6",
   "metadata": {},
   "source": [
    "\n",
    "Keep in mind\n",
    "\n",
    "True=1\n",
    "\n",
    "False=0\n",
    "\n",
    "\n",
    "Truth Table 1.\n",
    "\n",
    "boolean for  AND operator truth table A,B,Q\n",
    "\n",
    "0\t0\t0\n",
    "\n",
    "0\t1\t0\n",
    "\n",
    "1\t0\t0\n",
    "\n",
    "1\t1\t1\n",
    "\n",
    "Boolean Expression Q = A.B\tRead as A AND B gives Q\n",
    "\n",
    "\n",
    "Truth Table 2.\n",
    "\n",
    "boolean for  OR operator truth table A,B,Q\n",
    "\n",
    "A\tB\tQ\n",
    "\n",
    "0\t0\t0\n",
    "\n",
    "0\t1\t1\n",
    "\n",
    "1\t0\t1\n",
    "\n",
    "1\t1\t1\n",
    "\n",
    "Boolean Expression Q = A+B\tRead as A OR B gives Q\n",
    "\n",
    "\n",
    "\n",
    "Truth Table 3.\n",
    "\n",
    "boolean for  NOT operator truth table A,Q\n",
    "\n",
    "A\tQ\n",
    "\n",
    "0\t1\n",
    "\n",
    "1\t0\n",
    "\n",
    "Boolean Expression Q = NOT A or A\tRead as inversion of A gives Q\n"
   ]
  },
  {
   "cell_type": "markdown",
   "id": "1011e8e7",
   "metadata": {},
   "source": [
    "# 4. What are the values of the following expressions?\n",
    "(5 > 4) and (3 == 5)\n",
    "\n",
    "not (5 > 4)\n",
    "\n",
    "(5 > 4) or (3 == 5)\n",
    "\n",
    "not ((5 > 4) or (3 == 5))\n",
    "\n",
    "(True and True) and (True == False)\n",
    "\n",
    "(not False) or (not True)\n"
   ]
  },
  {
   "cell_type": "code",
   "execution_count": 5,
   "id": "962b9b9f",
   "metadata": {},
   "outputs": [
    {
     "name": "stdout",
     "output_type": "stream",
     "text": [
      "Answer\n",
      "(5 > 4) and (3 == 5) = False\n",
      "not (5 > 4) = False\n",
      "(5 > 4) or (3 == 5) = True\n",
      "not ((5 > 4) or (3 == 5)) = False\n",
      "(True and True) and (True == False) = False\n",
      "(not False) or (not True) = True\n"
     ]
    }
   ],
   "source": [
    "### Answer \n",
    "print(\"Answer\")\n",
    "\n",
    "print(\"(5 > 4) and (3 == 5) =\",(5 > 4) and (3 == 5) )\n",
    "\n",
    "print(\"not (5 > 4) =\",not (5 > 4))\n",
    "\n",
    "print(\"(5 > 4) or (3 == 5) =\",(5 > 4) or (3 == 5))\n",
    "\n",
    "print(\"not ((5 > 4) or (3 == 5)) =\",not ((5 > 4) or (3 == 5)))\n",
    "\n",
    "print('(True and True) and (True == False) =',(True and True) and (True == False))\n",
    "\n",
    "print('(not False) or (not True) =',(not False) or (not True))\n"
   ]
  },
  {
   "cell_type": "markdown",
   "id": "cc54d3e8",
   "metadata": {},
   "source": [
    "# 5. What are the six comparison operators?"
   ]
  },
  {
   "cell_type": "markdown",
   "id": "e66e0688",
   "metadata": {},
   "source": [
    "## Answer\n",
    "\n",
    "Python has six comparison operators, which are as follows:\n",
    "\n",
    "1.Less than ( < )\n",
    "\n",
    "2.Less than or equal to ( <= )\n",
    "\n",
    "3.Greater than ( > )\n",
    "\n",
    "4.Greater than or equal to ( >= )\n",
    "\n",
    "5.Equal to ( == )\n",
    "\n",
    "6.Not equal to ( != )"
   ]
  },
  {
   "cell_type": "markdown",
   "id": "a300ab15",
   "metadata": {},
   "source": [
    "# 6. How do you tell the difference between the equal to and assignment operators?Describe a condition and when you would use one."
   ]
  },
  {
   "cell_type": "markdown",
   "id": "bc045268",
   "metadata": {},
   "source": [
    "## Answer\n",
    "\n",
    "1. = An assignment operator is used for assigning the value to a variable.\n",
    "\n",
    "2. == (Equal to) A comparison operator is used for comparing two values. It returns 1(True) if both the values are equal otherwise returns 0(False).\n",
    "\n",
    "\n"
   ]
  },
  {
   "cell_type": "code",
   "execution_count": 20,
   "id": "866fce46",
   "metadata": {},
   "outputs": [
    {
     "name": "stdout",
     "output_type": "stream",
     "text": [
      "True\n"
     ]
    }
   ],
   "source": [
    "a=5  ## Assignment operator used to assign value 5 to variable a\n",
    "if a==5: ## equal to used check and compare th two values \n",
    "    print(\"True\")"
   ]
  },
  {
   "cell_type": "markdown",
   "id": "a47bbc50",
   "metadata": {},
   "source": [
    "# 7. Identify the three blocks in this code:\n",
    "spam = 0\n",
    "\n",
    "if spam == 10:\n",
    "\n",
    "print('eggs')\n",
    "\n",
    "if spam > 5:\n",
    "\n",
    "print('bacon')\n",
    "\n",
    "else:\n",
    "\n",
    "print('ham')\n",
    "\n",
    "print('spam')\n",
    "\n",
    "print('spam'\n"
   ]
  },
  {
   "cell_type": "markdown",
   "id": "79720109",
   "metadata": {},
   "source": [
    "## Answer \n",
    "\n",
    "spam = 0\n",
    "\n",
    "if spam == 10: first block/Indentationerror. Reason should be inside if statement. \n",
    "\n",
    "print('eggs')\n",
    "\n",
    "if spam > 5: second block/Indentationerror.Reason should be inside if statement.\n",
    "\n",
    "print('bacon') \n",
    "\n",
    "else: Third block/Indentationerror.Reason should be inside else statement.\n",
    "\n",
    "print('ham')\n",
    "\n",
    "print('spam')\n",
    "\n",
    "print('spam')"
   ]
  },
  {
   "cell_type": "code",
   "execution_count": 14,
   "id": "8a63abd1",
   "metadata": {},
   "outputs": [
    {
     "name": "stdout",
     "output_type": "stream",
     "text": [
      "ham\n",
      "spam\n",
      "spam\n"
     ]
    }
   ],
   "source": [
    "### Fixed code.\n",
    "spam = 0\n",
    "\n",
    "if spam == 10:\n",
    "    print('eggs')\n",
    "    \n",
    "if spam > 5:\n",
    "    print('bacon')\n",
    "\n",
    "else:\n",
    "    print('ham')\n",
    "    print('spam')\n",
    "    print('spam')\n"
   ]
  },
  {
   "cell_type": "markdown",
   "id": "78b76658",
   "metadata": {},
   "source": [
    "# 8. Write code that prints Hello if 1 is stored in spam, prints Howdy if 2 is stored in spam, and prints Greetings! if anything else is stored in spam."
   ]
  },
  {
   "cell_type": "markdown",
   "id": "39dfc899",
   "metadata": {},
   "source": [
    "## Answer"
   ]
  },
  {
   "cell_type": "code",
   "execution_count": 4,
   "id": "111002a2",
   "metadata": {},
   "outputs": [
    {
     "name": "stdout",
     "output_type": "stream",
     "text": [
      "Enter 1 or 2 =2\n",
      "Howdy\n"
     ]
    }
   ],
   "source": [
    "###Code\n",
    "\n",
    "spam=int(input(\"Enter 1 or 2 =\"))\n",
    "\n",
    "if spam==1:\n",
    "    print(\"Hello\")\n",
    "elif spam==2:\n",
    "    print(\"Howdy\")\n",
    "else :\n",
    "    print(\"Greetings\")"
   ]
  },
  {
   "cell_type": "markdown",
   "id": "8ecf0084",
   "metadata": {},
   "source": [
    "# 9.If your programme is stuck in an endless loop, what keys you’ll press?"
   ]
  },
  {
   "cell_type": "markdown",
   "id": "62780266",
   "metadata": {},
   "source": [
    "## Answer\n",
    "\n",
    "We can stop  an infinite loop using  CTRL + C ."
   ]
  },
  {
   "cell_type": "markdown",
   "id": "e7e84d93",
   "metadata": {},
   "source": [
    "# 10. How can you tell the difference between break and continue?"
   ]
  },
  {
   "cell_type": "markdown",
   "id": "b0e07311",
   "metadata": {},
   "source": [
    "## Answer\n",
    "\n",
    "In python break  eliminates the execution of remaining iteration of a loop and executes the statements after the loop.Break completely exits the loop.\n",
    "\n",
    "In python terminate only the current iteration of loop and executes with the next value in the loop.Continue skips the statements after the continue statement and keeps looping."
   ]
  },
  {
   "cell_type": "markdown",
   "id": "336bf029",
   "metadata": {},
   "source": [
    "# 11. In a for loop, what is the difference between range(10), range(0, 10), and range(0, 10, 1)?"
   ]
  },
  {
   "cell_type": "markdown",
   "id": "2b9aa4a7",
   "metadata": {},
   "source": [
    "## Answer \n",
    "\n",
    "range(start,stop,step)\n",
    "\n",
    "range(10) will give a sequence  having value from 0-9,[0,1,2,3,4,5,6,7,8,9] and since the start is not mentioned/specified so by default it takes start as 0\n",
    "\n",
    "range(0,10) will give sequence having value from 0-9,[0,1,2,3,4,5,6,7,8,9] Here start is mentioned/specified as 0.\n",
    "\n",
    "range(0,10,1)  will give sequence having value from 0-9,[0,1,2,3,4,5,6,7,8,9], having a step or incrementation by default it takes 1 but here it is mentioned/specified as 1 \n"
   ]
  },
  {
   "cell_type": "markdown",
   "id": "0abd6f36",
   "metadata": {},
   "source": [
    "# 12. Write a short program that prints the numbers 1 to 10 using a for loop. Then write an equivalent program that prints the numbers 1 to 10 using a while loop."
   ]
  },
  {
   "cell_type": "markdown",
   "id": "000eff59",
   "metadata": {},
   "source": [
    "## Answer"
   ]
  },
  {
   "cell_type": "code",
   "execution_count": 32,
   "id": "dee8ed56",
   "metadata": {},
   "outputs": [
    {
     "name": "stdout",
     "output_type": "stream",
     "text": [
      "12345678910"
     ]
    }
   ],
   "source": [
    "### Answer\n",
    "\n",
    "### 1st part\n",
    "for i in range(1,11):\n",
    "    print(i,end='')\n",
    "    \n",
    "\n"
   ]
  },
  {
   "cell_type": "code",
   "execution_count": 37,
   "id": "3a91968d",
   "metadata": {},
   "outputs": [
    {
     "name": "stdout",
     "output_type": "stream",
     "text": [
      "12345678910"
     ]
    }
   ],
   "source": [
    "### 2nd part\n",
    "\n",
    "a=0\n",
    "while a <10:\n",
    "    a+=1\n",
    "    print(a,end='')\n"
   ]
  },
  {
   "cell_type": "markdown",
   "id": "ad680187",
   "metadata": {},
   "source": [
    "# 13. If you had a function named bacon() inside a module named spam, how would you call it after importing spam?"
   ]
  },
  {
   "cell_type": "markdown",
   "id": "961134c4",
   "metadata": {},
   "source": [
    "# Answer\n",
    "\n",
    "import spam as sp\n",
    "\n",
    "var=sp.bacon()\n",
    "\n",
    "print(var)\n",
    "\n",
    "OR\n",
    "\n",
    "from spam import *\n",
    "\n",
    "var=bacon()\n",
    "\n",
    "print(var)\n"
   ]
  }
 ],
 "metadata": {
  "kernelspec": {
   "display_name": "Python 3 (ipykernel)",
   "language": "python",
   "name": "python3"
  },
  "language_info": {
   "codemirror_mode": {
    "name": "ipython",
    "version": 3
   },
   "file_extension": ".py",
   "mimetype": "text/x-python",
   "name": "python",
   "nbconvert_exporter": "python",
   "pygments_lexer": "ipython3",
   "version": "3.9.7"
  }
 },
 "nbformat": 4,
 "nbformat_minor": 5
}
