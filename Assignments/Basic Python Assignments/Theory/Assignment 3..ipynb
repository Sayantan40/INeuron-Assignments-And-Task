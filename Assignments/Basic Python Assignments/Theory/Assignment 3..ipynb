{
 "cells": [
  {
   "cell_type": "markdown",
   "id": "67019bed",
   "metadata": {},
   "source": [
    "# ASSIGNMENT 3."
   ]
  },
  {
   "cell_type": "markdown",
   "id": "25b12cf7",
   "metadata": {},
   "source": [
    "# 1. Why are functions advantageous to have in your programs?"
   ]
  },
  {
   "cell_type": "markdown",
   "id": "d5844cfc",
   "metadata": {},
   "source": [
    "## Answer\n",
    "\n",
    "**The advantages of functions are:**\n",
    "\n",
    "1.Reducing duplication of code.\n",
    "\n",
    "2.Decomposing complex problems into simpler pieces.\n",
    "\n",
    "3.Improving clarity of the code.\n",
    "\n",
    "4.Reuse of code.\n",
    "\n",
    "5.Information hiding.\n",
    "\n"
   ]
  },
  {
   "cell_type": "markdown",
   "id": "24215ccd",
   "metadata": {},
   "source": [
    "# 2. When does the code in a function run: when it's specified or when it's called?"
   ]
  },
  {
   "cell_type": "markdown",
   "id": "0d35309a",
   "metadata": {},
   "source": [
    "## Answer\n",
    "\n",
    " **A function call is what moves the program execution into the function, and the function call evaluates to the function's return value.**"
   ]
  },
  {
   "cell_type": "markdown",
   "id": "8e06ff7a",
   "metadata": {},
   "source": [
    "# 3. What statement creates a function?"
   ]
  },
  {
   "cell_type": "markdown",
   "id": "6d5eaab9",
   "metadata": {},
   "source": [
    "# Answer\n",
    "\n",
    "**def function_name(parameters)** "
   ]
  },
  {
   "cell_type": "markdown",
   "id": "a5f7999b",
   "metadata": {},
   "source": [
    "# 4. What is the difference between a function and a function call?"
   ]
  },
  {
   "cell_type": "markdown",
   "id": "62275110",
   "metadata": {},
   "source": [
    "# Answer\n",
    "\n",
    "A function is a group of statements that together perform a task.\n",
    "\n",
    "A function call means invoking or calling that function or a function declaration tells the compiler about a function's name, return type, and parameters.Unless a function is called there is no use of that function.\n",
    "\n",
    "So the difference between the function and function call is, A function is procedure to achieve a particular result while function call is using this function to achive that task."
   ]
  },
  {
   "cell_type": "markdown",
   "id": "5c4658ed",
   "metadata": {},
   "source": [
    "# 5. How many global scopes are there in a Python program? How many local scopes?"
   ]
  },
  {
   "cell_type": "markdown",
   "id": "2d61fcc0",
   "metadata": {},
   "source": [
    "# Answer\n",
    "\n",
    "There's only one global Python scope per program execution. "
   ]
  },
  {
   "cell_type": "markdown",
   "id": "5d52765d",
   "metadata": {},
   "source": [
    "# 6. What happens to variables in a local scope when the function call returns?"
   ]
  },
  {
   "cell_type": "markdown",
   "id": "ff24e938",
   "metadata": {},
   "source": [
    "#  Answer\n",
    "When the execution of the function terminates/returns, the local variables are destroyed or to say he local variables disappear after the function returns."
   ]
  },
  {
   "cell_type": "markdown",
   "id": "b3a123a3",
   "metadata": {},
   "source": [
    "# 7. What is the concept of a return value? Is it possible to have a return value in an expression"
   ]
  },
  {
   "cell_type": "markdown",
   "id": "3f0c29dd",
   "metadata": {},
   "source": [
    "# Answer \n",
    "\n",
    "A Return value is a value that a function returns to the calling script or function when it completes its task.A return value can be any one of the four variable types: handle, integer, object, or string. The type of value your function returns depends largely on the task it performs.\n",
    "\n",
    "\n",
    "\n",
    "\n",
    "\n",
    "\n",
    "\n",
    "\n",
    "\n"
   ]
  },
  {
   "cell_type": "markdown",
   "id": "e06428d8",
   "metadata": {},
   "source": [
    "# 8. If a function does not have a return statement, what is the return value of a call to that function?"
   ]
  },
  {
   "cell_type": "markdown",
   "id": "6b1f67ec",
   "metadata": {},
   "source": [
    "# Answer\n",
    "\n",
    "If a function doesn't specify a return value, it returns None "
   ]
  },
  {
   "cell_type": "code",
   "execution_count": 6,
   "id": "94407d1d",
   "metadata": {},
   "outputs": [
    {
     "name": "stdout",
     "output_type": "stream",
     "text": [
      "None\n"
     ]
    }
   ],
   "source": [
    "### Proof \n",
    "def func():\n",
    "    x=100 # No return statement.\n",
    "    \n",
    "a=func()\n",
    "print(a)"
   ]
  },
  {
   "cell_type": "markdown",
   "id": "3b53e177",
   "metadata": {},
   "source": [
    "# 9. How do you make a function variable refer to the global variable?"
   ]
  },
  {
   "cell_type": "markdown",
   "id": "4c842441",
   "metadata": {},
   "source": [
    "# Answer\n",
    "\n",
    "We can the keyword global to a function variable refer to global variable.\n"
   ]
  },
  {
   "cell_type": "code",
   "execution_count": 18,
   "id": "7d6961ca",
   "metadata": {},
   "outputs": [
    {
     "name": "stdout",
     "output_type": "stream",
     "text": [
      "300\n"
     ]
    }
   ],
   "source": [
    "### Example \n",
    "def myfunc():\n",
    "    global x\n",
    "    x = 300\n",
    "\n",
    "myfunc()\n",
    "print(x)\n"
   ]
  },
  {
   "cell_type": "markdown",
   "id": "69e81df8",
   "metadata": {},
   "source": [
    "# 10. What is the data type of None?"
   ]
  },
  {
   "cell_type": "markdown",
   "id": "ed09bc90",
   "metadata": {},
   "source": [
    "# Answer\n",
    "\n",
    "None is used to define a null value. It is a data type of the class NoneType object."
   ]
  },
  {
   "cell_type": "markdown",
   "id": "666a6cd8",
   "metadata": {},
   "source": [
    "# 11. What does the sentence import areallyourpetsnamederic do?"
   ]
  },
  {
   "cell_type": "markdown",
   "id": "5cef7b37",
   "metadata": {},
   "source": [
    "# Answer \n",
    "\n",
    "\"import areallyourpetsnamederic\"  will allow access to module \"areallyourpetsnamederic\" and it reads the code in the module and allows you to use it in another file."
   ]
  },
  {
   "cell_type": "markdown",
   "id": "50377d82",
   "metadata": {},
   "source": [
    "# 12. If you had a bacon() feature in a spam module, what would you call it after importing spam?"
   ]
  },
  {
   "cell_type": "markdown",
   "id": "68c79c85",
   "metadata": {},
   "source": [
    "# Answer\n",
    "\n",
    "It is called a Module Function . Now if it is a question of how to call it is are as follows.\n",
    "\n",
    "from spam import *\n",
    "\n",
    "var=bacon() creating an object \n",
    "\n",
    "or \n",
    "\n",
    "import spam as sp\n",
    "\n",
    "var=sp.bacon() creating an object"
   ]
  },
  {
   "cell_type": "markdown",
   "id": "4d9a24b3",
   "metadata": {},
   "source": [
    "# 13. What can you do to save a programme from crashing if it encounters an error?"
   ]
  },
  {
   "cell_type": "markdown",
   "id": "88352b0b",
   "metadata": {},
   "source": [
    "# Answer\n",
    "\n",
    "Error handling can be used to notify the user of why the error occurred and gracefully exit the process that caused the error.\n",
    "\n",
    "Error-Handling Practices\n",
    "\n",
    "1.Exception handling using try - except and and try-except-else and try - except - finally\n",
    "\n",
    "Example:\n",
    "\n",
    "try:\n",
    "    x = int(input(\"Please enter a number: \"))\n",
    "    \n",
    "    y = 100 / x\n",
    "    \n",
    "except ValueError:\n",
    "\n",
    "    print(\"Error: there was an error\")\n",
    "    \n",
    "except ZeroDivisionError:\n",
    "\n",
    "    print(\"Error: 0 is an invalid number\")\n",
    "    \n",
    "except Exception:\n",
    "\n",
    "    print(\"Error: another error occurred\")\n",
    "    \n",
    "finally:\n",
    "\n",
    "    print(\"Cleanup can go here\")\n",
    "    \n",
    "\n",
    "2.Assertions:\n",
    "\n",
    "Assertions evaluate an expression to true or false. If the expression is false, python will raise an AssertionError exception\n",
    "\n",
    "Example\n",
    "\n",
    "a = 20\n",
    "\n",
    "assert a < 10, \"an error has occurred\""
   ]
  },
  {
   "cell_type": "code",
   "execution_count": 4,
   "id": "50fb3b01",
   "metadata": {},
   "outputs": [
    {
     "ename": "AssertionError",
     "evalue": " an error has occurred",
     "output_type": "error",
     "traceback": [
      "\u001b[1;31m---------------------------------------------------------------------------\u001b[0m",
      "\u001b[1;31mAssertionError\u001b[0m                            Traceback (most recent call last)",
      "\u001b[1;32m~\\AppData\\Local\\Temp/ipykernel_10220/2135478439.py\u001b[0m in \u001b[0;36m<module>\u001b[1;34m\u001b[0m\n\u001b[0;32m      1\u001b[0m \u001b[1;31m### Proof\u001b[0m\u001b[1;33m\u001b[0m\u001b[1;33m\u001b[0m\u001b[0m\n\u001b[0;32m      2\u001b[0m \u001b[0ma\u001b[0m \u001b[1;33m=\u001b[0m \u001b[1;36m20\u001b[0m\u001b[1;33m\u001b[0m\u001b[1;33m\u001b[0m\u001b[0m\n\u001b[1;32m----> 3\u001b[1;33m \u001b[1;32massert\u001b[0m \u001b[0ma\u001b[0m \u001b[1;33m<\u001b[0m \u001b[1;36m10\u001b[0m\u001b[1;33m,\u001b[0m \u001b[1;34m\" an error has occurred\"\u001b[0m\u001b[1;33m\u001b[0m\u001b[1;33m\u001b[0m\u001b[0m\n\u001b[0m",
      "\u001b[1;31mAssertionError\u001b[0m:  an error has occurred"
     ]
    }
   ],
   "source": [
    "### Proof\n",
    "a = 20\n",
    "assert a < 10, \" an error has occurred\""
   ]
  },
  {
   "cell_type": "markdown",
   "id": "ccc21340",
   "metadata": {},
   "source": [
    "# 14. What is the purpose of the try clause? What is the purpose of the except clause?"
   ]
  },
  {
   "cell_type": "markdown",
   "id": "32ff9148",
   "metadata": {},
   "source": [
    "# Answer\n",
    " \n",
    "The try clause lets you test a block of code for errors. The except clause lets you handle the error. \n"
   ]
  }
 ],
 "metadata": {
  "kernelspec": {
   "display_name": "Python 3 (ipykernel)",
   "language": "python",
   "name": "python3"
  },
  "language_info": {
   "codemirror_mode": {
    "name": "ipython",
    "version": 3
   },
   "file_extension": ".py",
   "mimetype": "text/x-python",
   "name": "python",
   "nbconvert_exporter": "python",
   "pygments_lexer": "ipython3",
   "version": "3.9.7"
  }
 },
 "nbformat": 4,
 "nbformat_minor": 5
}
