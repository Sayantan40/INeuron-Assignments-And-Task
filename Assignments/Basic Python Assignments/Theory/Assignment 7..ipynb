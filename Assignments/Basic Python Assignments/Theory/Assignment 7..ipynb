{
 "cells": [
  {
   "cell_type": "markdown",
   "id": "deb97e93",
   "metadata": {},
   "source": [
    "# ASSIGNMENT 7,"
   ]
  },
  {
   "cell_type": "markdown",
   "id": "3c15818e",
   "metadata": {},
   "source": [
    "# 1. What is the name of the feature responsible for generating Regex objects?\n"
   ]
  },
  {
   "cell_type": "markdown",
   "id": "446c7a07",
   "metadata": {},
   "source": [
    "# Answer\n",
    "\n",
    "### The re. compile() function returns Regex objects."
   ]
  },
  {
   "cell_type": "code",
   "execution_count": 5,
   "id": "80fe13a7",
   "metadata": {},
   "outputs": [
    {
     "ename": "NameError",
     "evalue": "name 'Example' is not defined",
     "output_type": "error",
     "traceback": [
      "\u001b[1;31m---------------------------------------------------------------------------\u001b[0m",
      "\u001b[1;31mNameError\u001b[0m                                 Traceback (most recent call last)",
      "\u001b[1;32m~\\AppData\\Local\\Temp/ipykernel_21708/2241976186.py\u001b[0m in \u001b[0;36m<module>\u001b[1;34m\u001b[0m\n\u001b[1;32m----> 1\u001b[1;33m \u001b[0mExample\u001b[0m\u001b[1;33m\u001b[0m\u001b[1;33m\u001b[0m\u001b[0m\n\u001b[0m\u001b[0;32m      2\u001b[0m \u001b[1;32mimport\u001b[0m \u001b[0mre\u001b[0m\u001b[1;33m\u001b[0m\u001b[1;33m\u001b[0m\u001b[0m\n\u001b[0;32m      3\u001b[0m \u001b[0mRegex\u001b[0m \u001b[1;33m=\u001b[0m \u001b[0mre\u001b[0m\u001b[1;33m.\u001b[0m\u001b[0mcompile\u001b[0m\u001b[1;33m(\u001b[0m\u001b[1;34mr'\\d\\d\\d-\\d\\d\\d\\d-\\d\\d\\d'\u001b[0m\u001b[1;33m)\u001b[0m\u001b[1;33m\u001b[0m\u001b[1;33m\u001b[0m\u001b[0m\n",
      "\u001b[1;31mNameError\u001b[0m: name 'Example' is not defined"
     ]
    }
   ],
   "source": [
    "Example\n",
    "import re \n",
    "Regex = re.compile(r'\\d\\d\\d-\\d\\d\\d\\d-\\d\\d\\d')"
   ]
  },
  {
   "cell_type": "markdown",
   "id": "668c82e5",
   "metadata": {},
   "source": [
    "# 2. Why do raw strings often appear in Regex objects?"
   ]
  },
  {
   "cell_type": "markdown",
   "id": "3caad77e",
   "metadata": {},
   "source": [
    "# Answer\n",
    "\n",
    "### Raw strings are used so that backslashes do not have to be escaped.To be more pecise,Since regular expressions frequently use backslashes in them, it is convenient to pass raw strings to the re.compile() function instead of typing extra backslashes."
   ]
  },
  {
   "cell_type": "markdown",
   "id": "5b9f8854",
   "metadata": {},
   "source": [
    "# 3. What is the return value of the search() method?"
   ]
  },
  {
   "cell_type": "markdown",
   "id": "cd631716",
   "metadata": {},
   "source": [
    "# Answer\n",
    "\n",
    "###  The search() method will return None if the regex pattern is not found in the string. If the pattern is found, the search() method returns a match object.\n"
   ]
  },
  {
   "cell_type": "markdown",
   "id": "3a3290e5",
   "metadata": {},
   "source": [
    "#  4. From a Match item, how do you get the actual strings that match the pattern?"
   ]
  },
  {
   "cell_type": "markdown",
   "id": "09726373",
   "metadata": {},
   "source": [
    "# Answer\n",
    "\n",
    "### If a match item/object is not the null value None, we can call group() on the match object to return the match result."
   ]
  },
  {
   "cell_type": "markdown",
   "id": "6dcf10f1",
   "metadata": {},
   "source": [
    "# 5. In the regex which created from the r'(\\d\\d\\d)-(\\d\\d\\d-\\d\\d\\d\\d)', what does group zero cover? Group 2? Group 1?"
   ]
  },
  {
   "cell_type": "markdown",
   "id": "42cdf727",
   "metadata": {},
   "source": [
    "# Answer\n",
    "\n",
    "### Group 0: (\\d\\d\\d)-(\\d\\d\\d-\\d\\d\\d\\d) \n",
    "### Group 1: (\\d\\d\\d) \n",
    "### Group 2: (\\d\\d\\d-\\d\\d\\d\\d)"
   ]
  },
  {
   "cell_type": "markdown",
   "id": "b25837e5",
   "metadata": {},
   "source": [
    "# 6. In standard expression syntax, parentheses and intervals have distinct meanings. How can you tell a regex that you want it to fit real parentheses and periods?"
   ]
  },
  {
   "cell_type": "markdown",
   "id": "ae3998c7",
   "metadata": {},
   "source": [
    "# Answer\n",
    "\n",
    "### Using r'.()'"
   ]
  },
  {
   "cell_type": "markdown",
   "id": "929db4fd",
   "metadata": {},
   "source": [
    "# 7. The findall() method returns a string list or a list of string tuples. What causes it to return one of the two options?"
   ]
  },
  {
   "cell_type": "markdown",
   "id": "ecf8ef94",
   "metadata": {},
   "source": [
    "# Answer\n",
    "\n",
    "### When called on a regex with no groups, such as \\d\\d\\d-\\d\\d\\d-\\d\\d\\d\\d, the method findall() returns a list of string matches, such as ['(\\d\\d\\d)-(\\d\\d\\d\\d-\\d\\d\\d)', '(\\d\\d\\d)-(\\d\\d\\d\\d-\\d\\d\\d)'].\n",
    "\n",
    "### When called on a regex that has groups, such as (\\d\\d\\d)-(\\d\\d\\d)-(\\d\\d\\d\\d), the method findall() returns a list of tuples of strings(one string for each group), such as [('415', '555', '9999'),('212', '555','0000')]."
   ]
  },
  {
   "cell_type": "markdown",
   "id": "86c20fea",
   "metadata": {},
   "source": [
    "# 8. In standard expressions, what does the | character mean?"
   ]
  },
  {
   "cell_type": "markdown",
   "id": "07f5a6f9",
   "metadata": {},
   "source": [
    "# Answer \n",
    "\n",
    "### The | character is called a pipe. You can use it anywhere you want to match one of many expressions. For example, the regular expressions r'Batman|Tina Fey' will match either 'Batman' or 'Tina Fey'."
   ]
  },
  {
   "cell_type": "markdown",
   "id": "58de2c78",
   "metadata": {},
   "source": [
    "# 9. In regular expressions, what does the character stand for?"
   ]
  },
  {
   "cell_type": "markdown",
   "id": "4ada4174",
   "metadata": {},
   "source": [
    "# Answer\n",
    "\n",
    "### The ? is saying \"Match zero or one of the group preceding this question mark.\""
   ]
  },
  {
   "cell_type": "markdown",
   "id": "99ee638e",
   "metadata": {},
   "source": [
    "# 10.In regular expressions, what is the difference between the + and * characters?\n"
   ]
  },
  {
   "cell_type": "markdown",
   "id": "e5122a5f",
   "metadata": {},
   "source": [
    "# Answer\n",
    "\n",
    "### The * means \"match zero or more - the group that precedes the star can occur any number of times in the text. It can be completely absent or repeated over and over again.\"\n",
    "### While * means \"match zero or more\", the + means \"match one or more.\" Unlike the star, which does not require its group to appear in the matched string, the group preceding a plus must appear at least once. It is not optional."
   ]
  },
  {
   "cell_type": "markdown",
   "id": "9743eaa9",
   "metadata": {},
   "source": [
    "# 11. What is the difference between {4} and {4,5} in regular expression?\n"
   ]
  },
  {
   "cell_type": "markdown",
   "id": "62f5359b",
   "metadata": {},
   "source": [
    "# Answer\n",
    "\n",
    "### {4} is saying \"match this pattern four times.\" {4,5} means \"match this pattern four to five times.\""
   ]
  },
  {
   "cell_type": "markdown",
   "id": "cc85b6f8",
   "metadata": {},
   "source": [
    "# 12. What do you mean by the \\d, \\w, and \\s shorthand character classes signify in regular expressions?"
   ]
  },
  {
   "cell_type": "markdown",
   "id": "7f99f302",
   "metadata": {},
   "source": [
    "# Answer\n",
    "\n",
    "###  \\d in a regex stands for a digit character - that is, any single numberal 0 to 9.\n",
    "\n",
    "### \\w means any letter, numeric digit, or the underscore character.\n",
    "\n",
    "### \\s means any space, tab, or newline character."
   ]
  },
  {
   "cell_type": "markdown",
   "id": "7caf6ab4",
   "metadata": {},
   "source": [
    "# 13. What do means by \\D, \\W, and \\S shorthand character classes signify in regular expressions?"
   ]
  },
  {
   "cell_type": "markdown",
   "id": "da19dcb4",
   "metadata": {},
   "source": [
    "# Answer \n",
    "\n",
    "### \\D represents any character that is not a numeric digit from 0 to 9.\n",
    "\n",
    "### \\W represents any character that is not a letter, numeric digit, or the underscore character.\n",
    "\n",
    "### \\S represents any character that is not a space, tab or newline."
   ]
  },
  {
   "cell_type": "markdown",
   "id": "8d8c0545",
   "metadata": {},
   "source": [
    "# 14. What is the difference between .*? and .*?"
   ]
  },
  {
   "cell_type": "markdown",
   "id": "65a6323d",
   "metadata": {},
   "source": [
    "# Answer\n",
    " ###   I assume the question is wrong and the correct question is :  What is the difference between these two: .* and .*?\n",
    "### The dot-star(. *) uses greedy mode: It will always try to match as much text as possible.This operator repeats the smallest possible preceding regular expression as many times as necessary (including zero) to match the pattern.\n",
    "### dot-star-question-mark (. * ?) tells to match any character, zero or more times, as few times as possible.  To match any and all text in a nongreedy fashion, use the dot, star, and question mark(.*?).\n",
    "\n",
    "### In nongreedy version of the regex, Python matches the shortest possible string; In the greedy version, Python matches the longest possible string."
   ]
  },
  {
   "cell_type": "markdown",
   "id": "409c5c0c",
   "metadata": {},
   "source": [
    "# 15. What is the syntax for matching both numbers and lowercase letters with a character class?"
   ]
  },
  {
   "cell_type": "markdown",
   "id": "51bff1e2",
   "metadata": {},
   "source": [
    "# Answer\n",
    "\n",
    "\n",
    "### Using character sets\n",
    "\n",
    "### For example, the regular expression \"[ A-Za-z] \" specifies to match any single uppercase or lowercase letter. In the character set, a hyphen indicates a range of characters, for example [A-Z] will match any one capital letter.\n",
    "\n",
    "### [0-9a-z]"
   ]
  },
  {
   "cell_type": "markdown",
   "id": "b2595b0c",
   "metadata": {},
   "source": [
    "# 16. What is the procedure for making a normal expression in regax case insensitive?"
   ]
  },
  {
   "cell_type": "markdown",
   "id": "dd0903d8",
   "metadata": {},
   "source": [
    "# Answer\n",
    "\n",
    "### Pass re.IGNORECASE or re.I as a second argument to re.compile(). \n",
    "### For example, Var = re.compile(r'dragonballz', re.I)"
   ]
  },
  {
   "cell_type": "markdown",
   "id": "0a7568c0",
   "metadata": {},
   "source": [
    "# 17. What does the . character normally match? What does it match if re.DOTALL is passed as 2nd argument in re.compile()?"
   ]
  },
  {
   "cell_type": "markdown",
   "id": "78a0847d",
   "metadata": {},
   "source": [
    "# Answer\n",
    "\n",
    "### The . character in a regular expression is called a wildcard and will match any character except for a newline.\n",
    "### The dot-star will match everything except a newline. By passing re.DOTALL as the second argument to re.compile(), you can make the dot character match all characters, including the newline character. For example, newlineRegex = re.compile('.*', re.DOTALL)"
   ]
  },
  {
   "cell_type": "markdown",
   "id": "bbb11547",
   "metadata": {},
   "source": [
    "# 18. If numReg = re.compile(r'\\d+'), what will numRegex.sub('X', '11 drummers, 10 pipers, five rings, 4 hen') return?"
   ]
  },
  {
   "cell_type": "markdown",
   "id": "9b6d27d5",
   "metadata": {},
   "source": [
    "# Answer\n",
    "\n",
    "### X drummers, X pipers, five rings, X hens"
   ]
  },
  {
   "cell_type": "markdown",
   "id": "6fe47a2d",
   "metadata": {},
   "source": [
    "# 19. What does passing re.VERBOSE as the 2nd argument to re.compile() allow to do?"
   ]
  },
  {
   "cell_type": "markdown",
   "id": "d847f00e",
   "metadata": {},
   "source": [
    "# Answer\n",
    "### To ignore whitespace and comments inside the regular expression string."
   ]
  },
  {
   "cell_type": "markdown",
   "id": "6745b17f",
   "metadata": {},
   "source": [
    "# 20. How would you write a regex that match a number with comma for every three digits? It must match the given following:\n",
    "\n",
    "'42'\n",
    "\n",
    "'1,234'\n",
    "\n",
    "'6,368,745'\n",
    "\n",
    "but not the following:\n",
    "\n",
    "'12,34,567' (which has only two digits between the commas)\n",
    "\n",
    "'1234' (which lacks commas)\n"
   ]
  },
  {
   "cell_type": "markdown",
   "id": "428e133f",
   "metadata": {},
   "source": [
    "# Answer\n",
    "\n",
    "### num_Comma = re.compile(r'(^\\d{1,3})(,\\d{3})*$') \n",
    "### num_Comma.search('12,34,567').group()"
   ]
  },
  {
   "cell_type": "markdown",
   "id": "0ff0be4c",
   "metadata": {},
   "source": [
    "# 21. How would you write a regex that matches the full name of someone whose last name is Watanabe? You can assume that the first name that comes before it will always be one word that begins with a capital letter. The regex must match the following:\n",
    "'Haruto Watanabe'\n",
    "\n",
    "'Alice Watanabe'\n",
    "\n",
    "'RoboCop Watanabe'\n",
    "\n",
    "but not the following:\n",
    "\n",
    "'haruto Watanabe' (where the first name is not capitalized)\n",
    "\n",
    "'Mr. Watanabe' (where the preceding word has a nonletter character)\n",
    "\n",
    "'Watanabe' (which has no first name)\n",
    "\n",
    "'Haruto watanabe' (where Watanabe is not capitalized)\n"
   ]
  },
  {
   "cell_type": "markdown",
   "id": "dc1fcefc",
   "metadata": {},
   "source": [
    "# Answer\n",
    "\n",
    "### full_name = re.compile(r'[A-Z]\\w [A-Z]\\w') \n",
    "### Var = full_name.findall(\"Haruto Watanabe, haruto Watanabe,Alice Watanabe ,Watanabe , Haruto watanabe , Robocop Watanabe \") \n",
    "### Var.group()"
   ]
  },
  {
   "cell_type": "markdown",
   "id": "890802c8",
   "metadata": {},
   "source": [
    "# 22. How would you write a regex that matches a sentence where the first word is either Alice, Bob, or Carol; the second word is either eats, pets, or throws; the third word is apples, cats, or baseballs; and the sentence ends with a period? This regex should be case-insensitive. It must match the following:\n",
    "'Alice eats apples.'\n",
    "\n",
    "'Bob pets cats.'\n",
    "\n",
    "'Carol throws baseballs.'\n",
    "\n",
    "'Alice throws Apples.'\n",
    "\n",
    "'BOB EATS CATS.'\n",
    "\n",
    "but not the following:\n",
    "\n",
    "'RoboCop eats apples.'\n",
    "\n",
    "'ALICE THROWS FOOTBALLS.'\n",
    "\n",
    "'Carol eats 7 cats.'\n"
   ]
  },
  {
   "cell_type": "markdown",
   "id": "f4b1e022",
   "metadata": {},
   "source": [
    "# Answer\n",
    "\n",
    "### Regex = re.compile(r'(Alice|Bob|Carol)\\s(eats|pets|throws)\\s(apples|cats|baseballs).', re.I|re.DOTALL)\n",
    "\n",
    "### Regex.findall('''Alice eats apples.'\n",
    "\n",
    "### 'Bob pets cats.'\n",
    "\n",
    "### 'Carol throws baseballs.'\n",
    "\n",
    "### 'Alice throws Apples.'\n",
    "\n",
    "### 'BOB EATS CATS.'\n",
    "\n",
    "### but not the following:\n",
    "\n",
    "### 'Robocop eats apples.'\n",
    "\n",
    "### 'ALICE THROWS FOOTBALLS.'\n",
    "\n",
    "### 'Carol eats 7 cats.''')\n",
    "\n",
    "### Test_result: [('Alice', 'eats', 'apples'), ('Bob', 'pets', 'cats'), ('Carol', 'throws', 'baseballs'), ('Alice', 'throws', 'Apples'), ('BOB', 'EATS', 'CATS')]"
   ]
  }
 ],
 "metadata": {
  "kernelspec": {
   "display_name": "Python 3 (ipykernel)",
   "language": "python",
   "name": "python3"
  },
  "language_info": {
   "codemirror_mode": {
    "name": "ipython",
    "version": 3
   },
   "file_extension": ".py",
   "mimetype": "text/x-python",
   "name": "python",
   "nbconvert_exporter": "python",
   "pygments_lexer": "ipython3",
   "version": "3.9.7"
  }
 },
 "nbformat": 4,
 "nbformat_minor": 5
}
