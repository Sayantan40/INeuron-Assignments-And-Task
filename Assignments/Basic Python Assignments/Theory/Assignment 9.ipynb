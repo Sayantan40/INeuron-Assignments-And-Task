{
 "cells": [
  {
   "cell_type": "markdown",
   "id": "e9d24c51",
   "metadata": {},
   "source": [
    "# Assignment 9"
   ]
  },
  {
   "cell_type": "markdown",
   "id": "3496e200",
   "metadata": {},
   "source": [
    "## 1. To what does a relative path refer?\n"
   ]
  },
  {
   "cell_type": "markdown",
   "id": "fd680362",
   "metadata": {},
   "source": [
    "## Answer\n",
    "\n",
    "A relative path refers to a location that is relative to a current directory. Relative paths make use of two special symbols, a dot (.) and a double-dot (..), which translate into the current directory and the parent directory. Double dots are used for moving up in the hierarchy."
   ]
  },
  {
   "cell_type": "markdown",
   "id": "5820f764",
   "metadata": {},
   "source": [
    "## 2. What does an absolute path start with your operating system?\n"
   ]
  },
  {
   "cell_type": "markdown",
   "id": "4ca563bf",
   "metadata": {},
   "source": [
    "## Answer\n",
    "\n",
    "An absolute path refers to the complete details needed to locate a file or folder, starting from the root element and ending with the other subdirectories. Absolute paths are used in websites and operating systems for locating files and folders. An absolute path is also known as an absolute pathname or full path."
   ]
  },
  {
   "cell_type": "markdown",
   "id": "48fcdd61",
   "metadata": {},
   "source": [
    "## 3. What do the functions os.getcwd() and os.chdir() do?\n"
   ]
  },
  {
   "cell_type": "markdown",
   "id": "7264d070",
   "metadata": {},
   "source": [
    "## Answer\n",
    "\n",
    "### getcwd() : \n",
    "CWD stands for Current Working Directory. This function allows you to see what your current working directory is.\n",
    "### chdir(\"path-to-dir\") : \n",
    "Short for CHange DIRectory, this function allows you to set the current working directory to a path of your choice.\n"
   ]
  },
  {
   "cell_type": "markdown",
   "id": "f2b5b5b9",
   "metadata": {},
   "source": [
    "## 4. What are the . and .. folders?\n"
   ]
  },
  {
   "cell_type": "markdown",
   "id": "055437b2",
   "metadata": {},
   "source": [
    "## Answer\n",
    "\n",
    "The . is the current directory, while .. signifies the parent directory. \n",
    "It makes things quicker at the command line as well so you don't need to type out full paths.\n",
    "\n",
    "(.) is shorthand for “this directory”\n",
    "\n",
    "(..) is shorthand for “the parent directory’\n"
   ]
  },
  {
   "cell_type": "markdown",
   "id": "8b7a6afe",
   "metadata": {},
   "source": [
    "## 5. In C:\\bacon\\eggs\\spam.txt, which part is the dir name, and which part is the base name?\n"
   ]
  },
  {
   "cell_type": "markdown",
   "id": "7ab957d8",
   "metadata": {},
   "source": [
    "## Answer\n",
    "\n",
    " dir name = C:\\bacon\\eggs\n",
    " \n",
    " base (or file) name = spam.txt"
   ]
  },
  {
   "cell_type": "markdown",
   "id": "ccc13b91",
   "metadata": {},
   "source": [
    "## 6. What are the three “mode” arguments that can be passed to the open() function?\n"
   ]
  },
  {
   "cell_type": "markdown",
   "id": "c3de22ca",
   "metadata": {},
   "source": [
    "## Answer\n",
    "\n",
    "read/readlines, write, and append. The string 'r' for read mode, 'w' for write mode, and 'a' for append mode"
   ]
  },
  {
   "cell_type": "markdown",
   "id": "19df649f",
   "metadata": {},
   "source": [
    "## 7. What happens if an existing file is opened in write mode?\n"
   ]
  },
  {
   "cell_type": "markdown",
   "id": "beeefca6",
   "metadata": {},
   "source": [
    "## Answer\n",
    "\n",
    "It overwrites the existing file and starts from scratch.\n",
    "\n",
    "If a file with the same name already exists, its contents are discarded and the file is treated as a new empty file."
   ]
  },
  {
   "cell_type": "markdown",
   "id": "f2986eb9",
   "metadata": {},
   "source": [
    "## 8. How do you tell the difference between read() and readlines()?\n"
   ]
  },
  {
   "cell_type": "markdown",
   "id": "daac7018",
   "metadata": {},
   "source": [
    "## Answer\n",
    "\n",
    "read() function reads an entire file, as though it were a string. This means that it treats each character differently, so if you were trying to iterate over a file e.g:\n",
    "\n",
    "file_1 = open('file', 'r')\n",
    "\n",
    "for i in file_1.read():\n",
    "\n",
    "The .read() would treat each character in the file separately, meaning that the iteration would happen for every character.\n",
    "\n",
    "The readline() function, on the other hand, only reads a single line of the file. This means that if the file file_1 were three lines long, the readline() function would only parse (or iterate/operate) on the first line of the file."
   ]
  },
  {
   "cell_type": "markdown",
   "id": "1f7ad710",
   "metadata": {},
   "source": [
    "## 9. What data structure does a shelf value resemble?\n"
   ]
  },
  {
   "cell_type": "markdown",
   "id": "d0ebd945",
   "metadata": {},
   "source": [
    "## Answer\n",
    "\n",
    "A shelf value resembles a dictionary value; it has keys and values, along with keys() and values() methods that work similarly to the dictionary methods of the same names."
   ]
  }
 ],
 "metadata": {
  "kernelspec": {
   "display_name": "Python 3 (ipykernel)",
   "language": "python",
   "name": "python3"
  },
  "language_info": {
   "codemirror_mode": {
    "name": "ipython",
    "version": 3
   },
   "file_extension": ".py",
   "mimetype": "text/x-python",
   "name": "python",
   "nbconvert_exporter": "python",
   "pygments_lexer": "ipython3",
   "version": "3.9.7"
  }
 },
 "nbformat": 4,
 "nbformat_minor": 5
}
