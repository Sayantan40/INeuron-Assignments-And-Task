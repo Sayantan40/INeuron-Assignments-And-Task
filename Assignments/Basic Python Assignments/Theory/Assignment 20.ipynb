{
 "cells": [
  {
   "cell_type": "markdown",
   "id": "7b4ad514",
   "metadata": {},
   "source": [
    "# ASSIGNMENT 20."
   ]
  },
  {
   "cell_type": "markdown",
   "id": "4c91a661",
   "metadata": {},
   "source": [
    "# 1. Set the variable test1 to the string 'This is a test of the emergency text system,' and save test1 to a file named test.txt.\n"
   ]
  },
  {
   "cell_type": "markdown",
   "id": "d1b6bb31",
   "metadata": {},
   "source": [
    "## Answer"
   ]
  },
  {
   "cell_type": "code",
   "execution_count": 1,
   "id": "8bb54deb",
   "metadata": {},
   "outputs": [
    {
     "data": {
      "text/plain": [
       "43"
      ]
     },
     "execution_count": 1,
     "metadata": {},
     "output_type": "execute_result"
    }
   ],
   "source": [
    "test1 = 'This is a test of the emergency text system'\n",
    "len(test1)"
   ]
  },
  {
   "cell_type": "code",
   "execution_count": 2,
   "id": "9f7d985a",
   "metadata": {},
   "outputs": [],
   "source": [
    "with open('test.txt', 'wt') as outfile:\n",
    "    outfile.write(test1)\n",
    "    \n",
    "outfile.close()"
   ]
  },
  {
   "cell_type": "markdown",
   "id": "b480714f",
   "metadata": {},
   "source": [
    "# 2. Read the contents of the file test.txt into the variable test2. Is there a difference between test 1 and test 2?\n"
   ]
  },
  {
   "cell_type": "markdown",
   "id": "2f1b98aa",
   "metadata": {},
   "source": [
    "## Answer"
   ]
  },
  {
   "cell_type": "code",
   "execution_count": 4,
   "id": "43b54879",
   "metadata": {},
   "outputs": [
    {
     "data": {
      "text/plain": [
       "43"
      ]
     },
     "execution_count": 4,
     "metadata": {},
     "output_type": "execute_result"
    }
   ],
   "source": [
    "with open('test.txt', 'rt') as infile:\n",
    "    test2 = infile.read()\n",
    "len(test2)"
   ]
  },
  {
   "cell_type": "code",
   "execution_count": 5,
   "id": "cd0ec0ca",
   "metadata": {},
   "outputs": [
    {
     "data": {
      "text/plain": [
       "True"
      ]
     },
     "execution_count": 5,
     "metadata": {},
     "output_type": "execute_result"
    }
   ],
   "source": [
    "test1 == test2"
   ]
  },
  {
   "cell_type": "markdown",
   "id": "143e4088",
   "metadata": {},
   "source": [
    "# 3. Create a CSV file called books.csv by using these lines:\n",
    "title,author,year\n",
    "\n",
    "The Weirdstone of Brisingamen,Alan Garner,1960\n",
    "\n",
    "Perdido Street Station,China Miéville,2000\n",
    "\n",
    "hud!,Terry Pratchett,2005\n",
    "\n",
    "The Spellman Files,Lisa Lutz,2007\n",
    "\n",
    "Small Gods,Terry Pratchett,1992\n"
   ]
  },
  {
   "cell_type": "markdown",
   "id": "1592aee9",
   "metadata": {},
   "source": [
    "## Answer"
   ]
  },
  {
   "cell_type": "code",
   "execution_count": 6,
   "id": "41d8e16b",
   "metadata": {},
   "outputs": [],
   "source": [
    "text = '''title,author,year\n",
    "The Weirdstone of Brisingamen,Alan Garner,1960\n",
    "Perdido Street Station,China Miéville,2000\n",
    "Thud!,Terry Pratchett,2005\n",
    "The Spellman Files,Lisa Lutz,2007\n",
    "Small Gods,Terry Pratchett,1992\n",
    "'''\n",
    "\n",
    "with open('books.csv', 'wt') as outfile:\n",
    "    outfile.write(text)"
   ]
  },
  {
   "cell_type": "markdown",
   "id": "b164806c",
   "metadata": {},
   "source": [
    "# 4. Use the sqlite3 module to create a SQLite database called books.db, and a table called books with these fields: title (text), author (text), and year (integer).\n"
   ]
  },
  {
   "cell_type": "markdown",
   "id": "8b9a397f",
   "metadata": {},
   "source": [
    "## Answer"
   ]
  },
  {
   "cell_type": "code",
   "execution_count": 7,
   "id": "57639767",
   "metadata": {},
   "outputs": [
    {
     "data": {
      "text/plain": [
       "<sqlite3.Cursor at 0x1ba5e912180>"
      ]
     },
     "execution_count": 7,
     "metadata": {},
     "output_type": "execute_result"
    }
   ],
   "source": [
    "import sqlite3\n",
    "db = sqlite3.connect('books.db')\n",
    "curs = db.cursor()\n",
    "curs.execute('''create table book (title text, author text, year int)''')"
   ]
  },
  {
   "cell_type": "code",
   "execution_count": 8,
   "id": "cc8c66a6",
   "metadata": {},
   "outputs": [],
   "source": [
    " db.commit()"
   ]
  },
  {
   "cell_type": "markdown",
   "id": "cbcb0759",
   "metadata": {},
   "source": [
    "# 5. Read books.csv and insert its data into the book table.\n"
   ]
  },
  {
   "cell_type": "markdown",
   "id": "71d8f041",
   "metadata": {},
   "source": [
    "## Answer"
   ]
  },
  {
   "cell_type": "code",
   "execution_count": null,
   "id": "39995c84",
   "metadata": {},
   "outputs": [],
   "source": [
    "import csv\n",
    "import sqlite3\n",
    "ins_str = 'insert into book values(?, ?, ?)'\n",
    "with open('books.csv', 'rt') as infile:\n",
    "    books = csv.DictReader(infile)\n",
    "    for book in books:\n",
    "        curs.execute(ins_str, (book['title'], book['author'], book['year']))\n",
    "        \n",
    "db.commit()"
   ]
  },
  {
   "cell_type": "markdown",
   "id": "e50ea62b",
   "metadata": {},
   "source": [
    "# 6. Select and print the title column from the book table in alphabetical order.\n"
   ]
  },
  {
   "cell_type": "markdown",
   "id": "aa0531e9",
   "metadata": {},
   "source": [
    "## Answer"
   ]
  },
  {
   "cell_type": "code",
   "execution_count": 9,
   "id": "9ee03043",
   "metadata": {},
   "outputs": [],
   "source": [
    "sql = 'select title from book order by title asc'\n",
    "for row in db.execute(sql):\n",
    "    print(row)"
   ]
  },
  {
   "cell_type": "raw",
   "id": "efcf4de0",
   "metadata": {},
   "source": [
    "('Perdido Street Station',)\n",
    "('Small Gods',)\n",
    "('The Spellman Files',)\n",
    "('The Weirdstone of Brisingamen',)\n",
    "('Thud!',)"
   ]
  },
  {
   "cell_type": "code",
   "execution_count": 10,
   "id": "f9eebb32",
   "metadata": {},
   "outputs": [],
   "source": [
    "#to print the title value without that tuple stuff (parentheses and comma):\n",
    "for row in db.execute(sql):\n",
    "    print(row[0])"
   ]
  },
  {
   "cell_type": "raw",
   "id": "7019429b",
   "metadata": {},
   "source": [
    "Perdido Street Station\n",
    "Small Gods\n",
    "The Spellman Files\n",
    "The Weirdstone of Brisingamen\n",
    "Thud!"
   ]
  },
  {
   "cell_type": "markdown",
   "id": "79ce2080",
   "metadata": {},
   "source": [
    "# 7. From the book table, select and print all columns in the order of publication.\n"
   ]
  },
  {
   "cell_type": "markdown",
   "id": "27dcc8c9",
   "metadata": {},
   "source": [
    "## Answer"
   ]
  },
  {
   "cell_type": "code",
   "execution_count": null,
   "id": "facb2e9f",
   "metadata": {},
   "outputs": [],
   "source": [
    "for row in db.execute('select * from book order by year'):\n",
    "    print(row)"
   ]
  },
  {
   "cell_type": "raw",
   "id": "331c37e1",
   "metadata": {},
   "source": [
    "('The Weirdstone of Brisingamen', 'Alan Garner', 1960)\n",
    "('Small Gods', 'Terry Pratchett', 1992)\n",
    "('Perdido Street Station', 'China Miéville', 2000)\n",
    "('Thud!', 'Terry Pratchett', 2005)\n",
    "('The Spellman Files', 'Lisa Lutz', 2007)"
   ]
  },
  {
   "cell_type": "code",
   "execution_count": null,
   "id": "233042db",
   "metadata": {},
   "outputs": [],
   "source": [
    "#To print all the fields in each row, just separate with a comma and space:\n",
    "for row in db.execute('select * from book order by year'):\n",
    "    print(*row, sep=', ')"
   ]
  },
  {
   "cell_type": "raw",
   "id": "87dc40e9",
   "metadata": {},
   "source": [
    "The Weirdstone of Brisingamen, Alan Garner, 1960\n",
    "Small Gods, Terry Pratchett, 1992\n",
    "Perdido Street Station, China Miéville, 2000\n",
    "Thud!, Terry Pratchett, 2005\n",
    "The Spellman Files, Lisa Lutz, 2007"
   ]
  },
  {
   "cell_type": "markdown",
   "id": "d310e0ba",
   "metadata": {},
   "source": [
    "# 8. Use the sqlalchemy module to connect to the sqlite3 database books.db that you just made in exercise 6.\n"
   ]
  },
  {
   "cell_type": "markdown",
   "id": "d10684e6",
   "metadata": {},
   "source": [
    "## Answer"
   ]
  },
  {
   "cell_type": "code",
   "execution_count": null,
   "id": "3f950a7b",
   "metadata": {},
   "outputs": [],
   "source": [
    "import sqlalchemy\n",
    "conn = sqlalchemy.create_engine('sqlite:///books.db')\n",
    "sql = 'select title from book order by title asc'\n",
    "rows = conn.execute(sql)\n",
    "for row in rows:\n",
    "    print(row)"
   ]
  },
  {
   "cell_type": "raw",
   "id": "136f43cc",
   "metadata": {},
   "source": [
    "('Perdido Street Station',)\n",
    "('Small Gods',)\n",
    "('The Spellman Files',)\n",
    "('The Weirdstone of Brisingamen',)\n",
    "('Thud!',)"
   ]
  },
  {
   "cell_type": "markdown",
   "id": "187a243b",
   "metadata": {},
   "source": [
    "# 9. Install the Redis server and the Python redis library (pip install redis) on your computer. Create a Redis hash called test with the fields count (1) and name ('Fester Bestertester'). Print all the fields for test.\n"
   ]
  },
  {
   "cell_type": "markdown",
   "id": "fdfc0a44",
   "metadata": {},
   "source": [
    "## Answer"
   ]
  },
  {
   "cell_type": "code",
   "execution_count": null,
   "id": "a1382910",
   "metadata": {},
   "outputs": [],
   "source": [
    "import redis\n",
    "conn = redis.Redis()\n",
    "conn.delete('test')"
   ]
  },
  {
   "cell_type": "markdown",
   "id": "82eee57a",
   "metadata": {},
   "source": [
    "o"
   ]
  },
  {
   "cell_type": "code",
   "execution_count": null,
   "id": "a97ac423",
   "metadata": {},
   "outputs": [],
   "source": [
    "conn.hmset('test', {'count': 1, 'name': 'Fester Bestertester'})"
   ]
  },
  {
   "cell_type": "code",
   "execution_count": null,
   "id": "4666741e",
   "metadata": {},
   "outputs": [],
   "source": [
    "conn.hgetall('test')"
   ]
  },
  {
   "cell_type": "markdown",
   "id": "752138d8",
   "metadata": {},
   "source": [
    "{b'count': b'1', b'name': b'Fester Bestertester'}"
   ]
  },
  {
   "cell_type": "markdown",
   "id": "fe8eece8",
   "metadata": {},
   "source": [
    "# 10. Increment the count field of test and print it.\n"
   ]
  },
  {
   "cell_type": "markdown",
   "id": "6a57ed00",
   "metadata": {},
   "source": [
    "## Answer"
   ]
  },
  {
   "cell_type": "code",
   "execution_count": null,
   "id": "6381de0d",
   "metadata": {},
   "outputs": [],
   "source": [
    "conn.hincrby('test', 'count', 3)"
   ]
  },
  {
   "cell_type": "markdown",
   "id": "91a2f03f",
   "metadata": {},
   "source": [
    "4"
   ]
  },
  {
   "cell_type": "code",
   "execution_count": null,
   "id": "730a3d52",
   "metadata": {},
   "outputs": [],
   "source": [
    "conn.hget('test', 'count')"
   ]
  },
  {
   "cell_type": "markdown",
   "id": "bc58a85d",
   "metadata": {},
   "source": [
    "b'4'"
   ]
  }
 ],
 "metadata": {
  "kernelspec": {
   "display_name": "Python 3 (ipykernel)",
   "language": "python",
   "name": "python3"
  },
  "language_info": {
   "codemirror_mode": {
    "name": "ipython",
    "version": 3
   },
   "file_extension": ".py",
   "mimetype": "text/x-python",
   "name": "python",
   "nbconvert_exporter": "python",
   "pygments_lexer": "ipython3",
   "version": "3.9.7"
  }
 },
 "nbformat": 4,
 "nbformat_minor": 5
}
