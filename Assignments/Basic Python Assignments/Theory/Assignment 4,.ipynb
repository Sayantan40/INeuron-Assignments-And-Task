{
 "cells": [
  {
   "cell_type": "markdown",
   "id": "c14f3cff",
   "metadata": {},
   "source": [
    "# ASSIGNMENT 4."
   ]
  },
  {
   "cell_type": "markdown",
   "id": "4e002e8e",
   "metadata": {},
   "source": [
    "# 1. What exactly is []?"
   ]
  },
  {
   "cell_type": "markdown",
   "id": "ede11ad1",
   "metadata": {},
   "source": [
    "# Answer\n",
    "\n",
    "In Python, a list is created by placing elements inside square brackets [] , where values are separated by commas. "
   ]
  },
  {
   "cell_type": "markdown",
   "id": "664d6c6d",
   "metadata": {},
   "source": [
    "# 2. In a list of values stored in a variable called spam, how would you assign the value 'hello' as the third value?\n",
    "## (Assume [2, 4, 6, 8, 10] are in spam.)\n"
   ]
  },
  {
   "cell_type": "markdown",
   "id": "117e99c6",
   "metadata": {},
   "source": [
    "# Answer"
   ]
  },
  {
   "cell_type": "code",
   "execution_count": 4,
   "id": "fbb12c0c",
   "metadata": {},
   "outputs": [
    {
     "name": "stdout",
     "output_type": "stream",
     "text": [
      "[2, 4, 'Hello', 8, 10]\n"
     ]
    }
   ],
   "source": [
    "spam=[2, 4, 6, 8, 10] \n",
    "spam[2]='Hello'\n",
    "print(spam)"
   ]
  },
  {
   "cell_type": "markdown",
   "id": "90fb0c11",
   "metadata": {},
   "source": [
    "## Let's pretend the spam includes the list ['a', 'b', 'c', 'd'] for the next three queries."
   ]
  },
  {
   "cell_type": "markdown",
   "id": "1a6c4636",
   "metadata": {},
   "source": [
    "# 3. What is the value of spam[int(int('3' * 2) / 11)]?"
   ]
  },
  {
   "cell_type": "markdown",
   "id": "30dcc10f",
   "metadata": {},
   "source": [
    "# Answer"
   ]
  },
  {
   "cell_type": "code",
   "execution_count": 5,
   "id": "126c40da",
   "metadata": {},
   "outputs": [
    {
     "name": "stdout",
     "output_type": "stream",
     "text": [
      "The value is = d\n"
     ]
    }
   ],
   "source": [
    "\n",
    "spam=['a', 'b', 'c', 'd'] \n",
    "print(\"The value is =\",spam[int(int('3' * 2) / 11)])"
   ]
  },
  {
   "cell_type": "markdown",
   "id": "a25cde66",
   "metadata": {},
   "source": [
    "# 4. What is the value of spam[-1]?"
   ]
  },
  {
   "cell_type": "markdown",
   "id": "a076707f",
   "metadata": {},
   "source": [
    "# Answer"
   ]
  },
  {
   "cell_type": "code",
   "execution_count": 6,
   "id": "6b89aa44",
   "metadata": {},
   "outputs": [
    {
     "name": "stdout",
     "output_type": "stream",
     "text": [
      "the value is = d\n"
     ]
    }
   ],
   "source": [
    "spam=['a', 'b', 'c', 'd']\n",
    "print(\"the value is =\",spam[-1])"
   ]
  },
  {
   "cell_type": "markdown",
   "id": "16b4d322",
   "metadata": {},
   "source": [
    "# 5. What is the value of spam[:2]?\n"
   ]
  },
  {
   "cell_type": "markdown",
   "id": "577de080",
   "metadata": {},
   "source": [
    "# Answer"
   ]
  },
  {
   "cell_type": "code",
   "execution_count": 7,
   "id": "1462113b",
   "metadata": {
    "scrolled": true
   },
   "outputs": [
    {
     "name": "stdout",
     "output_type": "stream",
     "text": [
      "The value is = ['a', 'b']\n"
     ]
    }
   ],
   "source": [
    "spam=['a', 'b', 'c', 'd']\n",
    "print(\"The value is =\",spam[:2])"
   ]
  },
  {
   "cell_type": "markdown",
   "id": "fb4b2a85",
   "metadata": {},
   "source": [
    "# 6. What is the value of bacon.index('cat')?\n",
    "## Let's pretend bacon has the list [3.14, 'cat,' 11, 'cat,' True] for the next three questions."
   ]
  },
  {
   "cell_type": "markdown",
   "id": "c871a389",
   "metadata": {},
   "source": [
    "# Answer"
   ]
  },
  {
   "cell_type": "code",
   "execution_count": 10,
   "id": "68bf2966",
   "metadata": {},
   "outputs": [
    {
     "name": "stdout",
     "output_type": "stream",
     "text": [
      "The value is =  1\n"
     ]
    }
   ],
   "source": [
    "bacon=[3.14, 'cat',11,'cat', True]\n",
    "print(\"The value is = \",bacon.index('cat')) # return least index value if duplicate list value is present"
   ]
  },
  {
   "cell_type": "markdown",
   "id": "b562153c",
   "metadata": {},
   "source": [
    "# 7. How does bacon.append(99) change the look of the list value in bacon?"
   ]
  },
  {
   "cell_type": "markdown",
   "id": "8f731e4c",
   "metadata": {},
   "source": [
    "# Answer"
   ]
  },
  {
   "cell_type": "code",
   "execution_count": 12,
   "id": "46d0862b",
   "metadata": {},
   "outputs": [
    {
     "name": "stdout",
     "output_type": "stream",
     "text": [
      "[3.14, 'cat', 11, 'cat', True, 99]\n"
     ]
    }
   ],
   "source": [
    "bacon=[3.14, 'cat',11,'cat', True]\n",
    "bacon.append(99) # adds 99 to the list in the last position.\n",
    "print(bacon)\n"
   ]
  },
  {
   "cell_type": "markdown",
   "id": "1ef8ad6c",
   "metadata": {},
   "source": [
    "# 8. How does bacon.remove('cat') change the look of the list in bacon?"
   ]
  },
  {
   "cell_type": "markdown",
   "id": "c072b568",
   "metadata": {},
   "source": [
    "# Answer"
   ]
  },
  {
   "cell_type": "code",
   "execution_count": 13,
   "id": "2c2361b0",
   "metadata": {},
   "outputs": [
    {
     "name": "stdout",
     "output_type": "stream",
     "text": [
      "[3.14, 11, 'cat', True]\n"
     ]
    }
   ],
   "source": [
    "bacon=[3.14, 'cat',11,'cat', True]\n",
    "bacon.remove('cat') ### removes the value cat with least index value , the  duplicate remains .\n",
    "print(bacon)\n"
   ]
  },
  {
   "cell_type": "markdown",
   "id": "64c2d1d5",
   "metadata": {},
   "source": [
    "# 9. What are the list concatenation and list replication operators?"
   ]
  },
  {
   "cell_type": "markdown",
   "id": "0f2d9eed",
   "metadata": {},
   "source": [
    "# Answer\n",
    "\n",
    "list concatenation operator is +, while the operator for list replication is *."
   ]
  },
  {
   "cell_type": "markdown",
   "id": "67c1bcc3",
   "metadata": {},
   "source": [
    "# 10. What is difference between the list methods append() and insert()?"
   ]
  },
  {
   "cell_type": "markdown",
   "id": "2a04cb41",
   "metadata": {},
   "source": [
    "# Answer\n",
    "\n",
    "Append adds to the end of the list, while insert adds in front of a specified index."
   ]
  },
  {
   "cell_type": "markdown",
   "id": "3a2ec8e6",
   "metadata": {},
   "source": [
    "# 11. What are the two methods for removing items from a list?"
   ]
  },
  {
   "cell_type": "markdown",
   "id": "29989ca2",
   "metadata": {},
   "source": [
    "# Answer\n",
    "\n",
    "The methods are remove(), pop() and clear()."
   ]
  },
  {
   "cell_type": "markdown",
   "id": "047c6baf",
   "metadata": {},
   "source": [
    "# 12. Describe how list values and string values are identical."
   ]
  },
  {
   "cell_type": "markdown",
   "id": "cf11d40e",
   "metadata": {},
   "source": [
    "# Answer\n",
    "\n",
    "The values that make up a list are called its elements. Lists are similar to strings, which are ordered collections of characters, except that the elements of a list can have any type and for any one list, the items can be of different types\n",
    "So basically the similarity between Lists and Strings in Python is that both are sequences.\n",
    "\n"
   ]
  },
  {
   "cell_type": "code",
   "execution_count": 18,
   "id": "a50b4c0d",
   "metadata": {},
   "outputs": [
    {
     "name": "stdout",
     "output_type": "stream",
     "text": [
      "S o n u\n",
      "1 a 1.2 (2+3j)\n"
     ]
    }
   ],
   "source": [
    "### Proof \n",
    "Str=\"Sonu\"\n",
    "list1=[1,'a',1.2,2+3j]\n",
    "print(Str[0],Str[1],Str[2],Str[3])\n",
    "print(list1[0],list1[1],list1[2],list1[3])\n"
   ]
  },
  {
   "cell_type": "markdown",
   "id": "dba462b8",
   "metadata": {},
   "source": [
    "# 13. What's the difference between tuples and lists?"
   ]
  },
  {
   "cell_type": "markdown",
   "id": "342681ae",
   "metadata": {},
   "source": [
    "# Answer\n",
    "\n",
    "The key difference between the tuples and lists is that while the tuples are immutable objects the lists are mutable. This means that tuples cannot be changed while the lists can be modified."
   ]
  },
  {
   "cell_type": "markdown",
   "id": "c2e74ecf",
   "metadata": {},
   "source": [
    "# 14. How do you type a tuple value that only contains the integer 42?"
   ]
  },
  {
   "cell_type": "markdown",
   "id": "778dd81d",
   "metadata": {},
   "source": [
    "# Answer\n",
    "\n",
    "tuple_value=(42)"
   ]
  },
  {
   "cell_type": "markdown",
   "id": "ba95db8d",
   "metadata": {},
   "source": [
    "# 15. How do you get a list value's tuple form? How do you get a tuple value's list form?"
   ]
  },
  {
   "cell_type": "markdown",
   "id": "b7ef5816",
   "metadata": {},
   "source": [
    "# Answer"
   ]
  },
  {
   "cell_type": "code",
   "execution_count": 21,
   "id": "926a5f54",
   "metadata": {
    "scrolled": true
   },
   "outputs": [
    {
     "name": "stdout",
     "output_type": "stream",
     "text": [
      "(1, 2, 3, 's')\n"
     ]
    }
   ],
   "source": [
    "### First part\n",
    "List1=[1,2,3,'s']\n",
    "tuple_form=tuple(List1)\n",
    "print(tuple_form)"
   ]
  },
  {
   "cell_type": "code",
   "execution_count": 24,
   "id": "30bf2352",
   "metadata": {},
   "outputs": [
    {
     "name": "stdout",
     "output_type": "stream",
     "text": [
      "[1, 2, 'a']\n"
     ]
    }
   ],
   "source": [
    "### Second Part\n",
    "tuple1=(1,2,'a')\n",
    "list_form=[]\n",
    "for i in tuple1:\n",
    "    list_form.append(i)\n",
    "    \n",
    "print(list_form)"
   ]
  },
  {
   "cell_type": "markdown",
   "id": "4d89c6f1",
   "metadata": {},
   "source": [
    "# 16. Variables that \"contain\" list values are not necessarily lists themselves. Instead, what do they contain?"
   ]
  },
  {
   "cell_type": "markdown",
   "id": "eccf32b9",
   "metadata": {},
   "source": [
    "# Answer\n",
    "\n",
    "Variables will contain references to list values rather than list values themselves.\n"
   ]
  },
  {
   "cell_type": "markdown",
   "id": "279daa13",
   "metadata": {},
   "source": [
    "# 17. How do you distinguish between copy.copy() and copy.deepcopy()?"
   ]
  },
  {
   "cell_type": "markdown",
   "id": "f6f70d18",
   "metadata": {},
   "source": [
    "# Answer\n",
    "\n",
    "**Shallow Copy**\t\n",
    "\n",
    "Shallow Copy stores the references of objects to the original memory address.   \t\n",
    "\n",
    "Shallow Copy reflects changes made to the new/copied object in the original object.\t\n",
    "\n",
    "Shallow Copy stores the copy of the original object and points the references to the objects.\t\n",
    "\n",
    "Shallow copy is faster.\tDeep copy is comparatively slower.\n",
    "\n",
    "\n",
    "**Deep Copy**\n",
    "\n",
    "Deep copy stores copies of the object’s value.\n",
    "\n",
    "Deep copy doesn’t reflect changes made to the new/copied object in the original object.\n",
    "\n",
    "Deep copy stores the copy of the original object and recursively copies the objects as well.\n",
    "\n",
    "Deep copy is comparatively slower.\n",
    "\n",
    "\n",
    "\n"
   ]
  },
  {
   "cell_type": "code",
   "execution_count": 31,
   "id": "cd7c63bc",
   "metadata": {},
   "outputs": [
    {
     "name": "stdout",
     "output_type": "stream",
     "text": [
      "['Red', 'Blue', 'Green'] ['Red', 'Blue']\n",
      "['Red', 'Blue', 'Green'] ['Red', 'Blue', 'Green']\n"
     ]
    }
   ],
   "source": [
    "#### Example\n",
    "\n",
    "from copy import copy, deepcopy\n",
    "\n",
    "## Class of Car\n",
    "\n",
    "class Car:\n",
    "    def __init__(self, name, colors):\n",
    "        self.name = name\n",
    "        self.colors = colors\n",
    "        \n",
    "honda = Car(\"Honda\", [\"Red\", \"Blue\"])\n",
    "\n",
    "# Deepcopy of Honda\n",
    "\n",
    "deepcopy_honda = deepcopy(honda)\n",
    "deepcopy_honda.colors.append(\"Green\")\n",
    "print(deepcopy_honda.colors, \\\n",
    "\thonda.colors)\n",
    "\n",
    "# Shallow Copy of Honda\n",
    "\n",
    "copy_honda = copy(honda)\n",
    "copy_honda.colors.append(\"Green\")\n",
    "print(copy_honda.colors, \\\n",
    "\thonda.colors)\n"
   ]
  }
 ],
 "metadata": {
  "kernelspec": {
   "display_name": "Python 3 (ipykernel)",
   "language": "python",
   "name": "python3"
  },
  "language_info": {
   "codemirror_mode": {
    "name": "ipython",
    "version": 3
   },
   "file_extension": ".py",
   "mimetype": "text/x-python",
   "name": "python",
   "nbconvert_exporter": "python",
   "pygments_lexer": "ipython3",
   "version": "3.9.7"
  }
 },
 "nbformat": 4,
 "nbformat_minor": 5
}
