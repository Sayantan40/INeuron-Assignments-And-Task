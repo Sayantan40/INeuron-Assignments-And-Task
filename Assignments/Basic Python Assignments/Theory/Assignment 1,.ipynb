{
 "cells": [
  {
   "cell_type": "markdown",
   "id": "ffe4d501",
   "metadata": {},
   "source": [
    "# ASSIGNMENT 1."
   ]
  },
  {
   "cell_type": "markdown",
   "id": "c01d14be",
   "metadata": {},
   "source": [
    "## 1. In the below elements which of them are values or an expression? eg:- values can be integer or string and expressions will be mathematical operators."
   ]
  },
  {
   "cell_type": "raw",
   "id": "fa9c848f",
   "metadata": {},
   "source": [
    "Answer :-\n",
    "\n",
    "1. *       = Expression\n",
    "2. 'hello' = Value\n",
    "3. -87.8   = Value\n",
    "4. -       = Expression\n",
    "5. /       = Expression \n",
    "6. +       = Expression\n",
    "8. 6       = Value\n"
   ]
  },
  {
   "cell_type": "markdown",
   "id": "f86466b0",
   "metadata": {},
   "source": [
    "# 2. What is the difference between string and variable?"
   ]
  },
  {
   "cell_type": "markdown",
   "id": "b3424844",
   "metadata": {},
   "source": [
    "Answer :\n",
    "\n",
    "## String \n",
    "\n",
    "String is a data type in python.String is a sequence of characters enclosed in quotes.\n",
    "We can primarily write string in three ways:\n",
    "\n",
    "1.Single Quoted String. Eg 'Sayatan'.\n",
    "\n",
    "2.Double Quoted String. Eg \"Sayatan\"\n",
    "\n",
    "3.Triple Quoted String. Eg '''Sayatan'''\n",
    "\n",
    "## Variable\n",
    "\n",
    "A Variable is a name given to a memory location in a program.\n",
    "\n",
    "A Variable is equal to a container to store a value.\n",
    "\n",
    "Eg a=56 , b=\"Sonu\" , c=23.6  "
   ]
  },
  {
   "cell_type": "markdown",
   "id": "e6ad052b",
   "metadata": {},
   "source": [
    "# 3. Describe three different data types?"
   ]
  },
  {
   "cell_type": "markdown",
   "id": "b6ced10a",
   "metadata": {},
   "source": [
    "Answer:\n",
    "\n",
    "1. In Python, String is a data type in python.String is a sequence of characters enclosed in quotes.Eg \"Sayantan\", \"sdwsd121\".\n",
    "\n",
    "\n",
    "2. In Python, integers are zero, positive or negative whole numbers without a fractional part and having unlimited precision, e.g. 0, 100, -10.\n",
    "\n",
    "\n",
    "3. Python boolean type is one of the built-in data types provided by Python, which represents one of the two values i.e. True or False. Eg If 1== 0 is True whereas 2<1 is False  \n",
    "\n"
   ]
  },
  {
   "cell_type": "markdown",
   "id": "75acf3e4",
   "metadata": {},
   "source": [
    "# 4. What is an expression made up of? What do all expressions do?"
   ]
  },
  {
   "cell_type": "markdown",
   "id": "4acaf175",
   "metadata": {},
   "source": [
    "**Answer.**\n",
    "\n",
    "**An expression is a combination of operators and operands that is interpreted to produce some other value.**\n",
    "\n",
    "**Eg:** \n",
    "\n",
    "**addition\t= +**\n",
    "\n",
    "**subtraction =\t-**\n",
    "\n",
    "multiply = \t* \n",
    "\n",
    "power =\t**   \n",
    "\n",
    "\n",
    "**Division =\t/**\n",
    "\n",
    "**remainder =\t%**\n",
    "\n",
    "**decorator=\t@**\n",
    "\n",
    "**Binary left shift =\t<<**\n",
    "\n",
    "**Binary right shift =\t>>**\n",
    "\n",
    "**Less than or equal to =\t<=**\n",
    "\n",
    "**Greater than or equal to = \t>=**\n",
    "\n",
    "**Check equality\t==**\n"
   ]
  },
  {
   "cell_type": "markdown",
   "id": "821052fd",
   "metadata": {},
   "source": [
    "# 5. This assignment statements, like spam = 10. What is the difference between an expression and a statement?"
   ]
  },
  {
   "cell_type": "markdown",
   "id": "deae1d2d",
   "metadata": {},
   "source": [
    "**Answer**\n",
    "\n",
    "**1.Expressions only contain identifiers, literals and operators, where operators include arithmetic and boolean operators, the function call operator () the subscription operator [] and similar, and can be reduced to some kind of \"value\", which can be any Python object.In short an expression evaluates to a value**  \n",
    "\n",
    "**Examples:**\n",
    "\n",
    "**x + 2  an expression**\n",
    "\n",
    "**3 + 5  an expression**\n",
    "\n",
    "\n",
    "**2.Statements on the other hand, are everything that can make up a line (or several lines) of Python code. Note that expressions are statements as well.In short a statement does something** \n",
    "\n",
    "**Examples:**\n",
    "\n",
    "**y = x + 1   a statement**\n",
    "\n",
    "**print y     a statement**\n",
    "\n"
   ]
  },
  {
   "cell_type": "markdown",
   "id": "40093e21",
   "metadata": {},
   "source": [
    "# 6. After running the following code, what does the variable bacon contain?\n",
    " bacon = 22\n",
    "   \n",
    " bacon + 1\n"
   ]
  },
  {
   "cell_type": "code",
   "execution_count": 9,
   "id": "b8bb0502",
   "metadata": {},
   "outputs": [
    {
     "name": "stdout",
     "output_type": "stream",
     "text": [
      "The variable contains = 23\n"
     ]
    }
   ],
   "source": [
    "## Answer \n",
    "bacon = 22\n",
    "bacon + 1\n",
    "print(\"The variable contains =\",bacon+1)\n"
   ]
  },
  {
   "cell_type": "markdown",
   "id": "334d5f45",
   "metadata": {},
   "source": [
    "# 7. What should the values of the following two terms be?\n",
    "'spam' + 'spamspam'\n",
    "  \n",
    " 'spam' * 3\n"
   ]
  },
  {
   "cell_type": "code",
   "execution_count": 10,
   "id": "e582ecb1",
   "metadata": {},
   "outputs": [
    {
     "data": {
      "text/plain": [
       "'spamspamsapm'"
      ]
     },
     "execution_count": 10,
     "metadata": {},
     "output_type": "execute_result"
    }
   ],
   "source": [
    "### Answer.\n",
    "\n",
    "'spam'+ 'spamsapm'"
   ]
  },
  {
   "cell_type": "code",
   "execution_count": 11,
   "id": "c7e13362",
   "metadata": {},
   "outputs": [
    {
     "data": {
      "text/plain": [
       "'spamspamspam'"
      ]
     },
     "execution_count": 11,
     "metadata": {},
     "output_type": "execute_result"
    }
   ],
   "source": [
    "### Answer.\n",
    "\n",
    "'spam'*3"
   ]
  },
  {
   "cell_type": "markdown",
   "id": "bd78a97c",
   "metadata": {},
   "source": [
    "# 8. Why is eggs a valid variable name while 100 is invalid?"
   ]
  },
  {
   "cell_type": "markdown",
   "id": "bba64700",
   "metadata": {},
   "source": [
    "**Answer.** \n",
    " \n",
    " **As per rules of defining a variable name are as follows:**\n",
    "\n",
    "**1. A variable name can contain alphabets, digits and underscore.**\n",
    "\n",
    "**2. A variable name can only start with an alphabet and underscore.**\n",
    "\n",
    "**3. A variable name can't start with a digit.**\n",
    "\n",
    "**4. No space is allowed to be used inside a varible name .**\n",
    " \n",
    " **So if we go by the the rules eggs satisfies the requirements or necessity to be a variable name than 100 as no variable name cannot start with a digit.**"
   ]
  },
  {
   "cell_type": "markdown",
   "id": "ed0a70c5",
   "metadata": {},
   "source": [
    "# 9. What three functions can be used to get the integer, floating-point number, or string version of a value?"
   ]
  },
  {
   "cell_type": "code",
   "execution_count": 2,
   "id": "e6a32e01",
   "metadata": {},
   "outputs": [
    {
     "name": "stdout",
     "output_type": "stream",
     "text": [
      "1. sum()  function gives integer 6\n",
      "2. float() function gives floating-point number 12.0\n",
      "3. str() function gives string of a value 232 🤗\n"
     ]
    }
   ],
   "source": [
    "### The question is a little unclear for me .\n",
    "### Answer \n",
    "#1.\n",
    "a=[1,2,3]\n",
    "list_sum=sum(a) # returns sum integers in a list whivh is an integer\n",
    "print(\"1. sum()  function gives integer\",list_sum)\n",
    "\n",
    "#2.\n",
    "b=float(12)\n",
    "print(\"2. float() function gives floating-point number\",b)\n",
    "#3.\n",
    "c=str(232)\n",
    "print(\"3. str() function gives string of a value\",c,\"\\U0001F917\")\n"
   ]
  },
  {
   "cell_type": "markdown",
   "id": "881f7746",
   "metadata": {},
   "source": [
    "# 10. Why does this expression cause an error? How can you fix it?\n",
    "'I have eaten ' + 99 + ' burritos.'\n"
   ]
  },
  {
   "cell_type": "raw",
   "id": "a4394ac0",
   "metadata": {},
   "source": [
    "Answer. The reason for the expression 'I have eaten ' + 99 + ' burritos.' to show error because 99 as shown is will be taken as an integer by python and the rest are string value so no addition is possible between integer value and string value .\n",
    "\n",
    "The way to fix these is to reweite  the expression as 'I have eaten ' + '99' + ' burritos.' Basically to keep 99 within qoutes.\n",
    "\n"
   ]
  },
  {
   "cell_type": "code",
   "execution_count": 12,
   "id": "907697dc",
   "metadata": {
    "scrolled": true
   },
   "outputs": [
    {
     "data": {
      "text/plain": [
       "'I have eaten 99 burritos.'"
      ]
     },
     "execution_count": 12,
     "metadata": {},
     "output_type": "execute_result"
    }
   ],
   "source": [
    "### Proof\n",
    "'I have eaten ' + '99' + ' burritos.'"
   ]
  }
 ],
 "metadata": {
  "kernelspec": {
   "display_name": "Python 3 (ipykernel)",
   "language": "python",
   "name": "python3"
  },
  "language_info": {
   "codemirror_mode": {
    "name": "ipython",
    "version": 3
   },
   "file_extension": ".py",
   "mimetype": "text/x-python",
   "name": "python",
   "nbconvert_exporter": "python",
   "pygments_lexer": "ipython3",
   "version": "3.9.7"
  }
 },
 "nbformat": 4,
 "nbformat_minor": 5
}
