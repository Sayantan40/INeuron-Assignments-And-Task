{
 "cells": [
  {
   "cell_type": "markdown",
   "id": "455cbcfb",
   "metadata": {},
   "source": [
    "# ASSIGNMENT 24."
   ]
  },
  {
   "cell_type": "markdown",
   "id": "048dfcb8",
   "metadata": {},
   "source": [
    "# 1. What is the relationship between def statements and lambda expressions ?\n"
   ]
  },
  {
   "cell_type": "markdown",
   "id": "4f82afcc",
   "metadata": {},
   "source": [
    "## Answer"
   ]
  },
  {
   "cell_type": "markdown",
   "id": "f584d979",
   "metadata": {},
   "source": [
    "### As an expression, lambda returns a value that can optionally be assigned a name. In contrast, the def statement always assigns the new function to the name in the header, instead of returning is as a result. lambda's body is a single expression, not a block of statements"
   ]
  },
  {
   "cell_type": "markdown",
   "id": "c817debe",
   "metadata": {},
   "source": [
    "# 2. What is the benefit of lambda?\n"
   ]
  },
  {
   "cell_type": "markdown",
   "id": "d3743abd",
   "metadata": {},
   "source": [
    "## Answer\n",
    "\n",
    "### The lambda keyword in Python provides a shortcut for declaring small anonymous functions. Lambda functions behave just like regular functions declared with the def keyword. They can be used whenever function objects are required."
   ]
  },
  {
   "cell_type": "markdown",
   "id": "3c91c6fd",
   "metadata": {},
   "source": [
    "# 3. Compare and contrast map, filter, and reduce.\n"
   ]
  },
  {
   "cell_type": "markdown",
   "id": "7851a6af",
   "metadata": {},
   "source": [
    "## Answer\n",
    "\n",
    "### Map operation takes a mapping function and a vector of data as arguments and returns a new vector, which is the result of applying the mapping function on each element of the vector independently. The returned value from map() (map object) then can be passed to functions like list() (to create a list), set() (to create a set) and so on.\n",
    "\n",
    "### The filter function operates on a list and returns a subset of that list after applying the filtering rule.\n",
    "\n",
    "### The reduce function will transform a given list into a single value by applying a given function continuously to all the elements. It basically keeps operating on pairs of elements until there are no more elements left."
   ]
  },
  {
   "cell_type": "markdown",
   "id": "e2b3d32d",
   "metadata": {},
   "source": [
    "# 4. What are function annotations, and how are they used?\n"
   ]
  },
  {
   "cell_type": "markdown",
   "id": "aae4307d",
   "metadata": {},
   "source": [
    "## Answer"
   ]
  },
  {
   "cell_type": "markdown",
   "id": "23507de8",
   "metadata": {},
   "source": [
    "### Function annotations are completely optional both for parameters and return value. Function annotations provide a way of associating various parts of a function with arbitrary python expressions at compile time.\n",
    "\n",
    "### Syntax of function annotations for simple parameters and for excess parameters respectively:\n",
    "\n",
    "### def foobar(a: expression, b: expression = 5):\n",
    "\n",
    "### def foobar(*args: expression, *kwargs: expression):"
   ]
  },
  {
   "cell_type": "markdown",
   "id": "9489b6e9",
   "metadata": {},
   "source": [
    "# 5. What are recursive functions, and how are they used?\n"
   ]
  },
  {
   "cell_type": "markdown",
   "id": "2665187d",
   "metadata": {},
   "source": [
    "## Answer"
   ]
  },
  {
   "cell_type": "markdown",
   "id": "73e715ba",
   "metadata": {},
   "source": [
    "### A recursive function is a function defined in terms of itself via self-referential expressions. This means that the function will continue to call itself and repeat its behavior until some condition is met to return a result.\n",
    "\n",
    "### In this example, tri_recursion() is a function that we have defined to call itself (\"recurse\"). We use the k variable as the data, which decrements (-1) every time we recurse. The recursion ends when the condition is not greater than 0 (i.e. when it is 0)."
   ]
  },
  {
   "cell_type": "code",
   "execution_count": 5,
   "id": "35032859",
   "metadata": {},
   "outputs": [
    {
     "name": "stdout",
     "output_type": "stream",
     "text": [
      "Recursion Example Results\n"
     ]
    },
    {
     "data": {
      "text/plain": [
       "21"
      ]
     },
     "execution_count": 5,
     "metadata": {},
     "output_type": "execute_result"
    }
   ],
   "source": [
    "def tri_recursion(k):\n",
    "    \n",
    "    if k>0:\n",
    "        result = k + tri_recursion(k-1)\n",
    "        return result\n",
    "    else:\n",
    "        result = 0\n",
    "        return result\n",
    "        \n",
    "        \n",
    "        \n",
    "print(\"Recursion Example Results\")\n",
    "tri_recursion(6)"
   ]
  },
  {
   "cell_type": "markdown",
   "id": "38bf9adb",
   "metadata": {},
   "source": [
    "# 6. What are some general design guidelines for coding functions?\n"
   ]
  },
  {
   "cell_type": "markdown",
   "id": "50d14b64",
   "metadata": {},
   "source": [
    "## Answer\n",
    "\n",
    "### Use 4-space indentation and no tabs.\n",
    "\n",
    "### Use docstrings\n",
    "\n",
    "### Wrap lines so that they don’t exceed 79 characters\n",
    "\n",
    "### Use of regular and updated comments are valuable to both the coders and users"
   ]
  },
  {
   "cell_type": "markdown",
   "id": "842f906f",
   "metadata": {},
   "source": [
    "# 7. Name three or more ways that functions can communicate results to a caller.\n"
   ]
  },
  {
   "cell_type": "markdown",
   "id": "27bd27cc",
   "metadata": {},
   "source": [
    "## Answer\n",
    "\n",
    "### To call a function, we specify the function name with the round brackets.\n",
    "\n",
    "### Use of return keyword inside function which returns the results to the caller.\n",
    "\n",
    "### Use of print statement inside function which prints the results to the caller."
   ]
  }
 ],
 "metadata": {
  "kernelspec": {
   "display_name": "Python 3 (ipykernel)",
   "language": "python",
   "name": "python3"
  },
  "language_info": {
   "codemirror_mode": {
    "name": "ipython",
    "version": 3
   },
   "file_extension": ".py",
   "mimetype": "text/x-python",
   "name": "python",
   "nbconvert_exporter": "python",
   "pygments_lexer": "ipython3",
   "version": "3.9.7"
  }
 },
 "nbformat": 4,
 "nbformat_minor": 5
}
