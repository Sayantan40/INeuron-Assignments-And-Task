{
 "cells": [
  {
   "cell_type": "markdown",
   "id": "4af224d8",
   "metadata": {},
   "source": [
    "# Assignment 12."
   ]
  },
  {
   "cell_type": "markdown",
   "id": "6e1ea37e",
   "metadata": {},
   "source": [
    "## 1. In what modes should the PdfFileReader() and PdfFileWriter() File objects will be opened?\n"
   ]
  },
  {
   "cell_type": "markdown",
   "id": "c4cb5788",
   "metadata": {},
   "source": [
    "## Answer\n",
    "\n",
    "PdfFileReader() needs to be opened in read-binary mode by passing 'rb' as the second argument to open(). \n",
    "\n",
    "Likewise, the File object passed to PyPDF2. PdfFileWriter() needs to be opened in write-binary mode \n",
    "with 'wb'"
   ]
  },
  {
   "cell_type": "markdown",
   "id": "75d2cd1b",
   "metadata": {},
   "source": [
    "## 2. From a PdfFileReader object, how do you get a Page object for page 5?\n"
   ]
  },
  {
   "cell_type": "markdown",
   "id": "f18458d0",
   "metadata": {},
   "source": [
    "## Answer\n",
    "You can get a Page object by calling the getPage() method ➋ on a PdfFileReader object and passing it the page number of the page you're interested in—in our case is 5\n",
    "\n",
    "PdfFileReader.getPage(5)"
   ]
  },
  {
   "cell_type": "markdown",
   "id": "aa21ce92",
   "metadata": {},
   "source": [
    "## 3. What PdfFileReader variable stores the number of pages in the PDF document?\n"
   ]
  },
  {
   "cell_type": "markdown",
   "id": "0eea6af1",
   "metadata": {},
   "source": [
    "## Answer\n",
    "\n",
    "getNumPages() Calculates the number of pages in this PDF file.\n",
    "\n",
    "The total number of pages in the document is stored in the numPages attribute of a PdfFileReader object "
   ]
  },
  {
   "cell_type": "markdown",
   "id": "d4186637",
   "metadata": {},
   "source": [
    "## 4. If a PdfFileReader object’s PDF is encrypted with the password swordfish, what must you do before you can obtain Page objects from it?\n"
   ]
  },
  {
   "cell_type": "markdown",
   "id": "ce8861cc",
   "metadata": {},
   "source": [
    "## Answer\n",
    "\n",
    "PdfFileReader.encrypt('swordfish') is done before we can obtain Page objects from it"
   ]
  },
  {
   "cell_type": "markdown",
   "id": "1b86afca",
   "metadata": {},
   "source": [
    "## 5. What methods do you use to rotate a page?\n"
   ]
  },
  {
   "cell_type": "markdown",
   "id": "cffaec07",
   "metadata": {},
   "source": [
    "## Answer \n",
    "rotateClockwise(angle) and rotateCounterClockwise(angle) methods do you use to rotate a page."
   ]
  },
  {
   "cell_type": "markdown",
   "id": "7b793504",
   "metadata": {},
   "source": [
    "## 6. What is the difference between a Run object and a Paragraph object?\n"
   ]
  },
  {
   "cell_type": "markdown",
   "id": "bfc5a80c",
   "metadata": {},
   "source": [
    "## Answer\n",
    "\n",
    " A Run object is a contiguous run of text with the same style. A new Run object is needed whenever the text style changes.\n",
    "\n",
    "Paragraph objects contains a list of one or more Run objects\n"
   ]
  },
  {
   "cell_type": "markdown",
   "id": "6aeeacf8",
   "metadata": {},
   "source": [
    "## 7. How do you obtain a list of Paragraph objects for a Document object that’s stored in a variable named doc?\n"
   ]
  },
  {
   "cell_type": "markdown",
   "id": "61f90a0e",
   "metadata": {},
   "source": [
    "## Answer\n",
    "\n",
    "docx.Document('doc.docx') will obtain a list of Paragraph objects for a Document object that’s stored in a variable named doc."
   ]
  },
  {
   "cell_type": "markdown",
   "id": "0d561da7",
   "metadata": {},
   "source": [
    "## 8. What type of object has bold, underline, italic, strike, and outline variables?\n"
   ]
  },
  {
   "cell_type": "markdown",
   "id": "e8e20703",
   "metadata": {},
   "source": [
    "## Answer  \n",
    "Run Object"
   ]
  },
  {
   "cell_type": "markdown",
   "id": "1b41d33c",
   "metadata": {},
   "source": [
    "## 9. What is the difference between False, True, and None for the bold variable?\n"
   ]
  },
  {
   "cell_type": "markdown",
   "id": "7b195e49",
   "metadata": {},
   "source": [
    "## Answer\n",
    "Runs can be further styled using text attributes. Each attribute can be set to one of three values:\n",
    "\n",
    "True (the attribute is always enabled, no matter what other styles are applied to the run)\n",
    "\n",
    "False (the attribute is always disabled)\n",
    "\n",
    "None (defaults to whatever the run’s style is set to)."
   ]
  },
  {
   "cell_type": "markdown",
   "id": "f54eea2b",
   "metadata": {},
   "source": [
    "## 10. How do you create a Document object for a new Word document?\n"
   ]
  },
  {
   "cell_type": "markdown",
   "id": "5b440ebd",
   "metadata": {},
   "source": [
    "## Answer\n",
    "\n",
    "docx.Document() helps create a Document object for a new Word document."
   ]
  },
  {
   "cell_type": "markdown",
   "id": "a4dbd7e1",
   "metadata": {},
   "source": [
    "## 11. How do you add a paragraph with the text 'Hello, there!' to a Document object stored in a variable named doc?\n"
   ]
  },
  {
   "cell_type": "markdown",
   "id": "96245ea3",
   "metadata": {},
   "source": [
    "## Answer\n",
    "\n",
    "use add_paragraph() method to add a paragraph with the text 'Hello, there!' to a Document object stored in a variable named doc."
   ]
  },
  {
   "cell_type": "markdown",
   "id": "71be16e1",
   "metadata": {},
   "source": [
    "## 12. What integers represent the levels of headings available in Word documents?\n"
   ]
  },
  {
   "cell_type": "markdown",
   "id": "32705464",
   "metadata": {},
   "source": [
    "## Answer\n",
    "\n",
    "The arguments to add_heading() are a string of the heading text and an integer from 0 to 4. The integer 0 makes the heading the Title style, which is used for the top of the document. Integers 1 to 4 are for various heading levels, with 1 being the main heading and 4 the lowest subheading."
   ]
  }
 ],
 "metadata": {
  "kernelspec": {
   "display_name": "Python 3 (ipykernel)",
   "language": "python",
   "name": "python3"
  },
  "language_info": {
   "codemirror_mode": {
    "name": "ipython",
    "version": 3
   },
   "file_extension": ".py",
   "mimetype": "text/x-python",
   "name": "python",
   "nbconvert_exporter": "python",
   "pygments_lexer": "ipython3",
   "version": "3.9.7"
  }
 },
 "nbformat": 4,
 "nbformat_minor": 5
}
