{
 "cells": [
  {
   "cell_type": "markdown",
   "id": "6adeceab",
   "metadata": {},
   "source": [
    "# Assignment 11."
   ]
  },
  {
   "cell_type": "markdown",
   "id": "a433433f",
   "metadata": {},
   "source": [
    "## 1. Create an assert statement that throws an AssertionError if the variable spam is a negative integer.\n"
   ]
  },
  {
   "cell_type": "markdown",
   "id": "42181e23",
   "metadata": {},
   "source": [
    "## Answer\n",
    "assert spam >= 0 'The variable spam is a negative integer.'"
   ]
  },
  {
   "cell_type": "markdown",
   "id": "31ad5684",
   "metadata": {},
   "source": [
    "## 2. Write an assert statement that triggers an AssertionError if the variables eggs and bacon contain strings that are the same as each other, even if their cases are different (that is, 'hello' and 'hello' are considered the same, and 'goodbye' and 'GOODbye' are also considered the same).\n"
   ]
  },
  {
   "cell_type": "markdown",
   "id": "3deedfe6",
   "metadata": {},
   "source": [
    "## Answer\n",
    "\n",
    "assert eggs.lower() != bacon.lower(), 'The eggs and bacon variables are the same!' or assert \n",
    "\n",
    "eggs.upper() != bacon.upper(), 'The eggs and bacon variables are the same!'"
   ]
  },
  {
   "cell_type": "markdown",
   "id": "5df718fb",
   "metadata": {},
   "source": [
    "## 3. Create an assert statement that throws an AssertionError every time.\n"
   ]
  },
  {
   "cell_type": "markdown",
   "id": "b27c2f67",
   "metadata": {},
   "source": [
    "## Answer\n",
    "assert False, 'The assertion always triggers.'"
   ]
  },
  {
   "cell_type": "markdown",
   "id": "5944c573",
   "metadata": {},
   "source": [
    "## 4. What are the two lines that must be present in your software in order to call logging.debug()?\n"
   ]
  },
  {
   "cell_type": "markdown",
   "id": "cb97f990",
   "metadata": {},
   "source": [
    "## Answer\n",
    "\n",
    "To be able to call logging.debug(), you must have these two lines at the start ofyour program:\n",
    "\n",
    "import logging\n",
    "\n",
    "logging.basicConfig(level=logging.DEBUG, format=' %(asctime)s - %(levelname)s - %(message)s')"
   ]
  },
  {
   "cell_type": "markdown",
   "id": "7e005628",
   "metadata": {},
   "source": [
    "## 5. What are the two lines that your program must have in order to have logging.debug() send a logging message to a file named programLog.txt?\n"
   ]
  },
  {
   "cell_type": "markdown",
   "id": "0efd4046",
   "metadata": {},
   "source": [
    "## Answer\n",
    "\n",
    "To be able to send logging message to a file named programLog.txt with logging.debug(), you must have these two lines at the start of your:\n",
    "\n",
    "import logging\n",
    "\n",
    "logging.basicConfig(filename='programLog.txt', level=logging.DEBUG,format=' %(asctime)s -%(levelname)s - %(message)s')"
   ]
  },
  {
   "cell_type": "markdown",
   "id": "c9b16255",
   "metadata": {},
   "source": [
    "## 6. What are the five levels of logging?\n"
   ]
  },
  {
   "cell_type": "markdown",
   "id": "8a90c7c2",
   "metadata": {},
   "source": [
    "## Answer\n",
    "DEBUG, INFO, WARNING, ERROR, and CRITICAL"
   ]
  },
  {
   "cell_type": "markdown",
   "id": "09eb06ea",
   "metadata": {},
   "source": [
    "## 7. What line of code would you add to your software to disable all logging messages?\n"
   ]
  },
  {
   "cell_type": "markdown",
   "id": "5ec8f02a",
   "metadata": {},
   "source": [
    "## Answer\n",
    "logging.disable(logging.CRITICAL)"
   ]
  },
  {
   "cell_type": "markdown",
   "id": "13bc0e22",
   "metadata": {},
   "source": [
    "## 8.Why is using logging messages better than using print() to display the same message?\n"
   ]
  },
  {
   "cell_type": "markdown",
   "id": "b429cc57",
   "metadata": {},
   "source": [
    "## Answer\n",
    "\n",
    "You can disable logging messages without removing the logging function calls. \n",
    "\n",
    "You can selectively disable lower-level logging messages. You can create logging messages. \n",
    "\n",
    "Logging messages provides a timestamp.\n"
   ]
  },
  {
   "cell_type": "markdown",
   "id": "d95cd31e",
   "metadata": {},
   "source": [
    "## 9. What are the differences between the Step Over, Step In, and Step Out buttons in the debugger?\n"
   ]
  },
  {
   "cell_type": "markdown",
   "id": "6e86ba13",
   "metadata": {},
   "source": [
    "## Answer\n",
    "\n",
    "Step In will cause the debugger to go into the next function call and break there. \n",
    "\n",
    "Step Over will tell the debugger to execute the next function and break afterwards. \n",
    "\n",
    "Step Out will tell the debugger to finish the current function and break after it."
   ]
  },
  {
   "cell_type": "markdown",
   "id": "e5c40775",
   "metadata": {},
   "source": [
    "## 10.After you click Continue, when will the debugger stop ?\n"
   ]
  },
  {
   "cell_type": "markdown",
   "id": "74e6070b",
   "metadata": {},
   "source": [
    "## Answer\n",
    "\n",
    "After you click Continue, the debugger will stop when it has reached the end of the program or a line with a breakpoint."
   ]
  },
  {
   "cell_type": "markdown",
   "id": "e90758d9",
   "metadata": {},
   "source": [
    "## 11. What is the concept of a breakpoint?\n"
   ]
  },
  {
   "cell_type": "markdown",
   "id": "8c96d063",
   "metadata": {},
   "source": [
    "## Answer\n",
    "\n",
    "A breakpoint is a setting on a line of code that causes the debugger to pause when the program execution reaches the line"
   ]
  }
 ],
 "metadata": {
  "kernelspec": {
   "display_name": "Python 3 (ipykernel)",
   "language": "python",
   "name": "python3"
  },
  "language_info": {
   "codemirror_mode": {
    "name": "ipython",
    "version": 3
   },
   "file_extension": ".py",
   "mimetype": "text/x-python",
   "name": "python",
   "nbconvert_exporter": "python",
   "pygments_lexer": "ipython3",
   "version": "3.9.7"
  }
 },
 "nbformat": 4,
 "nbformat_minor": 5
}
