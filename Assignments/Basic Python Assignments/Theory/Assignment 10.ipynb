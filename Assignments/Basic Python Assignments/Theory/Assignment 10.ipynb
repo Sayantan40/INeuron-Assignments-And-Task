{
 "cells": [
  {
   "cell_type": "markdown",
   "id": "febd282a",
   "metadata": {},
   "source": [
    "# Assignment 10"
   ]
  },
  {
   "cell_type": "markdown",
   "id": "c8d07149",
   "metadata": {},
   "source": [
    "## 1. How do you distinguish between shutil.copy() and shutil.copytree()?\n"
   ]
  },
  {
   "cell_type": "markdown",
   "id": "c089e650",
   "metadata": {},
   "source": [
    "## Answer\n",
    "\n",
    "shutil. copy() will copy a single file.\n",
    "\n",
    "shutil. copytree() will copy an entire folder and every folder and file contained in it"
   ]
  },
  {
   "cell_type": "markdown",
   "id": "f7a74ba6",
   "metadata": {},
   "source": [
    "## 2. What function is used to rename files??\n"
   ]
  },
  {
   "cell_type": "markdown",
   "id": "64aa4c54",
   "metadata": {},
   "source": [
    "## Answer\n",
    "rename() method from os  in Python is used to rename a file or directory.\n",
    "\n",
    "The shutil.move() function is used for renaming files, as well as moving them"
   ]
  },
  {
   "cell_type": "markdown",
   "id": "6107ba34",
   "metadata": {},
   "source": [
    "## 3. What is the difference between the delete functions in the send2trash and shutil modules?\n"
   ]
  },
  {
   "cell_type": "markdown",
   "id": "d129b556",
   "metadata": {},
   "source": [
    "## Answer\n",
    "\n",
    "The send2trash delete function will move a file or folder to the recycle bin, while shutil delete functions will permanently delete files and folders."
   ]
  },
  {
   "cell_type": "markdown",
   "id": "c432cb8c",
   "metadata": {},
   "source": [
    "## 4.ZipFile objects have a close() method just like File objects’ close() method. What ZipFile method is equivalent to File objects’ open() method?"
   ]
  },
  {
   "cell_type": "markdown",
   "id": "1e54e6dd",
   "metadata": {},
   "source": [
    "## Answer \n",
    "The zipfile.ZipFile() function is equivalent to the open() function; the first argument is the filename, and the second argument is the mode to open the ZIP file in (read, write, or append).\n"
   ]
  },
  {
   "cell_type": "markdown",
   "id": "7216bd5c",
   "metadata": {},
   "source": [
    "\n",
    "## 5. Create a programme that searches a folder tree for files with a certain file extension (such as .pdf or .jpg). Copy these files from whatever location they are in to a new folder.\n"
   ]
  },
  {
   "cell_type": "markdown",
   "id": "f2d64f91",
   "metadata": {},
   "source": [
    "## Answer"
   ]
  },
  {
   "cell_type": "code",
   "execution_count": null,
   "id": "8bd1fceb",
   "metadata": {},
   "outputs": [],
   "source": [
    "import os, shutil\n",
    "\n",
    "def selectiveCopy(folder, extensions, destFolder):\n",
    "    \n",
    "    folder = os.path.abspath(folder)\n",
    "    \n",
    "    destFolder = os.path.abspath(destFolder)\n",
    "\n",
    "    print('Looking in', folder, 'for files with extensions of', ', '.join(extensions))\n",
    "    \n",
    "    for foldername, subfolders, filenames in os.walk(folder):\n",
    "        \n",
    "        for filename in filenames:\n",
    "            \n",
    "            name, extension = os.path.splitext(filename)\n",
    "            \n",
    "            if extension in extensions:\n",
    "                \n",
    "                fileAbsPath = foldername + os.path.sep + filename\n",
    "                \n",
    "                print('Coping', fileAbsPath, 'to', destFolder)\n",
    "                \n",
    "                shutil.copy(fileAbsPath, destFolder)\n",
    "\n",
    "extensions = ['.php', '.py']\n",
    "folder = 'randomFolder'\n",
    "destFolder = 'selectiveFolder'\n",
    "selectiveCopy(folder, extensions, destFolder)"
   ]
  }
 ],
 "metadata": {
  "kernelspec": {
   "display_name": "Python 3 (ipykernel)",
   "language": "python",
   "name": "python3"
  },
  "language_info": {
   "codemirror_mode": {
    "name": "ipython",
    "version": 3
   },
   "file_extension": ".py",
   "mimetype": "text/x-python",
   "name": "python",
   "nbconvert_exporter": "python",
   "pygments_lexer": "ipython3",
   "version": "3.9.7"
  }
 },
 "nbformat": 4,
 "nbformat_minor": 5
}
