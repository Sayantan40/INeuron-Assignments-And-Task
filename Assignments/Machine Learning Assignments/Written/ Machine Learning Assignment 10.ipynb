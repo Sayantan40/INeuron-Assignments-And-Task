{
 "cells": [
  {
   "cell_type": "markdown",
   "id": "98d63d08",
   "metadata": {},
   "source": [
    "#  Machine Learning Assignment 9"
   ]
  },
  {
   "cell_type": "markdown",
   "id": "ccef929d",
   "metadata": {},
   "source": [
    "## 1.\tDefine the Bayesian interpretation of probability.\n"
   ]
  },
  {
   "cell_type": "markdown",
   "id": "7737cbea",
   "metadata": {},
   "source": [
    "### Answer\n",
    "\n",
    "#### Bayesian probability is the study of subjective probabilities or belief in an outcome, compared to the frequentist approach where probabilities are based purely on the past occurrence of the event. A Bayesian Network captures the joint probabilities of the events represented by the model."
   ]
  },
  {
   "cell_type": "markdown",
   "id": "77198dbb",
   "metadata": {},
   "source": [
    "## 2.\tDefine probability of a union of two events with equation.\n"
   ]
  },
  {
   "cell_type": "markdown",
   "id": "eb691587",
   "metadata": {},
   "source": [
    "### Answer\n",
    "\n",
    "#### The general probability addition rule for the union of two events states that **`P(A∪B)=P(A)+P(B)−P(A∩B)`**, where **`A∩B`** is the intersection of the two sets."
   ]
  },
  {
   "cell_type": "markdown",
   "id": "3387ba16",
   "metadata": {},
   "source": [
    "## 3.\tWhat is joint probability? What is its formula?\n"
   ]
  },
  {
   "cell_type": "markdown",
   "id": "3a1bdf3d",
   "metadata": {},
   "source": [
    "### Answer\n",
    "\n",
    "####  Probabilities are combined using multiplication, therefore the joint probability of independent events is calculated as the probability of event A multiplied by the probability of event B. This can be stated formally as follows: \n",
    "\n",
    "Joint Probability: **`P(A and B) = P(A)*P(B)`**"
   ]
  },
  {
   "cell_type": "markdown",
   "id": "429bba8c",
   "metadata": {},
   "source": [
    "## 4.\tWhat is chain rule of probability?\n"
   ]
  },
  {
   "cell_type": "markdown",
   "id": "07425641",
   "metadata": {},
   "source": [
    "### Answer\n",
    "\n",
    "#### The chain rule, or general product rule, calculates any component of the joint distribution of a set of random variables using only conditional probabilities. This probability theory is used as a foundation for backpropagation and in creating Bayesian networks."
   ]
  },
  {
   "cell_type": "markdown",
   "id": "262af692",
   "metadata": {},
   "source": [
    "## 5.\tWhat is conditional probability means? What is the formula of it?\n"
   ]
  },
  {
   "cell_type": "markdown",
   "id": "2038fe6d",
   "metadata": {},
   "source": [
    "### Answer\n",
    " \n",
    "#### Conditional probability is defined as the likelihood of an event or outcome occurring, based on the occurrence of a previous event or outcome. \n",
    "\n",
    "##### Conditional probability is calculated by multiplying the probability of the preceding event by the updated probability of the succeeding, or conditional, event.\n",
    "\n",
    "##### Let's take a real-life example. Probability of selling a TV on a given normal day may be only 30%. But if we consider that given day is Diwali, then there are much more chances of selling a TV. The conditional Probability of selling a TV on a day given that Day is Diwali might be 70%."
   ]
  },
  {
   "cell_type": "markdown",
   "id": "d0016b7b",
   "metadata": {},
   "source": [
    "## 6.\tWhat are continuous random variables?\n",
    "\n"
   ]
  },
  {
   "cell_type": "markdown",
   "id": "886fba41",
   "metadata": {},
   "source": [
    "### Answer\n",
    "\n",
    "#### A continuous random variable X takes all values in a given interval of numbers. ▪ The probability distribution of a continuous random variable is shown by a density curve. ▪ The probability that X is between an interval of numbers is the area under the density curve between the interval endpoints."
   ]
  },
  {
   "cell_type": "markdown",
   "id": "794064c6",
   "metadata": {},
   "source": [
    "## 7.\tWhat are Bernoulli distributions? What is the formula of it?\n"
   ]
  },
  {
   "cell_type": "markdown",
   "id": "3bc91f68",
   "metadata": {},
   "source": [
    "### Answer\n",
    "\n",
    "#### A Bernoulli distribution is a discrete probability distribution for a Bernoulli trial — a random experiment that has only two outcomes (usually called a `Succes` or a `Failure`).The expected value for a random variable, X.\n",
    "\n",
    "For a Bernoulli distribution is: `E[X] = p`.For example, if `p = 0.04`, then `E[X] = 0.4`"
   ]
  },
  {
   "cell_type": "markdown",
   "id": "56926104",
   "metadata": {},
   "source": [
    "## 8.\tWhat is binomial distribution? What is the formula?\n"
   ]
  },
  {
   "cell_type": "markdown",
   "id": "81adf999",
   "metadata": {},
   "source": [
    "### Answer\n",
    "\n",
    "####  The binomial is a type of distribution that has two possible outcomes (the prefix “bi” means two, or twice).For example, a coin toss has only two possible outcomes: heads or tails and taking a test could have two possible outcomes: pass or fail. \n",
    "\n",
    "#### A Binomial Distribution shows either (S)uccess or (F)ailure."
   ]
  },
  {
   "cell_type": "markdown",
   "id": "047305be",
   "metadata": {},
   "source": [
    "## 9.\tWhat is Poisson distribution? What is the formula?\n"
   ]
  },
  {
   "cell_type": "markdown",
   "id": "06566f3d",
   "metadata": {},
   "source": [
    "### Answer\n",
    "\n",
    "#### A Poisson distribution is defined as a discrete frequency distribution that gives the probability of the number of independent events that occur in the fixed time.\n",
    "\n",
    "#### In statistics, a Poisson distribution is a probability distribution that is used to show how many times an event is likely to occur over a specified period. The Poisson distribution is a discrete function, meaning that the variable can only take specific values in a (potentially infinite) list."
   ]
  },
  {
   "cell_type": "markdown",
   "id": "957a5dee",
   "metadata": {},
   "source": [
    "## 10.\tDefine covariance.\n"
   ]
  },
  {
   "cell_type": "markdown",
   "id": "3ff8c112",
   "metadata": {},
   "source": [
    "### Answer\n",
    "\n",
    "####  Covariance is a measure of how much two random variables vary together. It's similar to variance, but where variance tells you how a single variable varies, co variance tells you how two variables vary together."
   ]
  },
  {
   "cell_type": "markdown",
   "id": "19791537",
   "metadata": {},
   "source": [
    "## 11.\tDefine correlation\n"
   ]
  },
  {
   "cell_type": "markdown",
   "id": "3faeea78",
   "metadata": {},
   "source": [
    "### Answer\n",
    "\n",
    "#### Correlation explains how one or more variables are related to each other. These variables can be input data features which have been used to forecast our target variable. It's a bi-variate analysis measure which describes the association between different variables."
   ]
  },
  {
   "cell_type": "markdown",
   "id": "25ffdd99",
   "metadata": {},
   "source": [
    "## 12.\tDefine sampling with replacement. Give example.\n"
   ]
  },
  {
   "cell_type": "markdown",
   "id": "9c60a935",
   "metadata": {},
   "source": [
    "### Answer\n",
    "\n",
    "#### If you sample with replacement, you would choose one person's name, put that person's name back in the hat, and then choose another name. The possibilities for your two-name sample are: John, John. John, Jack."
   ]
  },
  {
   "cell_type": "markdown",
   "id": "4f914fa6",
   "metadata": {},
   "source": [
    "## 13.\tWhat is sampling without replacement? Give example.\n"
   ]
  },
  {
   "cell_type": "markdown",
   "id": "e5a2c39e",
   "metadata": {},
   "source": [
    "### Answer\n",
    "\n",
    "####  In sampling without replacement, each sample unit of the population has only one chance to be selected in the sample. For example, if one draws a simple random sample such that no unit occurs more than one time in the sample, the sample is drawn without replacement."
   ]
  },
  {
   "cell_type": "markdown",
   "id": "ec1882cd",
   "metadata": {},
   "source": [
    "## 14.\tWhat is hypothesis? Give example.\n"
   ]
  },
  {
   "cell_type": "markdown",
   "id": "5b6bf816",
   "metadata": {},
   "source": [
    "### Answer\n",
    "\n",
    "#### A hypothesis (plural hypotheses) is a proposed explanation for a phenomenon. For a hypothesis to be a scientific hypothesis, the scientific method requires that one can test it. ... Even though the words \"hypothesis\" and \"theory\" are often used synonymously, a scientific hypothesis is not the same as a scientific theory.\n",
    "\n",
    "**Examples of hypothesis statements:**If garlic repels fleas, then a dog that is given garlic every day will not get  fleas. Bacterial growth may be affected by moisture levels in the air. If sugar causes cavities, then people who eat a lot of candy may be more prone to cavities."
   ]
  }
 ],
 "metadata": {
  "kernelspec": {
   "display_name": "Python 3 (ipykernel)",
   "language": "python",
   "name": "python3"
  },
  "language_info": {
   "codemirror_mode": {
    "name": "ipython",
    "version": 3
   },
   "file_extension": ".py",
   "mimetype": "text/x-python",
   "name": "python",
   "nbconvert_exporter": "python",
   "pygments_lexer": "ipython3",
   "version": "3.9.7"
  }
 },
 "nbformat": 4,
 "nbformat_minor": 5
}
