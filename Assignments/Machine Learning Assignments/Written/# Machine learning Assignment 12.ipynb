{
 "cells": [
  {
   "cell_type": "markdown",
   "id": "ea53e8a5",
   "metadata": {},
   "source": [
    "# Machine learning Assignment 12"
   ]
  },
  {
   "cell_type": "markdown",
   "id": "066ce18a",
   "metadata": {},
   "source": [
    "## 1. What is prior probability? Give an example.\n"
   ]
  },
  {
   "cell_type": "markdown",
   "id": "234a5495",
   "metadata": {},
   "source": [
    "### Answer\n",
    "\n",
    "#### Prior probability shows the likelihood of an outcome in a given dataset. For example, in the mortgage case, `P(Y)` is the default rate on a home mortgage, which is `2%`. `P(Y|X)` is called the conditional probability, which provides the probability of an outcome given the evidence, that is, when the value of X is known."
   ]
  },
  {
   "cell_type": "markdown",
   "id": "57df1928",
   "metadata": {},
   "source": [
    "## 2. What is posterior probability? Give an example.\n"
   ]
  },
  {
   "cell_type": "markdown",
   "id": "bd6c8d1c",
   "metadata": {},
   "source": [
    "### Answer\n",
    "\n",
    "#### Posterior probability is a revised probability that takes into account new available information. For example, let there be two urns, urn A having 5 black balls and 10 red balls and urn B having 10 black balls and 5 red balls."
   ]
  },
  {
   "cell_type": "markdown",
   "id": "dade0636",
   "metadata": {},
   "source": [
    "## 3. What is likelihood probability? Give an example.\n",
    "\n"
   ]
  },
  {
   "cell_type": "markdown",
   "id": "020a4477",
   "metadata": {},
   "source": [
    "### Answer\n",
    "\n",
    "#### Likelihood Function in Machine Learning and Data Science is the joint probability distribution(jpd) of the dataset given as a function of the parameter. Think of it as the probability of obtaining the observed data given the parameter values.\n"
   ]
  },
  {
   "cell_type": "markdown",
   "id": "90e12eb3",
   "metadata": {},
   "source": [
    "## 4. What is Naïve Bayes classifier? Why is it named so?\n",
    "\n"
   ]
  },
  {
   "cell_type": "markdown",
   "id": "c7c21db7",
   "metadata": {},
   "source": [
    "### Answer\n",
    "\n",
    "#### Naive Bayes is a simple and powerful algorithm for predictive modeling. Naive Bayes is called naive because it assumes that each input variable is independent. This is a strong assumption and unrealistic for real data; however, the technique is very effective on a large range of complex problems."
   ]
  },
  {
   "cell_type": "markdown",
   "id": "89d59066",
   "metadata": {},
   "source": [
    "## 5. What is optimal Bayes classifier?\n",
    "\n"
   ]
  },
  {
   "cell_type": "markdown",
   "id": "2d7b7f7f",
   "metadata": {},
   "source": [
    "### Answer\n",
    "\n",
    "#### The Bayes Optimal Classifier is a probabilistic model that makes the most probable prediction for a new example. Bayes Optimal Classifier is a probabilistic model that finds the most probable prediction using the training data and space of hypotheses to make a prediction for a new data instance."
   ]
  },
  {
   "cell_type": "markdown",
   "id": "83bde879",
   "metadata": {},
   "source": [
    "## 6. Write any two features of Bayesian learning methods.\n"
   ]
  },
  {
   "cell_type": "markdown",
   "id": "dcc4cf78",
   "metadata": {},
   "source": [
    "### Answer\n",
    "#### A probability distribution over observed data for each possible hypothesis. New instances can be classified by combining the predictions of multiple hypotheses, weighted by their probabilities."
   ]
  },
  {
   "cell_type": "markdown",
   "id": "cabcf9e1",
   "metadata": {},
   "source": [
    "\n",
    "## 7. Define the concept of consistent learners.\n",
    "\n"
   ]
  },
  {
   "cell_type": "markdown",
   "id": "b77022c3",
   "metadata": {},
   "source": [
    "### Answer\n",
    "#### **Consistent Learners:** A learner L using a hypothesis H and training data D is said to be a consistent learner if it  always outputs a hypothesis with zero error on D whenever H contains such a hypothesis. • By definition, a consistent learner must produce a hypothesis in the version space for H given D. "
   ]
  },
  {
   "cell_type": "markdown",
   "id": "8c4bc5be",
   "metadata": {},
   "source": [
    "## 8. Write any two strengths of Bayes classifier.\n",
    "\n"
   ]
  },
  {
   "cell_type": "markdown",
   "id": "46aa0fa7",
   "metadata": {},
   "source": [
    "### Answer\n",
    "\n",
    "This algorithm works quickly and can save a lot of time. Naive Bayes is suitable for solving multi-class prediction problems. If its assumption of the independence of features holds true, it can perform better than other models and requires much less training data."
   ]
  },
  {
   "cell_type": "markdown",
   "id": "94c416d2",
   "metadata": {},
   "source": [
    "## 9. Write any two weaknesses of Bayes classifier.\n",
    "\n"
   ]
  },
  {
   "cell_type": "markdown",
   "id": "4c83c324",
   "metadata": {},
   "source": [
    "### Answer\n",
    "#### The greatest weakness of the naïve Bayes classifier is that it relies on an often-faulty assumption of equally important and independent features which results in biased posterior probabilities."
   ]
  },
  {
   "cell_type": "markdown",
   "id": "273686f0",
   "metadata": {},
   "source": [
    "## 10. Explain how Naïve Bayes classifier is used for\n",
    "\n",
    "1. Text classification\n",
    "\n",
    "2. Spam filtering\n",
    "\n",
    "3. Market sentiment analysis\n"
   ]
  },
  {
   "cell_type": "markdown",
   "id": "7f178b1e",
   "metadata": {},
   "source": [
    "### Answer\n",
    "\n",
    "#### Navie Bayes Classifier is used for:\n",
    "- **Text classification:**\n",
    "The Naive Bayes classifier is a simple classifier that classifies based on probabilities of events. It is the applied  commonly to text classification. With the training set, we can train a Naive Bayes classifier which we can use to automaticall categorize a new sentence.\n",
    "- **Spam filtering:**        \n",
    "Naive Bayes classifiers work by correlating the use of tokens (typically words, or sometimes other things), with spam and non-spam e-mails and then using Bayes' theorem to calculate a probability that an email is or is not spam.  It is one of the oldest ways of doing spam filtering, with roots in the 1990s.\n",
    "- **Market sentiment analysis:**    \n",
    "Market Sentiment analysis is a field dedicated to extracting subjective emotions and feelings from text. One common use of sentiment analysis is to figure out if a text expresses negative or positive feelings. Naive Bayes is a popular algorithm for classifying text."
   ]
  }
 ],
 "metadata": {
  "kernelspec": {
   "display_name": "Python 3 (ipykernel)",
   "language": "python",
   "name": "python3"
  },
  "language_info": {
   "codemirror_mode": {
    "name": "ipython",
    "version": 3
   },
   "file_extension": ".py",
   "mimetype": "text/x-python",
   "name": "python",
   "nbconvert_exporter": "python",
   "pygments_lexer": "ipython3",
   "version": "3.9.7"
  }
 },
 "nbformat": 4,
 "nbformat_minor": 5
}
