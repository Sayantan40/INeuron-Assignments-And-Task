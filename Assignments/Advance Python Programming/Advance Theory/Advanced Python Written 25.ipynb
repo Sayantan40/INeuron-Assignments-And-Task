{
 "cells": [
  {
   "cell_type": "markdown",
   "id": "7da0550b",
   "metadata": {},
   "source": [
    "# Advanced Python Written 25."
   ]
  },
  {
   "cell_type": "markdown",
   "id": "29f4fdcb",
   "metadata": {},
   "source": [
    "# Q1. What is the distinction between a numpy array and a pandas data frame? Is there a way to convert between the two if there is?\n",
    "\n",
    "\n",
    "\n"
   ]
  },
  {
   "cell_type": "markdown",
   "id": "a20cfae8",
   "metadata": {},
   "source": [
    "## Answer\n",
    "\n",
    "### Numpy Ndarray provides a lot of convenient and optimized methods for performing several mathematical operations on vectors.\n",
    "\n",
    "### Pandas Dataframe is an in-memory 2-dimensional tabular representation of data. In simpler words, it can be seen as a spreadsheet having rows and columns.\n",
    "\n",
    "### Conversion : `Dataframe=pandas.DataFrame(array)`"
   ]
  },
  {
   "cell_type": "markdown",
   "id": "e372c093",
   "metadata": {},
   "source": [
    "# Q2. What can go wrong when an user enters in a stock-ticker symbol, and how do you handle it?\n",
    "\n",
    "\n",
    "\n"
   ]
  },
  {
   "cell_type": "markdown",
   "id": "06bf205c",
   "metadata": {},
   "source": [
    "## Answer\n",
    "\n",
    "### A ticker symbol is the grouping of a specific set of characters, usually letters, that represent and identify any type of public security that trades on an exchange. Symbols are unique, allowing investors to research and trade shares in the companies they represent."
   ]
  },
  {
   "cell_type": "markdown",
   "id": "1458095f",
   "metadata": {},
   "source": [
    "# Q3. Identify some of the plotting techniques that are used to produce a stock-market chart.\n",
    "\n",
    "\n",
    "\n"
   ]
  },
  {
   "cell_type": "markdown",
   "id": "be45fc04",
   "metadata": {},
   "source": [
    "## Answer\n",
    "\n",
    "### Bar chart, Line Chart are used for plotting.\n",
    "\n"
   ]
  },
  {
   "cell_type": "markdown",
   "id": "54461a88",
   "metadata": {},
   "source": [
    "# Q4. Why is it essential to print a legend on a stock market chart?\n",
    "\n",
    "\n",
    "\n"
   ]
  },
  {
   "cell_type": "markdown",
   "id": "0b85278d",
   "metadata": {},
   "source": [
    "## Answer\n",
    "\n",
    "### Legend will help comparison between different stocks, so will be essential on a stock market chart"
   ]
  },
  {
   "cell_type": "markdown",
   "id": "215053ae",
   "metadata": {},
   "source": [
    "# Q5. What is the best way to limit the length of a pandas data frame to less than a year?\n",
    "\n",
    "\n",
    "\n"
   ]
  },
  {
   "cell_type": "markdown",
   "id": "5a6bfc3d",
   "metadata": {},
   "source": [
    "## Answer\n",
    "\n",
    "### We can use start and end parameters for that. In start we write the date from where we are starting and at the end we write the end date. SO within this span we can restric the duration.Also we can use the parameters like periods for how much times we need the duration and we can also use the frequency parameter."
   ]
  },
  {
   "cell_type": "markdown",
   "id": "6d3c2d44",
   "metadata": {},
   "source": [
    "# Q6. What is the definition of a 180-day moving average?\n",
    "\n",
    "\n",
    "\n"
   ]
  },
  {
   "cell_type": "markdown",
   "id": "1794098d",
   "metadata": {},
   "source": [
    "## Answer\n",
    "### The 180-day moving average is represented as a line on charts and represents the average price over the past 180 days. The moving average can give traders a sense regarding whether the trend is up or down, while also identifying potential support or resistance areas."
   ]
  },
  {
   "cell_type": "markdown",
   "id": "34a2b9ff",
   "metadata": {},
   "source": [
    "# Q7. Did the chapter's final example use \"indirect\" importing? If so, how exactly do you do it?\n"
   ]
  },
  {
   "cell_type": "markdown",
   "id": "91f3f049",
   "metadata": {},
   "source": [
    "## Answer\n",
    "\n",
    "### a situation in which a company buys products from someone in another country using an intermediary (= a person or organization that arranges business agreements), or a product that is bought in this way: The direct or indirect import of diamonds from the country was banned. Some of these goods are indirect imports."
   ]
  }
 ],
 "metadata": {
  "kernelspec": {
   "display_name": "Python 3 (ipykernel)",
   "language": "python",
   "name": "python3"
  },
  "language_info": {
   "codemirror_mode": {
    "name": "ipython",
    "version": 3
   },
   "file_extension": ".py",
   "mimetype": "text/x-python",
   "name": "python",
   "nbconvert_exporter": "python",
   "pygments_lexer": "ipython3",
   "version": "3.9.7"
  }
 },
 "nbformat": 4,
 "nbformat_minor": 5
}
