{
 "cells": [
  {
   "cell_type": "markdown",
   "id": "9db9e37e",
   "metadata": {},
   "source": [
    "# Advanced Python Written 20."
   ]
  },
  {
   "cell_type": "markdown",
   "id": "ac8c7e80",
   "metadata": {},
   "source": [
    "# 1. Compare and contrast the float and Decimal classes' benefits and drawbacks.\n",
    "\n",
    "\n",
    "\n"
   ]
  },
  {
   "cell_type": "markdown",
   "id": "b48af7ce",
   "metadata": {},
   "source": [
    "## Answer\n",
    "\n",
    "###  Both the `float` and `decimal` types store numerical values in Python.\n",
    "\n",
    "### Use `floats` when convenience and speed matter. A float gives you an approximation of the number you declare.\n",
    "\n",
    "### Use `decimals` when precision matters. `Decimals` can suffer from their own precision issues, but generally, `decimals` are more precise than `floats`. The performance difference between `float` and `decimal`, with Python 3, is not outlandish, and in my experience, the precision benefits of a `decimal` outweigh the performance benefits of a `float`."
   ]
  },
  {
   "cell_type": "markdown",
   "id": "3d9317c0",
   "metadata": {},
   "source": [
    "# 2. Decimal('1.200') and Decimal('1.2') are two objects to consider. In what sense are these the same object? Are these just two ways of representing the exact same value, or do they correspond to different internal states?\n",
    "\n",
    "\n",
    "\n"
   ]
  },
  {
   "cell_type": "markdown",
   "id": "88a06d1c",
   "metadata": {},
   "source": [
    "## Answer\n",
    "\n",
    "### Both values are same but internal representation at storage Is different. Precsion  differs, `Decimal('1.200')` gives internally  `1.200` and  `Decimal('1.2')` gives `1.2`."
   ]
  },
  {
   "cell_type": "markdown",
   "id": "4f17a5db",
   "metadata": {},
   "source": [
    "# 3. What happens if the equality of Decimal('1.200') and Decimal('1.2') is checked?\n",
    "\n",
    "\n",
    "\n"
   ]
  },
  {
   "cell_type": "markdown",
   "id": "34eadf00",
   "metadata": {},
   "source": [
    "## Answer\n",
    "\n",
    "### Both values are checked to be equal , they only differ in precision."
   ]
  },
  {
   "cell_type": "markdown",
   "id": "c543b330",
   "metadata": {},
   "source": [
    "# 4. Why is it preferable to start a Decimal object with a string rather than a floating-point value?\n",
    "\n",
    "\n"
   ]
  },
  {
   "cell_type": "markdown",
   "id": "96b7a53d",
   "metadata": {},
   "source": [
    "## Answer \n",
    "\n",
    "### Floating-point value is converted to Decimal format. Decimal can store float value with absolute precision. But when float value is given as Decimal object,it first has to be converted from floating point value which might already have rounding error.\n",
    "\n",
    "### Hence it is preferable to start a Decimal object with a string. "
   ]
  },
  {
   "cell_type": "markdown",
   "id": "b715df93",
   "metadata": {},
   "source": [
    "# 5. In an arithmetic phrase, how simple is it to combine Decimal objects with integers?\n",
    "\n",
    "\n",
    "\n"
   ]
  },
  {
   "cell_type": "markdown",
   "id": "7a93fe5e",
   "metadata": {},
   "source": [
    "## Answer\n",
    "\n",
    "### We can do it with use of Decimal()"
   ]
  },
  {
   "cell_type": "markdown",
   "id": "ac32929f",
   "metadata": {},
   "source": [
    "# 6. Can Decimal objects and floating-point values be combined easily?\n",
    "\n",
    "\n",
    "\n"
   ]
  },
  {
   "cell_type": "markdown",
   "id": "a9450855",
   "metadata": {},
   "source": [
    "## Answer\n",
    "\n",
    "### Arithmetic operfations like Adding,subtracting or multiplying a Decimal object by a floating-point value is generates an error.\n",
    "\n",
    "### To do these operations, the floating point has to be converted to a Decimal."
   ]
  },
  {
   "cell_type": "markdown",
   "id": "631022d1",
   "metadata": {},
   "source": [
    "# 7. Using the Fraction class but not the Decimal class, give an example of a quantity that can be expressed with absolute precision.\n",
    "\n",
    "\n",
    "\n"
   ]
  },
  {
   "cell_type": "markdown",
   "id": "4d5719e9",
   "metadata": {},
   "source": [
    "## Answer\n",
    "\n",
    "### Value of `0.5` will be represented as `½`."
   ]
  },
  {
   "cell_type": "markdown",
   "id": "8b89ca2f",
   "metadata": {},
   "source": [
    "# 8. Describe a quantity that can be accurately expressed by the Decimal or Fraction classes but not by a floating-point value.\n",
    "\n",
    "\n",
    "\n"
   ]
  },
  {
   "cell_type": "markdown",
   "id": "e85dc8bd",
   "metadata": {},
   "source": [
    "## Answer\n",
    "\n",
    "### Decimal numbers can be represented exactly. In contrast, numbers like 1.1 and 2.2 do not have exact representations in binary floating point."
   ]
  },
  {
   "cell_type": "markdown",
   "id": "cba58357",
   "metadata": {},
   "source": [
    "# Q9.Consider the following two fraction objects: Fraction(1, 2) and Fraction(1, 2). (5, 10). Is the internal state of these two objects the same? Why do you think that is?\n",
    "\n",
    "\n"
   ]
  },
  {
   "cell_type": "markdown",
   "id": "ea7b0e88",
   "metadata": {},
   "source": [
    "## Answer\n",
    "\n",
    "### ### Both will be reduced to `1/2`"
   ]
  },
  {
   "cell_type": "markdown",
   "id": "2b51d046",
   "metadata": {},
   "source": [
    "# Q10. How do the Fraction class and the integer type (int) relate to each other? Containment or inheritance?\n"
   ]
  },
  {
   "cell_type": "markdown",
   "id": "0aaedc8e",
   "metadata": {},
   "source": [
    "## Answer\n",
    "\n",
    "### Fraction class and integer type(int) are related in form of a container.It contains two ints, one the numerator and the other the denominator"
   ]
  }
 ],
 "metadata": {
  "kernelspec": {
   "display_name": "Python 3 (ipykernel)",
   "language": "python",
   "name": "python3"
  },
  "language_info": {
   "codemirror_mode": {
    "name": "ipython",
    "version": 3
   },
   "file_extension": ".py",
   "mimetype": "text/x-python",
   "name": "python",
   "nbconvert_exporter": "python",
   "pygments_lexer": "ipython3",
   "version": "3.9.7"
  }
 },
 "nbformat": 4,
 "nbformat_minor": 5
}
