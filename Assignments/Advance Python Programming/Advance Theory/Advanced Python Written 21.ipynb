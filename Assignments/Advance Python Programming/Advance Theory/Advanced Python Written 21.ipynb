{
 "cells": [
  {
   "cell_type": "markdown",
   "id": "3f024fb4",
   "metadata": {},
   "source": [
    "# Advanced Python Written 21."
   ]
  },
  {
   "cell_type": "markdown",
   "id": "088c2133",
   "metadata": {},
   "source": [
    "# Q1. What is a probability distribution, exactly? If the values are meant to be random, how can you predict them at all?\n",
    "\n",
    "\n",
    "\n"
   ]
  },
  {
   "cell_type": "markdown",
   "id": "f0e418d4",
   "metadata": {},
   "source": [
    "## Answer\n",
    "\n",
    "###  A probability distribution describes how a random variable is distributed.\n",
    "\n",
    "### It tells us which values a random variable is most likely to take on and which values are less likely. Based on the previous data and the occurences of the random event, we can predict the outcome in terms of probabilities. "
   ]
  },
  {
   "cell_type": "markdown",
   "id": "1d8f932a",
   "metadata": {},
   "source": [
    "# Q2. Is there a distinction between true random numbers and pseudo-random numbers, if there is one? Why are the latter considered “good enough”?\n",
    "\n",
    "\n",
    "\n"
   ]
  },
  {
   "cell_type": "markdown",
   "id": "ef6a6776",
   "metadata": {},
   "source": [
    "## Answer\n",
    "\n",
    "### True Random Numbers are true physical values while pseudo-random numbers are generated internally by a program . Latter is considered good enough as they have sort of uniform distribution."
   ]
  },
  {
   "cell_type": "markdown",
   "id": "b6ec6546",
   "metadata": {},
   "source": [
    "# Q3. What are the two main factors that influence the behaviour of a \"normal\" probability distribution?\n",
    "\n",
    "\n",
    "\n"
   ]
  },
  {
   "cell_type": "markdown",
   "id": "51443e3a",
   "metadata": {},
   "source": [
    "## Answer\n",
    "\n",
    "### Normal Probability Distribution are influenced by two factors mean and the variance."
   ]
  },
  {
   "cell_type": "markdown",
   "id": "1201b11f",
   "metadata": {},
   "source": [
    "# Q4. Provide a real-life example of a normal distribution.\n",
    "\n",
    "\n",
    "\n"
   ]
  },
  {
   "cell_type": "markdown",
   "id": "20566443",
   "metadata": {},
   "source": [
    "## Answer\n",
    "\n",
    "###  A Real-life example of a normal distribution are heights or blood pressure measurements"
   ]
  },
  {
   "cell_type": "markdown",
   "id": "e6652e99",
   "metadata": {},
   "source": [
    "# Q5. In the short term, how can you expect a probability distribution to behave? What do you think will happen as the number of trials grows?\n",
    "\n",
    "\n",
    "\n"
   ]
  },
  {
   "cell_type": "markdown",
   "id": "6d2d26ca",
   "metadata": {},
   "source": [
    "## Answer\n",
    "\n",
    "### Variance will decrease with number of trials"
   ]
  },
  {
   "cell_type": "markdown",
   "id": "a26ef52d",
   "metadata": {},
   "source": [
    "# Q6. What kind of object can be shuffled by using random.shuffle?\n",
    "\n",
    "\n",
    "\n"
   ]
  },
  {
   "cell_type": "markdown",
   "id": "0a384fb1",
   "metadata": {},
   "source": [
    "## Answer\n",
    "\n",
    "### lists (`list`), strings (`str`) and tuples (`tuple`) objects can be shuffled by using `random.shuffle`."
   ]
  },
  {
   "cell_type": "markdown",
   "id": "6f10a12d",
   "metadata": {},
   "source": [
    "# Q7. Describe the math package's general categories of functions.\n",
    "\n",
    "\n",
    "\n"
   ]
  },
  {
   "cell_type": "markdown",
   "id": "910bc7ac",
   "metadata": {},
   "source": [
    "## Answer\n",
    "\n",
    "### The Math package's general categories of functions are:\n",
    "1. Trigonometric functions\n",
    "2. Quadratic functions\n",
    "3. Exponential functions\n",
    "4. Hyperbolic functions\n",
    "5. Periodic functions\n",
    "6. Arithmetic functions\n",
    "7. Logarithimic functions\n",
    "8. Conversions to Integer"
   ]
  },
  {
   "cell_type": "markdown",
   "id": "4eb0c1b9",
   "metadata": {},
   "source": [
    "# Q8. What is the relationship between exponentiation and logarithms?\n",
    "\n",
    "\n",
    "\n"
   ]
  },
  {
   "cell_type": "markdown",
   "id": "b2c26ba8",
   "metadata": {},
   "source": [
    "## Answer\n",
    "\n",
    "### Exponentiation and logarithms are inverse of each other. "
   ]
  },
  {
   "cell_type": "markdown",
   "id": "f0c12e64",
   "metadata": {},
   "source": [
    "# Q9. What are the three logarithmic functions that Python supports?\n"
   ]
  },
  {
   "cell_type": "markdown",
   "id": "5904d1f9",
   "metadata": {},
   "source": [
    "## Answer\n",
    "\n",
    "### The Three Logarithmic Functions that Python supports are:\n",
    "1. `log2(x)` - logarithmic value of x to base 2\n",
    "2. `log10(x)` - logarithmic value of x to base 10 \n",
    "3. `log1p(a)` - This function is used to compute logarithm(1+a) . "
   ]
  }
 ],
 "metadata": {
  "kernelspec": {
   "display_name": "Python 3 (ipykernel)",
   "language": "python",
   "name": "python3"
  },
  "language_info": {
   "codemirror_mode": {
    "name": "ipython",
    "version": 3
   },
   "file_extension": ".py",
   "mimetype": "text/x-python",
   "name": "python",
   "nbconvert_exporter": "python",
   "pygments_lexer": "ipython3",
   "version": "3.9.7"
  }
 },
 "nbformat": 4,
 "nbformat_minor": 5
}
