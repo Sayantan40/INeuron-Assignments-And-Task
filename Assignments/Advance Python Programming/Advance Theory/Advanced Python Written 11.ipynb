{
 "cells": [
  {
   "cell_type": "markdown",
   "id": "7c439682",
   "metadata": {},
   "source": [
    "# Advanced Python Written 11."
   ]
  },
  {
   "cell_type": "markdown",
   "id": "17534b60",
   "metadata": {},
   "source": [
    "# Q1. What is the concept of a metaclass?\n",
    "\n",
    "\n"
   ]
  },
  {
   "cell_type": "markdown",
   "id": "4af57f94",
   "metadata": {},
   "source": [
    "## Answer\n",
    "\n",
    "### Metaclass in Python is a class of a class that defines how a class behaves. A class is itself a instance of Metaclass, and any Instance of Class in Python is an Instance of type metaclass. E.g. Type of of `int`, `str`, `float`, `list`, `tuple` and many more is of metaclass type. "
   ]
  },
  {
   "cell_type": "markdown",
   "id": "63ae991b",
   "metadata": {},
   "source": [
    "# Q2. What is the best way to declare a class's metaclass?\n",
    "\n",
    "\n",
    "\n"
   ]
  },
  {
   "cell_type": "markdown",
   "id": "1e375645",
   "metadata": {},
   "source": [
    "## Answer \n",
    "\n",
    "### A way to declare a class’ metaclass is by using **`metaclass`** keyword in class definition."
   ]
  },
  {
   "cell_type": "code",
   "execution_count": null,
   "id": "7ec1e2b6",
   "metadata": {},
   "outputs": [],
   "source": [
    "class meta(type):\n",
    "    pass\n",
    "class class_meta(metaclass=meta):\n",
    "    pass\n",
    "print(type(meta))\n",
    "print(type(class_meta))"
   ]
  },
  {
   "cell_type": "markdown",
   "id": "2d946d18",
   "metadata": {},
   "source": [
    "#  Q3. How do class decorators overlap with metaclasses for handling classes?\n",
    "\n",
    "\n",
    "\n"
   ]
  },
  {
   "cell_type": "markdown",
   "id": "af0486ab",
   "metadata": {},
   "source": [
    "## Answer\n",
    "\n",
    "### Anything you can do with a class decorator, you can of course do with a custom metaclasses (just apply the functionality of the \"decorator function\", i.e., the one that takes a class object and modifies it, in the course of the metaclass's **`__new__`** or **`__init__`** that make the class object!)."
   ]
  },
  {
   "cell_type": "markdown",
   "id": "df7317e8",
   "metadata": {},
   "source": [
    "# Q4. How do class decorators overlap with metaclasses for handling instances?\n"
   ]
  },
  {
   "cell_type": "markdown",
   "id": "6e0ece3e",
   "metadata": {},
   "source": [
    "## Answer\n",
    "\n",
    "###  Anything you can do with a class decorator, you can of course do with a custom metaclass (just apply the functionality of the \"decorator function\", i.e., the one that takes a class object and modifies it, in the course of the metaclass's **`__new__`** or **`__init__`** that make the class object!)."
   ]
  }
 ],
 "metadata": {
  "kernelspec": {
   "display_name": "Python 3 (ipykernel)",
   "language": "python",
   "name": "python3"
  },
  "language_info": {
   "codemirror_mode": {
    "name": "ipython",
    "version": 3
   },
   "file_extension": ".py",
   "mimetype": "text/x-python",
   "name": "python",
   "nbconvert_exporter": "python",
   "pygments_lexer": "ipython3",
   "version": "3.9.7"
  }
 },
 "nbformat": 4,
 "nbformat_minor": 5
}
