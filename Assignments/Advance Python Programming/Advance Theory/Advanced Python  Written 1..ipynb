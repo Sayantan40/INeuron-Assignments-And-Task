{
 "cells": [
  {
   "cell_type": "markdown",
   "id": "f010f5d5",
   "metadata": {},
   "source": [
    "# Advanced Python  Written 1."
   ]
  },
  {
   "cell_type": "markdown",
   "id": "b1146153",
   "metadata": {},
   "source": [
    "# Q1. What is the purpose of Python's OOP?\n",
    "\n"
   ]
  },
  {
   "cell_type": "markdown",
   "id": "136e3b0f",
   "metadata": {},
   "source": [
    "### Answer \n",
    "\n",
    "### In Python, object-oriented Programming (OOPs) is a programming paradigm that uses objects and classes in programming. It aims to implement real-world entities like inheritance, polymorphisms, encapsulation, etc. in the programming.\n",
    "\n",
    "### Here's a look at some of OOP's top benefits:\n",
    "- #### Modularity for easier troubleshooting. When working with object-oriented programming languages, you know exactly where to look when something goes wrong. ...\n",
    "- #### Reuse of code through inheritance. ...\n",
    "- #### Flexibility through polymorphism. ...\n",
    "- #### Effective problem solving.\n"
   ]
  },
  {
   "cell_type": "markdown",
   "id": "b9d4ef88",
   "metadata": {},
   "source": [
    "# Q2. Where does an inheritance search look for an attribute?\n"
   ]
  },
  {
   "cell_type": "markdown",
   "id": "65813253",
   "metadata": {},
   "source": [
    "### Answer \n",
    "\n",
    "### All of these objects are namespaces (packages of variables), and the inheritance search is simply a search of the tree from bottom to top looking for the lowest occurrence of an attribute name.\n",
    "\n",
    "### Every time you use an expression of the form object. attr where object is an instance or class object, Python searches the namespace tree at and above object , for the first attr it can find. Because lower definitions in the tree override higher ones, inheritance forms the basis of specialization."
   ]
  },
  {
   "cell_type": "markdown",
   "id": "cc346728",
   "metadata": {},
   "source": [
    "# Q3. How do you distinguish between a class object and an instance object?\n",
    "\n"
   ]
  },
  {
   "cell_type": "markdown",
   "id": "d2b98388",
   "metadata": {},
   "source": [
    "### Answer \n",
    "\n",
    "###  Class\t                                                                                       \n",
    "\n",
    "#### A class is a template for creating objects in program.\t                        \n",
    "#### A class is a logical entity\t                                                                      \n",
    "#### A class does not allocate memory space when it is created.\t              \n",
    "\n",
    "### Object\n",
    "#### The object is an instance of a class.\n",
    "####  Object is a physical entity.\n",
    "#### Object allocates memory space whenever they are created.\n"
   ]
  },
  {
   "cell_type": "markdown",
   "id": "93d83445",
   "metadata": {},
   "source": [
    "# Q4. What makes the first argument in a class’s method function special?\n",
    "\n",
    "\n",
    "\n"
   ]
  },
  {
   "cell_type": "markdown",
   "id": "2a0b6687",
   "metadata": {},
   "source": [
    "## Answer \n",
    "\n",
    "### The first argument of every class method, including init, is always a reference to the current instance of the class. By convention, this argument is always named self. In the init method, self refers to the newly created object; in other class methods, it refers to the instance whose method was called.\n",
    "\n",
    "### A class method is similar to an instance method, but it has a class object passed as its first argument. Recall that, when an instance method is called from an instance object, that instance object is automatically passed as the first argument to the method."
   ]
  },
  {
   "cell_type": "markdown",
   "id": "af973a73",
   "metadata": {},
   "source": [
    "# Q5. What is the purpose of the __init__ method?\n",
    "\n",
    "\n",
    "\n"
   ]
  },
  {
   "cell_type": "markdown",
   "id": "ffe8877d",
   "metadata": {},
   "source": [
    "### Answer \n",
    "\n",
    "###   __init__ method\n",
    "### It is called as a constructor in object oriented terminology. This method is called when an object is created from a class and it allows the class to initialize the attributes of the class.\n",
    "\n"
   ]
  },
  {
   "cell_type": "markdown",
   "id": "b5986c17",
   "metadata": {},
   "source": [
    "# Q6. What is the process for creating a class instance?\n",
    "\n",
    "\n",
    "\n"
   ]
  },
  {
   "cell_type": "markdown",
   "id": "04d01a5d",
   "metadata": {},
   "source": [
    "### Answer \n",
    "\n",
    "### When you create an object, you are creating an instance of a class, therefore \"instantiating\" a class. The new operator requires a single, postfix argument: a call to a constructor. The name of the constructor provides the name of the class to instantiate. The constructor initializes the new object.\n",
    "\n"
   ]
  },
  {
   "cell_type": "markdown",
   "id": "f656f086",
   "metadata": {},
   "source": [
    "# Q7. What is the process for creating a class?\n",
    "\n",
    "\n",
    "\n"
   ]
  },
  {
   "cell_type": "markdown",
   "id": "eb4a1865",
   "metadata": {},
   "source": [
    "### Answer\n",
    "\n",
    "### Python Classes and Objects\n",
    "- 1. #### Create a Class. To create a class, use the keyword class : ...\n",
    "- 2. #### Create Object. Now we can use the class named MyClass to create objects: ...\n",
    "- 3. #### The self Parameter. ...\n",
    "- 4. #### Modify Object Properties. ...\n",
    "- 5. #### Delete Object Properties. ...\n",
    "- 6. #### Delete Objects.\n",
    "\n"
   ]
  },
  {
   "cell_type": "markdown",
   "id": "7e8be9ad",
   "metadata": {},
   "source": [
    "# Q8. How would you define the superclasses of a class?"
   ]
  },
  {
   "cell_type": "markdown",
   "id": "780f0269",
   "metadata": {},
   "source": [
    "### Answer \n",
    "\n",
    "### A superclass is the class from which many subclasses can be created. The subclasses inherit the characteristics of a superclass. The superclass is also known as the parent class or base class.\n",
    "\n",
    "### The class from which a class inherits is called the parent or superclass. A class which inherits from a superclass is called a subclass, also called heir class or child class. Superclasses are sometimes called ancestors as well."
   ]
  }
 ],
 "metadata": {
  "kernelspec": {
   "display_name": "Python 3 (ipykernel)",
   "language": "python",
   "name": "python3"
  },
  "language_info": {
   "codemirror_mode": {
    "name": "ipython",
    "version": 3
   },
   "file_extension": ".py",
   "mimetype": "text/x-python",
   "name": "python",
   "nbconvert_exporter": "python",
   "pygments_lexer": "ipython3",
   "version": "3.9.7"
  }
 },
 "nbformat": 4,
 "nbformat_minor": 5
}
