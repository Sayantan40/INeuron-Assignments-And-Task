{
 "cells": [
  {
   "cell_type": "markdown",
   "id": "d87e32bb",
   "metadata": {},
   "source": [
    "# Advanced Python Programming 10."
   ]
  },
  {
   "cell_type": "markdown",
   "id": "3073ec0d",
   "metadata": {},
   "source": [
    "### 1. Create a function that takes the width, height and character and returns a picture frame as a 2D list.\n",
    "**Examples:**    \n",
    "`get_frame(4, 5, \"#\") ➞ [\n",
    "  [\"####\"],\n",
    "  [\"#  #\"],\n",
    "  [\"#  #\"],\n",
    "  [\"#  #\"],\n",
    "  [\"####\"]\n",
    "]`  \n",
    "`# Frame is 4 characters wide and 5 characters tall.`  \n",
    "\n",
    "`get_frame(10, 3, \"*\") ➞ [\n",
    "  [\"**********\"],\n",
    "  [\"*        *\"],\n",
    "  [\"**********\"]\n",
    "]`   \n",
    "`# Frame is 10 characters and wide and 3 characters tall.`  \n",
    "\n",
    "`get_frame(2, 5, \"0\") ➞ \"invalid\"`   \n",
    "`# Frame's width is not more than 2.`"
   ]
  },
  {
   "cell_type": "markdown",
   "id": "3a388345",
   "metadata": {},
   "source": [
    "### Answer"
   ]
  },
  {
   "cell_type": "code",
   "execution_count": 1,
   "id": "59d183ed",
   "metadata": {},
   "outputs": [],
   "source": [
    "def get_frame(width,height,char):\n",
    "    \n",
    "    try:\n",
    "        \n",
    "        if width <= 2:\n",
    "            \n",
    "            print(\"Invalid\")\n",
    "        else:\n",
    "            output_list = []\n",
    "            \n",
    "            for heights in range(height):\n",
    "                \n",
    "                if heights == 0 or heights == height-1:\n",
    "                    \n",
    "                    output_list.append([width * char])\n",
    "                \n",
    "                else:\n",
    "                    \n",
    "                    output_list.append([char + ' ' *(width-2)+char])\n",
    "            \n",
    "            for i in output_list:\n",
    "                \n",
    "                print(i)\n",
    "            \n",
    "            print()\n",
    "            \n",
    "    except Exception as e:\n",
    "        \n",
    "        print(f\"There is an error {e}\")\n",
    "    \n",
    "    \n"
   ]
  },
  {
   "cell_type": "code",
   "execution_count": 2,
   "id": "82cc1782",
   "metadata": {},
   "outputs": [
    {
     "name": "stdout",
     "output_type": "stream",
     "text": [
      "['####']\n",
      "['#  #']\n",
      "['#  #']\n",
      "['#  #']\n",
      "['####']\n",
      "\n",
      "['**********']\n",
      "['*        *']\n",
      "['**********']\n",
      "\n",
      "Invalid\n"
     ]
    }
   ],
   "source": [
    "get_frame(4, 5, \"#\")\n",
    "get_frame(10, 3, \"*\")\n",
    "get_frame(2, 5, \"0\")"
   ]
  },
  {
   "cell_type": "markdown",
   "id": "47357da4",
   "metadata": {},
   "source": [
    "### 2. Write three functions:\n",
    "  1. boolean_and\n",
    "  2. boolean_or\n",
    "  3. boolean_xor\n",
    "  \n",
    "### These functions should evaluate a list of True and False values, starting from the leftmost element and evaluating pairwise.\n",
    "**Examples:**    \n",
    "`boolean_and([True, True, False, True]) ➞ False`  \n",
    "`# [True, True, False, True] => [True, False, True] => [False, True] => False`   \n",
    "\n",
    "`boolean_or([True, True, False, False]) ➞ True`   \n",
    "`# [True, True, False, True] => [True, False, False] => [True, False] => True`  \n",
    "\n",
    "`boolean_xor([True, True, False, False]) ➞ False`   \n",
    "`# [True, True, False, False] => [False, False, False] => [False, False] => False`  "
   ]
  },
  {
   "cell_type": "markdown",
   "id": "a7286885",
   "metadata": {},
   "source": [
    "### Answer"
   ]
  },
  {
   "cell_type": "code",
   "execution_count": 15,
   "id": "c3208551",
   "metadata": {},
   "outputs": [],
   "source": [
    "def boolean_and(list1):\n",
    "    try:\n",
    "        list_clone = list1.copy()\n",
    "        \n",
    "        while len(list1) != 1:\n",
    "            \n",
    "            x = list1.pop(0)\n",
    "            \n",
    "            y = list1.pop(0)\n",
    "            \n",
    "            list1.insert(0,(x and y))\n",
    "        \n",
    "        print(f'boolean_and({list_clone}) ➞ {list1[0]}')\n",
    "    \n",
    "    except Exception as e:\n",
    "        \n",
    "        print(f\"There is an error {e}\")\n",
    "    \n",
    "    "
   ]
  },
  {
   "cell_type": "code",
   "execution_count": 16,
   "id": "b8618aaf",
   "metadata": {},
   "outputs": [
    {
     "name": "stdout",
     "output_type": "stream",
     "text": [
      "boolean_and([True, True, False, True]) ➞ False\n"
     ]
    }
   ],
   "source": [
    "boolean_and([True, True, False, True])"
   ]
  },
  {
   "cell_type": "code",
   "execution_count": 5,
   "id": "08ed465b",
   "metadata": {},
   "outputs": [],
   "source": [
    "def boolean_or(list1):\n",
    "    \n",
    "    try:\n",
    "        list_clone = list1.copy()\n",
    "        \n",
    "        while len(list1) != 1:\n",
    "            \n",
    "            x = list1.pop(0)\n",
    "            \n",
    "            y = list1.pop(0)\n",
    "            \n",
    "            list1.insert(0,(x or y))\n",
    "        \n",
    "        print(f'boolean_or({list_clone}) ➞ {list1[0]}')\n",
    "    \n",
    "    except Exception as e:\n",
    "        \n",
    "        print(f\"There is an error {e}\")\n",
    "    "
   ]
  },
  {
   "cell_type": "code",
   "execution_count": 6,
   "id": "93a8d0ae",
   "metadata": {},
   "outputs": [
    {
     "name": "stdout",
     "output_type": "stream",
     "text": [
      "boolean_or([True, True, False, False]) ➞ True\n"
     ]
    }
   ],
   "source": [
    "boolean_or([True, True, False, False])"
   ]
  },
  {
   "cell_type": "code",
   "execution_count": 7,
   "id": "3a4db8f1",
   "metadata": {},
   "outputs": [],
   "source": [
    "def boolean_xor(list1):\n",
    "    \n",
    "    try:\n",
    "        \n",
    "        list_clone = list1.copy()\n",
    "        \n",
    "        while len(list1) != 1:\n",
    "            \n",
    "            x = list1.pop(0)\n",
    "            \n",
    "            y = list1.pop(0)\n",
    "            \n",
    "            list1.insert(0,(x ^ y))\n",
    "        \n",
    "        print(f'boolean_xor({list_clone}) ➞ {list1[0]}')\n",
    "    \n",
    "    except Exception as e:\n",
    "        \n",
    "        print(f\"There is an error {e}\")\n",
    "    "
   ]
  },
  {
   "cell_type": "code",
   "execution_count": 8,
   "id": "d8eb548b",
   "metadata": {},
   "outputs": [
    {
     "name": "stdout",
     "output_type": "stream",
     "text": [
      "boolean_xor([True, True, False, False]) ➞ False\n"
     ]
    }
   ],
   "source": [
    "boolean_xor([True, True, False, False])"
   ]
  },
  {
   "cell_type": "markdown",
   "id": "8fb7f30f",
   "metadata": {},
   "source": [
    "### 3. Create a function that creates a box based on dimension n.\n",
    "**Examples:**    \n",
    "`make_box(5) ➞ [\n",
    "  \"#####\",\n",
    "  \"#   #\",\n",
    "  \"#   #\",\n",
    "  \"#   #\",\n",
    "  \"#####\"\n",
    "]`\n",
    "\n",
    "`make_box(3) ➞ [\n",
    "  \"###\",\n",
    "  \"# #\",\n",
    "  \"###\"\n",
    "]`\n",
    "\n",
    "`make_box(2) ➞ [\n",
    "  \"##\",\n",
    "  \"##\"\n",
    "]`\n",
    "\n",
    "`make_box(1) ➞ [\n",
    "  \"#\"\n",
    "]`"
   ]
  },
  {
   "cell_type": "markdown",
   "id": "aa6831c6",
   "metadata": {},
   "source": [
    "### Answer"
   ]
  },
  {
   "cell_type": "code",
   "execution_count": 9,
   "id": "ef8439ae",
   "metadata": {},
   "outputs": [],
   "source": [
    "def make_box(dimension):\n",
    "    try:\n",
    "        output_list = []\n",
    "        \n",
    "        for values in range(dimension):\n",
    "            \n",
    "            if values == 0 or values == dimension-1:\n",
    "                \n",
    "                output_list.append('#'*dimension)\n",
    "            \n",
    "            else:\n",
    "                \n",
    "                output_list.append('#'+' '*(dimension-2)+'#')\n",
    "        \n",
    "        for i in output_list:\n",
    "            \n",
    "            print(i)\n",
    "        \n",
    "        print()\n",
    "    \n",
    "    except Exception as e:\n",
    "        \n",
    "        print(f\"There is an error {e}\")\n",
    "    \n"
   ]
  },
  {
   "cell_type": "code",
   "execution_count": 10,
   "id": "8bb22005",
   "metadata": {},
   "outputs": [
    {
     "name": "stdout",
     "output_type": "stream",
     "text": [
      "#####\n",
      "#   #\n",
      "#   #\n",
      "#   #\n",
      "#####\n",
      "\n",
      "###\n",
      "# #\n",
      "###\n",
      "\n",
      "##\n",
      "##\n",
      "\n",
      "#\n",
      "\n"
     ]
    }
   ],
   "source": [
    "make_box(5)\n",
    "make_box(3)\n",
    "make_box(2)\n",
    "make_box(1)"
   ]
  },
  {
   "cell_type": "markdown",
   "id": "ba20b553",
   "metadata": {},
   "source": [
    "### 4. Given a common phrase, return False if any individual word in the phrase contains duplicate letters. Return True otherwise.\n",
    "**Examples:**    \n",
    "`no_duplicate_letters(\"Fortune favours the bold.\") ➞ True`   \n",
    "`no_duplicate_letters(\"You can lead a horse to water, but you can't make him drink.\") ➞ True`   \n",
    "`no_duplicate_letters(\"Look before you leap.\") ➞ False`   \n",
    "`# Duplicate letters in \"Look\" and \"before\".`   \n",
    "`no_duplicate_letters(\"An apple a day keeps the doctor away.\") ➞ False`  \n",
    "`# Duplicate letters in \"apple\", \"keeps\", \"doctor\", and \"away\".`   "
   ]
  },
  {
   "cell_type": "markdown",
   "id": "900e135f",
   "metadata": {},
   "source": [
    "### Answer"
   ]
  },
  {
   "cell_type": "code",
   "execution_count": 11,
   "id": "62c8e05d",
   "metadata": {},
   "outputs": [],
   "source": [
    "def no_duplicate_letters(string):\n",
    "    try:\n",
    "        out_put = None\n",
    "        \n",
    "        for values in string.split(' '):\n",
    "            \n",
    "            if len(values) == len(set(values)):\n",
    "                \n",
    "                out_put = True\n",
    "            \n",
    "            else:\n",
    "                \n",
    "                out_put = False\n",
    "                \n",
    "                break\n",
    "        \n",
    "        print(f'no_duplicate_letters({string}) ➞ {out_put}')\n",
    "    \n",
    "    except Exception as e:\n",
    "        \n",
    "        print(f\"There is an error {e}\")\n",
    "    \n"
   ]
  },
  {
   "cell_type": "code",
   "execution_count": 12,
   "id": "90456920",
   "metadata": {},
   "outputs": [
    {
     "name": "stdout",
     "output_type": "stream",
     "text": [
      "no_duplicate_letters(Fortune favours the bold.) ➞ True\n",
      "no_duplicate_letters(You can lead a horse to water, but you can't make him drink.) ➞ True\n",
      "no_duplicate_letters(Look before you leap.) ➞ False\n",
      "no_duplicate_letters(An apple a day keeps the doctor away.) ➞ False\n"
     ]
    }
   ],
   "source": [
    "no_duplicate_letters(\"Fortune favours the bold.\")\n",
    "no_duplicate_letters(\"You can lead a horse to water, but you can't make him drink.\")\n",
    "no_duplicate_letters(\"Look before you leap.\")\n",
    "no_duplicate_letters(\"An apple a day keeps the doctor away.\")"
   ]
  },
  {
   "cell_type": "markdown",
   "id": "ce2c6c45",
   "metadata": {},
   "source": [
    "### 5. Write a regular expression that will match the states that voted yes to President Trump's impeachment. You must use RegEx positive lookahead.\n",
    "**Examples:**    \n",
    "`txt = \"Texas = no, California = yes, Florida = yes, Michigan = no\"`   \n",
    "`pattern = \"yourregularexpressionhere\"`   \n",
    "`re.findall(pattern, txt) ➞ [\"California\", \"Florida\"]`  \n"
   ]
  },
  {
   "cell_type": "markdown",
   "id": "ef7ce1a0",
   "metadata": {},
   "source": [
    "### Answer"
   ]
  },
  {
   "cell_type": "code",
   "execution_count": 14,
   "id": "24766ef6",
   "metadata": {},
   "outputs": [
    {
     "name": "stdout",
     "output_type": "stream",
     "text": [
      "re.findall('\\\\w+(?=\\\\s=\\\\syes*)', 'Texas = no, California = yes, Florida = yes, Michigan = no') ➞ ['California', 'Florida']\n"
     ]
    }
   ],
   "source": [
    "import re\n",
    "\n",
    "txt = \"Texas = no, California = yes, Florida = yes, Michigan = no\"\n",
    "\n",
    "pattern = r'\\w+(?=\\s=\\syes*)'\n",
    "\n",
    "match = re.findall(pattern,txt)\n",
    "\n",
    "print(f're.findall{pattern,txt} ➞ {match}')"
   ]
  }
 ],
 "metadata": {
  "kernelspec": {
   "display_name": "Python 3 (ipykernel)",
   "language": "python",
   "name": "python3"
  },
  "language_info": {
   "codemirror_mode": {
    "name": "ipython",
    "version": 3
   },
   "file_extension": ".py",
   "mimetype": "text/x-python",
   "name": "python",
   "nbconvert_exporter": "python",
   "pygments_lexer": "ipython3",
   "version": "3.9.7"
  }
 },
 "nbformat": 4,
 "nbformat_minor": 5
}
