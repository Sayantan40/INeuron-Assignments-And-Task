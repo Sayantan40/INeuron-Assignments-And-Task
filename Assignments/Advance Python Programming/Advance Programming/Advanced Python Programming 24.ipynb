{
 "cells": [
  {
   "cell_type": "markdown",
   "id": "da802aee",
   "metadata": {},
   "source": [
    "# Advanced Python Programming 24."
   ]
  },
  {
   "cell_type": "markdown",
   "id": "7301b54c",
   "metadata": {},
   "source": [
    "### 1. Implement a class iterator to flatten a nested list of lists of integers. Each list element is either an integer or a list. There can be many levels of nested lists in lists.\n",
    "\n",
    "#### The class initializes with a nested list. It also has two methods:\n",
    "\n",
    "  1. next() returns an integer in the order of appearance.\n",
    "  2. hasNext() returns True / False regarding if all integers have been retrieved or not.\n",
    "\n",
    "#### Write the Class implementation for three required methods.\n",
    "\n",
    "**Examples:**   \n",
    "\n",
    "`ni, actual = NestedIterator([[1, 1], 2, [1, 1]]), []\n",
    "while ni.hasNext():\n",
    "    actual.append(ni.next())\n",
    "actual ➞ [1, 1, 2, 1, 1]`\n",
    "\n",
    "`ni, actual = NestedIterator([1, [4, [6]]]), []\n",
    "while ni.hasNext():\n",
    "    actual.append(ni.next())\n",
    "actual ➞ [1, 4, 6]`\n",
    "\n",
    "`ni, actual = NestedIterator([[[]], []]), []\n",
    "while ni.hasNext():\n",
    "    actual.append(ni.next())\n",
    "actual ➞ []`"
   ]
  },
  {
   "cell_type": "markdown",
   "id": "3e1014eb",
   "metadata": {},
   "source": [
    "### Answer"
   ]
  },
  {
   "cell_type": "code",
   "execution_count": null,
   "id": "bf742c9f",
   "metadata": {},
   "outputs": [],
   "source": [
    "class NestedIterator:\n",
    "    \n",
    "    def __init__(self,in_list):\n",
    "        self.list = in_list\n",
    "        self.flatten_list = []\n",
    "        self.test(self.list)\n",
    "    \n",
    "    \n",
    "    def test(self,in_list):\n",
    "        \n",
    "        for ele in in_list:\n",
    "            \n",
    "            if isinstance(ele,int):\n",
    "                self.flatten_list.append(ele)\n",
    "            else:\n",
    "                self.test(ele)\n",
    "                \n",
    "    \n",
    "    def hasNext(self):\n",
    "        \n",
    "        return True if len(self.flatten_list) > 0 else False\n",
    "    \n",
    "    \n",
    "    def next(self):\n",
    "        \n",
    "        return self.flatten_list.pop(0)\n",
    "    \n"
   ]
  },
  {
   "cell_type": "code",
   "execution_count": 6,
   "id": "1a326677",
   "metadata": {},
   "outputs": [
    {
     "name": "stdout",
     "output_type": "stream",
     "text": [
      "actual ➞ [1, 1, 2, 1, 1]\n"
     ]
    }
   ],
   "source": [
    "ni, actual = NestedIterator([[1, 1], 2, [1, 1]]), []\n",
    "while ni.hasNext():\n",
    "    actual.append(ni.next())\n",
    "print(f'actual ➞ {actual}')\n"
   ]
  },
  {
   "cell_type": "code",
   "execution_count": 7,
   "id": "99c4e89b",
   "metadata": {},
   "outputs": [
    {
     "name": "stdout",
     "output_type": "stream",
     "text": [
      "actual ➞ [1, 4, 6]\n"
     ]
    }
   ],
   "source": [
    "ni, actual = NestedIterator([1, [4, [6]]]), []\n",
    "while ni.hasNext():\n",
    "    actual.append(ni.next())\n",
    "print(f'actual ➞ {actual}')\n"
   ]
  },
  {
   "cell_type": "code",
   "execution_count": 8,
   "id": "df3981a3",
   "metadata": {},
   "outputs": [
    {
     "name": "stdout",
     "output_type": "stream",
     "text": [
      "actual ➞ []\n"
     ]
    }
   ],
   "source": [
    "ni, actual = NestedIterator([[[]], []]), []\n",
    "while ni.hasNext():\n",
    "    actual.append(ni.next())\n",
    "print(f'actual ➞ {actual}')"
   ]
  },
  {
   "cell_type": "markdown",
   "id": "41f0e5c7",
   "metadata": {},
   "source": [
    "### 2. Given a 3x3 matrix of a completed tic-tac-toe game, create a function that returns whether the game is a win for \"X\", \"O\", or a \"Draw\", where \"X\" and \"O\" represent themselves on the matrix, and \"E\" represents an empty spot.\n",
    "**Examples:**   \n",
    "`tic_tac_toe([\n",
    "  [\"X\", \"O\", \"X\"],\n",
    "  [\"O\", \"X\",  \"O\"],\n",
    "  [\"O\", \"X\",  \"X\"]\n",
    "]) ➞ \"X\"`  \n",
    "\n",
    "`tic_tac_toe([\n",
    "  [\"O\", \"O\", \"O\"],\n",
    "  [\"O\", \"X\", \"X\"],\n",
    "  [\"E\", \"X\", \"X\"]\n",
    "]) ➞ \"O\"`  \n",
    "\n",
    "`tic_tac_toe([\n",
    "  [\"X\", \"X\", \"O\"],\n",
    "  [\"O\", \"O\", \"X\"],\n",
    "  [\"X\", \"X\", \"O\"]\n",
    "]) ➞ \"Draw\"`  "
   ]
  },
  {
   "cell_type": "markdown",
   "id": "be2f4931",
   "metadata": {},
   "source": [
    "### Answer"
   ]
  },
  {
   "cell_type": "code",
   "execution_count": 9,
   "id": "eecc3138",
   "metadata": {},
   "outputs": [],
   "source": [
    "def tic_tac_toe(in_list):\n",
    "    \n",
    "    output = None  \n",
    "    \n",
    "    # Case 1 to search for horizontal match\n",
    "    for ele in in_list:\n",
    "        if len(list(set(ele))) == 1:\n",
    "            output = list(set(ele))[0]\n",
    "            break\n",
    "    \n",
    "    # Case 2 to search for vertical match   \n",
    "    if output == None:\n",
    "        for i in range(len(in_list)):\n",
    "            temp = []\n",
    "            for j in range(len(in_list)): temp.append(in_list[j][i])\n",
    "            if len(list(set(temp))) == 1: output = list(set(temp))[0]\n",
    "    \n",
    "    # Case 3 to search for diagonal match\n",
    "    if output == None:\n",
    "        temp = []\n",
    "        for ele in [0,1,2]:\n",
    "            temp.append(in_list[ele][ele])\n",
    "        if len(list(set(temp))) == 1: output = list(set(temp))[0]\n",
    "    \n",
    "    # Case 4 to search for reverse diagonal match\n",
    "    if output == None:\n",
    "        temp = []\n",
    "        for i in [0,1,2]:\n",
    "            for j in [0,1,2]:\n",
    "                if sum([i,j]) == 2: temp.append(in_list[i][j])\n",
    "        if len(list(set(temp))) == 1: output = list(set(temp))[0]\n",
    "    \n",
    "    # Case 5 Draw Condition\n",
    "    if output == None: output = 'Draw'\n",
    "    print(f'tic_tac_toe({in_list}) ➞ \"{output}\"')\n",
    "            \n"
   ]
  },
  {
   "cell_type": "code",
   "execution_count": 10,
   "id": "d625dc2f",
   "metadata": {},
   "outputs": [
    {
     "name": "stdout",
     "output_type": "stream",
     "text": [
      "tic_tac_toe([['X', 'O', 'X'], ['O', 'X', 'O'], ['O', 'X', 'X']]) ➞ \"X\"\n",
      "tic_tac_toe([['O', 'O', 'O'], ['O', 'X', 'X'], ['E', 'X', 'X']]) ➞ \"O\"\n",
      "tic_tac_toe([['X', 'X', 'O'], ['O', 'O', 'X'], ['X', 'X', 'O']]) ➞ \"Draw\"\n",
      "tic_tac_toe([['X', 'X', 'O'], ['X', 'O', 'X'], ['X', 'O', 'O']]) ➞ \"X\"\n",
      "tic_tac_toe([['O', 'O', 'X'], ['O', 'X', 'O'], ['X', 'O', 'O']]) ➞ \"X\"\n"
     ]
    }
   ],
   "source": [
    "\n",
    "tic_tac_toe([[\"X\", \"O\", \"X\"],[\"O\", \"X\", \"O\"],[\"O\", \"X\", \"X\"]])\n",
    "tic_tac_toe([[\"O\", \"O\", \"O\"],[\"O\",\"X\", \"X\"],[\"E\", \"X\", \"X\"]])\n",
    "tic_tac_toe([[\"X\", \"X\", \"O\"],[\"O\", \"O\", \"X\"],[\"X\", \"X\", \"O\"]])\n",
    "tic_tac_toe([[\"X\", \"X\", \"O\"],[\"X\", \"O\", \"X\"],[\"X\", \"O\", \"O\"]])\n",
    "tic_tac_toe([[\"O\", \"O\", \"X\"],[\"O\", \"X\", \"O\"],[\"X\", \"O\", \"O\"]])\n",
    "\n",
    "\n"
   ]
  },
  {
   "cell_type": "markdown",
   "id": "fb936a72",
   "metadata": {},
   "source": [
    "### 3. Your computer might have been infected by a virus! Create a function that finds the viruses in files and removes them from your computer.\n",
    "**Examples:**   \n",
    "`remove_virus(\"PC Files: spotifysetup.exe, virus.exe, dog.jpg\") ➞ \"PC Files: spotifysetup.exe, dog.jpg\"`  \n",
    "`remove_virus(\"PC Files: antivirus.exe, cat.pdf, lethalmalware.exe, dangerousvirus.exe \") ➞ \"PC Files: antivirus.exe, cat.pdf\"` \n",
    "`remove_virus(\"PC Files: notvirus.exe, funnycat.gif\") ➞ \"PC Files: notvirus.exe, funnycat.gif\")`  "
   ]
  },
  {
   "cell_type": "markdown",
   "id": "ce350cae",
   "metadata": {},
   "source": [
    "### Answer"
   ]
  },
  {
   "cell_type": "code",
   "execution_count": 12,
   "id": "713b33a0",
   "metadata": {},
   "outputs": [],
   "source": [
    "\n",
    "def remove_virus(in_string):\n",
    "    \n",
    "    try:\n",
    "        import re\n",
    "        \n",
    "        in_list = [x.strip() for x in re.split(\", \",in_string)]\n",
    "        \n",
    "        output = []\n",
    "        \n",
    "        for ele in in_list:\n",
    "            \n",
    "            if ele not in ['virus.exe','dangerousvirus.exe','lethalmalware.exe']:\n",
    "                \n",
    "                output.append(ele)\n",
    "        \n",
    "        print(f'remove_virus({in_string}) ➞ \"{\", \".join(output)}\"')\n",
    "    \n",
    "    except Exception as e :\n",
    "        print(f\"there is an error {e}\")\n",
    "    \n"
   ]
  },
  {
   "cell_type": "code",
   "execution_count": 13,
   "id": "3659d73e",
   "metadata": {},
   "outputs": [
    {
     "name": "stdout",
     "output_type": "stream",
     "text": [
      "remove_virus(PC Files: spotifysetup.exe, virus.exe, dog.jpg) ➞ \"PC Files: spotifysetup.exe, dog.jpg\"\n",
      "remove_virus(PC Files: antivirus.exe, cat.pdf, lethalmalware.exe, dangerousvirus.exe ) ➞ \"PC Files: antivirus.exe, cat.pdf\"\n",
      "remove_virus(PC Files: notvirus.exe, funnycat.gif) ➞ \"PC Files: notvirus.exe, funnycat.gif\"\n"
     ]
    }
   ],
   "source": [
    "remove_virus(\"PC Files: spotifysetup.exe, virus.exe, dog.jpg\")\n",
    "remove_virus(\"PC Files: antivirus.exe, cat.pdf, lethalmalware.exe, dangerousvirus.exe \")\n",
    "remove_virus(\"PC Files: notvirus.exe, funnycat.gif\")"
   ]
  },
  {
   "cell_type": "markdown",
   "id": "01891e77",
   "metadata": {},
   "source": [
    "### 4. In a video game, a meteor will fall toward the main character's home planet. Given the meteor's trajectory as a string in the form y = mx + b and the character's position as a tuple of (x, y), return True if the meteor will hit the character and False if it will not.\n",
    "**Examples:**   \n",
    "`will_hit(\"y = 2x - 5\", (0, 0)) ➞ False`  \n",
    "`will_hit(\"y = -4x + 6\", (1, 2)) ➞ True`   \n",
    "`will_hit(\"y = 2x + 6\", (3, 2)) ➞ False`  "
   ]
  },
  {
   "cell_type": "markdown",
   "id": "553158e8",
   "metadata": {},
   "source": [
    "### Answer"
   ]
  },
  {
   "cell_type": "code",
   "execution_count": 14,
   "id": "44ea6ead",
   "metadata": {},
   "outputs": [],
   "source": [
    "def will_hit(in_eq,in_loc):\n",
    "    \n",
    "    try:\n",
    "        \n",
    "        in_eq_list = in_eq.split(\" \")\n",
    "        \n",
    "        temp_list = []\n",
    "        \n",
    "        for ele in in_eq_list:\n",
    "            \n",
    "            if 'x' in ele or 'y'in ele:\n",
    "                \n",
    "                if len(ele) == 1:\n",
    "                    \n",
    "                    temp_list.append(ele.replace('x',str(in_loc[0]))) if 'x' in ele else temp_list.append(ele.replace('y',str(in_loc[1])))\n",
    "                \n",
    "                else:\n",
    "                    \n",
    "                    temp_list.append(ele.replace('x',f'*{in_loc[0]}')) if 'x' in ele else temp_list.append(ele.replace('y',f'*{in_loc[1]}'))\n",
    "            else:\n",
    "                \n",
    "                temp_list.append(\"==\") if ele == \"=\" else temp_list.append(ele)\n",
    "        \n",
    "        print(f'will_hit{in_eq,in_loc} ➞ {eval(\" \".join(temp_list))}')\n",
    "    \n",
    "    except Exception as e :\n",
    "        print(f\"there is an error {e}\")\n",
    "    \n"
   ]
  },
  {
   "cell_type": "code",
   "execution_count": 15,
   "id": "52a54a30",
   "metadata": {},
   "outputs": [
    {
     "name": "stdout",
     "output_type": "stream",
     "text": [
      "will_hit('y = 2x - 5', (0, 0)) ➞ False\n",
      "will_hit('y = -4x + 6', (1, 2)) ➞ True\n",
      "will_hit('y = 2x + 6', (3, 2)) ➞ False\n"
     ]
    }
   ],
   "source": [
    "\n",
    "will_hit(\"y = 2x - 5\", (0, 0))\n",
    "will_hit(\"y = -4x + 6\", (1, 2))\n",
    "will_hit(\"y = 2x + 6\", (3, 2))"
   ]
  }
 ],
 "metadata": {
  "kernelspec": {
   "display_name": "Python 3 (ipykernel)",
   "language": "python",
   "name": "python3"
  },
  "language_info": {
   "codemirror_mode": {
    "name": "ipython",
    "version": 3
   },
   "file_extension": ".py",
   "mimetype": "text/x-python",
   "name": "python",
   "nbconvert_exporter": "python",
   "pygments_lexer": "ipython3",
   "version": "3.9.7"
  }
 },
 "nbformat": 4,
 "nbformat_minor": 5
}
