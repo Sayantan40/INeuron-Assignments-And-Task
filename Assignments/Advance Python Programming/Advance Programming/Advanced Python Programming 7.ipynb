{
 "cells": [
  {
   "cell_type": "markdown",
   "id": "619d53a8",
   "metadata": {},
   "source": [
    "# Advanced Python Programming 7."
   ]
  },
  {
   "cell_type": "markdown",
   "id": "40e45827",
   "metadata": {},
   "source": [
    "# 1. Write a function that counts how many concentric layers a rug.\n",
    "\n",
    "#### Examples\n",
    "\n",
    "#### count_layers([\"AAAA\",\"ABBA\",\"AAAA\"]) ➞ 2\n",
    "\n",
    "#### count_layers([\"AAAAAAAAA\",\"ABBBBBBBA\",\"ABBAAABBA\",\"ABBBBBBBA\", \"AAAAAAAAA\"]) ➞ 3\n",
    "\n",
    "\n",
    "#### count_layers([\"AAAAAAAAAAA\",\"AABBBBBBBAA\",\"AABCCCCCBAA\",\"AABCAAACBAA\",\"AABCADACBAA\",\"AABCAAACBAA\",\"AABCCCCCBAA\",\"AABBBBBBBAA\",\"AAAAAAAAAAA\"]) ➞ 5\n",
    "\n"
   ]
  },
  {
   "cell_type": "markdown",
   "id": "d0615b46",
   "metadata": {},
   "source": [
    "## Answer"
   ]
  },
  {
   "cell_type": "code",
   "execution_count": 1,
   "id": "085c3869",
   "metadata": {},
   "outputs": [],
   "source": [
    "def count_layers(list1):\n",
    "    \n",
    "    try:\n",
    "        \n",
    "        list2 = []\n",
    "        \n",
    "        for values in list1:\n",
    "            \n",
    "            if values not in list2:\n",
    "                \n",
    "                list2.append(values)\n",
    "                \n",
    "        print(f'count_layers({list1}) ➞ {len(list2)}')\n",
    "    \n",
    "    except Exception as e:\n",
    "        \n",
    "        print(f\"there is an error {e}\")"
   ]
  },
  {
   "cell_type": "code",
   "execution_count": 2,
   "id": "327fbe70",
   "metadata": {},
   "outputs": [
    {
     "name": "stdout",
     "output_type": "stream",
     "text": [
      "count_layers(['AAAA', 'ABBA', 'AAAA']) ➞ 2\n",
      "count_layers(['AAAAAAAAA', 'ABBBBBBBA', 'ABBAAABBA', 'ABBBBBBBA', 'AAAAAAAAA']) ➞ 3\n",
      "count_layers(['AAAAAAAAAAA', 'AABBBBBBBAA', 'AABCCCCCBAA', 'AABCAAACBAA', 'AABCADACBAA', 'AABCAAACBAA', 'AABCCCCCBAA', 'AABBBBBBBAA', 'AAAAAAAAAAA']) ➞ 5\n"
     ]
    }
   ],
   "source": [
    "count_layers([\"AAAA\",\"ABBA\",\"AAAA\"])\n",
    "count_layers([\"AAAAAAAAA\",\"ABBBBBBBA\",\"ABBAAABBA\",\"ABBBBBBBA\",\"AAAAAAAAA\"])\n",
    "count_layers([\"AAAAAAAAAAA\",\"AABBBBBBBAA\",\"AABCCCCCBAA\",\"AABCAAACBAA\",\"AABCADACBAA\",\"AABCAAACBAA\",\"AABCCCCCBAA\",\"AABBBBBBBAA\",\"AAAAAAAAAAA\"])"
   ]
  },
  {
   "cell_type": "markdown",
   "id": "bbcb2aaa",
   "metadata": {},
   "source": [
    "# 2. There are many different styles of music and many albums exhibit multiple styles. Create a function that takes a list of musical styles from albums and returns how many styles are unique.\n",
    "\n",
    "#### Examples\n",
    "\n",
    "#### unique_styles([\"Dub,Dancehall\",\"Industrial,Heavy Metal\",\"Techno,Dubstep\",\"Synth-pop,Euro-Disco\",\"Industrial,Techno,Minimal\"]) ➞ 9\n",
    "\n",
    "#### unique_styles([\"Soul\",\"House,Folk\",\"Trance,Downtempo,Big Beat,House\",\"Deep House\",\"Soul\"]) ➞ 7\n",
    "\n",
    "\n"
   ]
  },
  {
   "cell_type": "markdown",
   "id": "b37ff54f",
   "metadata": {},
   "source": [
    "## Answer"
   ]
  },
  {
   "cell_type": "code",
   "execution_count": 16,
   "id": "59ef4726",
   "metadata": {},
   "outputs": [],
   "source": [
    "def unique_styles(list1):\n",
    "    \n",
    "    try:\n",
    "        \n",
    "        list2 = []\n",
    "        \n",
    "        for values in list1:\n",
    "            \n",
    "            for sub_values in values.split(','):\n",
    "                \n",
    "                list2.append(sub_values)\n",
    "    \n",
    "        print(f'unique_styles({list1}) ➞ {len(set(list2))}')\n",
    "    \n",
    "    except Exception as e:\n",
    "        \n",
    "        print(f\"there is an error {e}\")\n",
    "     "
   ]
  },
  {
   "cell_type": "code",
   "execution_count": 17,
   "id": "d0f8d153",
   "metadata": {},
   "outputs": [
    {
     "name": "stdout",
     "output_type": "stream",
     "text": [
      "unique_styles(['Dub,Dancehall', 'Industrial,Heavy Metal', 'Techno,Dubstep', 'Synth-pop,Euro-Disco', 'Industrial,Techno,Minimal']) ➞ 9\n",
      "unique_styles(['Soul', 'House,Folk', 'Trance,Downtempo,Big Beat,House', 'Deep House', 'Soul']) ➞ 7\n"
     ]
    }
   ],
   "source": [
    "unique_styles([\"Dub,Dancehall\",\"Industrial,Heavy Metal\",\"Techno,Dubstep\",\"Synth-pop,Euro-Disco\",\"Industrial,Techno,Minimal\"]) \n",
    "unique_styles([\"Soul\",\"House,Folk\",\"Trance,Downtempo,Big Beat,House\",\"Deep House\",\"Soul\"])"
   ]
  },
  {
   "cell_type": "markdown",
   "id": "90d8c5c2",
   "metadata": {},
   "source": [
    "# 3. Create a function that finds a target number in a list of prime numbers. Implement a binary search algorithm in your function. The target number will be from 2 through 97. If the target is prime then return \"yes\" else return \"no\".\n",
    "\n",
    "#### Examples\n",
    "\n",
    "#### primes = [2, 3, 5, 7, 11, 13, 17, 19, 23, 29, 31, 37, 41, 43, 47, 53, 59, 61, 67, 71, 73, 79, 83, 89, 97]\n",
    "\n",
    "\n",
    "#### is_prime(primes, 3) ➞ \"yes\"\n",
    "\n",
    "#### is_prime(primes, 4) ➞ \"no\"\n",
    "\n",
    "#### is_prime(primes, 67) ➞ \"yes\"\n",
    "\n",
    "#### is_prime(primes, 36) ➞ \"no\"\n",
    "\n"
   ]
  },
  {
   "cell_type": "markdown",
   "id": "4b284a44",
   "metadata": {},
   "source": [
    "## Answer"
   ]
  },
  {
   "cell_type": "code",
   "execution_count": 5,
   "id": "2464d204",
   "metadata": {},
   "outputs": [],
   "source": [
    "\n",
    "\n",
    "def is_prime(list1,num):\n",
    "    \n",
    "    try:\n",
    "        \n",
    "        \n",
    "        output = 'No'\n",
    "        \n",
    "        start_point = 0\n",
    "        \n",
    "        end_point = len(list1) - 1\n",
    "        \n",
    "        mid_point = 0\n",
    "        \n",
    "        while start_point <= end_point:\n",
    "            \n",
    "            mid_point = (end_point + start_point)//2\n",
    "            \n",
    "            if list1[mid_point] < num:\n",
    "                \n",
    "                start_point = mid_point + 1\n",
    "            \n",
    "            elif list1[mid_point] > num:\n",
    "                \n",
    "                end_point = mid_point - 1\n",
    "            \n",
    "            else:\n",
    "                \n",
    "                output = 'Yes'\n",
    "                \n",
    "                break\n",
    "        print(f'is_prime({num}) ➞ {output}')\n",
    "    \n",
    "    except Exception as e:\n",
    "        \n",
    "        print(f\"there is an error {e}\")\n"
   ]
  },
  {
   "cell_type": "code",
   "execution_count": 6,
   "id": "a001a4b8",
   "metadata": {},
   "outputs": [
    {
     "name": "stdout",
     "output_type": "stream",
     "text": [
      "is_prime(3) ➞ Yes\n",
      "is_prime(4) ➞ No\n",
      "is_prime(67) ➞ Yes\n",
      "is_prime(36) ➞ No\n"
     ]
    }
   ],
   "source": [
    "primes = [2, 3, 5, 7, 11, 13, 17, 19, 23, 29, 31, 37, 41, 43, 47, 53, 59, 61, 67, 71, 73, 79, 83, 89, 97]\n",
    "\n",
    "is_prime(primes, 3)\n",
    "is_prime(primes, 4)\n",
    "is_prime(primes, 67)\n",
    "is_prime(primes, 36)"
   ]
  },
  {
   "cell_type": "markdown",
   "id": "e1ae62d7",
   "metadata": {},
   "source": [
    "# 4. Create a function that takes in n, a, b and returns the number of positive values raised to the nth power that lie in the range [a, b], inclusive.\n",
    "\n",
    "#### Examples\n",
    "\n",
    "#### power_ranger(2, 49, 65) ➞ 2\n",
    "**# 2 squares (n^2) lie between 49 and 65, 49 (7^2) and 64 (8^2)**\n",
    "\n",
    "#### power_ranger(3, 1, 27) ➞ 3\n",
    "**# 3 cubes (n^3) lie between 1 and 27, 1 (1^3), 8 (2^3) and 27 (3^3)**\n",
    "\n",
    "#### power_ranger(10, 1, 5) ➞ 1\n",
    "**# 1 value raised to the 10th power lies between 1 and 5, 1 (1^10)**\n",
    "\n",
    "#### power_ranger(5, 31, 33) ➞ 1\n",
    "\n",
    "#### power_ranger(4, 250, 1300) ➞ 3\n",
    "\n"
   ]
  },
  {
   "cell_type": "markdown",
   "id": "1e9d6bbf",
   "metadata": {},
   "source": [
    "## Answer"
   ]
  },
  {
   "cell_type": "code",
   "execution_count": 7,
   "id": "ba388c49",
   "metadata": {},
   "outputs": [],
   "source": [
    "\n",
    "def power_ranger(base,min_val,max_val):\n",
    "    \n",
    "    try:\n",
    "        import math\n",
    "        \n",
    "        output = []\n",
    "        \n",
    "        for values in range(min_val , max_val + 1):\n",
    "            \n",
    "            root = round(math.exp(math.log(values)/base), 1)\n",
    "            \n",
    "            if str(root).split(\".\")[1] == '0':\n",
    "                \n",
    "                output.append(int(root))\n",
    "                \n",
    "        print(f'power_ranger{base,min_val,max_val} ➞ {len(set(output))}')\n",
    "        \n",
    "    except Exception as e:\n",
    "        \n",
    "        print(f\"there is an error {e}\")\n"
   ]
  },
  {
   "cell_type": "code",
   "execution_count": 8,
   "id": "b2017a35",
   "metadata": {},
   "outputs": [
    {
     "name": "stdout",
     "output_type": "stream",
     "text": [
      "power_ranger(2, 49, 65) ➞ 2\n",
      "power_ranger(3, 1, 27) ➞ 3\n",
      "power_ranger(10, 1, 5) ➞ 1\n",
      "power_ranger(5, 31, 33) ➞ 1\n",
      "power_ranger(4, 250, 1300) ➞ 3\n"
     ]
    }
   ],
   "source": [
    "power_ranger(2, 49, 65)\n",
    "power_ranger(3, 1, 27)\n",
    "power_ranger(10, 1, 5)\n",
    "power_ranger(5, 31, 33)\n",
    "power_ranger(4, 250, 1300)"
   ]
  },
  {
   "cell_type": "markdown",
   "id": "aff8fc10",
   "metadata": {},
   "source": [
    "# 5. Given a number, return the difference between the maximum and minimum numbers that can be formed when the digits are rearranged.\n",
    "\n",
    "#### Examples\n",
    "\n",
    "#### rearranged_difference(972882) ➞ 760833\n",
    "**# 988722 - 227889 = 760833** \n",
    "\n",
    "#### rearranged_difference(3320707) ➞ 7709823\n",
    "**# 7733200 - 23377 = 7709823**\n",
    "\n",
    "rearranged_difference(90010) ➞ 90981\n",
    "**# 91000 - 19 = 90981**\n"
   ]
  },
  {
   "cell_type": "markdown",
   "id": "5439e11d",
   "metadata": {},
   "source": [
    "## Answer"
   ]
  },
  {
   "cell_type": "code",
   "execution_count": 18,
   "id": "9b0be76b",
   "metadata": {},
   "outputs": [],
   "source": [
    "def rearranged_difference(num):\n",
    "    \n",
    "    try:\n",
    "        \n",
    "        split_num = []\n",
    "        \n",
    "        for values in str(num):\n",
    "            \n",
    "            split_num.append(values)\n",
    "            \n",
    "            min_val = int(''.join(sorted(split_num))) \n",
    "            \n",
    "            max_val = int(''.join(sorted(split_num, reverse=True)))\n",
    "            \n",
    "        print(f'rearranged_difference({num}) ➞ {max_val} - {min_val} ➞ {max_val-min_val}')\n",
    "    \n",
    "    except Exception as e:\n",
    "        \n",
    "        print(f\"there is an error {e}\")\n",
    "\n",
    "    "
   ]
  },
  {
   "cell_type": "code",
   "execution_count": 19,
   "id": "e150ec58",
   "metadata": {},
   "outputs": [
    {
     "name": "stdout",
     "output_type": "stream",
     "text": [
      "rearranged_difference(972882) ➞ 988722 - 227889 ➞ 760833\n",
      "rearranged_difference(3320707) ➞ 7733200 - 23377 ➞ 7709823\n",
      "rearranged_difference(90010) ➞ 91000 - 19 ➞ 90981\n"
     ]
    }
   ],
   "source": [
    "rearranged_difference(972882)    \n",
    "rearranged_difference(3320707)\n",
    "rearranged_difference(90010)"
   ]
  }
 ],
 "metadata": {
  "kernelspec": {
   "display_name": "Python 3 (ipykernel)",
   "language": "python",
   "name": "python3"
  },
  "language_info": {
   "codemirror_mode": {
    "name": "ipython",
    "version": 3
   },
   "file_extension": ".py",
   "mimetype": "text/x-python",
   "name": "python",
   "nbconvert_exporter": "python",
   "pygments_lexer": "ipython3",
   "version": "3.9.7"
  }
 },
 "nbformat": 4,
 "nbformat_minor": 5
}
