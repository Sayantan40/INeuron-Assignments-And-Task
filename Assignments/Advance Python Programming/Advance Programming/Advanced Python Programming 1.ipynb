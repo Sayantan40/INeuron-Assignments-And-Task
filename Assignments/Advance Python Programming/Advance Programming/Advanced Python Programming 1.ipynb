{
 "cells": [
  {
   "cell_type": "markdown",
   "id": "4a2f537e",
   "metadata": {},
   "source": [
    "# Advanced Python Programming 1"
   ]
  },
  {
   "cell_type": "markdown",
   "id": "1010f5f3",
   "metadata": {},
   "source": [
    "# 1. Write a function that takes a list of lists and returns the value of all of the symbols in it, where each symbol adds or takes something from the total score. Symbol values:\n",
    "\n",
    "#= 5   \n",
    "\n",
    "O = 3\n",
    "\n",
    "X = 1\n",
    "\n",
    "! = -1\n",
    "\n",
    "!! = -3\n",
    "\n",
    "!!! = -5\n",
    "\n",
    "A list of lists containing 2 #s, a O, and a !!! would equal (0 + 5 + 5 + 3 - 5) 8.\n",
    "\n",
    "If the final score is negative, return 0 (e.g. 3 #s, 3 !!s, 2 !!!s and a X would be (0 + 5 + 5 + 5 - 3 - 3 - 3 - 5 - 5 + 1) -3, so return 0.\n",
    "\n",
    "Examples\n",
    "\n",
    "check_score([[\"#\", \"!\"],[\"!!\", \"X\"]]) ➞ 2\n",
    "\n",
    "check_score([[\"!!!\", \"O\", \"!\"],[\"X\", \"#\", \"!!!\"],[\"!!\", \"X\", \"O\"]]) ➞ 0   here  it  will be -1 not 0 question is wrong.\n"
   ]
  },
  {
   "cell_type": "markdown",
   "id": "cf074c53",
   "metadata": {},
   "source": [
    "### Answer"
   ]
  },
  {
   "cell_type": "code",
   "execution_count": 15,
   "id": "92503d49",
   "metadata": {},
   "outputs": [],
   "source": [
    "def check_score(list):\n",
    "    \n",
    "    try:\n",
    "        \n",
    "        expres_value={\"#\":5,\"O\":3,\"X\":1,\"!\":-1,\"!!\":-3,\"!!!\":-5}\n",
    "        \n",
    "        add_value=[]\n",
    "        \n",
    "        for lists in list:\n",
    "            \n",
    "            for ele in lists:\n",
    "                \n",
    "                for keys in expres_value.keys():\n",
    "                    \n",
    "                    if ele==keys:\n",
    "                        \n",
    "                        add_value.append(expres_value[keys])\n",
    "                        \n",
    "        return sum(add_value)\n",
    "    \n",
    "    except Exception as e :\n",
    "        \n",
    "        print(\" There is an error \")\n",
    "        \n",
    "        \n",
    "        "
   ]
  },
  {
   "cell_type": "code",
   "execution_count": 16,
   "id": "747275a5",
   "metadata": {},
   "outputs": [
    {
     "data": {
      "text/plain": [
       "2"
      ]
     },
     "execution_count": 16,
     "metadata": {},
     "output_type": "execute_result"
    }
   ],
   "source": [
    "check_score([[\"#\", \"!\"],[\"!!\", \"X\"]])  ### Stir Right !!!!! Yeah baby :-D"
   ]
  },
  {
   "cell_type": "code",
   "execution_count": 17,
   "id": "8777739d",
   "metadata": {},
   "outputs": [
    {
     "data": {
      "text/plain": [
       "-1"
      ]
     },
     "execution_count": 17,
     "metadata": {},
     "output_type": "execute_result"
    }
   ],
   "source": [
    "check_score([[\"!!!\", \"O\", \"!\"],[\"X\", \"#\", \"!!!\"],[\"!!\", \"X\", \"O\"]])"
   ]
  },
  {
   "cell_type": "markdown",
   "id": "bc364ae4",
   "metadata": {},
   "source": [
    "# 2. Create a function that takes a variable number of arguments, each argument representing the number of items in a group, and returns the number of permutations (combinations) of items that you could get by taking one item from each group.\n",
    "\n",
    "Examples\n",
    "\n",
    "combinations(2, 3) ➞ 6\n",
    "\n",
    "combinations(3, 7, 4) ➞ 84\n",
    "\n",
    "combinations(2, 3, 4, 5) ➞ 120\n",
    "\n",
    "\n"
   ]
  },
  {
   "cell_type": "markdown",
   "id": "2c11049a",
   "metadata": {},
   "source": [
    "### Answer"
   ]
  },
  {
   "cell_type": "code",
   "execution_count": 5,
   "id": "7aa4b3fd",
   "metadata": {},
   "outputs": [],
   "source": [
    "def combinations(*args):\n",
    "    \n",
    "    try:\n",
    "        num = 1\n",
    "        \n",
    "        for ele in args:\n",
    "            \n",
    "            num *= ele\n",
    "        \n",
    "        print(f'combinations{args} ➞ {num}') ## just some innovation ;-D\n",
    "        \n",
    "    except Exception as e :\n",
    "        \n",
    "        print(f'there is an error : {e} ')\n"
   ]
  },
  {
   "cell_type": "code",
   "execution_count": 6,
   "id": "c83fc4dd",
   "metadata": {},
   "outputs": [
    {
     "name": "stdout",
     "output_type": "stream",
     "text": [
      "combinations(2, 3) ➞ 6\n"
     ]
    }
   ],
   "source": [
    "combinations(2, 3)  "
   ]
  },
  {
   "cell_type": "code",
   "execution_count": 13,
   "id": "65699922",
   "metadata": {},
   "outputs": [
    {
     "name": "stdout",
     "output_type": "stream",
     "text": [
      "combinations(3, 7, 4) ➞ 84\n"
     ]
    }
   ],
   "source": [
    "combinations(3, 7, 4)"
   ]
  },
  {
   "cell_type": "code",
   "execution_count": 14,
   "id": "d9a26cf1",
   "metadata": {},
   "outputs": [
    {
     "name": "stdout",
     "output_type": "stream",
     "text": [
      "combinations(2, 3, 4, 5) ➞ 120\n"
     ]
    }
   ],
   "source": [
    "combinations(2, 3, 4, 5) "
   ]
  },
  {
   "cell_type": "markdown",
   "id": "236cc262",
   "metadata": {},
   "source": [
    "# 3. Create a function that takes a string as an argument and returns the Morse code equivalent.\n",
    "\n",
    "Examples\n",
    "\n",
    "encode_morse(\"EDABBIT CHALLENGE\") ➞ \". -.. .- -... -... .. -   -.-. .... .- .-.. .-.. . -. --. .\"\n",
    "\n",
    "encode_morse(\"HELP ME !\") ➞ \".... . .-.. .--.   -- .   -.-.--\"\n",
    "\n",
    "This dictionary can be used for coding:\n",
    "\n",
    "char_to_dots = {\n",
    "  'A': '.-', 'B': '-...', 'C': '-.-.', 'D': '-..', 'E': '.', 'F': '..-.',\n",
    "  'G': '--.', 'H': '....', 'I': '..', 'J': '.---', 'K': '-.-', 'L': '.-..',\n",
    "  'M': '--', 'N': '-.', 'O': '---', 'P': '.--.', 'Q': '--.-', 'R': '.-.',\n",
    "  'S': '...', 'T': '-', 'U': '..-', 'V': '...-', 'W': '.--', 'X': '-..-',\n",
    "  'Y': '-.--', 'Z': '--..', ' ': ' ', '0': '-----',\n",
    "  '1': '.----', '2': '..---', '3': '...--', '4': '....-', '5': '.....',\n",
    "  '6': '-....', '7': '--...', '8': '---..', '9': '----.',\n",
    "  '&': '.-...', \"'\": '.----.', '@': '.--.-.', ')': '-.--.-', '(': '-.--.',\n",
    "  ':': '---...', ',': '--..--', '=': '-...-', '!': '-.-.--', '.': '.-.-.-',\n",
    "  '-': '-....-', '+': '.-.-.', '\"': '.-..-.', '?': '..--..', '/': '-..-.'\n",
    "}\n"
   ]
  },
  {
   "cell_type": "markdown",
   "id": "71d1ac12",
   "metadata": {},
   "source": [
    "### Answer"
   ]
  },
  {
   "cell_type": "code",
   "execution_count": 11,
   "id": "ad357526",
   "metadata": {},
   "outputs": [],
   "source": [
    "def encode_morse(str):\n",
    "    \n",
    "    try:\n",
    "        message=str\n",
    "        \n",
    "        Var1 = []\n",
    "        \n",
    "        char_to_dots = {\n",
    "  'A': '.-', 'B': '-...', 'C': '-.-.', 'D': '-..', 'E': '.', 'F': '..-.',\n",
    "  'G': '--.', 'H': '....', 'I': '..', 'J': '.---', 'K': '-.-', 'L': '.-..',\n",
    "  'M': '--', 'N': '-.', 'O': '---', 'P': '.--.', 'Q': '--.-', 'R': '.-.',\n",
    "  'S': '...', 'T': '-', 'U': '..-', 'V': '...-', 'W': '.--', 'X': '-..-',\n",
    "  'Y': '-.--', 'Z': '--..', ' ': ' ', '0': '-----',\n",
    "  '1': '.----', '2': '..---', '3': '...--', '4': '....-', '5': '.....',\n",
    "  '6': '-....', '7': '--...', '8': '---..', '9': '----.',\n",
    "  '&': '.-...', \"'\": '.----.', '@': '.--.-.', ')': '-.--.-', '(': '-.--.',\n",
    "  ':': '---...', ',': '--..--', '=': '-...-', '!': '-.-.--', '.': '.-.-.-',\n",
    "  '-': '-....-', '+': '.-.-.', '\"': '.-..-.', '?': '..--..', '/': '-..-.'}\n",
    "        \n",
    "        \n",
    "        \n",
    "        char_to_dots ={i.lower(): j for i, j in char_to_dots.items()}\n",
    "        \n",
    "        \n",
    "        \n",
    "        for words in message.lower():\n",
    "            \n",
    "            for char in words:\n",
    "                \n",
    "                if char in char_to_dots:\n",
    "                    \n",
    "                    Var1.append(char_to_dots[char])\n",
    "        \n",
    "        return  ' '.join(Var1)\n",
    "    \n",
    "    except Exception as e :\n",
    "         \n",
    "            print(e)"
   ]
  },
  {
   "cell_type": "code",
   "execution_count": 51,
   "id": "7281198f",
   "metadata": {},
   "outputs": [
    {
     "data": {
      "text/plain": [
       "'. -.. .- -... -... .. -   -.-. .... .- .-.. .-.. . -. --. .'"
      ]
     },
     "execution_count": 51,
     "metadata": {},
     "output_type": "execute_result"
    }
   ],
   "source": [
    "encode_morse(\"EDABBIT CHALLENGE\")"
   ]
  },
  {
   "cell_type": "code",
   "execution_count": 52,
   "id": "03452885",
   "metadata": {},
   "outputs": [
    {
     "data": {
      "text/plain": [
       "'.... . .-.. .--.   -- .   -.-.--'"
      ]
     },
     "execution_count": 52,
     "metadata": {},
     "output_type": "execute_result"
    }
   ],
   "source": [
    "encode_morse(\"HELP ME !\")   ### uuufff that took alot ."
   ]
  },
  {
   "cell_type": "markdown",
   "id": "ea3e7164",
   "metadata": {},
   "source": [
    "# 4.  Write a function that takes a number and returns True if it's a prime; False otherwise. The number can be 2^64-1 (2 to the power of 63, not XOR). With the standard technique it would be O(2^64-1), which is much too large for the 10 second time limit.\n",
    "\n",
    "Examples\n",
    "\n",
    "prime(7) ➞ True\n",
    "\n",
    "prime(56963) ➞ True\n",
    "\n",
    "prime(5151512515524) ➞ False\n"
   ]
  },
  {
   "cell_type": "markdown",
   "id": "f04a786a",
   "metadata": {},
   "source": [
    "### Answer"
   ]
  },
  {
   "cell_type": "code",
   "execution_count": 1,
   "id": "9c431f01",
   "metadata": {},
   "outputs": [],
   "source": [
    "def prime(num):\n",
    "    \n",
    "    try :\n",
    "        \n",
    "        output_bool = False\n",
    "        \n",
    "        if (num-1)%6 == 0 or (num+1)%6 == 0:\n",
    "            \n",
    "            output_bool = True\n",
    "            \n",
    "        print(f'prime({num}) ➞ {output_bool}')\n",
    "        \n",
    "    \n",
    "    except Exception as e :\n",
    "        \n",
    "        print(f'there is an error : {e} ')\n",
    "\n",
    " "
   ]
  },
  {
   "cell_type": "code",
   "execution_count": 2,
   "id": "35719240",
   "metadata": {},
   "outputs": [
    {
     "name": "stdout",
     "output_type": "stream",
     "text": [
      "prime(7) ➞ True\n"
     ]
    }
   ],
   "source": [
    "prime(7)"
   ]
  },
  {
   "cell_type": "code",
   "execution_count": 3,
   "id": "8c511351",
   "metadata": {},
   "outputs": [
    {
     "name": "stdout",
     "output_type": "stream",
     "text": [
      "prime(56963) ➞ True\n"
     ]
    }
   ],
   "source": [
    "prime(56963)"
   ]
  },
  {
   "cell_type": "code",
   "execution_count": 4,
   "id": "f7922431",
   "metadata": {},
   "outputs": [
    {
     "name": "stdout",
     "output_type": "stream",
     "text": [
      "prime(5151512515524) ➞ False\n"
     ]
    }
   ],
   "source": [
    "prime(5151512515524)"
   ]
  },
  {
   "cell_type": "markdown",
   "id": "ef1c08d3",
   "metadata": {},
   "source": [
    "# 5.  Create a function that converts a word to a bitstring and then to a boolean list based on the following criteria:\n",
    "\n",
    "    1. Locate the position of the letter in the English alphabet (from 1 to 26).\n",
    "    2. Odd positions will be represented as 1 and 0 otherwise.\n",
    "    3. Convert the represented positions to boolean values, 1 for True and 0 for False.\n",
    "    4. Store the conversions into an array.\n",
    "\n",
    " Examples\n",
    "\n",
    "to_boolean_list(\"deep\") ➞ [False, True, True, False]\n",
    "\n",
    "- deep converts to 0110\n",
    "- d is the 4th alphabet - 0\n",
    "- e is the 5th alphabet - 1\n",
    "- e is the 5th alphabet - 1\n",
    "- p is the 16th alphabet - 0\n",
    "\n",
    "\n",
    "to_boolean_list(\"loves\") ➞ [False, True, False, True, True]\n",
    "\n",
    "to_boolean_list(\"tesh\") ➞ [False, True, True, False]\n",
    "\n"
   ]
  },
  {
   "cell_type": "markdown",
   "id": "d175a691",
   "metadata": {},
   "source": [
    "### Answer"
   ]
  },
  {
   "cell_type": "code",
   "execution_count": 17,
   "id": "3e4f6f64",
   "metadata": {},
   "outputs": [],
   "source": [
    "def to_boolean_list(str):\n",
    "    \n",
    "    try:\n",
    "        \n",
    "        alphabets = 'abcdefghijklmnopqrstuvwxyz'\n",
    "        \n",
    "        list1 = [] ## empty list to append later and also the output list of boolean values.\n",
    "        \n",
    "        for ele in str:\n",
    "            \n",
    "            var_bool=bool((alphabets.index(ele) + 1 ) %2 )\n",
    "            \n",
    "            list1.append(var_bool)\n",
    "            \n",
    "        print(f'to_boolean_list({str}) ➞ {list1}')\n",
    "    \n",
    "    except Exception as e :\n",
    "        \n",
    "        print(f'there is an error : {e} ')\n",
    "        \n",
    "    \n",
    "    "
   ]
  },
  {
   "cell_type": "code",
   "execution_count": 19,
   "id": "833c6a25",
   "metadata": {},
   "outputs": [
    {
     "name": "stdout",
     "output_type": "stream",
     "text": [
      "to_boolean_list(loves) ➞ [False, True, False, True, True]\n"
     ]
    }
   ],
   "source": [
    "to_boolean_list(\"loves\")"
   ]
  },
  {
   "cell_type": "code",
   "execution_count": 20,
   "id": "a6ab7521",
   "metadata": {},
   "outputs": [
    {
     "name": "stdout",
     "output_type": "stream",
     "text": [
      "to_boolean_list(tesh) ➞ [False, True, True, False]\n"
     ]
    }
   ],
   "source": [
    "to_boolean_list(\"tesh\")"
   ]
  }
 ],
 "metadata": {
  "kernelspec": {
   "display_name": "Python 3 (ipykernel)",
   "language": "python",
   "name": "python3"
  },
  "language_info": {
   "codemirror_mode": {
    "name": "ipython",
    "version": 3
   },
   "file_extension": ".py",
   "mimetype": "text/x-python",
   "name": "python",
   "nbconvert_exporter": "python",
   "pygments_lexer": "ipython3",
   "version": "3.9.7"
  }
 },
 "nbformat": 4,
 "nbformat_minor": 5
}
