{
 "cells": [
  {
   "cell_type": "markdown",
   "id": "aa7d8ac9",
   "metadata": {},
   "source": [
    "# Advanced Python Programming 3"
   ]
  },
  {
   "cell_type": "markdown",
   "id": "07a57e15",
   "metadata": {},
   "source": [
    "# 1. Create a function to perform basic arithmetic operations that includes addition, subtraction, multiplication and division on a string number (e.g. \"12 + 24\" or \"23 - 21\" or \"12 // 12\" or \"12 * 21\").\n",
    "\n",
    "Here, we have 1 followed by a space, operator followed by another space and 2. For the challenge, we are going to have only two numbers between 1 valid operator. The return value should be a number.\n",
    "\n",
    "eval() is not allowed. In case of division, whenever the second number equals \"0\" return -1.\n",
    "\n",
    "For example:\n",
    "\n",
    "\"15 // 0\"  ➞ -1\n",
    "\n",
    "Examples\n",
    "\n",
    "arithmetic_operation(\"12 + 12\") ➞ 24 // 12 + 12 = 24\n",
    "\n",
    "arithmetic_operation(\"12 - 12\") ➞ 24 // 12 - 12 = 0\n",
    "\n",
    "arithmetic_operation(\"12 * 12\") ➞ 144 // 12 * 12 = 144\n",
    "\n",
    "arithmetic_operation(\"12 // 0\") ➞ -1 // 12 / 0 = -1\n"
   ]
  },
  {
   "cell_type": "markdown",
   "id": "08569ab9",
   "metadata": {},
   "source": [
    "### Answer"
   ]
  },
  {
   "cell_type": "code",
   "execution_count": 1,
   "id": "a5fecc4a",
   "metadata": {},
   "outputs": [],
   "source": [
    "\n",
    "\n",
    "def arithmetic_operation(str):\n",
    "    \n",
    "    try:\n",
    "        \n",
    "        import operator\n",
    "        \n",
    "        ops = {'+':operator.add,'-':operator.sub,'*':operator.mul,'//':operator.floordiv}\n",
    "        \n",
    "        list1 = str.split(\" \")\n",
    "        \n",
    "        output = ops[list1[1]](int(list1[0]),int(list1[2])) if int(list1[2]) != 0 else -1\n",
    "        \n",
    "        return f'arithmetic_operation({list1[0]} {list1[1]} {list1[2]}) ➞ {output}'\n",
    "    \n",
    "    except Exception as e :\n",
    "        \n",
    "        print(f\"there is an error {e}\")\n",
    "    "
   ]
  },
  {
   "cell_type": "code",
   "execution_count": 2,
   "id": "407fcde8",
   "metadata": {},
   "outputs": [
    {
     "data": {
      "text/plain": [
       "'arithmetic_operation(12 + 12) ➞ 24'"
      ]
     },
     "execution_count": 2,
     "metadata": {},
     "output_type": "execute_result"
    }
   ],
   "source": [
    "arithmetic_operation(\"12 + 12\")"
   ]
  },
  {
   "cell_type": "code",
   "execution_count": 3,
   "id": "26ae714a",
   "metadata": {},
   "outputs": [
    {
     "data": {
      "text/plain": [
       "'arithmetic_operation(12 - 12) ➞ 0'"
      ]
     },
     "execution_count": 3,
     "metadata": {},
     "output_type": "execute_result"
    }
   ],
   "source": [
    "arithmetic_operation(\"12 - 12\")"
   ]
  },
  {
   "cell_type": "code",
   "execution_count": 4,
   "id": "ec209df2",
   "metadata": {},
   "outputs": [
    {
     "data": {
      "text/plain": [
       "'arithmetic_operation(12 * 12) ➞ 144'"
      ]
     },
     "execution_count": 4,
     "metadata": {},
     "output_type": "execute_result"
    }
   ],
   "source": [
    "arithmetic_operation(\"12 * 12\")"
   ]
  },
  {
   "cell_type": "code",
   "execution_count": 5,
   "id": "e654c831",
   "metadata": {},
   "outputs": [
    {
     "data": {
      "text/plain": [
       "'arithmetic_operation(12 // 0) ➞ -1'"
      ]
     },
     "execution_count": 5,
     "metadata": {},
     "output_type": "execute_result"
    }
   ],
   "source": [
    "arithmetic_operation(\"12 // 0\")"
   ]
  },
  {
   "cell_type": "markdown",
   "id": "188d60ac",
   "metadata": {},
   "source": [
    "# 2. Write a function that takes the coordinates of three points in the form of a 2d array and returns the perimeter of the triangle. The given points are the vertices of a triangle on a two-dimensional plane.\n",
    "\n",
    "Examples\n",
    "\n",
    "perimeter( [ [15, 7], [5, 22], [11, 1] ] ) ➞ 47.08\n",
    "\n",
    "perimeter( [ [0, 0], [0, 1], [1, 0] ] ) ➞ 3.42\n",
    "\n",
    "perimeter( [ [-10, -10], [10, 10 ], [-10, 10] ] ) ➞ 68.28\n"
   ]
  },
  {
   "cell_type": "markdown",
   "id": "058e44f7",
   "metadata": {},
   "source": [
    "### Answer"
   ]
  },
  {
   "cell_type": "code",
   "execution_count": 6,
   "id": "086b7085",
   "metadata": {},
   "outputs": [],
   "source": [
    "\n",
    "def perimeter(array):\n",
    "    \n",
    "    try:\n",
    "        \n",
    "        import math\n",
    "        \n",
    "        def distance(a,b):\n",
    "            \n",
    "            return math.sqrt(pow((b[1]-a[1]),2)+pow((b[0]-a[0]),2))\n",
    "        \n",
    "        perimeter = []\n",
    "        \n",
    "        for i in range(len(array)):\n",
    "            \n",
    "            if i == len(array)-1:\n",
    "                \n",
    "                perimeter.append(distance(array[i],array[0]))\n",
    "            \n",
    "            else:\n",
    "                \n",
    "                perimeter.append(distance(array[i],array[i+1]))\n",
    "                \n",
    "        print(f'perimeter({array}) ➞ {sum(perimeter):.2f}')\n",
    "        \n",
    "    except Exception as e :\n",
    "        \n",
    "        print(f\"there is an error {e}\")   ### daammmnn ...this is tough\n",
    "        \n",
    "    \n",
    "    "
   ]
  },
  {
   "cell_type": "code",
   "execution_count": 7,
   "id": "8d1f4cc0",
   "metadata": {},
   "outputs": [
    {
     "name": "stdout",
     "output_type": "stream",
     "text": [
      "perimeter([[15, 7], [5, 22], [11, 1]]) ➞ 47.08\n"
     ]
    }
   ],
   "source": [
    "perimeter( [ [15, 7], [5, 22], [11, 1] ] )"
   ]
  },
  {
   "cell_type": "code",
   "execution_count": 8,
   "id": "bdbea183",
   "metadata": {},
   "outputs": [
    {
     "name": "stdout",
     "output_type": "stream",
     "text": [
      "perimeter([[0, 0], [0, 1], [1, 0]]) ➞ 3.41\n"
     ]
    }
   ],
   "source": [
    "perimeter( [ [0, 0], [0, 1], [1, 0] ] ) "
   ]
  },
  {
   "cell_type": "code",
   "execution_count": 9,
   "id": "7d3f7f5c",
   "metadata": {},
   "outputs": [
    {
     "name": "stdout",
     "output_type": "stream",
     "text": [
      "perimeter([[-10, -10], [10, 10], [-10, 10]]) ➞ 68.28\n"
     ]
    }
   ],
   "source": [
    "perimeter( [ [-10, -10], [10, 10 ], [-10, 10] ] )"
   ]
  },
  {
   "cell_type": "markdown",
   "id": "62812efa",
   "metadata": {},
   "source": [
    "# 3. A city skyline can be represented as a 2-D list with 1s representing buildings. In the example below, the height of the tallest building is 4 (second-most right column).\n",
    "\n",
    "[[0, 0, 0, 0, 0, 0],\n",
    "[0, 0, 0, 0, 1, 0],\n",
    "[0, 0, 1, 0, 1, 0],\n",
    "[0, 1, 1, 1, 1, 0],\n",
    "[1, 1, 1, 1, 1, 1]]\n",
    "\n",
    "Create a function that takes a skyline (2-D list of 0's and 1's) and returns the height of the tallest skyscraper.\n",
    "\n",
    "Examples\n",
    "\n",
    "tallest_skyscraper([\n",
    "  [0, 0, 0, 0],\n",
    "  [0, 1, 0, 0],\n",
    "  [0, 1, 1, 0],\n",
    "  [1, 1, 1, 1]\n",
    "]) ➞ 3\n",
    "\n",
    "tallest_skyscraper([\n",
    "  [0, 1, 0, 0],\n",
    "  [0, 1, 0, 0],\n",
    "  [0, 1, 1, 0],\n",
    "  [1, 1, 1, 1]\n",
    "]) ➞ 4\n",
    "\n",
    "tallest_skyscraper([\n",
    "  [0, 0, 0, 0],\n",
    "  [0, 0, 0, 0],\n",
    "  [1, 1, 1, 0],\n",
    "  [1, 1, 1, 1]\n",
    "]) ➞ 2\n"
   ]
  },
  {
   "cell_type": "markdown",
   "id": "c24254cd",
   "metadata": {},
   "source": [
    "### Answer"
   ]
  },
  {
   "cell_type": "code",
   "execution_count": 10,
   "id": "63cdfeb2",
   "metadata": {},
   "outputs": [],
   "source": [
    "def tallest_skyscraper(list1):\n",
    "    \n",
    "    try:\n",
    "        list2= []\n",
    "        \n",
    "        for i in range(len(list1)):\n",
    "            \n",
    "            count = 0\n",
    "            \n",
    "            for j in range(len(list1[i])):\n",
    "                \n",
    "                count += list1[j][i]\n",
    "                \n",
    "                list2.append(count)\n",
    "        \n",
    "        print(f'tallest_skyscraper({list1}) ➞ {max(list2)}')\n",
    "        \n",
    "    except Exception as e :\n",
    "        \n",
    "        print(f\"there is an error {e}\")\n",
    "        \n",
    "    \n",
    "        "
   ]
  },
  {
   "cell_type": "code",
   "execution_count": 11,
   "id": "c5d9a6cc",
   "metadata": {},
   "outputs": [
    {
     "name": "stdout",
     "output_type": "stream",
     "text": [
      "tallest_skyscraper([[0, 0, 0, 0], [0, 1, 0, 0], [0, 1, 1, 0], [1, 1, 1, 1]]) ➞ 3\n"
     ]
    }
   ],
   "source": [
    "tallest_skyscraper([ [0, 0, 0, 0], [0, 1, 0, 0], [0, 1, 1, 0], [1, 1, 1, 1] ]) "
   ]
  },
  {
   "cell_type": "code",
   "execution_count": 12,
   "id": "7130f24b",
   "metadata": {},
   "outputs": [
    {
     "name": "stdout",
     "output_type": "stream",
     "text": [
      "tallest_skyscraper([[0, 1, 0, 0], [0, 1, 0, 0], [0, 1, 1, 0], [1, 1, 1, 1]]) ➞ 4\n"
     ]
    }
   ],
   "source": [
    "tallest_skyscraper([ [0, 1, 0, 0], [0, 1, 0, 0], [0, 1, 1, 0], [1, 1, 1, 1] ])"
   ]
  },
  {
   "cell_type": "code",
   "execution_count": 13,
   "id": "0ec99d9a",
   "metadata": {},
   "outputs": [
    {
     "name": "stdout",
     "output_type": "stream",
     "text": [
      "tallest_skyscraper([[0, 0, 0, 0], [0, 0, 0, 0], [1, 1, 1, 0], [1, 1, 1, 1]]) ➞ 2\n"
     ]
    }
   ],
   "source": [
    "tallest_skyscraper([ [0, 0, 0, 0], [0, 0, 0, 0], [1, 1, 1, 0], [1, 1, 1, 1] ])"
   ]
  },
  {
   "cell_type": "markdown",
   "id": "20286f3b",
   "metadata": {},
   "source": [
    "# 4. A financial institution provides professional services to banks and claims charges from the customers based on the number of man-days provided. Internally, it has set a scheme to motivate and reward staff to meet and exceed targeted billable utilization and revenues by paying a bonus for each day claimed from customers in excess of a threshold target.\n",
    "\n",
    "This quarterly scheme is calculated with a threshold target of 32 days per quarter, and the incentive payment for each billable day in excess of such threshold target is shown as follows:\n",
    "\n",
    "Days\t                             Bonus\n",
    "\n",
    " 0 to 32 days\t                   Zero\n",
    "\n",
    " 33 to 40 days\t          SGD$ 325 per billable day\n",
    "\n",
    " 41 to 48 days\t          SGD$550 per billable day\n",
    " \n",
    " Greater than 48 days      SGD$ 600 per billable day\n",
    "\n",
    "Please note that incentive payment is calculated progressively. As an example, if an employee reached total billable days of 45 in a quarter, his/her incentive payment is computed as follows:\n",
    "\n",
    " 32*0 + 8*325 + 5*550 = 5350\n",
    "\n",
    "Write a function to read the billable days of an employee and return the bonus he/she has obtained in that quarter.\n",
    "\n",
    "Examples\n",
    "\n",
    "bonus(15) ➞ 0\n",
    "\n",
    "bonus(37) ➞ 1625\n",
    "\n",
    "bonus(50) ➞ 8200\n"
   ]
  },
  {
   "cell_type": "markdown",
   "id": "0fe1bc45",
   "metadata": {},
   "source": [
    "### Answer"
   ]
  },
  {
   "cell_type": "code",
   "execution_count": 14,
   "id": "e3f96a43",
   "metadata": {},
   "outputs": [],
   "source": [
    "def bonus(num):\n",
    "    \n",
    "    try:\n",
    "        if num > 48:\n",
    "            \n",
    "            output = 0 + (8*325) + (8*550) + ((num-48) * 600)\n",
    "        \n",
    "        elif num < 48 and num >= 41:\n",
    "            \n",
    "            output = 0 + (8*325) + ((num-41+1) * 550)\n",
    "            \n",
    "        elif num >33 and num <= 40:\n",
    "            \n",
    "            output = 0 + ((num-33+1) * 325)\n",
    "        else:\n",
    "            output = 0\n",
    "            \n",
    "        print(f'bonus({num}) ➞ {output}')\n",
    "    \n",
    "    except Exception as e :\n",
    "        \n",
    "        print(f\"there is an error {e}\")\n",
    "        \n",
    "        \n",
    "    \n",
    "    \n",
    "        "
   ]
  },
  {
   "cell_type": "code",
   "execution_count": 15,
   "id": "53a6394e",
   "metadata": {},
   "outputs": [
    {
     "name": "stdout",
     "output_type": "stream",
     "text": [
      "bonus(15) ➞ 0\n"
     ]
    }
   ],
   "source": [
    "bonus(15)"
   ]
  },
  {
   "cell_type": "code",
   "execution_count": 16,
   "id": "53f2c709",
   "metadata": {},
   "outputs": [
    {
     "name": "stdout",
     "output_type": "stream",
     "text": [
      "bonus(37) ➞ 1625\n"
     ]
    }
   ],
   "source": [
    "bonus(37)"
   ]
  },
  {
   "cell_type": "code",
   "execution_count": 17,
   "id": "82864186",
   "metadata": {},
   "outputs": [
    {
     "name": "stdout",
     "output_type": "stream",
     "text": [
      "bonus(50) ➞ 8200\n"
     ]
    }
   ],
   "source": [
    "bonus(50)"
   ]
  },
  {
   "cell_type": "markdown",
   "id": "9468b8ef",
   "metadata": {},
   "source": [
    "# 5. A number is said to be Disarium if the sum of its digits raised to their respective positions is the number itself.\n",
    "\n",
    "Create a function that determines whether a number is a Disarium or not.\n",
    "\n",
    "Examples\n",
    "\n",
    "is_disarium(75) ➞ False\n",
    "\n",
    "#7^1 + 5^2 = 7 + 25 = 32\n",
    "\n",
    "is_disarium(135) ➞ True\n",
    "\n",
    "#1^1 + 3^2 + 5^3 = 1 + 9 + 125 = 135\n",
    "\n",
    "is_disarium(544) ➞ False\n",
    "\n",
    "is_disarium(518) ➞ True\n",
    "\n",
    "is_disarium(466) ➞ False\n",
    "\n",
    "is_disarium(8) ➞ True\n"
   ]
  },
  {
   "cell_type": "markdown",
   "id": "b2fa2010",
   "metadata": {},
   "source": [
    "### Answer"
   ]
  },
  {
   "cell_type": "code",
   "execution_count": 18,
   "id": "2fab4bb9",
   "metadata": {},
   "outputs": [],
   "source": [
    "def is_disarium(num):\n",
    "    \n",
    "    try:\n",
    "        add = 0\n",
    "        \n",
    "        output = False\n",
    "        \n",
    "        for i in range(len(str(num))):\n",
    "            \n",
    "            add += int(str(num)[i])**(i+1)\n",
    "            \n",
    "            if num == add:\n",
    "                \n",
    "                output=True\n",
    "        \n",
    "        print(f'is_disarium({num}) ➞ {output}')\n",
    "        \n",
    "    except Exception as e :\n",
    "        \n",
    "        print(f\"there is an error {e}\")\n",
    "        \n",
    "        \n",
    "    "
   ]
  },
  {
   "cell_type": "code",
   "execution_count": 19,
   "id": "f7ea0b37",
   "metadata": {},
   "outputs": [
    {
     "name": "stdout",
     "output_type": "stream",
     "text": [
      "is_disarium(544) ➞ False\n"
     ]
    }
   ],
   "source": [
    "is_disarium(544)"
   ]
  },
  {
   "cell_type": "code",
   "execution_count": 20,
   "id": "bd79f143",
   "metadata": {},
   "outputs": [
    {
     "name": "stdout",
     "output_type": "stream",
     "text": [
      "is_disarium(518) ➞ True\n"
     ]
    }
   ],
   "source": [
    "is_disarium(518)"
   ]
  },
  {
   "cell_type": "code",
   "execution_count": 21,
   "id": "19d0caf9",
   "metadata": {},
   "outputs": [
    {
     "name": "stdout",
     "output_type": "stream",
     "text": [
      "is_disarium(466) ➞ False\n"
     ]
    }
   ],
   "source": [
    "is_disarium(466)"
   ]
  },
  {
   "cell_type": "code",
   "execution_count": 22,
   "id": "f36b78fe",
   "metadata": {},
   "outputs": [
    {
     "name": "stdout",
     "output_type": "stream",
     "text": [
      "is_disarium(8) ➞ True\n"
     ]
    }
   ],
   "source": [
    "is_disarium(8)"
   ]
  }
 ],
 "metadata": {
  "kernelspec": {
   "display_name": "Python 3 (ipykernel)",
   "language": "python",
   "name": "python3"
  },
  "language_info": {
   "codemirror_mode": {
    "name": "ipython",
    "version": 3
   },
   "file_extension": ".py",
   "mimetype": "text/x-python",
   "name": "python",
   "nbconvert_exporter": "python",
   "pygments_lexer": "ipython3",
   "version": "3.9.7"
  }
 },
 "nbformat": 4,
 "nbformat_minor": 5
}
