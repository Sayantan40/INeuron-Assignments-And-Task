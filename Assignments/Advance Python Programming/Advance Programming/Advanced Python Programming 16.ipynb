{
 "cells": [
  {
   "cell_type": "markdown",
   "id": "47cb38c0",
   "metadata": {},
   "source": [
    "# Advanced Python Programming 16."
   ]
  },
  {
   "cell_type": "markdown",
   "id": "c15d946f",
   "metadata": {},
   "source": [
    "### 1. Rondo Form is a type of musical structure, in which there is a recurring theme/refrain, notated as A. Here are the rules for valid rondo forms:\n",
    "\n",
    "   - Rondo forms always start and end with an A section.\n",
    "   - In between the A sections, there should be contrasting sections notated as B, then C, then D, etc... No letter should be skipped.\n",
    "   - There shouldn't be any repeats in the sequence (such as ABBACCA).\n",
    "\n",
    "#### Create a function which validates whether a given string is a valid Rondo Form.\n",
    "\n",
    "**Examples:**   \n",
    "`valid_rondo(\"ABACADAEAFAGAHAIAJA\") ➞ True`  \n",
    "`valid_rondo(\"ABA\") ➞ True`  \n",
    "`valid_rondo(\"ABBACCA\") ➞ False`  \n",
    "`valid_rondo(\"ACAC\") ➞ False`  \n",
    "`valid_rondo(\"A\") ➞ False`   "
   ]
  },
  {
   "cell_type": "markdown",
   "id": "392be035",
   "metadata": {},
   "source": [
    "### Answer"
   ]
  },
  {
   "cell_type": "code",
   "execution_count": 1,
   "id": "f180031a",
   "metadata": {},
   "outputs": [],
   "source": [
    "def valid_rondo(input_string):\n",
    "    \n",
    "    try:\n",
    "        \n",
    "        input_string_x = input_string.replace('A','')\n",
    "        \n",
    "        input_string_x = list(input_string_x)\n",
    "        \n",
    "        output = False\n",
    "        \n",
    "        if len(input_string_x) == 1:\n",
    "              \n",
    "                output= True\n",
    "        \n",
    "        else:\n",
    "             \n",
    "            for values in range(len(input_string_x)-1):\n",
    "                \n",
    "                if ord(input_string_x[values]) < ord(input_string_x[values+1]):\n",
    "                    \n",
    "                    output= True\n",
    "                \n",
    "                else:\n",
    "                    \n",
    "                    output = False\n",
    "                    \n",
    "                    break\n",
    "        \n",
    "        print(f\"valid_rondo({input_string}) ➞ {output}\" )\n",
    "    \n",
    "    except Exception as e:\n",
    "        \n",
    "        print(f\"There is  an error {e} \")\n",
    "   \n"
   ]
  },
  {
   "cell_type": "code",
   "execution_count": 2,
   "id": "3d9aab88",
   "metadata": {},
   "outputs": [
    {
     "name": "stdout",
     "output_type": "stream",
     "text": [
      "valid_rondo(ABACADAEAFAGAHAIAJA) ➞ True\n",
      "valid_rondo(ABA) ➞ True\n",
      "valid_rondo(ABBACCA) ➞ False\n",
      "valid_rondo(ACAC) ➞ False\n",
      "valid_rondo(A) ➞ False\n"
     ]
    }
   ],
   "source": [
    "valid_rondo(\"ABACADAEAFAGAHAIAJA\")\n",
    "valid_rondo(\"ABA\")\n",
    "valid_rondo(\"ABBACCA\")\n",
    "valid_rondo(\"ACAC\")\n",
    "valid_rondo(\"A\")"
   ]
  },
  {
   "cell_type": "markdown",
   "id": "030c5eb6",
   "metadata": {},
   "source": [
    "### 2. Create a function that returns the whole of the first sentence which contains a specific word. Include the full stop at the end of the sentence.\n",
    "**Examples:**   \n",
    "`txt = \"I have a cat. I have a mat. Things are going swell.\"`  \n",
    "`sentence_searcher(txt, \"have\") ➞ \"I have a cat.\"`  \n",
    "`sentence_searcher(txt, \"MAT\") ➞ \"I have a mat.\"`  \n",
    "`sentence_searcher(txt, \"things\") ➞ \"Things are going swell.\"`  \n",
    "`sentence_searcher(txt, \"flat\") ➞ \"\"`  "
   ]
  },
  {
   "cell_type": "markdown",
   "id": "be4e5ca6",
   "metadata": {},
   "source": [
    "### Answer"
   ]
  },
  {
   "cell_type": "code",
   "execution_count": 3,
   "id": "96b26132",
   "metadata": {},
   "outputs": [],
   "source": [
    "def sentence_searcher(in_string, search_text):\n",
    "    try:\n",
    "        \n",
    "        output = '\"\"'\n",
    "        \n",
    "        for ele in in_string.split(\". \"):\n",
    "            \n",
    "            if len(ele.lower().replace(search_text.lower(),'')) != len(ele):\n",
    "                \n",
    "                output = ele\n",
    "                \n",
    "                break\n",
    "        \n",
    "        print(f'sentence_searcher{in_string,search_text} ➞ {output}')\n",
    "    \n",
    "    except Exception as e:\n",
    "        \n",
    "        print(f\"there ia an error {e}\")\n",
    "\n",
    "txt = \"I have a cat. I have a mat. Things are going swell.\"\n",
    "\n"
   ]
  },
  {
   "cell_type": "code",
   "execution_count": 4,
   "id": "975fb458",
   "metadata": {},
   "outputs": [
    {
     "name": "stdout",
     "output_type": "stream",
     "text": [
      "sentence_searcher('I have a cat. I have a mat. Things are going swell.', 'have') ➞ I have a cat\n",
      "sentence_searcher('I have a cat. I have a mat. Things are going swell.', 'MAT') ➞ I have a mat\n",
      "sentence_searcher('I have a cat. I have a mat. Things are going swell.', 'things') ➞ Things are going swell.\n",
      "sentence_searcher('I have a cat. I have a mat. Things are going swell.', 'flat') ➞ \"\"\n"
     ]
    }
   ],
   "source": [
    "sentence_searcher(txt, \"have\")\n",
    "sentence_searcher(txt, \"MAT\")\n",
    "sentence_searcher(txt, \"things\")\n",
    "sentence_searcher(txt, \"flat\")"
   ]
  },
  {
   "cell_type": "markdown",
   "id": "a71868cc",
   "metadata": {},
   "source": [
    "### 3. Given a number, find the \"round \"of each digit of the number. An integer is called \"round\" if all its digits except the leftmost (most significant) are equal to zero.\n",
    "    - Round numbers: 4000, 1, 9, 800, 90\n",
    "    - Not round numbers: 110, 707, 222, 1001\n",
    "#### Create a function that takes a number and returns the \"round\" of each digit (except if the digit is zero) as a string. Check out the following examples for more clarification.\n",
    "\n",
    "**Examples:**   \n",
    "`sum_round(101) ➞ \"1 100\"`   \n",
    "`sum_round(1234) ➞ \"4 30 200 1000\"`  \n",
    "`sum_round(54210) ➞ \"10 200 4000 50000\"`  "
   ]
  },
  {
   "cell_type": "markdown",
   "id": "56fe5fa8",
   "metadata": {},
   "source": [
    "### Answer"
   ]
  },
  {
   "cell_type": "code",
   "execution_count": 5,
   "id": "6d427dcb",
   "metadata": {},
   "outputs": [],
   "source": [
    "def sum_round(input_num):\n",
    "    try:\n",
    "        output = []\n",
    "        \n",
    "        input_num = str(input_num)\n",
    "        \n",
    "        for ele in range(len(input_num)):\n",
    "            \n",
    "            if input_num[ele] != '0':\n",
    "                \n",
    "                output.append(input_num[ele]+len(input_num[ele+1:])*'0')\n",
    "        \n",
    "        print(f'sum_round({input_num}) ➞ {\" \".join(output[::-1])}')\n",
    "    \n",
    "    except Exception as e:\n",
    "        \n",
    "        print(f\"there ia an error {e}\")\n"
   ]
  },
  {
   "cell_type": "code",
   "execution_count": 6,
   "id": "875d2d00",
   "metadata": {},
   "outputs": [
    {
     "name": "stdout",
     "output_type": "stream",
     "text": [
      "sum_round(101) ➞ 1 100\n",
      "sum_round(1234) ➞ 4 30 200 1000\n",
      "sum_round(54210) ➞ 10 200 4000 50000\n"
     ]
    }
   ],
   "source": [
    "sum_round(101)\n",
    "sum_round(1234)\n",
    "sum_round(54210)"
   ]
  },
  {
   "cell_type": "markdown",
   "id": "03b21a08",
   "metadata": {},
   "source": [
    "### 4. Your task, is to create N x N multiplication table, of size n provided in parameter.\n",
    "For example, when n is 5, the multiplication table is:\n",
    "   - 1, 2, 3, 4, 5\n",
    "   - 2, 4, 6, 8, 10\n",
    "   - 3, 6, 9, 12, 15\n",
    "   - 4, 8, 12, 16, 20\n",
    "   - 5, 10, 15, 20, 25\n",
    "   \n",
    "This example will result in:`[[1, 2, 3, 4, 5], [2, 4, 6, 8, 10], [3, 6, 9, 12, 15], [4, 8, 12, 16, 20], [5, 10, 15, 20, 25]]`  \n",
    "**Examples:**   \n",
    "`multiplication_table(1) ➞ [[1]]`   \n",
    "`multiplication_table(3) ➞ [[1, 2, 3], [2, 4, 6], [3, 6, 9]]`  "
   ]
  },
  {
   "cell_type": "markdown",
   "id": "40383428",
   "metadata": {},
   "source": [
    "### Answer"
   ]
  },
  {
   "cell_type": "code",
   "execution_count": 7,
   "id": "324ddc5f",
   "metadata": {},
   "outputs": [],
   "source": [
    "def multiplication_table(input_num):\n",
    "    \n",
    "    try:\n",
    "        output_list =[]\n",
    "        \n",
    "        for a in range(1,input_num+1):\n",
    "            \n",
    "            temp_list = []\n",
    "            \n",
    "            for b in range(1,input_num+1):\n",
    "                \n",
    "                temp_list.append(a*b)\n",
    "            \n",
    "            output_list.append(temp_list)\n",
    "        \n",
    "        print(f'multiplication_table({input_num}) ➞ {output_list}')\n",
    "    \n",
    "    except Exception as e:\n",
    "        \n",
    "        print(f\"there ia an error {e}\")\n",
    "    \n",
    "        \n"
   ]
  },
  {
   "cell_type": "code",
   "execution_count": 8,
   "id": "d68fa84e",
   "metadata": {},
   "outputs": [
    {
     "name": "stdout",
     "output_type": "stream",
     "text": [
      "multiplication_table(3) ➞ [[1, 2, 3], [2, 4, 6], [3, 6, 9]]\n",
      "multiplication_table(1) ➞ [[1]]\n",
      "multiplication_table(5) ➞ [[1, 2, 3, 4, 5], [2, 4, 6, 8, 10], [3, 6, 9, 12, 15], [4, 8, 12, 16, 20], [5, 10, 15, 20, 25]]\n"
     ]
    }
   ],
   "source": [
    "multiplication_table(3) \n",
    "multiplication_table(1)\n",
    "multiplication_table(5)"
   ]
  },
  {
   "cell_type": "markdown",
   "id": "a43663e1",
   "metadata": {},
   "source": [
    "### 5. Create a function that returns True if two lines rhyme and False otherwise. For the purposes of this exercise, two lines rhyme if the last word from each sentence contains the same vowels.\n",
    "**Examples:**   \n",
    "`does_rhyme(\"Sam I am!\", \"Green eggs and ham.\") ➞ True`  \n",
    "`does_rhyme(\"Sam I am!\", \"Green eggs and HAM.\") ➞ True`   \n",
    "`# Capitalization and punctuation should not matter.`  \n",
    "`does_rhyme(\"You are off to the races\", \"a splendid day.\") ➞ False`  \n",
    "`does_rhyme(\"and frequently do?\", \"you gotta move.\") ➞ False`  "
   ]
  },
  {
   "cell_type": "markdown",
   "id": "634129e8",
   "metadata": {},
   "source": [
    "### Answer"
   ]
  },
  {
   "cell_type": "code",
   "execution_count": 9,
   "id": "10cd2dd7",
   "metadata": {},
   "outputs": [],
   "source": [
    "def does_rhyme(in_one,in_two):\n",
    "    \n",
    "    try:\n",
    "        vowels = 'aeiou'\n",
    "        \n",
    "        output= False\n",
    "        \n",
    "        in_one_rhyme = [i.lower() for i in in_one.split(\" \")[-1] if i.lower() in vowels]\n",
    "        \n",
    "        in_two_rhyme = [i.lower() for i in in_two.split(\" \")[-1] if i.lower() in vowels]\n",
    "        \n",
    "        if in_one_rhyme == in_two_rhyme:\n",
    "            \n",
    "            output = True\n",
    "        \n",
    "        print(f'does_rhyme{in_one,in_two} ➞ {output}')\n",
    "    \n",
    "    except Exception as e:\n",
    "        \n",
    "        print(f\"there ia an error {e}\")\n",
    "    \n",
    "    \n"
   ]
  },
  {
   "cell_type": "code",
   "execution_count": 10,
   "id": "121ebbd8",
   "metadata": {},
   "outputs": [
    {
     "name": "stdout",
     "output_type": "stream",
     "text": [
      "does_rhyme('Sam I am!', 'Green eggs and ham.') ➞ True\n",
      "does_rhyme('Sam I am!', 'Green eggs and HAM.') ➞ True\n",
      "does_rhyme('You are off to the races', 'a splendid day.') ➞ False\n",
      "does_rhyme('and frequently do?', 'you gotta move.') ➞ False\n"
     ]
    }
   ],
   "source": [
    "does_rhyme(\"Sam I am!\", \"Green eggs and ham.\")\n",
    "does_rhyme(\"Sam I am!\", \"Green eggs and HAM.\")\n",
    "does_rhyme(\"You are off to the races\", \"a splendid day.\")\n",
    "does_rhyme(\"and frequently do?\", \"you gotta move.\")"
   ]
  }
 ],
 "metadata": {
  "kernelspec": {
   "display_name": "Python 3 (ipykernel)",
   "language": "python",
   "name": "python3"
  },
  "language_info": {
   "codemirror_mode": {
    "name": "ipython",
    "version": 3
   },
   "file_extension": ".py",
   "mimetype": "text/x-python",
   "name": "python",
   "nbconvert_exporter": "python",
   "pygments_lexer": "ipython3",
   "version": "3.9.7"
  }
 },
 "nbformat": 4,
 "nbformat_minor": 5
}
