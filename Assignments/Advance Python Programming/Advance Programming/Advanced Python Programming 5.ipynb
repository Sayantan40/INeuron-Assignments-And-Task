{
 "cells": [
  {
   "cell_type": "markdown",
   "id": "5517c911",
   "metadata": {},
   "source": [
    "# Advanced Python Programming 5"
   ]
  },
  {
   "cell_type": "markdown",
   "id": "3b555857",
   "metadata": {},
   "source": [
    "# 1. Create a function that takes a number n (integer greater than zero) as an argument, and returns 2 if n is odd and 8 if n is even.\n",
    "\n",
    "You can only use the following arithmetic operators: addition of numbers +, subtraction of numbers -, multiplication of number *, division of number /, and exponentiation **.\n",
    "\n",
    "You are not allowed to use any other methods in this challenge (i.e. no if statements, comparison operators, etc).\n",
    "\n",
    "Examples\n",
    "\n",
    "f(1) ➞ 2\n",
    "\n",
    "f(2) ➞ 8\n",
    "\n",
    "f(3) ➞ 2\n"
   ]
  },
  {
   "cell_type": "markdown",
   "id": "6ca13d30",
   "metadata": {},
   "source": [
    "### Answer"
   ]
  },
  {
   "cell_type": "code",
   "execution_count": 1,
   "id": "fd7a664f",
   "metadata": {},
   "outputs": [],
   "source": [
    "def f(num):\n",
    "    \n",
    "    try:\n",
    "        output = [8,2]\n",
    "        \n",
    "        print(f'f({num})➞ {output[num&1]}')\n",
    "        \n",
    "    except Exception as e:\n",
    "        \n",
    "        print(f\"there is an error {e}\")"
   ]
  },
  {
   "cell_type": "code",
   "execution_count": 2,
   "id": "022fbb5a",
   "metadata": {},
   "outputs": [
    {
     "name": "stdout",
     "output_type": "stream",
     "text": [
      "f(1)➞ 2\n",
      "f(2)➞ 8\n",
      "f(3)➞ 2\n"
     ]
    }
   ],
   "source": [
    "f(1) \n",
    "f(2) \n",
    "f(3)"
   ]
  },
  {
   "cell_type": "markdown",
   "id": "278f3c86",
   "metadata": {},
   "source": [
    "# 2. Create a function that returns the majority vote in a list. A majority vote is an element that occurs > N/2 times in a list (where N is the length of the list).\n",
    "\n",
    "Examples\n",
    "\n",
    "majority_vote([\"A\", \"A\", \"B\"]) ➞ \"A\"\n",
    "\n",
    "majority_vote([\"A\", \"A\", \"A\", \"B\", \"C\", \"A\"]) ➞ \"A\"\n",
    "\n",
    "majority_vote([\"A\", \"B\", \"B\", \"A\", \"C\", \"C\"]) ➞ None\n",
    "\n"
   ]
  },
  {
   "cell_type": "markdown",
   "id": "692e490b",
   "metadata": {},
   "source": [
    "### Answer"
   ]
  },
  {
   "cell_type": "code",
   "execution_count": 3,
   "id": "10f1370a",
   "metadata": {},
   "outputs": [],
   "source": [
    "def majority_vote(list1):\n",
    "    \n",
    "    try:\n",
    "        \n",
    "        list2 = None\n",
    "        \n",
    "        for i in set(list1):\n",
    "            \n",
    "            if list1.count(i) > (len(list1)/2):\n",
    "                \n",
    "                list2 = i\n",
    "        \n",
    "        print(f'majority_vote({list1}) ➞ {list2}')\n",
    "    \n",
    "    except Exception as e:\n",
    "        \n",
    "        print(f\"there is an error {e}\")\n",
    "    "
   ]
  },
  {
   "cell_type": "code",
   "execution_count": 4,
   "id": "199fc870",
   "metadata": {},
   "outputs": [
    {
     "name": "stdout",
     "output_type": "stream",
     "text": [
      "majority_vote(['A', 'A', 'B']) ➞ A\n"
     ]
    }
   ],
   "source": [
    "majority_vote([\"A\", \"A\", \"B\"]) "
   ]
  },
  {
   "cell_type": "code",
   "execution_count": 5,
   "id": "90155e13",
   "metadata": {},
   "outputs": [
    {
     "name": "stdout",
     "output_type": "stream",
     "text": [
      "majority_vote(['A', 'A', 'A', 'B', 'C', 'A']) ➞ A\n"
     ]
    }
   ],
   "source": [
    "majority_vote([\"A\", \"A\", \"A\", \"B\", \"C\", \"A\"])"
   ]
  },
  {
   "cell_type": "code",
   "execution_count": 6,
   "id": "545fd85b",
   "metadata": {},
   "outputs": [
    {
     "name": "stdout",
     "output_type": "stream",
     "text": [
      "majority_vote(['A', 'B', 'B', 'A', 'C', 'C']) ➞ None\n"
     ]
    }
   ],
   "source": [
    "majority_vote([\"A\", \"B\", \"B\", \"A\", \"C\", \"C\"])"
   ]
  },
  {
   "cell_type": "markdown",
   "id": "07fe0de1",
   "metadata": {},
   "source": [
    "# 3. Create a function that takes a string txt and censors any word from a given list lst. The text removed must be replaced by the given character char.\n",
    "\n",
    "Examples\n",
    "\n",
    "censor_string(\"Today is a Wednesday!\", [\"Today\", \"a\"], \"-\") ➞ \"----- is - Wednesday!\"\n",
    "\n",
    "censor_string(\"The cow jumped over the moon.\", [\"cow\", \"over\"], \"*\"), \"The *** jumped **** the moon.\")\n",
    "\n",
    "censor_string(\"Why did the chicken cross the road?\", [\"Did\", \"chicken\", \"road\"], \"*\") ➞ \"Why *** the ******* cross the ****?\"\n"
   ]
  },
  {
   "cell_type": "markdown",
   "id": "a0c78ea7",
   "metadata": {},
   "source": [
    "### Answer"
   ]
  },
  {
   "cell_type": "code",
   "execution_count": 7,
   "id": "0f4ab568",
   "metadata": {},
   "outputs": [],
   "source": [
    "def censor_string(str1, str2,char):\n",
    "    \n",
    "    try:\n",
    "        \n",
    "        str3 = []\n",
    "        \n",
    "        for ele in str1.split():\n",
    "            \n",
    "            if ele.title() in str2 or ele.lower() in str2 or ele.upper() in str2:\n",
    "                \n",
    "                str3.append(char*len(ele))\n",
    "            \n",
    "            else:\n",
    "                \n",
    "                str3.append(ele)\n",
    "                \n",
    "        print(f'censor_string({str1}) ➞ {\" \".join(str3)}')\n",
    "        \n",
    "    except Exception as e:\n",
    "        \n",
    "        print(f\"there is an error {e}\")\n"
   ]
  },
  {
   "cell_type": "code",
   "execution_count": 8,
   "id": "320f5286",
   "metadata": {},
   "outputs": [
    {
     "name": "stdout",
     "output_type": "stream",
     "text": [
      "censor_string(Today is a Wednesday!) ➞ ----- is - Wednesday!\n"
     ]
    }
   ],
   "source": [
    "censor_string(\"Today is a Wednesday!\", [\"Today\", \"a\"], \"-\")"
   ]
  },
  {
   "cell_type": "code",
   "execution_count": 9,
   "id": "72db3226",
   "metadata": {},
   "outputs": [
    {
     "name": "stdout",
     "output_type": "stream",
     "text": [
      "censor_string(The cow jumped over the moon.) ➞ The *** jumped **** the moon.\n"
     ]
    }
   ],
   "source": [
    "censor_string(\"The cow jumped over the moon.\", [\"cow\", \"over\"], \"*\")"
   ]
  },
  {
   "cell_type": "code",
   "execution_count": 10,
   "id": "753df2df",
   "metadata": {},
   "outputs": [
    {
     "name": "stdout",
     "output_type": "stream",
     "text": [
      "censor_string(Why did the chicken cross the road?) ➞ Why *** the ******* cross the road?\n"
     ]
    }
   ],
   "source": [
    "censor_string(\"Why did the chicken cross the road?\", [\"Did\", \"chicken\", \"road\"], \"*\")"
   ]
  },
  {
   "cell_type": "markdown",
   "id": "b0f605f2",
   "metadata": {},
   "source": [
    "# 4. In mathematics a Polydivisible Number (or magic number) is a number in a given number base with digits abcde... that has the following properties:\n",
    "\n",
    "-  Its first digit a is not 0.\n",
    "- The number formed by its first two digits ab is a multiple of 2.\n",
    "- The number formed by its first three digits abc is a multiple of 3.\n",
    "- The number formed by its first four digits abcd is a multiple of 4.\n",
    "\n",
    "Create a function which takes an integer n and returns True if the given number is a Polydivisible Number and False otherwise.\n",
    "\n",
    "Examples\n",
    "\n",
    "is_polydivisible(1232) ➞ True\n",
    "\n",
    "#1     / 1 = 1\n",
    "\n",
    "#12    / 2 = 6\n",
    "\n",
    "#123   / 3 = 41\n",
    "\n",
    "#1232  / 4 = 308\n",
    "\n",
    "is_polydivisible(123220 ) ➞ False\n",
    "\n",
    "#1   / 1 = 1\n",
    "\n",
    "#12   / 2 = 6\n",
    "\n",
    "#123   / 3 = 41\n",
    "\n",
    "#1232   / 4 = 308\n",
    "\n",
    "#12322   / 5 = 2464.4         # Not a Whole Number\n",
    "\n",
    "#123220   /6 = 220536.333...  # Not a Whole Number\n"
   ]
  },
  {
   "cell_type": "markdown",
   "id": "2526b693",
   "metadata": {},
   "source": [
    "### Answer"
   ]
  },
  {
   "cell_type": "code",
   "execution_count": 17,
   "id": "8d840265",
   "metadata": {},
   "outputs": [],
   "source": [
    "def is_polydivisible(num):\n",
    "    \n",
    "    try:\n",
    "        \n",
    "        output = False\n",
    "        \n",
    "        num_temp = str(num)\n",
    "        \n",
    "        for i in range(len(num_temp)):\n",
    "            \n",
    "            if int(num_temp[:i+1]) % (i+1) == 0:\n",
    "                \n",
    "                output = True\n",
    "            \n",
    "            else:\n",
    "                \n",
    "                output = False\n",
    "                \n",
    "                break\n",
    "        \n",
    "        print(f'is_polydivisible({num}) ➞ {output}')\n",
    "        \n",
    "    except Exception as e:\n",
    "        \n",
    "        print(f\"there is an error {e}\")\n",
    "        \n",
    "    "
   ]
  },
  {
   "cell_type": "code",
   "execution_count": 18,
   "id": "7364ffbc",
   "metadata": {},
   "outputs": [
    {
     "name": "stdout",
     "output_type": "stream",
     "text": [
      "is_polydivisible(1232) ➞ True\n"
     ]
    }
   ],
   "source": [
    "is_polydivisible(1232) "
   ]
  },
  {
   "cell_type": "code",
   "execution_count": 19,
   "id": "aeef032e",
   "metadata": {},
   "outputs": [
    {
     "name": "stdout",
     "output_type": "stream",
     "text": [
      "is_polydivisible(123220) ➞ False\n"
     ]
    }
   ],
   "source": [
    "is_polydivisible(123220 )"
   ]
  },
  {
   "cell_type": "markdown",
   "id": "bf5c5f96",
   "metadata": {},
   "source": [
    "5. Create a function that takes a list of numbers and returns the sum of all prime numbers in the list.\n",
    "\n",
    "Examples\n",
    "\n",
    "sum_primes([1, 2, 3, 4, 5, 6, 7, 8, 9, 10]) ➞ 17\n",
    "\n",
    "sum_primes([2, 3, 4, 11, 20, 50, 71]) ➞ 87\n",
    "\n",
    "sum_primes([]) ➞ None\n",
    "\n"
   ]
  },
  {
   "cell_type": "markdown",
   "id": "43d4c300",
   "metadata": {},
   "source": [
    "### Answer"
   ]
  },
  {
   "cell_type": "code",
   "execution_count": 20,
   "id": "57ab0dc8",
   "metadata": {},
   "outputs": [],
   "source": [
    "def sum_primes(list1):\n",
    "    \n",
    "    try: \n",
    "        \n",
    "        str1 = []\n",
    "        \n",
    "        for i in list1:\n",
    "            \n",
    "            if i in [2,3]:\n",
    "                \n",
    "                str1.append(i)\n",
    "            \n",
    "            elif i in [6*n-1 for n in range(0,i)] or i in [6*n+1 for n in range(0,i)]:\n",
    "                \n",
    "                str1.append(i)\n",
    "            \n",
    "            if 1 in str1:\n",
    "                \n",
    "                str1.remove(1)\n",
    "                \n",
    "        print(f'sum_prices({list1}) ➞ {sum(str1) if len(str1) > 0 else None}')\n",
    "        \n",
    "    except Exception as e:\n",
    "        \n",
    "        print(f\"there is an error {e}\")"
   ]
  },
  {
   "cell_type": "code",
   "execution_count": 21,
   "id": "dff60b2d",
   "metadata": {},
   "outputs": [
    {
     "name": "stdout",
     "output_type": "stream",
     "text": [
      "sum_prices([1, 2, 3, 4, 5, 6, 7, 8, 9, 10]) ➞ 17\n",
      "sum_prices([2, 3, 4, 11, 20, 50, 71]) ➞ 87\n",
      "sum_prices([]) ➞ None\n"
     ]
    }
   ],
   "source": [
    "sum_primes([1, 2, 3, 4, 5, 6, 7, 8, 9, 10])\n",
    "sum_primes([2, 3, 4, 11, 20, 50, 71])\n",
    "sum_primes([])"
   ]
  }
 ],
 "metadata": {
  "kernelspec": {
   "display_name": "Python 3 (ipykernel)",
   "language": "python",
   "name": "python3"
  },
  "language_info": {
   "codemirror_mode": {
    "name": "ipython",
    "version": 3
   },
   "file_extension": ".py",
   "mimetype": "text/x-python",
   "name": "python",
   "nbconvert_exporter": "python",
   "pygments_lexer": "ipython3",
   "version": "3.9.7"
  }
 },
 "nbformat": 4,
 "nbformat_minor": 5
}
