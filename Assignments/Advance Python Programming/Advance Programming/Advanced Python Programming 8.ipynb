{
 "cells": [
  {
   "cell_type": "markdown",
   "id": "3f9d3227",
   "metadata": {},
   "source": [
    "# Advanced Python Programming 8."
   ]
  },
  {
   "cell_type": "markdown",
   "id": "3b30cced",
   "metadata": {},
   "source": [
    "# 1. Given a sentence as txt, return True if any two adjacent words have this property: One word ends with a vowel, while the word immediately after begins with a vowel (a e i o u).\n",
    "\n",
    "#### Examples\n",
    "\n",
    "#### vowel_links(\"a very large appliance\") ➞ True\n",
    "\n",
    "#### vowel_links(\"go to edabit\") ➞ True\n",
    "\n",
    "#### vowel_links(\"an open fire\") ➞ False\n",
    "\n",
    "#### vowel_links(\"a sudden applause\") ➞ False\n",
    "\n"
   ]
  },
  {
   "cell_type": "markdown",
   "id": "584a9908",
   "metadata": {},
   "source": [
    "## Answer"
   ]
  },
  {
   "cell_type": "code",
   "execution_count": 7,
   "id": "e8e71fbf",
   "metadata": {},
   "outputs": [],
   "source": [
    "def vowel_links(str):\n",
    "    \n",
    "    try:\n",
    "        \n",
    "        list = str.split(\" \")\n",
    "        \n",
    "        vowel_list = ['a','e','i','o','u']\n",
    "        \n",
    "        end= False\n",
    "        \n",
    "        start=False\n",
    "        \n",
    "        output= False\n",
    "        \n",
    "        for elements in range(len(list)):\n",
    "            \n",
    "            temp = True if list[elements][-1] in vowel_list else False\n",
    "            \n",
    "            start = True if list[elements][0] in vowel_list else False\n",
    "            \n",
    "            if start == end == True:\n",
    "                \n",
    "                output=True\n",
    "                \n",
    "                break\n",
    "                \n",
    "            end=temp\n",
    "            \n",
    "        print(f'vowel_links({str}) ➞ {output}')\n",
    "    \n",
    "    except Exception as e:\n",
    "        \n",
    "        print(f\" There is an error {e}\")"
   ]
  },
  {
   "cell_type": "code",
   "execution_count": 8,
   "id": "0e59df88",
   "metadata": {},
   "outputs": [
    {
     "name": "stdout",
     "output_type": "stream",
     "text": [
      "vowel_links(a very large appliance) ➞ True\n",
      "vowel_links(go to edabit) ➞ True\n",
      "vowel_links(an open fire) ➞ False\n",
      "vowel_links(a sudden applause) ➞ False\n"
     ]
    }
   ],
   "source": [
    "vowel_links(\"a very large appliance\")\n",
    "vowel_links(\"go to edabit\")\n",
    "vowel_links(\"an open fire\")\n",
    "vowel_links(\"a sudden applause\")"
   ]
  },
  {
   "cell_type": "markdown",
   "id": "188aab67",
   "metadata": {},
   "source": [
    "# 2. You are given three inputs: a string, one letter, and a second letter.\n",
    "\n",
    "#### Write a function that returns True if every instance of the first letter occurs before every instance of the second letter.\n",
    "\n",
    "#### Examples\n",
    "\n",
    "#### first_before_second(\"a rabbit jumps joyfully\", \"a\", \"j\") ➞ True\n",
    "**# Every instance of \"a\" occurs before every instance of \"j\".**\n",
    "\n",
    "#### first_before_second(\"knaves knew about waterfalls\", \"k\", \"w\") ➞  True\n",
    "\n",
    "#### first_before_second(\"happy birthday\", \"a\", \"y\") ➞ False\n",
    "**# The \"a\" in \"birthday\" occurs after the \"y\" in \"happy\".**\n",
    "\n",
    "#### first_before_second(\"precarious kangaroos\", \"k\", \"a\") ➞ False\n",
    "\n"
   ]
  },
  {
   "cell_type": "markdown",
   "id": "7a7b0382",
   "metadata": {},
   "source": [
    "## Answer"
   ]
  },
  {
   "cell_type": "code",
   "execution_count": 9,
   "id": "ac9b3053",
   "metadata": {},
   "outputs": [],
   "source": [
    "def first_before_second_index(str,first,second):\n",
    "    \n",
    "    try:\n",
    "        \n",
    "        last_occur_first = str.rindex(first)\n",
    "        \n",
    "        first_occur_second = str.index(second)\n",
    "        \n",
    "        output = True if last_occur_first < first_occur_second else False\n",
    "        \n",
    "        print(f'first_before_second_index({str}, {first}, {second}) ➞ {output}')\n",
    "    \n",
    "    except Exception as e:\n",
    "        \n",
    "        print(f\" There is an error {e}\")\n"
   ]
  },
  {
   "cell_type": "code",
   "execution_count": 10,
   "id": "054f1f9b",
   "metadata": {},
   "outputs": [
    {
     "name": "stdout",
     "output_type": "stream",
     "text": [
      "first_before_second_index(a rabbit jumps joyfully, a, j) ➞ True\n",
      "first_before_second_index(knaves knew about waterfalls, k, w) ➞ True\n",
      "first_before_second_index(happy birthday, a, y) ➞ False\n",
      "first_before_second_index(precarious kangaroos, k, a) ➞ False\n"
     ]
    }
   ],
   "source": [
    "first_before_second_index(\"a rabbit jumps joyfully\", \"a\", \"j\")\n",
    "first_before_second_index(\"knaves knew about waterfalls\", \"k\", \"w\")\n",
    "first_before_second_index(\"happy birthday\", \"a\", \"y\")\n",
    "first_before_second_index(\"precarious kangaroos\", \"k\", \"a\")"
   ]
  },
  {
   "cell_type": "markdown",
   "id": "3a6d30f3",
   "metadata": {},
   "source": [
    "# 3. Create a function that returns the characters from a list or string r on odd or even positions, depending on the specifier s. The specifier will be \"odd\" for items on odd positions (1, 3, 5, ...) and \"even\" for items on even positions (2, 4, 6, ...).\n",
    "\n",
    "#### Examples\n",
    "\n",
    "#### char_at_pos([2, 4, 6, 8, 10], \"even\") ➞ [4, 8]\n",
    "**# 4 & 8 occupy the 2nd & 4th positions**\n",
    "\n",
    "#### char_at_pos(\"EDABIT\", \"odd\") ➞ \"EAI\"\n",
    "**# \"E\", \"A\" and \"I\" occupy the 1st, 3rd and 5th positions**\n",
    "\n",
    "#### char_at_pos([\"A\", \"R\", \"B\", \"I\", \"T\", \"R\", \"A\", \"R\", \"I\", \"L\", \"Y\"], \"odd\") ➞ [\"A\", \"B\", \"T\", \"A\", \"I\", \"Y\"]\n",
    "#### imal = 934\n",
    "**# binary  = \"1110100110\"**\n"
   ]
  },
  {
   "cell_type": "markdown",
   "id": "d3e84a00",
   "metadata": {},
   "source": [
    "## Answer"
   ]
  },
  {
   "cell_type": "code",
   "execution_count": 13,
   "id": "a1f28416",
   "metadata": {},
   "outputs": [],
   "source": [
    "def char_at_pos(list1,mode):\n",
    "    \n",
    "    try:\n",
    "    \n",
    "        list2 = []\n",
    "    \n",
    "        for elements in range(len(list1)):\n",
    "        \n",
    "                \n",
    "            if mode == 'even' and (elements + 1)%2 == 0:\n",
    "                                \n",
    "                    list2.append(list1[elements])\n",
    "                \n",
    "            elif mode == 'odd' and (elements + 1) % 2 != 0:\n",
    "                                \n",
    "                    list2.append(list1[elements])            \n",
    "        \n",
    "        print(f'char_at_pos{list1,mode} ➞ {list2}')\n",
    "    \n",
    "    except Exception as e:\n",
    "        \n",
    "        print(f\" There is an error {e}\")"
   ]
  },
  {
   "cell_type": "code",
   "execution_count": 14,
   "id": "cb1b52a7",
   "metadata": {},
   "outputs": [
    {
     "name": "stdout",
     "output_type": "stream",
     "text": [
      "char_at_pos([2, 4, 6, 8, 10], 'even') ➞ [4, 8]\n",
      "char_at_pos('EDABIT', 'odd') ➞ ['E', 'A', 'I']\n",
      "char_at_pos(['A', 'R', 'B', 'I', 'T', 'R', 'A', 'R', 'I', 'L', 'Y'], 'odd') ➞ ['A', 'B', 'T', 'A', 'I', 'Y']\n"
     ]
    }
   ],
   "source": [
    "char_at_pos([2, 4, 6, 8, 10], \"even\")\n",
    "char_at_pos(\"EDABIT\", \"odd\")\n",
    "char_at_pos([\"A\", \"R\", \"B\", \"I\", \"T\", \"R\", \"A\", \"R\", \"I\", \"L\", \"Y\"], \"odd\")"
   ]
  },
  {
   "cell_type": "markdown",
   "id": "f26cf94f",
   "metadata": {},
   "source": [
    "# 4. Write a function that returns the greatest common divisor of all list elements. If the greatest common divisor is 1, return 1.\n",
    "\n",
    "#### Examples\n",
    "\n",
    "#### GCD([10, 20, 40]) ➞ 10\n",
    "\n",
    "#### GCD([1, 2, 3, 100]) ➞ 1\n",
    "\n",
    "#### GCD([1024, 192, 2048, 512]) ➞ 64\n",
    "\n"
   ]
  },
  {
   "cell_type": "markdown",
   "id": "123a99d6",
   "metadata": {},
   "source": [
    "## Answer"
   ]
  },
  {
   "cell_type": "code",
   "execution_count": 15,
   "id": "18f9035f",
   "metadata": {},
   "outputs": [],
   "source": [
    "def GCD(list1):\n",
    "    \n",
    "    try:\n",
    "        \n",
    "        small = min(list1)\n",
    "        \n",
    "        gcd = -1\n",
    "        \n",
    "        for i in range(1, small+1):\n",
    "            \n",
    "            output = []\n",
    "            \n",
    "            for j in list1:\n",
    "                \n",
    "                output.append(j%i)\n",
    "            \n",
    "            if len(set(output)) == 1 and list(set(output))[0] == 0:\n",
    "                \n",
    "                gcd = i\n",
    "        \n",
    "        print(f'GCD({list1}) ➞ {gcd}')\n",
    "    \n",
    "    except Exception as e:\n",
    "        \n",
    "        print(f\" There is an error {e}\")"
   ]
  },
  {
   "cell_type": "code",
   "execution_count": 16,
   "id": "e26f5fa7",
   "metadata": {},
   "outputs": [
    {
     "name": "stdout",
     "output_type": "stream",
     "text": [
      "GCD([10, 20, 40]) ➞ 10\n",
      "GCD([1, 2, 3, 100]) ➞ 1\n",
      "GCD([1024, 192, 2048, 512]) ➞ 64\n"
     ]
    }
   ],
   "source": [
    "GCD([10, 20, 40])\n",
    "GCD([1, 2, 3, 100])\n",
    "GCD([1024, 192, 2048, 512])"
   ]
  },
  {
   "cell_type": "markdown",
   "id": "338ec7fd",
   "metadata": {},
   "source": [
    "# 5. A number/string is a palindrome if the digits/characters are the same when read both forward and backward. Examples include \"racecar\" and 12321. Given a positive number n, check if n or the binary representation of n is palindromic. Return the following:\n",
    "\n",
    "- \"Decimal only.\" if only n is a palindrome.\n",
    "- \"Binary only.\" if only the binary representation of n is a palindrome.\n",
    "- \"Decimal and binary.\" if both are palindromes.\n",
    "- \"Neither!\" if neither are palindromes.\n",
    "\n",
    "#### Examples\n",
    "\n",
    "#### palindrome_type(1306031) ➞ \"Decimal only.\"\n",
    "**# decimal = 1306031**\n",
    "**# binary  = \"100111110110110101111\"**\n",
    "\n",
    "#### palindrome_type(427787) ➞ \"Binary only.\"\n",
    "**# decimal = 427787**\n",
    "**# binary  = \"1101000011100001011\"**\n",
    "\n",
    "#### palindrome_type(313) ➞ \"Decimal and binary.\"\n",
    "**# decimal = 313**\n",
    "**# binary  = 100111001**\n",
    "\n",
    "#### palindrome_type(934) ➞ \"Neither!\"\n",
    "**# dec**"
   ]
  },
  {
   "cell_type": "markdown",
   "id": "e900332c",
   "metadata": {},
   "source": [
    "## Answer"
   ]
  },
  {
   "cell_type": "code",
   "execution_count": 17,
   "id": "cace8fa5",
   "metadata": {},
   "outputs": [],
   "source": [
    "def palindrome_type(num):\n",
    "    \n",
    "    try:\n",
    "    \n",
    "        output = None\n",
    "    \n",
    "        if str(num) == str(num)[::-1] and str(bin(num)[2:]) == str(bin(num)[2:])[::-1]:\n",
    "        \n",
    "                output = 'Decimal and binary.'\n",
    "        \n",
    "        elif str(num) == str(num)[::-1] and str(bin(num)[2:]) != str(bin(num)[2:])[::-1]:\n",
    "               \n",
    "                output = 'Decimal only.'\n",
    "        \n",
    "        elif str(bin(num)[2:]) != str(bin(num)[2:])[::-1] and str(num) == str(num)[::-1]:\n",
    "                \n",
    "                output = 'Binary only.'\n",
    "        \n",
    "        else:\n",
    "                output = 'Neither!'\n",
    "        \n",
    "        print(f'palindrome({num}) ➞ {output}')\n",
    "    \n",
    "    except Exception as e:\n",
    "        \n",
    "        print(f\" There is an error {e}\")\n"
   ]
  },
  {
   "cell_type": "code",
   "execution_count": 18,
   "id": "6e3e2e7e",
   "metadata": {},
   "outputs": [
    {
     "name": "stdout",
     "output_type": "stream",
     "text": [
      "palindrome(1306031) ➞ Decimal only.\n",
      "palindrome(427787) ➞ Neither!\n",
      "palindrome(313) ➞ Decimal and binary.\n",
      "palindrome(934) ➞ Neither!\n"
     ]
    }
   ],
   "source": [
    "palindrome_type(1306031)\n",
    "palindrome_type(427787)\n",
    "palindrome_type(313)\n",
    "palindrome_type(934)"
   ]
  }
 ],
 "metadata": {
  "kernelspec": {
   "display_name": "Python 3 (ipykernel)",
   "language": "python",
   "name": "python3"
  },
  "language_info": {
   "codemirror_mode": {
    "name": "ipython",
    "version": 3
   },
   "file_extension": ".py",
   "mimetype": "text/x-python",
   "name": "python",
   "nbconvert_exporter": "python",
   "pygments_lexer": "ipython3",
   "version": "3.9.7"
  }
 },
 "nbformat": 4,
 "nbformat_minor": 5
}
