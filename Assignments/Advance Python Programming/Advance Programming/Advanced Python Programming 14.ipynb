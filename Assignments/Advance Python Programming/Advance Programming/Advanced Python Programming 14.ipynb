{
 "cells": [
  {
   "cell_type": "markdown",
   "id": "68966c4b",
   "metadata": {},
   "source": [
    "# Advanced Python Programming 14."
   ]
  },
  {
   "cell_type": "markdown",
   "id": "06b0c964",
   "metadata": {},
   "source": [
    "### 1. Given a list of numbers, create a function that removes 25% from every number in the list except the smallest number, and adds the total amount removed to the smallest number.\n",
    "**Examples:**  \n",
    "`show_the_love([4, 1, 4]) ➞ [3, 3, 3]`  \n",
    "`show_the_love([16, 10, 8]) ➞ [12, 7.5, 14.5]`   \n",
    "`show_the_love([2, 100]) ➞ [27, 75]`   "
   ]
  },
  {
   "cell_type": "markdown",
   "id": "7bfc27cc",
   "metadata": {},
   "source": [
    "## Answer"
   ]
  },
  {
   "cell_type": "code",
   "execution_count": 11,
   "id": "58f34209",
   "metadata": {},
   "outputs": [],
   "source": [
    "def show_the_love(input_list):\n",
    "    \n",
    "    try:\n",
    "        output_list = input_list.copy()\n",
    "        sum_num = 0\n",
    "        \n",
    "        for i in range(len(output_list)):\n",
    "            \n",
    "            if output_list[i] is not min(output_list):\n",
    "                sum_num += output_list[i]/4\n",
    "                \n",
    "                output_list[i] =  output_list[i]-(output_list[i]//4)\n",
    "        \n",
    "        output_list[output_list.index(min(output_list))] = sum_num + min(output_list)\n",
    "        \n",
    "        print(f'show_the_love({input_list}) ➞ {output_list}')\n",
    "    \n",
    "    except Exception as e:\n",
    "        print(f\"There is an error {e}\")\n",
    "    \n",
    "    \n"
   ]
  },
  {
   "cell_type": "code",
   "execution_count": 12,
   "id": "6bbef4c3",
   "metadata": {},
   "outputs": [
    {
     "name": "stdout",
     "output_type": "stream",
     "text": [
      "show_the_love([4, 1, 4]) ➞ [3, 3.0, 3]\n",
      "show_the_love([16, 10, 8]) ➞ [12, 14.5, 8]\n",
      "show_the_love([2, 100]) ➞ [27.0, 75]\n"
     ]
    }
   ],
   "source": [
    "            \n",
    "show_the_love([4, 1, 4])\n",
    "show_the_love([16, 10, 8])\n",
    "show_the_love([2, 100])"
   ]
  },
  {
   "cell_type": "markdown",
   "id": "a1459ecb",
   "metadata": {},
   "source": [
    "### 2. Create a function that takes in two words as input and returns a list of three elements, in the following order:\n",
    "\n",
    "-   1.Shared letters between two words.\n",
    "-  2.Letters unique to word 1.\n",
    "-   3.Letters unique to word 2.\n",
    "\n",
    "Each element should have unique letters, and have each letter be alphabetically sorted.\n",
    "\n",
    "**Examples:**  \n",
    "`letters(\"sharp\", \"soap\") ➞ [\"aps\", \"hr\", \"o\"]`  \n",
    "`letters(\"board\", \"bored\") ➞ [\"bdor\", \"a\", \"e\"]`  \n",
    "`letters(\"happiness\", \"envelope\") ➞ [\"enp\", \"ahis\", \"lov\"]`  \n",
    "`letters(\"kerfuffle\", \"fluffy\") ➞ [\"flu\", \"ekr\", \"y\"]`  \n",
    "`# Even with multiple matching letters (e.g. 3 f's), there should`   \n",
    "`# only exist a single \"f\" in your first element.`  \n",
    "`letters(\"match\", \"ham\") ➞ [\"ahm\", \"ct\", \"\"]`  \n",
    "`# \"ham\" does not contain any letters that are not found already`   \n",
    "`# in \"match\".`  "
   ]
  },
  {
   "cell_type": "markdown",
   "id": "bd7f1aa4",
   "metadata": {},
   "source": [
    "## Answer"
   ]
  },
  {
   "cell_type": "code",
   "execution_count": 13,
   "id": "37c14900",
   "metadata": {},
   "outputs": [],
   "source": [
    "def letters(str1,str2):\n",
    "    try:\n",
    "        str1_set = set(str1)\n",
    "        \n",
    "        str2_set = set(str2)\n",
    "        \n",
    "        output_list = []\n",
    "        \n",
    "        output_list.append(''.join(sorted(str1_set.intersection(str2_set))))\n",
    "        \n",
    "        output_list.append(''.join(sorted(str1_set.difference(str2_set))))\n",
    "        \n",
    "        output_list.append(''.join(sorted(str2_set.difference(str1_set)))) \n",
    "        \n",
    "        print(f'letters{str1,str2} ➞ {output_list}')\n",
    "    \n",
    "    except Exception as e:\n",
    "        print(f\"There is an error {e}\")\n",
    "    \n",
    "    \n"
   ]
  },
  {
   "cell_type": "code",
   "execution_count": 14,
   "id": "81afb2b5",
   "metadata": {},
   "outputs": [
    {
     "name": "stdout",
     "output_type": "stream",
     "text": [
      "letters('sharp', 'soap') ➞ ['aps', 'hr', 'o']\n",
      "letters('board', 'bored') ➞ ['bdor', 'a', 'e']\n",
      "letters('happiness', 'envelope') ➞ ['enp', 'ahis', 'lov']\n",
      "letters('kerfuffle', 'fluffy') ➞ ['flu', 'ekr', 'y']\n",
      "letters('match', 'ham') ➞ ['ahm', 'ct', '']\n"
     ]
    }
   ],
   "source": [
    "letters(\"sharp\", \"soap\")\n",
    "letters(\"board\", \"bored\")\n",
    "letters(\"happiness\", \"envelope\")\n",
    "letters(\"kerfuffle\", \"fluffy\")\n",
    "letters(\"match\", \"ham\")"
   ]
  },
  {
   "cell_type": "markdown",
   "id": "55fe17d9",
   "metadata": {},
   "source": [
    "### 3. Write a function that pairs the first number in an array with the last, the second number with the second to last, etc.\n",
    "**Examples:**  \n",
    "`pairs([1, 2, 3, 4, 5, 6, 7]) ➞ [[1, 7], [2, 6], [3, 5], [4, 4]]`   \n",
    "`pairs([1, 2, 3, 4, 5, 6]) ➞ [[1, 6], [2, 5], [3, 4]]`   \n",
    "`pairs([5, 9, 8, 1, 2]) ➞ [[5, 2], [9, 1], [8, 8]]`   \n",
    "`pairs([]) ➞ []`"
   ]
  },
  {
   "cell_type": "markdown",
   "id": "816d41f4",
   "metadata": {},
   "source": [
    "## Answer"
   ]
  },
  {
   "cell_type": "code",
   "execution_count": 3,
   "id": "0c391eee",
   "metadata": {},
   "outputs": [],
   "source": [
    "def pairs(input_list):\n",
    "    \n",
    "    try:\n",
    "        in_list_clone = input_list.copy()\n",
    "        output = []\n",
    "        \n",
    "        while True:\n",
    "            \n",
    "            if len(input_list) > 0:\n",
    "                \n",
    "                if len(input_list) == 1:\n",
    "                    \n",
    "                    output.append([input_list[0],input_list.pop(0)])\n",
    "                \n",
    "                else:\n",
    "                     output.append([input_list.pop(0),input_list.pop(-1)])\n",
    "            \n",
    "            else:\n",
    "                 break\n",
    "        \n",
    "        print(f'pairs({in_list_clone}) ➞ {output}')\n",
    "    \n",
    "    except Exception as e:\n",
    "        print(f\"There is an error {e}\")\n",
    "            \n"
   ]
  },
  {
   "cell_type": "code",
   "execution_count": 4,
   "id": "16d1d90f",
   "metadata": {},
   "outputs": [
    {
     "name": "stdout",
     "output_type": "stream",
     "text": [
      "pairs([1, 2, 3, 4, 5, 6, 7]) ➞ [[1, 7], [2, 6], [3, 5], [4, 4]]\n",
      "pairs([1, 2, 3, 4, 5, 6]) ➞ [[1, 6], [2, 5], [3, 4]]\n",
      "pairs([5, 9, 8, 1, 2]) ➞ [[5, 2], [9, 1], [8, 8]]\n",
      "pairs([]) ➞ []\n"
     ]
    }
   ],
   "source": [
    "pairs([1, 2, 3, 4, 5, 6, 7])\n",
    "pairs([1, 2, 3, 4, 5, 6])\n",
    "pairs([5, 9, 8, 1, 2])\n",
    "pairs([])"
   ]
  },
  {
   "cell_type": "markdown",
   "id": "fc679de9",
   "metadata": {},
   "source": [
    "### 4. Write a function that adds two numbers. The catch, however, is that the numbers will be strings.\n",
    "\n",
    "**Examples:**  \n",
    "`add_str_nums(\"4\", \"5\") ➞ \"9\"`     \n",
    "`add_str_nums(\"abcdefg\", \"3\") ➞ \"-1\"`  \n",
    "`add_str_nums(\"1\", \"\") ➞ \"1\"`   \n",
    "`add_str_nums(\"1874682736267235927359283579235789257\", \"32652983572985729\") ➞ \"1874682736267235927391936562808774986\"`"
   ]
  },
  {
   "cell_type": "markdown",
   "id": "c02ed8a2",
   "metadata": {},
   "source": [
    "## Answer"
   ]
  },
  {
   "cell_type": "code",
   "execution_count": 7,
   "id": "bddb4020",
   "metadata": {},
   "outputs": [],
   "source": [
    "def add_str_nums(input_one,input_two):\n",
    "    try:\n",
    "        \n",
    "        input_one = input_one if len(input_one) > 0 else \"0\"\n",
    "        input_two = input_two if len(input_two) > 0 else \"0\"\n",
    "        \n",
    "        if input_one.isdigit() == False or input_two.isdigit() == False:\n",
    "             \n",
    "                output = -1\n",
    "        \n",
    "        else: \n",
    "             \n",
    "                output = int(input_one)+int(input_two)\n",
    "        \n",
    "        print(f'add_str_nums{input_one,input_two} ➞ {str(output)}')\n",
    "    \n",
    "    except Exception as e:\n",
    "        print(f\"there is an error {e}\")\n",
    "        \n"
   ]
  },
  {
   "cell_type": "code",
   "execution_count": 8,
   "id": "b20b3196",
   "metadata": {},
   "outputs": [
    {
     "name": "stdout",
     "output_type": "stream",
     "text": [
      "add_str_nums('4', '5') ➞ 9\n",
      "add_str_nums('abcdefg', '3') ➞ -1\n",
      "add_str_nums('1', '0') ➞ 1\n",
      "add_str_nums('1874682736267235927359283579235789257', '32652983572985729') ➞ 1874682736267235927391936562808774986\n"
     ]
    }
   ],
   "source": [
    "add_str_nums(\"4\", \"5\")\n",
    "add_str_nums(\"abcdefg\", \"3\")\n",
    "add_str_nums(\"1\", \"\")\n",
    "add_str_nums(\"1874682736267235927359283579235789257\", \"32652983572985729\")"
   ]
  },
  {
   "cell_type": "markdown",
   "id": "399e3182",
   "metadata": {},
   "source": [
    "### 5. lPaeesh le pemu mnxit ehess rtnisg! Oh, sorry, that was supposed to say: Please help me unmix these strings!\n",
    "\n",
    "#### Somehow my strings have all become mixed up; every pair of characters has been swapped. Help me undo this so I can understand my strings again.\n",
    "\n",
    "**Examples:**  \n",
    "`unmix(\"123456\") ➞ \"214365\"`   \n",
    "`unmix(\"hTsii  s aimex dpus rtni.g\") ➞ \"This is a mixed up string.\"`  \n",
    "`unmix(\"badce\") ➞ \"abcde\"`   "
   ]
  },
  {
   "cell_type": "markdown",
   "id": "3d446a4f",
   "metadata": {},
   "source": [
    "## Answer"
   ]
  },
  {
   "cell_type": "code",
   "execution_count": 5,
   "id": "e3f2f7c4",
   "metadata": {},
   "outputs": [],
   "source": [
    "def unmix(input_string):\n",
    "    \n",
    "    try:\n",
    "        output = ''\n",
    "        \n",
    "        for i in range(0,len(input_string)-1,2):\n",
    "            \n",
    "            output += input_string[i+1]+input_string[i]\n",
    "            \n",
    "            if (len(input_string)%2 != 0 and i == len(input_string)//2 ):\n",
    "                \n",
    "                output += input_string[-1]       \n",
    "        \n",
    "        print(f'unmix({input_string}) ➞ {output}')\n",
    "    \n",
    "    except Exception as e:\n",
    "        print(f\"there is an error {e}\")\n",
    "\n"
   ]
  },
  {
   "cell_type": "code",
   "execution_count": 6,
   "id": "e9947a10",
   "metadata": {},
   "outputs": [
    {
     "name": "stdout",
     "output_type": "stream",
     "text": [
      "unmix(123456) ➞ 214365\n",
      "unmix(hTsii  s aimex dpus rtni.g) ➞ This is a mixed up string.\n",
      "unmix(badce) ➞ abcde\n"
     ]
    }
   ],
   "source": [
    "unmix(\"123456\")\n",
    "unmix(\"hTsii  s aimex dpus rtni.g\")\n",
    "unmix(\"badce\")"
   ]
  }
 ],
 "metadata": {
  "kernelspec": {
   "display_name": "Python 3 (ipykernel)",
   "language": "python",
   "name": "python3"
  },
  "language_info": {
   "codemirror_mode": {
    "name": "ipython",
    "version": 3
   },
   "file_extension": ".py",
   "mimetype": "text/x-python",
   "name": "python",
   "nbconvert_exporter": "python",
   "pygments_lexer": "ipython3",
   "version": "3.9.7"
  }
 },
 "nbformat": 4,
 "nbformat_minor": 5
}
