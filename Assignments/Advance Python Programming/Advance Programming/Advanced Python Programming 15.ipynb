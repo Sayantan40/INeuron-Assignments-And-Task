{
 "cells": [
  {
   "cell_type": "markdown",
   "id": "79863f15",
   "metadata": {},
   "source": [
    "# Advanced Python Programming 15."
   ]
  },
  {
   "cell_type": "markdown",
   "id": "5ba32504",
   "metadata": {},
   "source": [
    "### 1. Write a function that returns True if a given name can generate an array of words.\n",
    "**Examples:**   \n",
    "`anagram(\"Justin Bieber\", [\"injures\", \"ebb\", \"it\"]) ➞ True`    \n",
    "`anagram(\"Natalie Portman\", [\"ornamental\", \"pita\"]) ➞ True`   \n",
    "`anagram(\"Chris Pratt\", [\"chirps\", \"rat\"]) ➞ False`   \n",
    "`# Not all letters are used`   \n",
    "`anagram(\"Jeff Goldblum\", [\"jog\", \"meld\", \"bluffs\"]) ➞ False`   \n",
    "`# \"s\" does not exist in the original name`  \n"
   ]
  },
  {
   "cell_type": "markdown",
   "id": "dc7fd764",
   "metadata": {},
   "source": [
    "## Answer"
   ]
  },
  {
   "cell_type": "code",
   "execution_count": 23,
   "id": "06f0cfbb",
   "metadata": {},
   "outputs": [],
   "source": [
    "def anagram(input_string,input_list):\n",
    "    \n",
    "    try:\n",
    "        in_string_list = list(input_string.lower())\n",
    "        in_string_list.remove(' ')\n",
    "        not_exist_list = []\n",
    "        output = False\n",
    "        \n",
    "        for item in input_list:\n",
    "            \n",
    "            for i in item:\n",
    "                \n",
    "                if i in in_string_list:\n",
    "                    \n",
    "                    in_string_list.remove(i)\n",
    "                else:\n",
    "                    not_exist_list.append(i)\n",
    "        \n",
    "        if len(in_string_list) == 0 and len(not_exist_list) == 0:\n",
    "             output = True\n",
    "        \n",
    "        print(f'anagram{input_string,input_list} ➞ {output}')\n",
    "    \n",
    "    except Exception as e:\n",
    "        print(f\"There is an error {e}\")\n",
    "    \n"
   ]
  },
  {
   "cell_type": "code",
   "execution_count": 24,
   "id": "2607bfa1",
   "metadata": {},
   "outputs": [
    {
     "name": "stdout",
     "output_type": "stream",
     "text": [
      "anagram('Justin Bieber', ['injures', 'ebb', 'it']) ➞ True\n",
      "anagram('Natalie Portman', ['ornamental', 'pita']) ➞ True\n",
      "anagram('Chris Pratt', ['chirps', 'rat']) ➞ False\n",
      "anagram('Jeff Goldblum', ['jog', 'meld', 'bluffs']) ➞ False\n"
     ]
    }
   ],
   "source": [
    "anagram(\"Justin Bieber\", [\"injures\", \"ebb\", \"it\"])\n",
    "anagram(\"Natalie Portman\", [\"ornamental\", \"pita\"])\n",
    "anagram(\"Chris Pratt\", [\"chirps\", \"rat\"])\n",
    "anagram(\"Jeff Goldblum\", [\"jog\", \"meld\", \"bluffs\"])"
   ]
  },
  {
   "cell_type": "markdown",
   "id": "cbc8b8c7",
   "metadata": {},
   "source": [
    "### 2. Given an array of users, each defined by an object with the following properties: name, score, reputation create a function that sorts the array to form the correct leaderboard.\n",
    "\n",
    "#### The leaderboard takes into consideration the score of each user of course, but an emphasis is put on their reputation in the community, so to get the trueScore, you should add the reputation multiplied by 2 to the score.\n",
    "\n",
    "Once you know the trueScore of each user, sort the array according to it in descending order.\n",
    "\n",
    "**Examples:**   \n",
    "`leaderboards([\n",
    "  { \"name\": \"a\", \"score\": 100, \"reputation\": 20 },\n",
    "  { \"name\": \"b\", \"score\": 90, \"reputation\": 40 },\n",
    "  { \"name\": \"c\", \"score\": 115, \"reputation\": 30 },\n",
    "]) ➞ [\n",
    "  { \"name\": \"c\", \"score\": 115, \"reputation\": 30 },  # trueScore = 175\n",
    "  { \"name\": \"b\", \"score\": 90, \"reputation\": 40 },   # trueScore = 170\n",
    "  { \"name\": \"a\", \"score\": 100, \"reputation\": 20 }   # trueScore = 140\n",
    "]`"
   ]
  },
  {
   "cell_type": "markdown",
   "id": "1585e72a",
   "metadata": {},
   "source": [
    "## Answer"
   ]
  },
  {
   "cell_type": "code",
   "execution_count": 13,
   "id": "9c7b26f5",
   "metadata": {},
   "outputs": [],
   "source": [
    "def leaderboards(input_list):\n",
    "    \n",
    "    try:\n",
    "        temp_dict = {}\n",
    "        output_list = []\n",
    "        \n",
    "        for i in input_list:\n",
    "            \n",
    "            temp_dict[( i['reputation']*2) + i['score']] = i\n",
    "        \n",
    "        for j in sorted(temp_dict.keys(),reverse=True):\n",
    "            \n",
    "            output_list.append(temp_dict[j])\n",
    "        \n",
    "        print(f'leaderboards({input_list}) ➞ {output_list}')\n",
    "    \n",
    "    except Exception as e:\n",
    "        print(f\"There is an error {e}\")\n",
    "    \n"
   ]
  },
  {
   "cell_type": "code",
   "execution_count": 14,
   "id": "c1bc6653",
   "metadata": {},
   "outputs": [
    {
     "name": "stdout",
     "output_type": "stream",
     "text": [
      "leaderboards([{'name': 'a', 'score': 100, 'reputation': 20}, {'name': 'b', 'score': 90, 'reputation': 40}, {'name': 'c', 'score': 115, 'reputation': 30}]) ➞ [{'name': 'c', 'score': 115, 'reputation': 30}, {'name': 'b', 'score': 90, 'reputation': 40}, {'name': 'a', 'score': 100, 'reputation': 20}]\n"
     ]
    }
   ],
   "source": [
    "leaderboards([\n",
    "  { \"name\": \"a\", \"score\": 100, \"reputation\": 20 },\n",
    "  { \"name\": \"b\", \"score\": 90, \"reputation\": 40 },\n",
    "  { \"name\": \"c\", \"score\": 115, \"reputation\": 30 },\n",
    "])"
   ]
  },
  {
   "cell_type": "markdown",
   "id": "eeca33fa",
   "metadata": {},
   "source": [
    "### 3. Create a function that, given a phrase and a number of letters guessed, returns a string with hyphens - for every letter of the phrase not guessed, and each letter guessed in place.\n",
    "**Examples:**   \n",
    "`hangman(\"helicopter\", [\"o\", \"e\", \"s\"]) ➞ \"-e---o--e-\"`  \n",
    "`hangman(\"tree\", [\"r\", \"t\", \"e\"]) ➞ \"tree\"`  \n",
    "`hangman(\"Python rules\", [\"a\", \"n\", \"p\", \"r\", \"z\"]) ➞ \"P----n r----\"`  \n",
    "`hangman(\"He\"s a very naughty boy!\", [\"e\", \"a\", \"y\"]) ➞ \"-e\"- a -e-y -a----y –y!\"`"
   ]
  },
  {
   "cell_type": "markdown",
   "id": "8ae35abb",
   "metadata": {},
   "source": [
    "## Answer"
   ]
  },
  {
   "cell_type": "code",
   "execution_count": 16,
   "id": "047c5eb2",
   "metadata": {},
   "outputs": [],
   "source": [
    "def hangman(input_string,input_list):\n",
    "    \n",
    "    try:\n",
    "        output_string = ''\n",
    "        \n",
    "        for ele in range(len(input_string)):\n",
    "            \n",
    "            if input_string[ele].lower() in input_list:\n",
    "                \n",
    "                output_string += input_string[ele]\n",
    "            \n",
    "            elif input_string[ele] in '\"! ':\n",
    "                \n",
    "                output_string += input_string[ele]\n",
    "            \n",
    "            else:\n",
    "                \n",
    "                output_string += '-'\n",
    "        \n",
    "        print(f'hangman{input_string,input_list} ➞ {output_string}')\n",
    "    \n",
    "    except Exception as e:\n",
    "        \n",
    "        print(f\"There is an error {e}\")\n",
    "    \n",
    "        \n"
   ]
  },
  {
   "cell_type": "code",
   "execution_count": 17,
   "id": "8139d4c7",
   "metadata": {},
   "outputs": [
    {
     "name": "stdout",
     "output_type": "stream",
     "text": [
      "hangman('helicopter', ['o', 'e', 's']) ➞ -e---o--e-\n",
      "hangman('tree', ['r', 't', 'e']) ➞ tree\n",
      "hangman('Python rules', ['a', 'n', 'p', 'r', 'z']) ➞ P----n r----\n",
      "hangman('He\"s a very naughty boy!', ['e', 'a', 'y']) ➞ -e\"- a -e-y -a----y --y!\n"
     ]
    }
   ],
   "source": [
    "hangman(\"helicopter\", [\"o\", \"e\", \"s\"])\n",
    "hangman(\"tree\", [\"r\", \"t\", \"e\"])\n",
    "hangman(\"Python rules\", [\"a\", \"n\", \"p\", \"r\", \"z\"])\n",
    "hangman(\"He\\\"s a very naughty boy!\", [\"e\", \"a\", \"y\"])"
   ]
  },
  {
   "cell_type": "markdown",
   "id": "91be88d4",
   "metadata": {},
   "source": [
    "### 4. The Collatz sequence is as follows:\n",
    "\n",
    "  - Start with some given integer n.\n",
    "  - If it is even, the next number will be n divided by 2.\n",
    "  - If it is odd, multiply it by 3 and add 1 to make the next number.\n",
    "  - The sequence stops when it reaches 1.\n",
    "\n",
    "According to the Collatz conjecture, it will always reach 1. If that's true, you can construct a finite sequence following the aforementioned method for any given integer.\n",
    "\n",
    "Write a function that takes in an integer n and returns the highest integer in the corresponding Collatz sequence.\n",
    "\n",
    "**Examples:**   \n",
    "`max_collatz(10) ➞ 16`  \n",
    "`# Collatz sequence: 10, 5, 16, 8, 4, 2, 1`\n",
    "\n",
    "`max_collatz(32) ➞ 32`  \n",
    "`# Collatz sequence: 32, 16, 8, 4, 2, 1`\n",
    "\n",
    "`max_collatz(85) ➞ 256`  \n",
    "`# Collatz sequence: 85, 256, 128, 64, 32, 16, 8, 4, 2, 1`"
   ]
  },
  {
   "cell_type": "markdown",
   "id": "003918bf",
   "metadata": {},
   "source": [
    "## Answer"
   ]
  },
  {
   "cell_type": "code",
   "execution_count": 11,
   "id": "661cfc7f",
   "metadata": {},
   "outputs": [],
   "source": [
    "def max_collatz(input_num):\n",
    "    try:\n",
    "        \n",
    "        output_list = []\n",
    "        output_list.append(input_num)\n",
    "        temp_in_num = input_num\n",
    "        \n",
    "        while True:\n",
    "            \n",
    "            if temp_in_num%2 == 0:\n",
    "                temp_in_num /= 2\n",
    "            \n",
    "            else:\n",
    "                temp_in_num = (temp_in_num*3)+1\n",
    "            \n",
    "            output_list.append(int(temp_in_num))\n",
    "            \n",
    "            if temp_in_num ==1:\n",
    "                break\n",
    "            \n",
    "        x= str(output_list)\n",
    "        \n",
    "        print(f'max_collatz({input_num}) ➞ {max(output_list)}')\n",
    "    \n",
    "    except Exception as e:\n",
    "        print(f\"There is an error {e}\")\n",
    "\n"
   ]
  },
  {
   "cell_type": "code",
   "execution_count": 12,
   "id": "93c6688a",
   "metadata": {},
   "outputs": [
    {
     "name": "stdout",
     "output_type": "stream",
     "text": [
      "max_collatz(10) ➞ 16\n",
      "max_collatz(32) ➞ 32\n",
      "max_collatz(85) ➞ 256\n"
     ]
    }
   ],
   "source": [
    "            \n",
    "max_collatz(10)\n",
    "max_collatz(32)\n",
    "max_collatz(85)"
   ]
  },
  {
   "cell_type": "markdown",
   "id": "068b7291",
   "metadata": {},
   "source": [
    "### 5. Write a function that sorts a list of integers by their digit length in descending order, then settles ties by sorting numbers with the same digit length in ascending order.\n",
    "\n",
    "**Examples:**   \n",
    "`digit_sort([77, 23, 5, 7, 101]) ➞ [101, 23, 77, 5, 7]`  \n",
    "`digit_sort([1, 5, 9, 2, 789, 563, 444]) ➞ [444, 563, 789, 1, 2, 5, 9]`  \n",
    "`digit_sort([53219, 3772, 564, 32, 1]) ➞ [53219, 3772, 564, 32, 1]`  "
   ]
  },
  {
   "cell_type": "markdown",
   "id": "d8701000",
   "metadata": {},
   "source": [
    "## Answer"
   ]
  },
  {
   "cell_type": "code",
   "execution_count": 1,
   "id": "260947f6",
   "metadata": {},
   "outputs": [],
   "source": [
    "def digit_sort(input_list):\n",
    "    \n",
    "    try:\n",
    "        \n",
    "        max_len = len(str(max(input_list)))\n",
    "        \n",
    "        output = []\n",
    "        \n",
    "        for item in range(max_len,0,-1):\n",
    "            \n",
    "            temp = []\n",
    "            for ele in input_list:\n",
    "                \n",
    "                if len(str(ele)) == item:\n",
    "                    \n",
    "                    temp.append(ele)\n",
    "            \n",
    "            output.extend(sorted(temp))\n",
    "        \n",
    "        print(f'digit_sort({input_list}) ➞ {output}')\n",
    "    \n",
    "    except Exception as e:\n",
    "        print(f\"There is an error {e}\")\n",
    "    \n"
   ]
  },
  {
   "cell_type": "code",
   "execution_count": 2,
   "id": "05952ba7",
   "metadata": {},
   "outputs": [
    {
     "name": "stdout",
     "output_type": "stream",
     "text": [
      "digit_sort([77, 23, 5, 7, 101]) ➞ [101, 23, 77, 5, 7]\n",
      "digit_sort([1, 5, 9, 2, 789, 563, 444]) ➞ [444, 563, 789, 1, 2, 5, 9]\n",
      "digit_sort([53219, 3772, 564, 32, 1]) ➞ [53219, 3772, 564, 32, 1]\n"
     ]
    }
   ],
   "source": [
    "digit_sort([77, 23, 5, 7, 101])\n",
    "digit_sort([1, 5, 9, 2, 789, 563, 444])\n",
    "digit_sort([53219, 3772, 564, 32, 1])"
   ]
  }
 ],
 "metadata": {
  "kernelspec": {
   "display_name": "Python 3 (ipykernel)",
   "language": "python",
   "name": "python3"
  },
  "language_info": {
   "codemirror_mode": {
    "name": "ipython",
    "version": 3
   },
   "file_extension": ".py",
   "mimetype": "text/x-python",
   "name": "python",
   "nbconvert_exporter": "python",
   "pygments_lexer": "ipython3",
   "version": "3.9.7"
  }
 },
 "nbformat": 4,
 "nbformat_minor": 5
}
