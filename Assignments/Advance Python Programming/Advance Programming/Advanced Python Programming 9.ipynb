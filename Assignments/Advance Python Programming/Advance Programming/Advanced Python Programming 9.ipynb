{
 "cells": [
  {
   "cell_type": "markdown",
   "id": "2d6cbfcc",
   "metadata": {},
   "source": [
    "# Advanced Python Programming 9."
   ]
  },
  {
   "cell_type": "markdown",
   "id": "4031e33c",
   "metadata": {},
   "source": [
    "## 1. YouTube offers different playback speed options for users. This allows users to increase or decrease the speed of the video content. Given the actual duration and playback speed of the video, calculate the playback duration of the video.\n",
    "**Examples:**    \n",
    "`playback_duration(\"00:30:00\", 2) ➞ \"00:15:00\"`  \n",
    "`playback_duration(\"01:20:00\", 1.5) ➞ \"00:53:20\"`   \n",
    "`playback_duration(\"51:20:09\", 0.5) ➞ \"102:40:18\"`   "
   ]
  },
  {
   "cell_type": "markdown",
   "id": "f0aa339f",
   "metadata": {},
   "source": [
    "### Answer"
   ]
  },
  {
   "cell_type": "code",
   "execution_count": 2,
   "id": "01049d2d",
   "metadata": {},
   "outputs": [],
   "source": [
    "def playback_duration(time,playback_speed):\n",
    "    \n",
    "    try:\n",
    "    \n",
    "        time = time.split(\":\")\n",
    "    \n",
    "        secs = (3600*int(time[0])+60*int(time[1])+int(time[2]))/playback_speed\n",
    "    \n",
    "        hours = str(int(secs/3600)) if secs > 3600 else '00'\n",
    "    \n",
    "        mins = str(int((secs%3600)/60)) if (secs)%3600 > 60 else '00'\n",
    "    \n",
    "        secs = str(int((secs%3600)%60)) if ((secs)%3600)%60 > 0 else '00'   \n",
    "    \n",
    "        output = f'{hours}:{mins}:{secs}'\n",
    "    \n",
    "        print(f'playback_duration{time, playback_speed} ➞ {output}')\n",
    "    \n",
    "    except  Exception as e:\n",
    "        \n",
    "        print(f\"there is an error {e}\")\n",
    "    "
   ]
  },
  {
   "cell_type": "code",
   "execution_count": 3,
   "id": "81209ea9",
   "metadata": {},
   "outputs": [
    {
     "name": "stdout",
     "output_type": "stream",
     "text": [
      "playback_duration(['00', '30', '00'], 2) ➞ 00:15:00\n",
      "playback_duration(['01', '20', '00'], 1.5) ➞ 00:53:20\n",
      "playback_duration(['51', '20', '09'], 0.5) ➞ 102:40:18\n"
     ]
    }
   ],
   "source": [
    "playback_duration(\"00:30:00\", 2)\n",
    "playback_duration(\"01:20:00\", 1.5)\n",
    "playback_duration(\"51:20:09\", 0.5) "
   ]
  },
  {
   "cell_type": "markdown",
   "id": "b6a96dd6",
   "metadata": {},
   "source": [
    "## 2. We needs your help to construct a building which will be a pile of n cubes. The cube at the bottom will have a volume of n^3, the cube above will have volume of (n-1)^3 and so on until the top which will have a volume of 1^3.\n",
    "### Given the total volume m of the building, can you find the number of cubes n required for the building?  \n",
    "### In other words, you have to return an integer n such that:   `n^3 + (n-1)^3 + ... + 1^3 == m`  \n",
    "### Return None if there is no such number.  \n",
    "**Examples:**    \n",
    "`pile_of_cubes(1071225) ➞ 45`   \n",
    "`pile_of_cubes(4183059834009) ➞ 2022`   \n",
    "`pile_of_cubes(16) ➞ None`  "
   ]
  },
  {
   "cell_type": "markdown",
   "id": "fb4c0229",
   "metadata": {},
   "source": [
    "### Answer"
   ]
  },
  {
   "cell_type": "code",
   "execution_count": 12,
   "id": "406f416f",
   "metadata": {},
   "outputs": [],
   "source": [
    "def pile_of_cubes(vol):\n",
    "    \n",
    "    try:\n",
    "    \n",
    "        out_vol = 0\n",
    "    \n",
    "        output = 0\n",
    "    \n",
    "        for cube in range(1,vol):\n",
    "        \n",
    "                out_vol += pow(cube,3)\n",
    "        \n",
    "                if vol <= out_vol:\n",
    "            \n",
    "                    output = cube if vol == out_vol else None\n",
    "            \n",
    "                    break\n",
    "    \n",
    "        print(f'pile_of_cubes({vol}) ➞ {output}')\n",
    "    \n",
    "    except  Exception as e:\n",
    "        \n",
    "        print(f\"there is an error {e}\")\n",
    "\n"
   ]
  },
  {
   "cell_type": "code",
   "execution_count": 13,
   "id": "13de3122",
   "metadata": {},
   "outputs": [
    {
     "name": "stdout",
     "output_type": "stream",
     "text": [
      "pile_of_cubes(1071225) ➞ 45\n",
      "pile_of_cubes(4183059834009) ➞ 2022\n",
      "pile_of_cubes(16) ➞ None\n"
     ]
    }
   ],
   "source": [
    "pile_of_cubes(1071225)\n",
    "pile_of_cubes(4183059834009)\n",
    "pile_of_cubes(16)"
   ]
  },
  {
   "cell_type": "markdown",
   "id": "3efdcdf2",
   "metadata": {},
   "source": [
    "## 3. A fulcrum of a list is an integer such that all elements to the left of it and all elements to the right of it sum to the same value. Write a function that finds the fulcrum of a list.\n",
    "**To illustrate:**     \n",
    "`find_fulcrum([3, 1, 5, 2, 4, 6, -1]) ➞ 2`   // Since [3, 1, 5] and [4, 6, -1] both sum to 9   \n",
    "**Examples:**    \n",
    "`find_fulcrum([1, 2, 4, 9, 10, -10, -9, 3]) ➞ 4`   \n",
    "`find_fulcrum([9, 1, 9]) ➞ 1`  \n",
    "`find_fulcrum([7, -1, 0, -1, 1, 1, 2, 3]) ➞ 0`   \n",
    "`find_fulcrum([8, 8, 8, 8]) ➞ -1`   "
   ]
  },
  {
   "cell_type": "markdown",
   "id": "bd299841",
   "metadata": {},
   "source": [
    "### Answer"
   ]
  },
  {
   "cell_type": "code",
   "execution_count": 14,
   "id": "d74ab57f",
   "metadata": {},
   "outputs": [],
   "source": [
    "def find_fulcrum(list1):\n",
    "    \n",
    "    try:\n",
    "        output = -1\n",
    "        \n",
    "        for elements in list1:\n",
    "            \n",
    "            index_of_elements =list1.index(elements)\n",
    "            \n",
    "            if sum(list1[:index_of_elements]) == sum(list1[index_of_elements+1:]):\n",
    "                \n",
    "                output = elements\n",
    "                \n",
    "                break\n",
    "        \n",
    "        print(f'find_fulcrum({list1}) ➞ {output}')\n",
    "    \n",
    "    except  Exception as e:\n",
    "        \n",
    "        print(f\"there is an error {e}\")\n",
    "    \n",
    "        \n"
   ]
  },
  {
   "cell_type": "code",
   "execution_count": 15,
   "id": "309bfbf2",
   "metadata": {},
   "outputs": [
    {
     "name": "stdout",
     "output_type": "stream",
     "text": [
      "find_fulcrum([3, 1, 5, 2, 4, 6, -1]) ➞ 2\n",
      "find_fulcrum([1, 2, 4, 9, 10, -10, -9, 3]) ➞ 4\n",
      "find_fulcrum([9, 1, 9]) ➞ 1\n",
      "find_fulcrum([7, -1, 0, -1, 1, 1, 2, 3]) ➞ 0\n",
      "find_fulcrum([8, 8, 8, 8]) ➞ -1\n"
     ]
    }
   ],
   "source": [
    "find_fulcrum([3, 1, 5, 2, 4, 6, -1])\n",
    "find_fulcrum([1, 2, 4, 9, 10, -10, -9, 3])\n",
    "find_fulcrum([9, 1, 9])\n",
    "find_fulcrum([7, -1, 0, -1, 1, 1, 2, 3])\n",
    "find_fulcrum([8, 8, 8, 8])"
   ]
  },
  {
   "cell_type": "markdown",
   "id": "26f466e9",
   "metadata": {},
   "source": [
    "### 4. Given a list of integers representing the color of each sock, determine how many pairs of socks with matching colors there are. For example, there are 7 socks with colors [1, 2, 1, 2, 1, 3, 2]. There is one pair of color 1 and one of color 2. There are three odd socks left, one of each color. The number of pairs is 2.\n",
    "### Create a function that returns an integer representing the number of matching pairs of socks that are available.  \n",
    "**Examples:**    \n",
    "`sock_merchant([10, 20, 20, 10, 10, 30, 50, 10, 20]) ➞ 3`   \n",
    "`sock_merchant([50, 20, 30, 90, 30, 20, 50, 20, 90]) ➞ 4`   \n",
    "`sock_merchant([]) ➞ 0`  "
   ]
  },
  {
   "cell_type": "markdown",
   "id": "d1437e26",
   "metadata": {},
   "source": [
    "### Answer"
   ]
  },
  {
   "cell_type": "code",
   "execution_count": 16,
   "id": "6055fedf",
   "metadata": {},
   "outputs": [],
   "source": [
    "def sock_merchant(list1):\n",
    "    \n",
    "    try:\n",
    "        pair_socks = {}\n",
    "        \n",
    "        output = 0\n",
    "        \n",
    "        for values in list1:\n",
    "            \n",
    "            if values in pair_socks:\n",
    "                \n",
    "                pair_socks[values]+=1\n",
    "            \n",
    "            else:\n",
    "                \n",
    "                pair_socks[values]=1\n",
    "        \n",
    "        for pair in pair_socks.values():\n",
    "            \n",
    "            output += pair//2\n",
    "        \n",
    "        print(f'sock_merchant({list1}) ➞ {output}')\n",
    "    \n",
    "    except  Exception as e:\n",
    "        \n",
    "        print(f\"there is an error {e}\")\n",
    "    \n",
    "    \n",
    "\n"
   ]
  },
  {
   "cell_type": "code",
   "execution_count": 17,
   "id": "880b5d5e",
   "metadata": {},
   "outputs": [
    {
     "name": "stdout",
     "output_type": "stream",
     "text": [
      "sock_merchant([10, 20, 20, 10, 10, 30, 50, 10, 20]) ➞ 3\n",
      "sock_merchant([50, 20, 30, 90, 30, 20, 50, 20, 90]) ➞ 4\n",
      "sock_merchant([]) ➞ 0\n"
     ]
    }
   ],
   "source": [
    "sock_merchant([10, 20, 20, 10, 10, 30, 50, 10, 20])\n",
    "sock_merchant([50, 20, 30, 90, 30, 20, 50, 20, 90])\n",
    "sock_merchant([])"
   ]
  },
  {
   "cell_type": "markdown",
   "id": "6b5fe83c",
   "metadata": {},
   "source": [
    "## 5. Create a function that takes a string containing integers as well as other characters and return the sum of the negative integers only.\n",
    "**Examples:**    \n",
    "`negative_sum(\"-12 13%14&-11\") ➞ -23`   \n",
    "`# -12 + -11 = -23`  \n",
    "`negative_sum(\"22 13%14&-11-22 13 12\") ➞ -33`  \n",
    "`# -11 + -22 = -33`  "
   ]
  },
  {
   "cell_type": "markdown",
   "id": "0803d4ec",
   "metadata": {},
   "source": [
    "### Answer"
   ]
  },
  {
   "cell_type": "code",
   "execution_count": 22,
   "id": "5d399b6c",
   "metadata": {},
   "outputs": [],
   "source": [
    "\n",
    "def negative_sum(str1):\n",
    "    \n",
    "    try:\n",
    "        \n",
    "        import re\n",
    "        \n",
    "        pattern = '-\\d+'\n",
    "        \n",
    "        output = sum([int(values) for values in re.findall(pattern,str1)])\n",
    "        \n",
    "        print(f'negative_sum(\"{str1}\") ➞ {output}')\n",
    "        \n",
    "    except  Exception as e:\n",
    "        \n",
    "        print(f\"there is an error {e}\")\n",
    "        \n",
    "\n",
    "    \n"
   ]
  },
  {
   "cell_type": "code",
   "execution_count": 23,
   "id": "9ec2f496",
   "metadata": {},
   "outputs": [
    {
     "name": "stdout",
     "output_type": "stream",
     "text": [
      "negative_sum(\"-12 13%14&-11\") ➞ -23\n",
      "negative_sum(\"22 13%14&-11-22 13 12\") ➞ -33\n"
     ]
    }
   ],
   "source": [
    "negative_sum(\"-12 13%14&-11\")\n",
    "negative_sum(\"22 13%14&-11-22 13 12\")"
   ]
  }
 ],
 "metadata": {
  "kernelspec": {
   "display_name": "Python 3 (ipykernel)",
   "language": "python",
   "name": "python3"
  },
  "language_info": {
   "codemirror_mode": {
    "name": "ipython",
    "version": 3
   },
   "file_extension": ".py",
   "mimetype": "text/x-python",
   "name": "python",
   "nbconvert_exporter": "python",
   "pygments_lexer": "ipython3",
   "version": "3.9.7"
  }
 },
 "nbformat": 4,
 "nbformat_minor": 5
}
