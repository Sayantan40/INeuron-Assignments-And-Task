{
 "cells": [
  {
   "cell_type": "markdown",
   "id": "9ac6f6b9",
   "metadata": {},
   "source": [
    "# SQL Assignment 5"
   ]
  },
  {
   "cell_type": "markdown",
   "id": "6c0acded",
   "metadata": {},
   "source": [
    "# Q-1. Write an SQL query to print details of workers excluding first names, “Vipul” and “Satish” from Worker table.\n"
   ]
  },
  {
   "cell_type": "markdown",
   "id": "40a83385",
   "metadata": {},
   "source": [
    "## Answer\n",
    "\n",
    "### SELECT * FROM Worker WHERE FIRST_NAME IN ('Vipul','Satish') ;"
   ]
  },
  {
   "cell_type": "markdown",
   "id": "5eaeb9f1",
   "metadata": {},
   "source": [
    "# Q-2. Write an SQL query to print details of the Workers whose FIRST_NAME ends with ‘h’ and contains six alphabets.\n"
   ]
  },
  {
   "cell_type": "markdown",
   "id": "b42b0e31",
   "metadata": {},
   "source": [
    "## Answer\n",
    "\n",
    "### SELECT * FROM Worker WHERE FIRST_NAME LIKE '_____h' ;"
   ]
  },
  {
   "cell_type": "markdown",
   "id": "26a3cb23",
   "metadata": {},
   "source": [
    "# Q-3. Write a query to validate Email of Employee.\n"
   ]
  },
  {
   "cell_type": "markdown",
   "id": "6e2d54ed",
   "metadata": {},
   "source": [
    "## Answer\n",
    "\n",
    "### SELECT * FROM EMPLOYEE WHERE s_email LIKE '%@gmail.com' ;"
   ]
  }
 ],
 "metadata": {
  "kernelspec": {
   "display_name": "Python 3 (ipykernel)",
   "language": "python",
   "name": "python3"
  },
  "language_info": {
   "codemirror_mode": {
    "name": "ipython",
    "version": 3
   },
   "file_extension": ".py",
   "mimetype": "text/x-python",
   "name": "python",
   "nbconvert_exporter": "python",
   "pygments_lexer": "ipython3",
   "version": "3.9.7"
  }
 },
 "nbformat": 4,
 "nbformat_minor": 5
}
