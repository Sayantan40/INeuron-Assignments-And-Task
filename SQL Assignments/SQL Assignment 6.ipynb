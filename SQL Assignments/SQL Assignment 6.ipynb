{
 "cells": [
  {
   "cell_type": "markdown",
   "id": "531af519",
   "metadata": {},
   "source": [
    "# SQL Assignment 6"
   ]
  },
  {
   "cell_type": "markdown",
   "id": "406bf8b5",
   "metadata": {},
   "source": [
    "# Q-1. Write an SQL query to print details of the Workers who have joined in Feb’2014.\n"
   ]
  },
  {
   "cell_type": "markdown",
   "id": "623f4519",
   "metadata": {},
   "source": [
    "## Answer\n",
    "\n",
    "###  SELECT * FROM Worker WHERE year(JOINING_DATE) = 2014 and month(JOINING_DATE) = 2;"
   ]
  },
  {
   "cell_type": "markdown",
   "id": "983753e5",
   "metadata": {},
   "source": [
    "# Q-2. Write an SQL query to fetch duplicate records having matching data in some fields of a table.\n",
    ".\n"
   ]
  },
  {
   "cell_type": "markdown",
   "id": "b3b2229f",
   "metadata": {},
   "source": [
    "## Answer\n",
    "\n",
    "### SELECT WORKER_TITLE, AFFECTED_FROM, COUNT(*) FROM Title\n",
    "### GROUP BY WORKER_TITLE, AFFECTED_FROM HAVING COUNT(*) > 1;"
   ]
  },
  {
   "cell_type": "markdown",
   "id": "bb8a06f9",
   "metadata": {},
   "source": [
    "\n",
    "# Q-3. How to remove duplicate rows from Employees table.\n"
   ]
  },
  {
   "cell_type": "markdown",
   "id": "e6e5bd27",
   "metadata": {},
   "source": [
    "## Answer \n",
    "\n",
    "### There are many methods to remove duplicates are as follows:\n",
    "- 1.using temporary table .\n",
    "- 2.auto ID.\n",
    "- 3.using row_number().\n",
    "- 4.using CTE\n",
    "\n",
    "#### Here I will be using temporary table.\n",
    "\n",
    "### SELECT DISTINCT * FROM INTO EMPLOYEE_NEW FROM Employees;\n",
    "### DELETE * FROM Employees;\n",
    "### INSERT INTO Employees SELECT * FROM EMPLOYEE_EW;\n",
    "### DROP TABLE EMPLOYEE_NEW;\n",
    "\n",
    "\n"
   ]
  }
 ],
 "metadata": {
  "kernelspec": {
   "display_name": "Python 3 (ipykernel)",
   "language": "python",
   "name": "python3"
  },
  "language_info": {
   "codemirror_mode": {
    "name": "ipython",
    "version": 3
   },
   "file_extension": ".py",
   "mimetype": "text/x-python",
   "name": "python",
   "nbconvert_exporter": "python",
   "pygments_lexer": "ipython3",
   "version": "3.9.7"
  }
 },
 "nbformat": 4,
 "nbformat_minor": 5
}
