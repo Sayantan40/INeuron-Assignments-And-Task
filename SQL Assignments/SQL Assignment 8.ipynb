{
 "cells": [
  {
   "cell_type": "markdown",
   "id": "6e5df001",
   "metadata": {},
   "source": [
    "# SQL Assignment 8"
   ]
  },
  {
   "cell_type": "markdown",
   "id": "5dbfff2f",
   "metadata": {},
   "source": [
    "# Q-15. Write an SQL query to fetch intersecting records of two tables.\n"
   ]
  },
  {
   "cell_type": "markdown",
   "id": "1f5a0a07",
   "metadata": {},
   "source": [
    "## Answer\n",
    "\n",
    "### (SELECT  *  FROM Worker) INTERSECT(SELECT * FROM WorkerClone)\n",
    "\n"
   ]
  },
  {
   "cell_type": "markdown",
   "id": "ed2a0b56",
   "metadata": {},
   "source": [
    "# Q-16. Write an SQL query to show records from one table that another table does not have.\n"
   ]
  },
  {
   "cell_type": "markdown",
   "id": "4e378dc9",
   "metadata": {},
   "source": [
    "### Answer\n",
    "\n",
    "### SELECT  *  FROM Worker MINUS SELECT * FROM Title;"
   ]
  }
 ],
 "metadata": {
  "kernelspec": {
   "display_name": "Python 3 (ipykernel)",
   "language": "python",
   "name": "python3"
  },
  "language_info": {
   "codemirror_mode": {
    "name": "ipython",
    "version": 3
   },
   "file_extension": ".py",
   "mimetype": "text/x-python",
   "name": "python",
   "nbconvert_exporter": "python",
   "pygments_lexer": "ipython3",
   "version": "3.9.7"
  }
 },
 "nbformat": 4,
 "nbformat_minor": 5
}
