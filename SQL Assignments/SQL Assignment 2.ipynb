{
 "cells": [
  {
   "cell_type": "markdown",
   "id": "71b91455",
   "metadata": {},
   "source": [
    "# SQL Assignment 2"
   ]
  },
  {
   "cell_type": "markdown",
   "id": "cbcd1fb8",
   "metadata": {},
   "source": [
    "# Q-1. Write an SQL query to print the first three characters of  FIRST_NAME from Worker table.\n"
   ]
  },
  {
   "cell_type": "markdown",
   "id": "71cea311",
   "metadata": {},
   "source": [
    "## Answer\n",
    "\n",
    "### SELECT SUBSTRING( FIRST_NAME ,1,3)  FROM Worker;\n"
   ]
  },
  {
   "cell_type": "markdown",
   "id": "a990be72",
   "metadata": {},
   "source": [
    "# Q-2. Write an SQL query to find the position of the alphabet (‘a’) in the first name column ‘Amitabh’ from Worker table.\n"
   ]
  },
  {
   "cell_type": "markdown",
   "id": "45f3d832",
   "metadata": {},
   "source": [
    "## Answer\n",
    "\n",
    "###  SELECT  INSTR(FIRST_NAME, BINARY'a') FROM Worker WHERE FIRST_NAME = 'Amitabh';\n"
   ]
  },
  {
   "cell_type": "markdown",
   "id": "a240c766",
   "metadata": {},
   "source": [
    "# Q-3. Write an SQL query to print the name of employees having the highest salary in each department.\n"
   ]
  },
  {
   "cell_type": "markdown",
   "id": "b2a8f88b",
   "metadata": {},
   "source": [
    "## Answer\n",
    "\n",
    "### SELECT DEPARTMENT , MAX(SALARY) FROM department GROUP BY DEPARTMENT;"
   ]
  }
 ],
 "metadata": {
  "kernelspec": {
   "display_name": "Python 3 (ipykernel)",
   "language": "python",
   "name": "python3"
  },
  "language_info": {
   "codemirror_mode": {
    "name": "ipython",
    "version": 3
   },
   "file_extension": ".py",
   "mimetype": "text/x-python",
   "name": "python",
   "nbconvert_exporter": "python",
   "pygments_lexer": "ipython3",
   "version": "3.9.7"
  }
 },
 "nbformat": 4,
 "nbformat_minor": 5
}
