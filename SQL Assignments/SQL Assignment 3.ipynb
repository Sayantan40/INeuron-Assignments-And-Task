{
 "cells": [
  {
   "cell_type": "markdown",
   "id": "75e526c4",
   "metadata": {},
   "source": [
    "# SQL Assignment 3"
   ]
  },
  {
   "cell_type": "markdown",
   "id": "58956cd7",
   "metadata": {},
   "source": [
    "# Q-1. Write an SQL query to print the FIRST_NAME from Worker table after removing white spaces from the right side.\n"
   ]
  },
  {
   "cell_type": "markdown",
   "id": "0a6cd2c4",
   "metadata": {},
   "source": [
    "## Answer\n",
    "\n",
    "### SELECT RTRIM(FIRST_NAME) FROM Worker;\n",
    "\n"
   ]
  },
  {
   "cell_type": "markdown",
   "id": "47659780",
   "metadata": {},
   "source": [
    "# Q-2. Write an SQL query that fetches the unique values of DEPARTMENT from Worker table and prints its length.\n"
   ]
  },
  {
   "cell_type": "markdown",
   "id": "3ed4841a",
   "metadata": {},
   "source": [
    "## Answer\n",
    "\n",
    "### SELECT DISTINCT DEPARTMENT , DISTINCT LENGTH(DEPARTMENT) AS DEPT_NAME_LENGTH FROM Worker ;"
   ]
  },
  {
   "cell_type": "markdown",
   "id": "91c73015",
   "metadata": {},
   "source": [
    "# Q-3. Write an SQL query to fetch nth max salaries from a table.\n"
   ]
  },
  {
   "cell_type": "markdown",
   "id": "a80bf6b9",
   "metadata": {},
   "source": [
    "## Answer\n",
    "\n",
    "### SELECT DISTINCT Salary FROM Worker a WHERE n >= (SELECT COUNT(DISTINCT Salary) FROM Worker b WHERE a.Salary <= b.Salary) ORDER BY a.Salary DESC;"
   ]
  }
 ],
 "metadata": {
  "kernelspec": {
   "display_name": "Python 3 (ipykernel)",
   "language": "python",
   "name": "python3"
  },
  "language_info": {
   "codemirror_mode": {
    "name": "ipython",
    "version": 3
   },
   "file_extension": ".py",
   "mimetype": "text/x-python",
   "name": "python",
   "nbconvert_exporter": "python",
   "pygments_lexer": "ipython3",
   "version": "3.9.7"
  }
 },
 "nbformat": 4,
 "nbformat_minor": 5
}
