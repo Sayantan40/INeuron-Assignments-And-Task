{
 "cells": [
  {
   "cell_type": "markdown",
   "id": "ce5873f8",
   "metadata": {},
   "source": [
    "# SQL Assignment 4"
   ]
  },
  {
   "cell_type": "markdown",
   "id": "ae6b0efb",
   "metadata": {},
   "source": [
    "# Q-1. Write an SQL query to print the FIRST_NAME from Worker table after replacing ‘a’ with ‘A’.\n"
   ]
  },
  {
   "cell_type": "markdown",
   "id": "f5343487",
   "metadata": {},
   "source": [
    "## Answer\n",
    "\n",
    "### SELECT REPLACE(FIRST_NAME,'a','A') FROM Worker;"
   ]
  },
  {
   "cell_type": "markdown",
   "id": "c6066dea",
   "metadata": {},
   "source": [
    "# Q-2. Write an SQL query to print all Worker details from the Worker table order by FIRST_NAME Ascending and DEPARTMENT Descending.\n"
   ]
  },
  {
   "cell_type": "markdown",
   "id": "e07b1143",
   "metadata": {},
   "source": [
    "## Answer\n",
    "\n",
    "### SELECT * FROM Worker ORDER BY FIRST_NAME  ASC,  DEPARTMENT DESC;"
   ]
  },
  {
   "cell_type": "markdown",
   "id": "137cd23e",
   "metadata": {},
   "source": [
    "# Q-3. Write an SQL query to fetch the names of workers who earn the highest salary.\n"
   ]
  },
  {
   "cell_type": "markdown",
   "id": "1e859dae",
   "metadata": {},
   "source": [
    "## Answer\n",
    "\n",
    "### SELECT t.DEPARTMENT, t.FIRST_NAME , t.Salary from(SELECT max(Salary) as TotalSalary,\n",
    "\n",
    "### DEPARTMENT from Worker group by DEPARTMENT) as TempNew Inner Join Worker t on \n",
    "\n",
    "### TempNew.DEPARTMENT=t.DEPARTMENT and  TempNew.TotalSalary=t.Salary ; \n",
    "\n",
    "\n",
    "\n"
   ]
  }
 ],
 "metadata": {
  "kernelspec": {
   "display_name": "Python 3 (ipykernel)",
   "language": "python",
   "name": "python3"
  },
  "language_info": {
   "codemirror_mode": {
    "name": "ipython",
    "version": 3
   },
   "file_extension": ".py",
   "mimetype": "text/x-python",
   "name": "python",
   "nbconvert_exporter": "python",
   "pygments_lexer": "ipython3",
   "version": "3.9.7"
  }
 },
 "nbformat": 4,
 "nbformat_minor": 5
}
