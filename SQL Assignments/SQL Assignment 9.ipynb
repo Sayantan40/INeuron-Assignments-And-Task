{
 "cells": [
  {
   "cell_type": "markdown",
   "id": "b059c47e",
   "metadata": {},
   "source": [
    "# SQL Assignment 9"
   ]
  },
  {
   "cell_type": "markdown",
   "id": "58d1197d",
   "metadata": {},
   "source": [
    "# Q-17.  Write an SQL query to show the top n (say 10) records of a table.\n"
   ]
  },
  {
   "cell_type": "markdown",
   "id": "b459d85a",
   "metadata": {},
   "source": [
    "## Answer\n",
    "\n",
    "### SELECT * FROM Worker ORDER BY Salary DESC LIMIT 10 ;\n",
    "\n",
    "### OR\n",
    "\n",
    "### SELECT TOP 10 * FROM Worker  ORDER BY Salary DESC ;"
   ]
  },
  {
   "cell_type": "markdown",
   "id": "f0c3b65a",
   "metadata": {},
   "source": [
    "# Q-18. Write an SQL query to determine the nth (say n=5) highest salary from a table.\n"
   ]
  },
  {
   "cell_type": "markdown",
   "id": "7a547513",
   "metadata": {},
   "source": [
    "## Answer\n",
    "\n",
    "### SELECT Salary FROM Worker ORDER BY Salary DESC LIMIT n-1,1;"
   ]
  }
 ],
 "metadata": {
  "kernelspec": {
   "display_name": "Python 3 (ipykernel)",
   "language": "python",
   "name": "python3"
  },
  "language_info": {
   "codemirror_mode": {
    "name": "ipython",
    "version": 3
   },
   "file_extension": ".py",
   "mimetype": "text/x-python",
   "name": "python",
   "nbconvert_exporter": "python",
   "pygments_lexer": "ipython3",
   "version": "3.9.7"
  }
 },
 "nbformat": 4,
 "nbformat_minor": 5
}
