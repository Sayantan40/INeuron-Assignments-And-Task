{
 "cells": [
  {
   "cell_type": "markdown",
   "id": "0b758821",
   "metadata": {},
   "source": [
    "# SQL Assignment 7"
   ]
  },
  {
   "cell_type": "markdown",
   "id": "6ed9ace8",
   "metadata": {},
   "source": [
    "# Q-13. Write an SQL query to show only odd rows from a table.\n"
   ]
  },
  {
   "cell_type": "markdown",
   "id": "03b76ade",
   "metadata": {},
   "source": [
    "## Answer\n",
    "\n",
    "### SELECT * FROM Worker WHERE MOD (WORKER_ID, 2) <> 0;"
   ]
  },
  {
   "cell_type": "markdown",
   "id": "b877d559",
   "metadata": {},
   "source": [
    "# Q-14. Write an SQL query to clone a new table from another table.\n"
   ]
  },
  {
   "cell_type": "markdown",
   "id": "31d27aca",
   "metadata": {},
   "source": [
    "## Answer\n",
    "\n",
    "###  CREATE TABLE WorkerClone LIKE Worker;\n",
    "\n",
    "# OR\n",
    "\n",
    "### SELECT * INTO WorkerClone FROM Worker WHERE 1 = 0;\n",
    "\n",
    "### both works\n",
    "\n"
   ]
  }
 ],
 "metadata": {
  "kernelspec": {
   "display_name": "Python 3 (ipykernel)",
   "language": "python",
   "name": "python3"
  },
  "language_info": {
   "codemirror_mode": {
    "name": "ipython",
    "version": 3
   },
   "file_extension": ".py",
   "mimetype": "text/x-python",
   "name": "python",
   "nbconvert_exporter": "python",
   "pygments_lexer": "ipython3",
   "version": "3.9.7"
  }
 },
 "nbformat": 4,
 "nbformat_minor": 5
}
