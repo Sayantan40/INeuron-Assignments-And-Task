{
 "cells": [
  {
   "cell_type": "markdown",
   "id": "1b9ef5a3",
   "metadata": {},
   "source": [
    "# SQL Assignment 1"
   ]
  },
  {
   "cell_type": "markdown",
   "id": "0f271b46",
   "metadata": {},
   "source": [
    "# Q-1. Write an SQL query to fetch “FIRST_NAME” from Worker table using the alias name as <WORKER_NAME>.\n"
   ]
  },
  {
   "cell_type": "markdown",
   "id": "be25077a",
   "metadata": {},
   "source": [
    "## Answer\n",
    "\n",
    "### SELECT FIRST_NAME AS WORKER_NAME FROM Worker;\n"
   ]
  },
  {
   "cell_type": "markdown",
   "id": "740c6828",
   "metadata": {},
   "source": [
    "# Q-2. Write an SQL query to fetch unique values of DEPARTMENT from Worker table.\n"
   ]
  },
  {
   "cell_type": "markdown",
   "id": "0cdc9e9a",
   "metadata": {},
   "source": [
    "## Answer\n",
    "\n",
    "### SELECT DISTINCT DEPARTMENT FROM Worker;"
   ]
  },
  {
   "cell_type": "markdown",
   "id": "5cda60b9",
   "metadata": {},
   "source": [
    "# Q-3. Write an SQL query to show the last 5 record from a table.\n"
   ]
  },
  {
   "cell_type": "markdown",
   "id": "80da5424",
   "metadata": {},
   "source": [
    "## Answer\n",
    "\n",
    "### SELECT * FROM Worker WHERE Worker_ ID > (SELECT COUNT(*) FROM  Worker) - 5;\n",
    " \n"
   ]
  }
 ],
 "metadata": {
  "kernelspec": {
   "display_name": "Python 3 (ipykernel)",
   "language": "python",
   "name": "python3"
  },
  "language_info": {
   "codemirror_mode": {
    "name": "ipython",
    "version": 3
   },
   "file_extension": ".py",
   "mimetype": "text/x-python",
   "name": "python",
   "nbconvert_exporter": "python",
   "pygments_lexer": "ipython3",
   "version": "3.9.7"
  }
 },
 "nbformat": 4,
 "nbformat_minor": 5
}
