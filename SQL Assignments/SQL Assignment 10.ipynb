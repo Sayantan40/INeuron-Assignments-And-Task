{
 "cells": [
  {
   "cell_type": "markdown",
   "id": "b5fa148c",
   "metadata": {},
   "source": [
    "# SQL Assignment 10"
   ]
  },
  {
   "cell_type": "markdown",
   "id": "43d5f40a",
   "metadata": {},
   "source": [
    "# Q-19. Write an SQL query to determine the 5th highest salary without using TOP or limit method.\n",
    "\n"
   ]
  },
  {
   "cell_type": "markdown",
   "id": "ae35c518",
   "metadata": {},
   "source": [
    "###  Answer\n",
    "\n",
    "### SELECT MAX(Salary)  FROM( SELECT * FROM Worker ORDER BY Salary DESC)\n",
    "### ROWNUM <= 5 ;\n",
    " "
   ]
  },
  {
   "cell_type": "markdown",
   "id": "a31c4352",
   "metadata": {},
   "source": [
    "# Q-20. Write an SQL query to fetch the list of employees with the same salary."
   ]
  },
  {
   "cell_type": "markdown",
   "id": "aaa40af1",
   "metadata": {},
   "source": [
    "### Answer \n",
    "\n",
    "### Select distinct W.WORKER_ID, W.FIRST_NAME, W.Salary from Worker W, Worker W1 \n",
    "### where W.Salary = W1.Salary and  W.WORKER_ID != W1.WORKER_ID ;\n",
    "\n"
   ]
  }
 ],
 "metadata": {
  "kernelspec": {
   "display_name": "Python 3 (ipykernel)",
   "language": "python",
   "name": "python3"
  },
  "language_info": {
   "codemirror_mode": {
    "name": "ipython",
    "version": 3
   },
   "file_extension": ".py",
   "mimetype": "text/x-python",
   "name": "python",
   "nbconvert_exporter": "python",
   "pygments_lexer": "ipython3",
   "version": "3.9.7"
  }
 },
 "nbformat": 4,
 "nbformat_minor": 5
}
